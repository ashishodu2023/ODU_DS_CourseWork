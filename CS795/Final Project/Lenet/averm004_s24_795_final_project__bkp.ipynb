{
  "cells": [
    {
      "cell_type": "markdown",
      "id": "CrxMkCvZToxT",
      "metadata": {
        "id": "CrxMkCvZToxT"
      },
      "source": [
        "### S'24 795/895 DL Fundamentals Final Project\n",
        "\n",
        "**Important**: Rename the notebook with the UID of one of the team members as the prefix, such as jdoe001_xxxxxxx.ipynb.\n",
        "\n",
        "**Important**: Contributer:Ashish Verma\n",
        "\n",
        "#### Description\n",
        "The task of the project is to implement CIFAR10 classification using LeNet. The second task is to use transfer learning to adapt the LeNet model trained on CIFAR10 data to STL-10.\n",
        "\n",
        "#### Background:\n",
        "LeNet is one of the *old* CNN models. Its structure can be described as: CONV-Pooling-CONV-Pooling-FC-FC. Below is a pictorial description:\n",
        "\n",
        "![Screenshot 2024-03-20 at 1.48.02 PM.png](attachment:aa307695-8043-4875-9252-50ebd72643fd.png)\n",
        "\n",
        "Both CIFAR10 and STL-10 are included in Torchvision. More details are at https://pytorch.org/vision/stable/datasets.html\n",
        "#### Specific Requirements\n",
        "1. You are required to implement it in PyTorch\n",
        "2. You are required to use Dropout layers\n",
        "3. You are required to use GPU.\n",
        "4. You can use either colab or ODU HPC resources. It will take some time to train the model, hence I **strongly** suggest you start early.\n",
        "5. You should implement it from scratch (Hint: there aren't too many examples of using LeNet for CIFAR10, so you have to write it yourself)\n",
        "6. It has been reported that LeNet can achieve testing accuracy of ~65% for CIFAR10. I will accept any results with accuracy > 58% (If it's < 50%, it's acutally worse than a coin toss!)\n",
        "7. You probably have to do some hyperparameter tuning to get there.\n",
        "8. After the model is trained, you are required to use transfer learning method to adapt the model to STL-10 dataset. Retrain the model and achieve as good accuracy as possible.\n",
        "\n",
        "#### Grading\n",
        "1. You should implement everything in a single jupyter notebook and submit it before the deadline.\n",
        "2. I recently aquired a desktop server with a beefy GPU. I **will** run your code to verify the output is correct, besides reading your pytorch code.  If your code won't run to completion, points will be deducted depending on where the failure is (the earlier the failure, the more points will be deducted)."
      ]
    },
    {
      "cell_type": "markdown",
      "id": "_7QfA2EDToxU",
      "metadata": {
        "id": "_7QfA2EDToxU"
      },
      "source": [
        "## **Importing Pytorch Libraries**"
      ]
    },
    {
      "cell_type": "code",
      "execution_count": 111,
      "id": "6sL4Afz-ToxU",
      "metadata": {
        "id": "6sL4Afz-ToxU"
      },
      "outputs": [],
      "source": [
        "import torch\n",
        "import torch.nn as nn\n",
        "import torchvision.transforms as transforms\n",
        "import torchvision.datasets as datasets\n",
        "\n",
        "import matplotlib.pyplot as plt\n",
        "\n",
        "import gc\n",
        "import warnings\n",
        "warnings.filterwarnings('ignore')"
      ]
    },
    {
      "cell_type": "markdown",
      "id": "B8iU5mOxToxV",
      "metadata": {
        "id": "B8iU5mOxToxV"
      },
      "source": [
        "## **Initializing GPUs**"
      ]
    },
    {
      "cell_type": "code",
      "execution_count": 112,
      "id": "hHya9WwzToxV",
      "metadata": {
        "id": "hHya9WwzToxV"
      },
      "outputs": [],
      "source": [
        "#GPU\n",
        "device = torch.device(\"cuda:0\" if torch.cuda.is_available() else \"cpu\")"
      ]
    },
    {
      "cell_type": "markdown",
      "id": "h3yGWa5CToxV",
      "metadata": {
        "id": "h3yGWa5CToxV"
      },
      "source": [
        "## **Data Augmentation and Transformations**"
      ]
    },
    {
      "cell_type": "code",
      "execution_count": 113,
      "id": "3dwGCs8WToxW",
      "metadata": {
        "id": "3dwGCs8WToxW"
      },
      "outputs": [],
      "source": [
        "transform = transforms.Compose(\n",
        "    [transforms.ToTensor(),\n",
        "     transforms.Normalize((0.5, 0.5, 0.5), (0.5, 0.5, 0.5))])"
      ]
    },
    {
      "cell_type": "markdown",
      "id": "I66gJx4aToxW",
      "metadata": {
        "id": "I66gJx4aToxW"
      },
      "source": [
        "##  **Data from Torchvision**"
      ]
    },
    {
      "cell_type": "code",
      "execution_count": 114,
      "id": "0mZrCKFBToxX",
      "metadata": {
        "colab": {
          "base_uri": "https://localhost:8080/"
        },
        "id": "0mZrCKFBToxX",
        "outputId": "790b7fa7-86ab-4912-bb04-87b36a40f682"
      },
      "outputs": [
        {
          "output_type": "stream",
          "name": "stdout",
          "text": [
            "Files already downloaded and verified\n"
          ]
        }
      ],
      "source": [
        "path = '/tmp'\n",
        "\n",
        "train_ds = datasets.CIFAR10(root=path,\n",
        "                            train=True,\n",
        "                            transform=transform,\n",
        "                            download=True\n",
        "                           )\n",
        "\n",
        "test_ds = datasets.CIFAR10(root=path,\n",
        "                           train=False,\n",
        "                           transform=transform\n",
        "                           )\n",
        "\n",
        "labels = 'airplane automobile bird cat deer dog frog horse ship truck'.split()"
      ]
    },
    {
      "cell_type": "markdown",
      "id": "TL8iHSajToxX",
      "metadata": {
        "id": "TL8iHSajToxX"
      },
      "source": [
        "## **Image Visualization**"
      ]
    },
    {
      "cell_type": "code",
      "execution_count": 115,
      "id": "OClcfidpToxX",
      "metadata": {
        "colab": {
          "base_uri": "https://localhost:8080/",
          "height": 331
        },
        "id": "OClcfidpToxX",
        "outputId": "f472f125-f0f5-4fa5-b9f6-59c6417d4817"
      },
      "outputs": [
        {
          "output_type": "stream",
          "name": "stderr",
          "text": [
            "WARNING:matplotlib.image:Clipping input data to the valid range for imshow with RGB data ([0..1] for floats or [0..255] for integers).\n",
            "WARNING:matplotlib.image:Clipping input data to the valid range for imshow with RGB data ([0..1] for floats or [0..255] for integers).\n",
            "WARNING:matplotlib.image:Clipping input data to the valid range for imshow with RGB data ([0..1] for floats or [0..255] for integers).\n",
            "WARNING:matplotlib.image:Clipping input data to the valid range for imshow with RGB data ([0..1] for floats or [0..255] for integers).\n",
            "WARNING:matplotlib.image:Clipping input data to the valid range for imshow with RGB data ([0..1] for floats or [0..255] for integers).\n",
            "WARNING:matplotlib.image:Clipping input data to the valid range for imshow with RGB data ([0..1] for floats or [0..255] for integers).\n",
            "WARNING:matplotlib.image:Clipping input data to the valid range for imshow with RGB data ([0..1] for floats or [0..255] for integers).\n",
            "WARNING:matplotlib.image:Clipping input data to the valid range for imshow with RGB data ([0..1] for floats or [0..255] for integers).\n",
            "WARNING:matplotlib.image:Clipping input data to the valid range for imshow with RGB data ([0..1] for floats or [0..255] for integers).\n",
            "WARNING:matplotlib.image:Clipping input data to the valid range for imshow with RGB data ([0..1] for floats or [0..255] for integers).\n"
          ]
        },
        {
          "output_type": "display_data",
          "data": {
            "text/plain": [
              "<Figure size 1500x1000 with 10 Axes>"
            ],
            "image/png": "[encoded data removed]"
          },
          "metadata": {}
        }
      ],
      "source": [
        "first_10_samples = sorted([train_ds[i] for i in range(10)], key=lambda x:x[1])\n",
        "\n",
        "figure = plt.figure(figsize=(15,10))\n",
        "for i in range(1,11):\n",
        "    img = first_10_samples[i-1][0].permute(1,2,0)\n",
        "    label = labels[first_10_samples[i-1][1]]\n",
        "    figure.add_subplot(5,10,i)\n",
        "    plt.title(label)\n",
        "    plt.axis('off')\n",
        "    plt.imshow(img)"
      ]
    },
    {
      "cell_type": "markdown",
      "id": "aKx5BzrdToxY",
      "metadata": {
        "id": "aKx5BzrdToxY"
      },
      "source": [
        "# **Class Config**"
      ]
    },
    {
      "cell_type": "code",
      "execution_count": 116,
      "id": "Isf_TRODToxY",
      "metadata": {
        "id": "Isf_TRODToxY"
      },
      "outputs": [],
      "source": [
        "class Config:\n",
        "    lr=1e-3\n",
        "    epochs=15\n",
        "    optim=torch.optim.Adam\n",
        "    batch_size=64"
      ]
    },
    {
      "cell_type": "markdown",
      "id": "E998mWuTToxY",
      "metadata": {
        "id": "E998mWuTToxY"
      },
      "source": [
        "## **DataLoaders**"
      ]
    },
    {
      "cell_type": "code",
      "execution_count": 117,
      "id": "8sy5f_VbToxY",
      "metadata": {
        "id": "8sy5f_VbToxY"
      },
      "outputs": [],
      "source": [
        "train_dataloader = torch.utils.data.DataLoader(train_ds, batch_size=Config.batch_size, shuffle=True, num_workers=2)\n",
        "valid_dataloader = torch.utils.data.DataLoader(test_ds, batch_size=Config.batch_size, shuffle=True, num_workers=2)"
      ]
    },
    {
      "cell_type": "markdown",
      "id": "S65DaD40ToxY",
      "metadata": {
        "id": "S65DaD40ToxY"
      },
      "source": [
        "## **The LeNET Model**"
      ]
    },
    {
      "cell_type": "code",
      "execution_count": 118,
      "id": "0EKP_nJoToxY",
      "metadata": {
        "id": "0EKP_nJoToxY"
      },
      "outputs": [],
      "source": [
        "class LeNet(nn.Module):\n",
        "\n",
        "    def __init__(self, in_features=3, num_classes=10):\n",
        "        super(LeNet, self).__init__()\n",
        "\n",
        "        self.conv_block = nn.Sequential(nn.Conv2d(in_channels=in_features,\n",
        "                                                   out_channels=6,\n",
        "                                                   kernel_size=5,\n",
        "                                                   stride=1),\n",
        "                                         nn.ReLU(),\n",
        "                                         nn.MaxPool2d(2,2),\n",
        "                                         nn.Dropout(0.2),\n",
        "                                         nn.Conv2d(in_channels=6,\n",
        "                                                   out_channels=16,\n",
        "                                                   kernel_size=5,\n",
        "                                                   stride=1),\n",
        "                                         nn.ReLU(),\n",
        "                                         nn.MaxPool2d(2,2)\n",
        "                                        )\n",
        "\n",
        "        self.linear_block = nn.Sequential( nn.Linear(400, 120),\n",
        "                                           nn.ReLU(),\n",
        "                                           nn.Linear(120,84),\n",
        "                                           nn.ReLU(),\n",
        "                                           nn.Linear(84,10)\n",
        "                                         )\n",
        "\n",
        "    def forward(self, x):\n",
        "        x = self.conv_block(x)\n",
        "        x = torch.flatten(x,1)\n",
        "        x = self.linear_block(x)\n",
        "        return x"
      ]
    },
    {
      "cell_type": "code",
      "execution_count": 119,
      "id": "tjR1wPfFToxZ",
      "metadata": {
        "colab": {
          "base_uri": "https://localhost:8080/"
        },
        "id": "tjR1wPfFToxZ",
        "outputId": "af42c4d8-78b5-4459-999f-9b8a6edaeb30"
      },
      "outputs": [
        {
          "output_type": "stream",
          "name": "stdout",
          "text": [
            "LeNet(\n",
            "  (conv_block): Sequential(\n",
            "    (0): Conv2d(3, 6, kernel_size=(5, 5), stride=(1, 1))\n",
            "    (1): ReLU()\n",
            "    (2): MaxPool2d(kernel_size=2, stride=2, padding=0, dilation=1, ceil_mode=False)\n",
            "    (3): Dropout(p=0.2, inplace=False)\n",
            "    (4): Conv2d(6, 16, kernel_size=(5, 5), stride=(1, 1))\n",
            "    (5): ReLU()\n",
            "    (6): MaxPool2d(kernel_size=2, stride=2, padding=0, dilation=1, ceil_mode=False)\n",
            "  )\n",
            "  (linear_block): Sequential(\n",
            "    (0): Linear(in_features=400, out_features=120, bias=True)\n",
            "    (1): ReLU()\n",
            "    (2): Linear(in_features=120, out_features=84, bias=True)\n",
            "    (3): ReLU()\n",
            "    (4): Linear(in_features=84, out_features=10, bias=True)\n",
            "  )\n",
            ")\n"
          ]
        }
      ],
      "source": [
        "model = LeNet().to(device)\n",
        "print(model)"
      ]
    },
    {
      "cell_type": "markdown",
      "id": "YDkzYl5sToxZ",
      "metadata": {
        "id": "YDkzYl5sToxZ"
      },
      "source": [
        "## **Training**"
      ]
    },
    {
      "cell_type": "code",
      "execution_count": 120,
      "id": "8JRmXuWvToxZ",
      "metadata": {
        "id": "8JRmXuWvToxZ"
      },
      "outputs": [],
      "source": [
        "class Trainer:\n",
        "    def __init__(self, model, dataloaders, device):\n",
        "        self.model = model\n",
        "        self.train_loader, self.valid_loader = dataloaders\n",
        "        self.loss_fn = nn.CrossEntropyLoss()\n",
        "        self.optim = Config.optim(self.model.parameters(), lr = Config.lr)\n",
        "        self.device = device\n",
        "\n",
        "    def accuracy(self, output, y):\n",
        "        pred_labels = torch.argmax(output, dim=1)\n",
        "        return (pred_labels == y).sum().item() / len(y)\n",
        "\n",
        "    def train_one_epoch(self):\n",
        "\n",
        "        running_loss = 0\n",
        "        running_acc = 0\n",
        "\n",
        "        for x,y in self.train_loader:\n",
        "\n",
        "            self.optim.zero_grad()\n",
        "\n",
        "            x = x.to(self.device, dtype=torch.float)\n",
        "            y = y.to(self.device, dtype=torch.long)\n",
        "\n",
        "            output = self.model(x)\n",
        "\n",
        "            loss = self.loss_fn(output, y)\n",
        "\n",
        "            loss.backward()\n",
        "            self.optim.step()\n",
        "\n",
        "            running_loss += loss.item()\n",
        "            running_acc += self.accuracy(output,y)\n",
        "\n",
        "            del x,y,output\n",
        "\n",
        "        train_loss = running_loss/len(self.train_loader)\n",
        "        train_acc = running_acc/len(self.train_loader)\n",
        "\n",
        "        return train_loss, train_acc\n",
        "\n",
        "    @torch.no_grad()\n",
        "    def valid_one_epoch(self):\n",
        "\n",
        "        running_loss = 0\n",
        "        running_acc = 0\n",
        "\n",
        "        for x,y in self.valid_loader:\n",
        "\n",
        "            x = x.to(self.device, dtype=torch.float)\n",
        "            y = y.to(self.device, dtype=torch.long)\n",
        "\n",
        "            output = self.model(x)\n",
        "\n",
        "            loss = self.loss_fn(output, y)\n",
        "\n",
        "            running_loss += loss.item()\n",
        "            running_acc += self.accuracy(output,y)\n",
        "\n",
        "            del x,y,output\n",
        "\n",
        "        valid_loss = running_loss/len(self.valid_loader)\n",
        "        valid_acc = running_acc/len(self.valid_loader)\n",
        "\n",
        "        return valid_loss, valid_acc\n",
        "\n",
        "\n",
        "    def fit(self):\n",
        "        print(f\"Model is using {'cuda' if next(self.model.parameters()).is_cuda else 'cpu'}\")\n",
        "        train_losses,train_accs = [], []\n",
        "        valid_losses, valid_accs = [], []\n",
        "\n",
        "        for epoch in range(Config.epochs):\n",
        "\n",
        "            self.model.train()\n",
        "\n",
        "            train_loss, train_acc = self.train_one_epoch()\n",
        "            train_losses.append(train_loss)\n",
        "            train_accs.append(train_acc)\n",
        "\n",
        "            self.model.eval()\n",
        "\n",
        "            valid_loss, valid_acc = self.valid_one_epoch()\n",
        "            valid_losses.append(valid_loss)\n",
        "            valid_accs.append(valid_acc)\n",
        "\n",
        "            print(f\"------EPOCH {epoch+1}/{Config.epochs}------\")\n",
        "            print(f\"Training: LOSS: {train_loss:.4f} | ACCURACY: {train_acc:.4f}\")\n",
        "            print(f\"Validation: LOSS: {valid_loss:.4f} | ACCURACY: {valid_acc:.4f}\\n\\n\")\n",
        "\n",
        "            # CLEANUP\n",
        "            gc.collect()\n",
        "            torch.cuda.empty_cache()\n",
        "\n",
        "\n",
        "        return (train_losses, train_accs), (valid_losses, valid_accs)"
      ]
    },
    {
      "cell_type": "code",
      "execution_count": 121,
      "id": "s6D3wKV3ToxZ",
      "metadata": {
        "colab": {
          "base_uri": "https://localhost:8080/"
        },
        "id": "s6D3wKV3ToxZ",
        "outputId": "530a5755-7752-4a79-ae26-3ab536975548"
      },
      "outputs": [
        {
          "output_type": "stream",
          "name": "stdout",
          "text": [
            "Model is using cuda\n",
            "------EPOCH 1/15------\n",
            "Training: LOSS: 1.6851 | ACCURACY: 0.3809\n",
            "Validation: LOSS: 1.5252 | ACCURACY: 0.4348\n",
            "\n",
            "\n",
            "------EPOCH 2/15------\n",
            "Training: LOSS: 1.4111 | ACCURACY: 0.4882\n",
            "Validation: LOSS: 1.3301 | ACCURACY: 0.5171\n",
            "\n",
            "\n",
            "------EPOCH 3/15------\n",
            "Training: LOSS: 1.2957 | ACCURACY: 0.5346\n",
            "Validation: LOSS: 1.2511 | ACCURACY: 0.5459\n",
            "\n",
            "\n",
            "------EPOCH 4/15------\n",
            "Training: LOSS: 1.2210 | ACCURACY: 0.5641\n",
            "Validation: LOSS: 1.1859 | ACCURACY: 0.5721\n",
            "\n",
            "\n",
            "------EPOCH 5/15------\n",
            "Training: LOSS: 1.1668 | ACCURACY: 0.5847\n",
            "Validation: LOSS: 1.1644 | ACCURACY: 0.5884\n",
            "\n",
            "\n",
            "------EPOCH 6/15------\n",
            "Training: LOSS: 1.1283 | ACCURACY: 0.5997\n",
            "Validation: LOSS: 1.1244 | ACCURACY: 0.5976\n",
            "\n",
            "\n",
            "------EPOCH 7/15------\n",
            "Training: LOSS: 1.0961 | ACCURACY: 0.6100\n",
            "Validation: LOSS: 1.1275 | ACCURACY: 0.5985\n",
            "\n",
            "\n",
            "------EPOCH 8/15------\n",
            "Training: LOSS: 1.0670 | ACCURACY: 0.6219\n",
            "Validation: LOSS: 1.0949 | ACCURACY: 0.6103\n",
            "\n",
            "\n",
            "------EPOCH 9/15------\n",
            "Training: LOSS: 1.0347 | ACCURACY: 0.6339\n",
            "Validation: LOSS: 1.0624 | ACCURACY: 0.6258\n",
            "\n",
            "\n",
            "------EPOCH 10/15------\n",
            "Training: LOSS: 1.0191 | ACCURACY: 0.6385\n",
            "Validation: LOSS: 1.0777 | ACCURACY: 0.6152\n",
            "\n",
            "\n",
            "------EPOCH 11/15------\n",
            "Training: LOSS: 1.0016 | ACCURACY: 0.6459\n",
            "Validation: LOSS: 1.0467 | ACCURACY: 0.6303\n",
            "\n",
            "\n",
            "------EPOCH 12/15------\n",
            "Training: LOSS: 0.9833 | ACCURACY: 0.6521\n",
            "Validation: LOSS: 1.0447 | ACCURACY: 0.6312\n",
            "\n",
            "\n",
            "------EPOCH 13/15------\n",
            "Training: LOSS: 0.9628 | ACCURACY: 0.6579\n",
            "Validation: LOSS: 1.0310 | ACCURACY: 0.6387\n",
            "\n",
            "\n",
            "------EPOCH 14/15------\n",
            "Training: LOSS: 0.9510 | ACCURACY: 0.6633\n",
            "Validation: LOSS: 1.0555 | ACCURACY: 0.6275\n",
            "\n",
            "\n",
            "------EPOCH 15/15------\n",
            "Training: LOSS: 0.9363 | ACCURACY: 0.6702\n",
            "Validation: LOSS: 1.0349 | ACCURACY: 0.6393\n",
            "\n",
            "\n"
          ]
        }
      ],
      "source": [
        "trainer = Trainer(model, (train_dataloader, valid_dataloader), device)\n",
        "\n",
        "(train_losses, train_accs), (valid_losses, valid_accs) = trainer.fit()"
      ]
    },
    {
      "cell_type": "markdown",
      "id": "XnCRWj6jToxa",
      "metadata": {
        "id": "XnCRWj6jToxa"
      },
      "source": [
        "## **Plot Losses**"
      ]
    },
    {
      "cell_type": "code",
      "execution_count": 122,
      "id": "fFgc2HU9Toxa",
      "metadata": {
        "colab": {
          "base_uri": "https://localhost:8080/",
          "height": 449
        },
        "id": "fFgc2HU9Toxa",
        "outputId": "60776235-d55a-4299-fdaf-0a9a1125f963"
      },
      "outputs": [
        {
          "output_type": "display_data",
          "data": {
            "text/plain": [
              "<Figure size 640x480 with 1 Axes>"
            ],
            "image/png": "[encoded data removed]"
          },
          "metadata": {}
        }
      ],
      "source": [
        "plt.plot(train_losses, color='red', label='Training Loss')\n",
        "plt.plot(valid_losses, color='orange', label='Validation Loss')\n",
        "plt.xlabel('Epoch')\n",
        "plt.ylabel('Loss')\n",
        "plt.legend()\n",
        "plt.show()"
      ]
    },
    {
      "cell_type": "markdown",
      "id": "Yt4WJTKXToxa",
      "metadata": {
        "id": "Yt4WJTKXToxa"
      },
      "source": [
        "## **Plot Accuracy**"
      ]
    },
    {
      "cell_type": "code",
      "execution_count": 123,
      "id": "IaNNkHgTToxa",
      "metadata": {
        "colab": {
          "base_uri": "https://localhost:8080/",
          "height": 449
        },
        "id": "IaNNkHgTToxa",
        "outputId": "aef5e615-8bec-4022-9641-9dd0f195b154"
      },
      "outputs": [
        {
          "output_type": "display_data",
          "data": {
            "text/plain": [
              "<Figure size 640x480 with 1 Axes>"
            ],
            "image/png": "[encoded data removed]"
          },
          "metadata": {}
        }
      ],
      "source": [
        "plt.plot(train_accs, color='yellow', label='Training Accuracy')\n",
        "plt.plot(valid_accs, color='green', label='Validation Accuracy')\n",
        "plt.xlabel('Epoch')\n",
        "plt.ylabel('Accuracy')\n",
        "plt.legend()\n",
        "plt.show()"
      ]
    },
    {
      "cell_type": "markdown",
      "id": "96UJlLnZToxa",
      "metadata": {
        "id": "96UJlLnZToxa"
      },
      "source": [
        "# **Save Model**"
      ]
    },
    {
      "cell_type": "code",
      "execution_count": 124,
      "id": "1V4HGChXToxa",
      "metadata": {
        "id": "1V4HGChXToxa"
      },
      "outputs": [],
      "source": [
        "## save model for later use\n",
        "torch.save(model.state_dict(), './lenet_cifar10.pt')"
      ]
    },
    {
      "cell_type": "code",
      "execution_count": 125,
      "id": "fmP8IJFWToxb",
      "metadata": {
        "colab": {
          "base_uri": "https://localhost:8080/"
        },
        "id": "fmP8IJFWToxb",
        "outputId": "7998ca27-5576-4521-91fa-7fcb5f3575bb"
      },
      "outputs": [
        {
          "output_type": "stream",
          "name": "stdout",
          "text": [
            "-rw-r--r-- 1 root root 252108 Apr 11 19:22 lenet_cifar10.pt\n",
            "-rw-r--r-- 1 root root 252192 Apr 11 18:01 lenet_tranfer_stl10.pt\n"
          ]
        }
      ],
      "source": [
        "!ls -al *.pt"
      ]
    },
    {
      "cell_type": "markdown",
      "id": "i-6LKR-LToxb",
      "metadata": {
        "id": "i-6LKR-LToxb"
      },
      "source": [
        "# **Load Model**"
      ]
    },
    {
      "cell_type": "code",
      "execution_count": 126,
      "id": "ilNvueM8Toxc",
      "metadata": {
        "colab": {
          "base_uri": "https://localhost:8080/"
        },
        "id": "ilNvueM8Toxc",
        "outputId": "19511ae4-d262-40b1-be1d-27776010fd05"
      },
      "outputs": [
        {
          "output_type": "stream",
          "name": "stdout",
          "text": [
            "Model's state_dict:\n",
            "conv_block.0.weight \t torch.Size([6, 3, 5, 5])\n",
            "conv_block.0.bias \t torch.Size([6])\n",
            "conv_block.4.weight \t torch.Size([16, 6, 5, 5])\n",
            "conv_block.4.bias \t torch.Size([16])\n",
            "linear_block.0.weight \t torch.Size([120, 400])\n",
            "linear_block.0.bias \t torch.Size([120])\n",
            "linear_block.2.weight \t torch.Size([84, 120])\n",
            "linear_block.2.bias \t torch.Size([84])\n",
            "linear_block.4.weight \t torch.Size([10, 84])\n",
            "linear_block.4.bias \t torch.Size([10])\n"
          ]
        }
      ],
      "source": [
        "model.load_state_dict(torch.load('./lenet_cifar10.pt'))\n",
        "# Print model's state_dict\n",
        "print(\"Model's state_dict:\")\n",
        "for param_tensor in model.state_dict():\n",
        "    print(param_tensor, \"\\t\", model.state_dict()[param_tensor].size())"
      ]
    },
    {
      "cell_type": "markdown",
      "id": "n6cSunjSToxc",
      "metadata": {
        "id": "n6cSunjSToxc"
      },
      "source": [
        "# **Data Transformation on STL-10**"
      ]
    },
    {
      "cell_type": "code",
      "execution_count": 127,
      "id": "zfLM9_RGToxc",
      "metadata": {
        "id": "zfLM9_RGToxc"
      },
      "outputs": [],
      "source": [
        "transform = transforms.Compose(\n",
        "    [transforms.ToTensor(),\n",
        "     transforms.Resize((32, 32)),\n",
        "     transforms.Normalize((0.5, 0.5, 0.5), (0.5, 0.5, 0.5))])"
      ]
    },
    {
      "cell_type": "markdown",
      "id": "xdj-FFTMToxc",
      "metadata": {
        "id": "xdj-FFTMToxc"
      },
      "source": [
        "# **Transfer Learning on STL-10**"
      ]
    },
    {
      "cell_type": "code",
      "execution_count": 128,
      "id": "3ltNMeHrToxc",
      "metadata": {
        "colab": {
          "base_uri": "https://localhost:8080/"
        },
        "id": "3ltNMeHrToxc",
        "outputId": "f6ff7d66-c31e-4032-d391-c815b5be64de"
      },
      "outputs": [
        {
          "output_type": "stream",
          "name": "stdout",
          "text": [
            "Files already downloaded and verified\n",
            "Files already downloaded and verified\n"
          ]
        }
      ],
      "source": [
        "train_ds_stl = datasets.STL10(root='./data', split='train', download=True, transform=transform)\n",
        "test_ds_stl = datasets.STL10(root='./data', split='test', download=True, transform=transform)\n"
      ]
    },
    {
      "cell_type": "markdown",
      "id": "srLDubwEToxc",
      "metadata": {
        "id": "srLDubwEToxc"
      },
      "source": [
        "# **STL-10 Image Visualization**"
      ]
    },
    {
      "cell_type": "code",
      "execution_count": 129,
      "id": "BlymHnZFToxd",
      "metadata": {
        "colab": {
          "base_uri": "https://localhost:8080/",
          "height": 331
        },
        "id": "BlymHnZFToxd",
        "outputId": "e902cd52-c844-426a-eadb-cf66b556b2d6"
      },
      "outputs": [
        {
          "output_type": "stream",
          "name": "stderr",
          "text": [
            "WARNING:matplotlib.image:Clipping input data to the valid range for imshow with RGB data ([0..1] for floats or [0..255] for integers).\n",
            "WARNING:matplotlib.image:Clipping input data to the valid range for imshow with RGB data ([0..1] for floats or [0..255] for integers).\n",
            "WARNING:matplotlib.image:Clipping input data to the valid range for imshow with RGB data ([0..1] for floats or [0..255] for integers).\n",
            "WARNING:matplotlib.image:Clipping input data to the valid range for imshow with RGB data ([0..1] for floats or [0..255] for integers).\n",
            "WARNING:matplotlib.image:Clipping input data to the valid range for imshow with RGB data ([0..1] for floats or [0..255] for integers).\n",
            "WARNING:matplotlib.image:Clipping input data to the valid range for imshow with RGB data ([0..1] for floats or [0..255] for integers).\n",
            "WARNING:matplotlib.image:Clipping input data to the valid range for imshow with RGB data ([0..1] for floats or [0..255] for integers).\n",
            "WARNING:matplotlib.image:Clipping input data to the valid range for imshow with RGB data ([0..1] for floats or [0..255] for integers).\n",
            "WARNING:matplotlib.image:Clipping input data to the valid range for imshow with RGB data ([0..1] for floats or [0..255] for integers).\n",
            "WARNING:matplotlib.image:Clipping input data to the valid range for imshow with RGB data ([0..1] for floats or [0..255] for integers).\n"
          ]
        },
        {
          "output_type": "display_data",
          "data": {
            "text/plain": [
              "<Figure size 1500x1000 with 10 Axes>"
            ],
            "image/png": "[encoded data removed]"
          },
          "metadata": {}
        }
      ],
      "source": [
        "first_10_samples = sorted([train_ds_stl[i] for i in range(10)], key=lambda x:x[1])\n",
        "\n",
        "figure = plt.figure(figsize=(15,10))\n",
        "for i in range(1,11):\n",
        "    img = first_10_samples[i-1][0].permute(1,2,0)\n",
        "    label = train_ds_stl.classes[first_10_samples[i-1][1]]\n",
        "    figure.add_subplot(5,10,i)\n",
        "    plt.title(label)\n",
        "    plt.axis('off')\n",
        "    plt.imshow(img)"
      ]
    },
    {
      "cell_type": "markdown",
      "id": "BoXGLhyNToxd",
      "metadata": {
        "id": "BoXGLhyNToxd"
      },
      "source": [
        "# **STL-10 DataLoader**"
      ]
    },
    {
      "cell_type": "code",
      "execution_count": 130,
      "id": "OCO7mznXToxd",
      "metadata": {
        "id": "OCO7mznXToxd"
      },
      "outputs": [],
      "source": [
        "train_dataloader_stl = torch.utils.data.DataLoader(train_ds_stl, batch_size=64, shuffle=True, num_workers=2)\n",
        "valid_dataloader_stl = torch.utils.data.DataLoader(test_ds_stl, batch_size=64, shuffle=True, num_workers=2)"
      ]
    },
    {
      "cell_type": "markdown",
      "id": "rAABcjP3Toxd",
      "metadata": {
        "id": "rAABcjP3Toxd"
      },
      "source": [
        "# **Create object for STL-10**"
      ]
    },
    {
      "cell_type": "code",
      "execution_count": 131,
      "id": "4U6BXlcpToxd",
      "metadata": {
        "colab": {
          "base_uri": "https://localhost:8080/"
        },
        "id": "4U6BXlcpToxd",
        "outputId": "1d951e34-1709-4909-9ae3-ab9e74b88d15"
      },
      "outputs": [
        {
          "output_type": "stream",
          "name": "stdout",
          "text": [
            "LeNet(\n",
            "  (conv_block): Sequential(\n",
            "    (0): Conv2d(3, 6, kernel_size=(5, 5), stride=(1, 1))\n",
            "    (1): ReLU()\n",
            "    (2): MaxPool2d(kernel_size=2, stride=2, padding=0, dilation=1, ceil_mode=False)\n",
            "    (3): Dropout(p=0.2, inplace=False)\n",
            "    (4): Conv2d(6, 16, kernel_size=(5, 5), stride=(1, 1))\n",
            "    (5): ReLU()\n",
            "    (6): MaxPool2d(kernel_size=2, stride=2, padding=0, dilation=1, ceil_mode=False)\n",
            "  )\n",
            "  (linear_block): Sequential(\n",
            "    (0): Linear(in_features=400, out_features=120, bias=True)\n",
            "    (1): ReLU()\n",
            "    (2): Linear(in_features=120, out_features=84, bias=True)\n",
            "    (3): ReLU()\n",
            "    (4): Linear(in_features=84, out_features=10, bias=True)\n",
            "  )\n",
            ")\n"
          ]
        }
      ],
      "source": [
        "model_stl = LeNet().to(device)\n",
        "print(model)"
      ]
    },
    {
      "cell_type": "markdown",
      "id": "qpez3gViToxd",
      "metadata": {
        "id": "qpez3gViToxd"
      },
      "source": [
        "# **Load CIFAR-10 for STL-10**"
      ]
    },
    {
      "cell_type": "code",
      "execution_count": 132,
      "id": "pBpBrzfhToxd",
      "metadata": {
        "colab": {
          "base_uri": "https://localhost:8080/"
        },
        "id": "pBpBrzfhToxd",
        "outputId": "fcaece58-ce6e-4e5f-d4bd-5bf4114dc1b5"
      },
      "outputs": [
        {
          "output_type": "execute_result",
          "data": {
            "text/plain": [
              "<All keys matched successfully>"
            ]
          },
          "metadata": {},
          "execution_count": 132
        }
      ],
      "source": [
        "# Load the weights from the trained CIFAR-10 model to the STL-10 model\n",
        "model_stl.load_state_dict(model.state_dict())"
      ]
    },
    {
      "cell_type": "markdown",
      "id": "1Juv8oFRToxe",
      "metadata": {
        "id": "1Juv8oFRToxe"
      },
      "source": [
        "# **Train the STL-10 model**"
      ]
    },
    {
      "cell_type": "code",
      "execution_count": 133,
      "id": "ANTN-qY6Toxe",
      "metadata": {
        "id": "ANTN-qY6Toxe"
      },
      "outputs": [],
      "source": [
        "class Trainer_STL:\n",
        "    def __init__(self, model, dataloaders, device):\n",
        "\n",
        "        self.config = {\n",
        "            'lr':1e-4,\n",
        "            'epochs': 100\n",
        "        }\n",
        "\n",
        "        self.model = model\n",
        "        self.train_loader, self.valid_loader = dataloaders\n",
        "        self.loss_fn = nn.CrossEntropyLoss()\n",
        "        #self.optim = torch.optim.Adam(self.model.parameters(), lr = self.config['lr'])\n",
        "        self.optim = torch.optim.SGD(self.model.parameters(), lr = self.config['lr'],momentum=0.9)\n",
        "        self.device = device\n",
        "\n",
        "    def accuracy(self, output, y):\n",
        "        pred_labels = torch.argmax(output, dim=1)\n",
        "        return (pred_labels == y).sum().item() / len(y)\n",
        "\n",
        "    def train_one_epoch(self):\n",
        "\n",
        "        running_loss = 0\n",
        "        running_acc = 0\n",
        "\n",
        "        for x,y in self.train_loader:\n",
        "\n",
        "            self.optim.zero_grad()\n",
        "\n",
        "            x = x.to(self.device, dtype=torch.float)\n",
        "            y = y.to(self.device, dtype=torch.long)\n",
        "\n",
        "            output = self.model(x)\n",
        "\n",
        "            loss = self.loss_fn(output, y)\n",
        "\n",
        "            loss.backward()\n",
        "            self.optim.step()\n",
        "\n",
        "            running_loss += loss.item()\n",
        "            running_acc += self.accuracy(output,y)\n",
        "\n",
        "            del x,y,output\n",
        "\n",
        "        train_loss = running_loss/len(self.train_loader)\n",
        "        train_acc = running_acc/len(self.train_loader)\n",
        "\n",
        "        return train_loss, train_acc\n",
        "\n",
        "    @torch.no_grad()\n",
        "    def valid_one_epoch(self):\n",
        "\n",
        "        running_loss = 0\n",
        "        running_acc = 0\n",
        "\n",
        "        for x,y in self.valid_loader:\n",
        "\n",
        "            x = x.to(self.device, dtype=torch.float)\n",
        "            y = y.to(self.device, dtype=torch.long)\n",
        "\n",
        "            output = self.model(x)\n",
        "\n",
        "            loss = self.loss_fn(output, y)\n",
        "\n",
        "            running_loss += loss.item()\n",
        "            running_acc += self.accuracy(output,y)\n",
        "\n",
        "            del x,y,output\n",
        "\n",
        "        valid_loss = running_loss/len(self.valid_loader)\n",
        "        valid_acc = running_acc/len(self.valid_loader)\n",
        "\n",
        "        return valid_loss, valid_acc\n",
        "\n",
        "\n",
        "    def fit(self):\n",
        "\n",
        "        train_losses,train_accs = [], []\n",
        "        valid_losses, valid_accs = [], []\n",
        "\n",
        "        for epoch in range(self.config['epochs']):\n",
        "\n",
        "            print(f\"Model is using {'cuda' if next(self.model.parameters()).is_cuda else 'cpu'}\")\n",
        "\n",
        "            self.model.train()\n",
        "\n",
        "            train_loss, train_acc = self.train_one_epoch()\n",
        "            train_losses.append(train_loss)\n",
        "            train_accs.append(train_acc)\n",
        "\n",
        "            self.model.eval()\n",
        "\n",
        "            valid_loss, valid_acc = self.valid_one_epoch()\n",
        "            valid_losses.append(valid_loss)\n",
        "            valid_accs.append(valid_acc)\n",
        "\n",
        "            print(f\"------EPOCH {epoch+1}/{self.config['epochs']}------\")\n",
        "            print(f\"Training: LOSS: {train_loss:.4f} | ACCURACY: {train_acc:.4f}\")\n",
        "            print(f\"Validation: LOSS: {valid_loss:.4f} | ACCURACY: {valid_acc:.4f}\\n\\n\")\n",
        "\n",
        "            # CLEANUP\n",
        "            gc.collect()\n",
        "            torch.cuda.empty_cache()\n",
        "\n",
        "\n",
        "        return (train_losses, train_accs), (valid_losses, valid_accs)"
      ]
    },
    {
      "cell_type": "code",
      "execution_count": 134,
      "id": "ILKelG7TToxe",
      "metadata": {
        "id": "ILKelG7TToxe",
        "colab": {
          "base_uri": "https://localhost:8080/"
        },
        "outputId": "d8a462d5-e48f-4672-8001-7bdbc89e4108"
      },
      "outputs": [
        {
          "output_type": "stream",
          "name": "stdout",
          "text": [
            "Model is using cuda\n",
            "------EPOCH 1/100------\n",
            "Training: LOSS: 2.9633 | ACCURACY: 0.3089\n",
            "Validation: LOSS: 2.6110 | ACCURACY: 0.3169\n",
            "\n",
            "\n",
            "Model is using cuda\n",
            "------EPOCH 2/100------\n",
            "Training: LOSS: 2.4532 | ACCURACY: 0.3214\n",
            "Validation: LOSS: 2.3192 | ACCURACY: 0.3164\n",
            "\n",
            "\n",
            "Model is using cuda\n",
            "------EPOCH 3/100------\n",
            "Training: LOSS: 2.2386 | ACCURACY: 0.3240\n",
            "Validation: LOSS: 2.1750 | ACCURACY: 0.3222\n",
            "\n",
            "\n",
            "Model is using cuda\n",
            "------EPOCH 4/100------\n",
            "Training: LOSS: 2.1101 | ACCURACY: 0.3273\n",
            "Validation: LOSS: 2.0727 | ACCURACY: 0.3285\n",
            "\n",
            "\n",
            "Model is using cuda\n",
            "------EPOCH 5/100------\n",
            "Training: LOSS: 2.0268 | ACCURACY: 0.3356\n",
            "Validation: LOSS: 2.0026 | ACCURACY: 0.3321\n",
            "\n",
            "\n",
            "Model is using cuda\n",
            "------EPOCH 6/100------\n",
            "Training: LOSS: 1.9771 | ACCURACY: 0.3352\n",
            "Validation: LOSS: 1.9451 | ACCURACY: 0.3351\n",
            "\n",
            "\n",
            "Model is using cuda\n",
            "------EPOCH 7/100------\n",
            "Training: LOSS: 1.9285 | ACCURACY: 0.3430\n",
            "Validation: LOSS: 1.9005 | ACCURACY: 0.3419\n",
            "\n",
            "\n",
            "Model is using cuda\n",
            "------EPOCH 8/100------\n",
            "Training: LOSS: 1.8596 | ACCURACY: 0.3527\n",
            "Validation: LOSS: 1.8624 | ACCURACY: 0.3438\n",
            "\n",
            "\n",
            "Model is using cuda\n",
            "------EPOCH 9/100------\n",
            "Training: LOSS: 1.8408 | ACCURACY: 0.3566\n",
            "Validation: LOSS: 1.8322 | ACCURACY: 0.3509\n",
            "\n",
            "\n",
            "Model is using cuda\n",
            "------EPOCH 10/100------\n",
            "Training: LOSS: 1.8110 | ACCURACY: 0.3554\n",
            "Validation: LOSS: 1.8009 | ACCURACY: 0.3555\n",
            "\n",
            "\n",
            "Model is using cuda\n",
            "------EPOCH 11/100------\n",
            "Training: LOSS: 1.7771 | ACCURACY: 0.3671\n",
            "Validation: LOSS: 1.7763 | ACCURACY: 0.3586\n",
            "\n",
            "\n",
            "Model is using cuda\n",
            "------EPOCH 12/100------\n",
            "Training: LOSS: 1.7516 | ACCURACY: 0.3697\n",
            "Validation: LOSS: 1.7526 | ACCURACY: 0.3631\n",
            "\n",
            "\n",
            "Model is using cuda\n",
            "------EPOCH 13/100------\n",
            "Training: LOSS: 1.7366 | ACCURACY: 0.3762\n",
            "Validation: LOSS: 1.7311 | ACCURACY: 0.3670\n",
            "\n",
            "\n",
            "Model is using cuda\n",
            "------EPOCH 14/100------\n",
            "Training: LOSS: 1.7106 | ACCURACY: 0.3881\n",
            "Validation: LOSS: 1.7122 | ACCURACY: 0.3711\n",
            "\n",
            "\n",
            "Model is using cuda\n",
            "------EPOCH 15/100------\n",
            "Training: LOSS: 1.6943 | ACCURACY: 0.3869\n",
            "Validation: LOSS: 1.6942 | ACCURACY: 0.3760\n",
            "\n",
            "\n",
            "Model is using cuda\n",
            "------EPOCH 16/100------\n",
            "Training: LOSS: 1.6805 | ACCURACY: 0.3934\n",
            "Validation: LOSS: 1.6789 | ACCURACY: 0.3815\n",
            "\n",
            "\n",
            "Model is using cuda\n",
            "------EPOCH 17/100------\n",
            "Training: LOSS: 1.6546 | ACCURACY: 0.4027\n",
            "Validation: LOSS: 1.6643 | ACCURACY: 0.3864\n",
            "\n",
            "\n",
            "Model is using cuda\n",
            "------EPOCH 18/100------\n",
            "Training: LOSS: 1.6465 | ACCURACY: 0.4049\n",
            "Validation: LOSS: 1.6493 | ACCURACY: 0.3894\n",
            "\n",
            "\n",
            "Model is using cuda\n",
            "------EPOCH 19/100------\n",
            "Training: LOSS: 1.6336 | ACCURACY: 0.4092\n",
            "Validation: LOSS: 1.6354 | ACCURACY: 0.3952\n",
            "\n",
            "\n",
            "Model is using cuda\n",
            "------EPOCH 20/100------\n",
            "Training: LOSS: 1.6295 | ACCURACY: 0.4138\n",
            "Validation: LOSS: 1.6225 | ACCURACY: 0.3997\n",
            "\n",
            "\n",
            "Model is using cuda\n",
            "------EPOCH 21/100------\n",
            "Training: LOSS: 1.6047 | ACCURACY: 0.4173\n",
            "Validation: LOSS: 1.6109 | ACCURACY: 0.4014\n",
            "\n",
            "\n",
            "Model is using cuda\n",
            "------EPOCH 22/100------\n",
            "Training: LOSS: 1.5945 | ACCURACY: 0.4152\n",
            "Validation: LOSS: 1.6000 | ACCURACY: 0.4069\n",
            "\n",
            "\n",
            "Model is using cuda\n",
            "------EPOCH 23/100------\n",
            "Training: LOSS: 1.5761 | ACCURACY: 0.4152\n",
            "Validation: LOSS: 1.5893 | ACCURACY: 0.4098\n",
            "\n",
            "\n",
            "Model is using cuda\n",
            "------EPOCH 24/100------\n",
            "Training: LOSS: 1.5708 | ACCURACY: 0.4298\n",
            "Validation: LOSS: 1.5782 | ACCURACY: 0.4120\n",
            "\n",
            "\n",
            "Model is using cuda\n",
            "------EPOCH 25/100------\n",
            "Training: LOSS: 1.5559 | ACCURACY: 0.4278\n",
            "Validation: LOSS: 1.5687 | ACCURACY: 0.4161\n",
            "\n",
            "\n",
            "Model is using cuda\n",
            "------EPOCH 26/100------\n",
            "Training: LOSS: 1.5473 | ACCURACY: 0.4331\n",
            "Validation: LOSS: 1.5588 | ACCURACY: 0.4211\n",
            "\n",
            "\n",
            "Model is using cuda\n",
            "------EPOCH 27/100------\n",
            "Training: LOSS: 1.5413 | ACCURACY: 0.4278\n",
            "Validation: LOSS: 1.5511 | ACCURACY: 0.4233\n",
            "\n",
            "\n",
            "Model is using cuda\n",
            "------EPOCH 28/100------\n",
            "Training: LOSS: 1.5333 | ACCURACY: 0.4403\n",
            "Validation: LOSS: 1.5428 | ACCURACY: 0.4295\n",
            "\n",
            "\n",
            "Model is using cuda\n",
            "------EPOCH 29/100------\n",
            "Training: LOSS: 1.5153 | ACCURACY: 0.4424\n",
            "Validation: LOSS: 1.5339 | ACCURACY: 0.4306\n",
            "\n",
            "\n",
            "Model is using cuda\n",
            "------EPOCH 30/100------\n",
            "Training: LOSS: 1.5139 | ACCURACY: 0.4341\n",
            "Validation: LOSS: 1.5260 | ACCURACY: 0.4326\n",
            "\n",
            "\n",
            "Model is using cuda\n",
            "------EPOCH 31/100------\n",
            "Training: LOSS: 1.5039 | ACCURACY: 0.4476\n",
            "Validation: LOSS: 1.5205 | ACCURACY: 0.4385\n",
            "\n",
            "\n",
            "Model is using cuda\n",
            "------EPOCH 32/100------\n",
            "Training: LOSS: 1.4921 | ACCURACY: 0.4484\n",
            "Validation: LOSS: 1.5110 | ACCURACY: 0.4412\n",
            "\n",
            "\n",
            "Model is using cuda\n",
            "------EPOCH 33/100------\n",
            "Training: LOSS: 1.4889 | ACCURACY: 0.4521\n",
            "Validation: LOSS: 1.5049 | ACCURACY: 0.4430\n",
            "\n",
            "\n",
            "Model is using cuda\n",
            "------EPOCH 34/100------\n",
            "Training: LOSS: 1.4804 | ACCURACY: 0.4583\n",
            "Validation: LOSS: 1.4978 | ACCURACY: 0.4437\n",
            "\n",
            "\n",
            "Model is using cuda\n",
            "------EPOCH 35/100------\n",
            "Training: LOSS: 1.4827 | ACCURACY: 0.4575\n",
            "Validation: LOSS: 1.4920 | ACCURACY: 0.4477\n",
            "\n",
            "\n",
            "Model is using cuda\n",
            "------EPOCH 36/100------\n",
            "Training: LOSS: 1.4756 | ACCURACY: 0.4488\n",
            "Validation: LOSS: 1.4895 | ACCURACY: 0.4496\n",
            "\n",
            "\n",
            "Model is using cuda\n",
            "------EPOCH 37/100------\n",
            "Training: LOSS: 1.4600 | ACCURACY: 0.4587\n",
            "Validation: LOSS: 1.4830 | ACCURACY: 0.4529\n",
            "\n",
            "\n",
            "Model is using cuda\n",
            "------EPOCH 38/100------\n",
            "Training: LOSS: 1.4545 | ACCURACY: 0.4585\n",
            "Validation: LOSS: 1.4747 | ACCURACY: 0.4551\n",
            "\n",
            "\n",
            "Model is using cuda\n",
            "------EPOCH 39/100------\n",
            "Training: LOSS: 1.4472 | ACCURACY: 0.4660\n",
            "Validation: LOSS: 1.4701 | ACCURACY: 0.4536\n",
            "\n",
            "\n",
            "Model is using cuda\n",
            "------EPOCH 40/100------\n",
            "Training: LOSS: 1.4566 | ACCURACY: 0.4626\n",
            "Validation: LOSS: 1.4659 | ACCURACY: 0.4580\n",
            "\n",
            "\n",
            "Model is using cuda\n",
            "------EPOCH 41/100------\n",
            "Training: LOSS: 1.4427 | ACCURACY: 0.4616\n",
            "Validation: LOSS: 1.4581 | ACCURACY: 0.4606\n",
            "\n",
            "\n",
            "Model is using cuda\n",
            "------EPOCH 42/100------\n",
            "Training: LOSS: 1.4332 | ACCURACY: 0.4666\n",
            "Validation: LOSS: 1.4540 | ACCURACY: 0.4622\n",
            "\n",
            "\n",
            "Model is using cuda\n",
            "------EPOCH 43/100------\n",
            "Training: LOSS: 1.4223 | ACCURACY: 0.4753\n",
            "Validation: LOSS: 1.4502 | ACCURACY: 0.4624\n",
            "\n",
            "\n",
            "Model is using cuda\n",
            "------EPOCH 44/100------\n",
            "Training: LOSS: 1.4235 | ACCURACY: 0.4763\n",
            "Validation: LOSS: 1.4469 | ACCURACY: 0.4661\n",
            "\n",
            "\n",
            "Model is using cuda\n",
            "------EPOCH 45/100------\n",
            "Training: LOSS: 1.4202 | ACCURACY: 0.4691\n",
            "Validation: LOSS: 1.4399 | ACCURACY: 0.4677\n",
            "\n",
            "\n",
            "Model is using cuda\n",
            "------EPOCH 46/100------\n",
            "Training: LOSS: 1.4120 | ACCURACY: 0.4717\n",
            "Validation: LOSS: 1.4357 | ACCURACY: 0.4689\n",
            "\n",
            "\n",
            "Model is using cuda\n",
            "------EPOCH 47/100------\n",
            "Training: LOSS: 1.4068 | ACCURACY: 0.4816\n",
            "Validation: LOSS: 1.4312 | ACCURACY: 0.4706\n",
            "\n",
            "\n",
            "Model is using cuda\n",
            "------EPOCH 48/100------\n",
            "Training: LOSS: 1.4034 | ACCURACY: 0.4828\n",
            "Validation: LOSS: 1.4276 | ACCURACY: 0.4741\n",
            "\n",
            "\n",
            "Model is using cuda\n",
            "------EPOCH 49/100------\n",
            "Training: LOSS: 1.3963 | ACCURACY: 0.4757\n",
            "Validation: LOSS: 1.4234 | ACCURACY: 0.4748\n",
            "\n",
            "\n",
            "Model is using cuda\n",
            "------EPOCH 50/100------\n",
            "Training: LOSS: 1.4012 | ACCURACY: 0.4792\n",
            "Validation: LOSS: 1.4191 | ACCURACY: 0.4774\n",
            "\n",
            "\n",
            "Model is using cuda\n",
            "------EPOCH 51/100------\n",
            "Training: LOSS: 1.3948 | ACCURACY: 0.4814\n",
            "Validation: LOSS: 1.4174 | ACCURACY: 0.4758\n",
            "\n",
            "\n",
            "Model is using cuda\n",
            "------EPOCH 52/100------\n",
            "Training: LOSS: 1.3840 | ACCURACY: 0.4790\n",
            "Validation: LOSS: 1.4143 | ACCURACY: 0.4780\n",
            "\n",
            "\n",
            "Model is using cuda\n",
            "------EPOCH 53/100------\n",
            "Training: LOSS: 1.3834 | ACCURACY: 0.4873\n",
            "Validation: LOSS: 1.4118 | ACCURACY: 0.4805\n",
            "\n",
            "\n",
            "Model is using cuda\n",
            "------EPOCH 54/100------\n",
            "Training: LOSS: 1.3741 | ACCURACY: 0.4901\n",
            "Validation: LOSS: 1.4065 | ACCURACY: 0.4819\n",
            "\n",
            "\n",
            "Model is using cuda\n",
            "------EPOCH 55/100------\n",
            "Training: LOSS: 1.3800 | ACCURACY: 0.4909\n",
            "Validation: LOSS: 1.4036 | ACCURACY: 0.4831\n",
            "\n",
            "\n",
            "Model is using cuda\n",
            "------EPOCH 56/100------\n",
            "Training: LOSS: 1.3699 | ACCURACY: 0.4970\n",
            "Validation: LOSS: 1.4012 | ACCURACY: 0.4829\n",
            "\n",
            "\n",
            "Model is using cuda\n",
            "------EPOCH 57/100------\n",
            "Training: LOSS: 1.3685 | ACCURACY: 0.4895\n",
            "Validation: LOSS: 1.4007 | ACCURACY: 0.4828\n",
            "\n",
            "\n",
            "Model is using cuda\n",
            "------EPOCH 58/100------\n",
            "Training: LOSS: 1.3673 | ACCURACY: 0.4931\n",
            "Validation: LOSS: 1.4005 | ACCURACY: 0.4833\n",
            "\n",
            "\n",
            "Model is using cuda\n",
            "------EPOCH 59/100------\n",
            "Training: LOSS: 1.3639 | ACCURACY: 0.4972\n",
            "Validation: LOSS: 1.3992 | ACCURACY: 0.4839\n",
            "\n",
            "\n",
            "Model is using cuda\n",
            "------EPOCH 60/100------\n",
            "Training: LOSS: 1.3596 | ACCURACY: 0.4939\n",
            "Validation: LOSS: 1.3934 | ACCURACY: 0.4865\n",
            "\n",
            "\n",
            "Model is using cuda\n",
            "------EPOCH 61/100------\n",
            "Training: LOSS: 1.3524 | ACCURACY: 0.5006\n",
            "Validation: LOSS: 1.3875 | ACCURACY: 0.4854\n",
            "\n",
            "\n",
            "Model is using cuda\n",
            "------EPOCH 62/100------\n",
            "Training: LOSS: 1.3536 | ACCURACY: 0.4974\n",
            "Validation: LOSS: 1.3867 | ACCURACY: 0.4893\n",
            "\n",
            "\n",
            "Model is using cuda\n",
            "------EPOCH 63/100------\n",
            "Training: LOSS: 1.3578 | ACCURACY: 0.4960\n",
            "Validation: LOSS: 1.3807 | ACCURACY: 0.4886\n",
            "\n",
            "\n",
            "Model is using cuda\n",
            "------EPOCH 64/100------\n",
            "Training: LOSS: 1.3380 | ACCURACY: 0.5057\n",
            "Validation: LOSS: 1.3789 | ACCURACY: 0.4894\n",
            "\n",
            "\n",
            "Model is using cuda\n",
            "------EPOCH 65/100------\n",
            "Training: LOSS: 1.3407 | ACCURACY: 0.5099\n",
            "Validation: LOSS: 1.3778 | ACCURACY: 0.4914\n",
            "\n",
            "\n",
            "Model is using cuda\n",
            "------EPOCH 66/100------\n",
            "Training: LOSS: 1.3417 | ACCURACY: 0.5038\n",
            "Validation: LOSS: 1.3744 | ACCURACY: 0.4929\n",
            "\n",
            "\n",
            "Model is using cuda\n",
            "------EPOCH 67/100------\n",
            "Training: LOSS: 1.3312 | ACCURACY: 0.5067\n",
            "Validation: LOSS: 1.3721 | ACCURACY: 0.4926\n",
            "\n",
            "\n",
            "Model is using cuda\n",
            "------EPOCH 68/100------\n",
            "Training: LOSS: 1.3314 | ACCURACY: 0.5095\n",
            "Validation: LOSS: 1.3722 | ACCURACY: 0.4934\n",
            "\n",
            "\n",
            "Model is using cuda\n",
            "------EPOCH 69/100------\n",
            "Training: LOSS: 1.3321 | ACCURACY: 0.5038\n",
            "Validation: LOSS: 1.3710 | ACCURACY: 0.4943\n",
            "\n",
            "\n",
            "Model is using cuda\n",
            "------EPOCH 70/100------\n",
            "Training: LOSS: 1.3292 | ACCURACY: 0.5113\n",
            "Validation: LOSS: 1.3686 | ACCURACY: 0.4964\n",
            "\n",
            "\n",
            "Model is using cuda\n",
            "------EPOCH 71/100------\n",
            "Training: LOSS: 1.3322 | ACCURACY: 0.5067\n",
            "Validation: LOSS: 1.3669 | ACCURACY: 0.4986\n",
            "\n",
            "\n",
            "Model is using cuda\n",
            "------EPOCH 72/100------\n",
            "Training: LOSS: 1.3319 | ACCURACY: 0.5180\n",
            "Validation: LOSS: 1.3666 | ACCURACY: 0.4996\n",
            "\n",
            "\n",
            "Model is using cuda\n",
            "------EPOCH 73/100------\n",
            "Training: LOSS: 1.3151 | ACCURACY: 0.5125\n",
            "Validation: LOSS: 1.3637 | ACCURACY: 0.4973\n",
            "\n",
            "\n",
            "Model is using cuda\n",
            "------EPOCH 74/100------\n",
            "Training: LOSS: 1.3228 | ACCURACY: 0.5101\n",
            "Validation: LOSS: 1.3587 | ACCURACY: 0.5018\n",
            "\n",
            "\n",
            "Model is using cuda\n",
            "------EPOCH 75/100------\n",
            "Training: LOSS: 1.3108 | ACCURACY: 0.5162\n",
            "Validation: LOSS: 1.3554 | ACCURACY: 0.5028\n",
            "\n",
            "\n",
            "Model is using cuda\n",
            "------EPOCH 76/100------\n",
            "Training: LOSS: 1.3225 | ACCURACY: 0.5103\n",
            "Validation: LOSS: 1.3567 | ACCURACY: 0.5016\n",
            "\n",
            "\n",
            "Model is using cuda\n",
            "------EPOCH 77/100------\n",
            "Training: LOSS: 1.3154 | ACCURACY: 0.5087\n",
            "Validation: LOSS: 1.3562 | ACCURACY: 0.4998\n",
            "\n",
            "\n",
            "Model is using cuda\n",
            "------EPOCH 78/100------\n",
            "Training: LOSS: 1.3069 | ACCURACY: 0.5198\n",
            "Validation: LOSS: 1.3516 | ACCURACY: 0.5021\n",
            "\n",
            "\n",
            "Model is using cuda\n",
            "------EPOCH 79/100------\n",
            "Training: LOSS: 1.2931 | ACCURACY: 0.5212\n",
            "Validation: LOSS: 1.3521 | ACCURACY: 0.5004\n",
            "\n",
            "\n",
            "Model is using cuda\n",
            "------EPOCH 80/100------\n",
            "Training: LOSS: 1.3109 | ACCURACY: 0.5164\n",
            "Validation: LOSS: 1.3527 | ACCURACY: 0.5028\n",
            "\n",
            "\n",
            "Model is using cuda\n",
            "------EPOCH 81/100------\n",
            "Training: LOSS: 1.3081 | ACCURACY: 0.5152\n",
            "Validation: LOSS: 1.3454 | ACCURACY: 0.5055\n",
            "\n",
            "\n",
            "Model is using cuda\n",
            "------EPOCH 82/100------\n",
            "Training: LOSS: 1.2992 | ACCURACY: 0.5168\n",
            "Validation: LOSS: 1.3462 | ACCURACY: 0.5018\n",
            "\n",
            "\n",
            "Model is using cuda\n",
            "------EPOCH 83/100------\n",
            "Training: LOSS: 1.3005 | ACCURACY: 0.5227\n",
            "Validation: LOSS: 1.3448 | ACCURACY: 0.5041\n",
            "\n",
            "\n",
            "Model is using cuda\n",
            "------EPOCH 84/100------\n",
            "Training: LOSS: 1.3016 | ACCURACY: 0.5184\n",
            "Validation: LOSS: 1.3449 | ACCURACY: 0.5051\n",
            "\n",
            "\n",
            "Model is using cuda\n",
            "------EPOCH 85/100------\n",
            "Training: LOSS: 1.2870 | ACCURACY: 0.5212\n",
            "Validation: LOSS: 1.3389 | ACCURACY: 0.5065\n",
            "\n",
            "\n",
            "Model is using cuda\n",
            "------EPOCH 86/100------\n",
            "Training: LOSS: 1.2912 | ACCURACY: 0.5176\n",
            "Validation: LOSS: 1.3387 | ACCURACY: 0.5052\n",
            "\n",
            "\n",
            "Model is using cuda\n",
            "------EPOCH 87/100------\n",
            "Training: LOSS: 1.2955 | ACCURACY: 0.5146\n",
            "Validation: LOSS: 1.3393 | ACCURACY: 0.5046\n",
            "\n",
            "\n",
            "Model is using cuda\n",
            "------EPOCH 88/100------\n",
            "Training: LOSS: 1.2825 | ACCURACY: 0.5218\n",
            "Validation: LOSS: 1.3370 | ACCURACY: 0.5069\n",
            "\n",
            "\n",
            "Model is using cuda\n",
            "------EPOCH 89/100------\n",
            "Training: LOSS: 1.2895 | ACCURACY: 0.5229\n",
            "Validation: LOSS: 1.3338 | ACCURACY: 0.5095\n",
            "\n",
            "\n",
            "Model is using cuda\n",
            "------EPOCH 90/100------\n",
            "Training: LOSS: 1.2811 | ACCURACY: 0.5273\n",
            "Validation: LOSS: 1.3331 | ACCURACY: 0.5085\n",
            "\n",
            "\n",
            "Model is using cuda\n",
            "------EPOCH 91/100------\n",
            "Training: LOSS: 1.2772 | ACCURACY: 0.5301\n",
            "Validation: LOSS: 1.3301 | ACCURACY: 0.5085\n",
            "\n",
            "\n",
            "Model is using cuda\n",
            "------EPOCH 92/100------\n",
            "Training: LOSS: 1.2795 | ACCURACY: 0.5233\n",
            "Validation: LOSS: 1.3309 | ACCURACY: 0.5092\n",
            "\n",
            "\n",
            "Model is using cuda\n",
            "------EPOCH 93/100------\n",
            "Training: LOSS: 1.2772 | ACCURACY: 0.5231\n",
            "Validation: LOSS: 1.3291 | ACCURACY: 0.5101\n",
            "\n",
            "\n",
            "Model is using cuda\n",
            "------EPOCH 94/100------\n",
            "Training: LOSS: 1.2790 | ACCURACY: 0.5239\n",
            "Validation: LOSS: 1.3270 | ACCURACY: 0.5096\n",
            "\n",
            "\n",
            "Model is using cuda\n",
            "------EPOCH 95/100------\n",
            "Training: LOSS: 1.2761 | ACCURACY: 0.5253\n",
            "Validation: LOSS: 1.3265 | ACCURACY: 0.5099\n",
            "\n",
            "\n",
            "Model is using cuda\n",
            "------EPOCH 96/100------\n",
            "Training: LOSS: 1.2813 | ACCURACY: 0.5251\n",
            "Validation: LOSS: 1.3256 | ACCURACY: 0.5102\n",
            "\n",
            "\n",
            "Model is using cuda\n",
            "------EPOCH 97/100------\n",
            "Training: LOSS: 1.2644 | ACCURACY: 0.5374\n",
            "Validation: LOSS: 1.3270 | ACCURACY: 0.5122\n",
            "\n",
            "\n",
            "Model is using cuda\n",
            "------EPOCH 98/100------\n",
            "Training: LOSS: 1.2750 | ACCURACY: 0.5279\n",
            "Validation: LOSS: 1.3243 | ACCURACY: 0.5101\n",
            "\n",
            "\n",
            "Model is using cuda\n",
            "------EPOCH 99/100------\n",
            "Training: LOSS: 1.2659 | ACCURACY: 0.5364\n",
            "Validation: LOSS: 1.3208 | ACCURACY: 0.5138\n",
            "\n",
            "\n",
            "Model is using cuda\n",
            "------EPOCH 100/100------\n",
            "Training: LOSS: 1.2571 | ACCURACY: 0.5269\n",
            "Validation: LOSS: 1.3243 | ACCURACY: 0.5131\n",
            "\n",
            "\n"
          ]
        }
      ],
      "source": [
        "trainer_stl = Trainer_STL(model_stl, (train_dataloader_stl, valid_dataloader_stl), device)\n",
        "(train_losses_stl, train_accs_stl), (valid_losses_stl, valid_accs_stl) = trainer_stl.fit()"
      ]
    },
    {
      "cell_type": "markdown",
      "id": "owK3HMwLToxe",
      "metadata": {
        "id": "owK3HMwLToxe"
      },
      "source": [
        "# **Plot STL Losses**"
      ]
    },
    {
      "cell_type": "code",
      "execution_count": 135,
      "id": "aZaobo-oToxe",
      "metadata": {
        "id": "aZaobo-oToxe",
        "colab": {
          "base_uri": "https://localhost:8080/",
          "height": 449
        },
        "outputId": "04cefbb2-93c5-4f83-d8c9-71785cd29927"
      },
      "outputs": [
        {
          "output_type": "display_data",
          "data": {
            "text/plain": [
              "<Figure size 640x480 with 1 Axes>"
            ],
            "image/png": "[encoded data removed]"
          },
          "metadata": {}
        }
      ],
      "source": [
        "plt.plot(train_losses_stl, color='red', label='Training Loss')\n",
        "plt.plot(valid_losses_stl, color='orange', label='Validation Loss')\n",
        "plt.xlabel('Epoch')\n",
        "plt.ylabel('Loss')\n",
        "plt.legend()\n",
        "plt.show()"
      ]
    },
    {
      "cell_type": "markdown",
      "id": "EUEsdbJYToxf",
      "metadata": {
        "id": "EUEsdbJYToxf"
      },
      "source": [
        "# **Plot STL Accuracies**"
      ]
    },
    {
      "cell_type": "code",
      "execution_count": 136,
      "id": "oDL0lPtPToxf",
      "metadata": {
        "id": "oDL0lPtPToxf",
        "colab": {
          "base_uri": "https://localhost:8080/",
          "height": 449
        },
        "outputId": "768de03f-0bc7-4bad-f7e3-77a0fefaf123"
      },
      "outputs": [
        {
          "output_type": "display_data",
          "data": {
            "text/plain": [
              "<Figure size 640x480 with 1 Axes>"
            ],
            "image/png": "[encoded data removed]"
          },
          "metadata": {}
        }
      ],
      "source": [
        "plt.plot(train_accs, color='yellow', label='Training Accuracy')\n",
        "plt.plot(valid_accs, color='green', label='Validation Accuracy')\n",
        "plt.xlabel('Epoch')\n",
        "plt.ylabel('Accuracy')\n",
        "plt.legend()\n",
        "plt.show()"
      ]
    },
    {
      "cell_type": "code",
      "execution_count": 137,
      "id": "01sCUc6aToxf",
      "metadata": {
        "id": "01sCUc6aToxf"
      },
      "outputs": [],
      "source": [
        "## save model for later use\n",
        "torch.save(model_stl.state_dict(), './lenet_tranfer_stl10.pt')"
      ]
    },
    {
      "cell_type": "markdown",
      "id": "Mob_29_GToxf",
      "metadata": {
        "id": "Mob_29_GToxf"
      },
      "source": [
        "# **Inception3 Transfer Learning on STL-10**"
      ]
    },
    {
      "cell_type": "code",
      "execution_count": 138,
      "id": "juNrCM2vToxf",
      "metadata": {
        "id": "juNrCM2vToxf"
      },
      "outputs": [],
      "source": [
        "# Define transformation for training and validation data\n",
        "transform = transforms.Compose([\n",
        "    transforms.Resize(299),  # Inception-v3 input size\n",
        "    transforms.CenterCrop(299),\n",
        "    transforms.ToTensor(),\n",
        "    transforms.Normalize(mean=[0.485, 0.456, 0.406], std=[0.229, 0.224, 0.225])  # ImageNet normalization\n",
        "])"
      ]
    },
    {
      "cell_type": "markdown",
      "id": "FGKfBUsLToxf",
      "metadata": {
        "id": "FGKfBUsLToxf"
      },
      "source": [
        "# **Load the STL-10 Dataset**"
      ]
    },
    {
      "cell_type": "code",
      "execution_count": 139,
      "id": "QY9q-7r3Toxg",
      "metadata": {
        "id": "QY9q-7r3Toxg",
        "colab": {
          "base_uri": "https://localhost:8080/"
        },
        "outputId": "a11cdcb0-87be-449e-ef83-5ecbe4aa85ae"
      },
      "outputs": [
        {
          "output_type": "stream",
          "name": "stdout",
          "text": [
            "Files already downloaded and verified\n",
            "Files already downloaded and verified\n"
          ]
        }
      ],
      "source": [
        "# Load STL-10 dataset\n",
        "train_dataset = datasets.STL10(root='./data', split='train', download=True, transform=transform)\n",
        "test_dataset = datasets.STL10(root='./data', split='test', download=True, transform=transform)\n",
        "class_names = image_datasets['train'].classes"
      ]
    },
    {
      "cell_type": "code",
      "source": [
        "batch_size = 32\n",
        "train_loader = DataLoader(train_dataset, batch_size=batch_size, shuffle=True)\n",
        "test_loader = DataLoader(test_dataset, batch_size=batch_size)\n"
      ],
      "metadata": {
        "id": "tEJRvdZyXAA6"
      },
      "id": "tEJRvdZyXAA6",
      "execution_count": 140,
      "outputs": []
    },
    {
      "cell_type": "markdown",
      "id": "DflXAg6aToxg",
      "metadata": {
        "id": "DflXAg6aToxg"
      },
      "source": [
        "# **Modify the InceptionV3 Model**"
      ]
    },
    {
      "cell_type": "code",
      "execution_count": 141,
      "id": "22N2YnoAToxg",
      "metadata": {
        "id": "22N2YnoAToxg"
      },
      "outputs": [],
      "source": [
        "# Load pre-trained Inception-v3 model\n",
        "inception_v3 = models.inception_v3(pretrained=True)\n",
        "\n",
        "# Replace the top classification layer\n",
        "num_classes = 10  # Number of classes in STL-10\n",
        "num_features = inception_v3.fc.in_features\n",
        "inception_v3.fc = nn.Linear(num_features, num_classes)\n"
      ]
    },
    {
      "cell_type": "markdown",
      "id": "nROhjqxuToxg",
      "metadata": {
        "id": "nROhjqxuToxg"
      },
      "source": [
        "# **Define Loss Function and Optimizer**"
      ]
    },
    {
      "cell_type": "code",
      "execution_count": 142,
      "id": "ZhsyHqmhToxg",
      "metadata": {
        "id": "ZhsyHqmhToxg"
      },
      "outputs": [],
      "source": [
        "# Optionally freeze layers\n",
        "for param in inception_v3.parameters():\n",
        "    param.requires_grad = False\n",
        "\n",
        "criterion = nn.CrossEntropyLoss()\n",
        "\n",
        "# Observe that all parameters are being optimized\n",
        "optimizer = torch.optim.SGD(model.parameters(), lr=0.001, momentum=0.9)\n",
        "\n",
        "# Decay LR by a factor of 0.1 every 7 epochs\n",
        "exp_lr_scheduler = torch.optim.lr_scheduler.StepLR(optimizer, step_size=7, gamma=0.1)\n"
      ]
    },
    {
      "cell_type": "markdown",
      "id": "SHB_EYaMToxg",
      "metadata": {
        "id": "SHB_EYaMToxg"
      },
      "source": [
        "# **Train the Model**"
      ]
    },
    {
      "cell_type": "code",
      "source": [
        "!pip install torchmetrics --quiet"
      ],
      "metadata": {
        "id": "4r9M29S1Za0h"
      },
      "id": "4r9M29S1Za0h",
      "execution_count": 143,
      "outputs": []
    },
    {
      "cell_type": "code",
      "source": [
        "!pip install lightning --quiet"
      ],
      "metadata": {
        "id": "HTDpZvFRZ7Uv"
      },
      "id": "HTDpZvFRZ7Uv",
      "execution_count": 144,
      "outputs": []
    },
    {
      "cell_type": "code",
      "execution_count": 145,
      "id": "I8ITTuGxToxh",
      "metadata": {
        "id": "I8ITTuGxToxh",
        "colab": {
          "base_uri": "https://localhost:8080/"
        },
        "outputId": "ca106da7-f0f8-4d4c-9e03-d9253a678738"
      },
      "outputs": [
        {
          "output_type": "stream",
          "name": "stdout",
          "text": [
            "Files already downloaded and verified\n",
            "Files already downloaded and verified\n"
          ]
        }
      ],
      "source": [
        "import torch\n",
        "import torchmetrics\n",
        "from torch import nn, optim\n",
        "from torch.nn import functional as F\n",
        "from torch.utils.data import DataLoader\n",
        "from torchvision import transforms, datasets, models\n",
        "\n",
        "import lightning.pytorch as pl\n",
        "from lightning.pytorch.loggers import CSVLogger\n",
        "from lightning.pytorch.callbacks.early_stopping import EarlyStopping\n",
        "\n",
        "# Check if GPU is available\n",
        "device = torch.device(\"cuda\" if torch.cuda.is_available() else \"cpu\")\n",
        "\n",
        "# Load pre-trained Inception-v3 model\n",
        "inception_v3 = models.inception_v3(pretrained=True)\n",
        "\n",
        "\n",
        "batch_size = 64\n",
        "\n",
        "train_transform = transforms.Compose([\n",
        "    transforms.Resize((299, 299)),\n",
        "    transforms.RandomHorizontalFlip(),\n",
        "    transforms.ToTensor(),\n",
        "])\n",
        "\n",
        "test_transform = transforms.Compose([\n",
        "    transforms.Resize((299, 299)),\n",
        "    transforms.ToTensor(),\n",
        "])\n",
        "\n",
        "train_dataset = datasets.STL10(root=\"./data\", split='train',transform=train_transform, download=True)\n",
        "val_dataset = datasets.STL10(root=\"./data\", split='test', transform=test_transform, download=True)\n",
        "\n",
        "train_loader = DataLoader(train_dataset, batch_size=batch_size, shuffle=True)\n",
        "val_loader = DataLoader(val_dataset, batch_size=batch_size, shuffle=True)\n",
        "test_loader = val_loader\n",
        "\n"
      ]
    },
    {
      "cell_type": "code",
      "source": [
        "class LitModel(pl.LightningModule):\n",
        "    def __init__(self, num_classes=1000):\n",
        "        super().__init__()\n",
        "        self.model = models.inception_v3(weights=\"IMAGENET1K_V1\")\n",
        "#         for param in self.model.parameters():\n",
        "#             param.requires_grad = False\n",
        "        self.model.fc = nn.Linear(2048, num_classes)\n",
        "        self.accuracy = torchmetrics.Accuracy(task=\"multiclass\", num_classes=num_classes)\n",
        "\n",
        "    def forward(self, x):\n",
        "        x = self.model(x)\n",
        "        return x\n",
        "\n",
        "    def configure_optimizers(self):\n",
        "        optimizer = optim.Adam(self.parameters(), lr=0.001, betas=(0.9, 0.99), eps=1e-08, weight_decay=1e-5)\n",
        "        return optimizer\n",
        "\n",
        "    def training_step(self, batch, batch_idx):\n",
        "        x, y = batch\n",
        "        y_hat = self(x).logits\n",
        "        loss = F.cross_entropy(y_hat, y)\n",
        "        acc = self.accuracy(y_hat, y)\n",
        "        self.log('train_loss', loss, on_step=True, on_epoch=False, prog_bar=True, logger=True)\n",
        "        self.log('train_acc', acc, on_step=True, on_epoch=False, logger=True)\n",
        "        return loss\n",
        "\n",
        "    def validation_step(self, batch, batch_idx):\n",
        "        x, y = batch\n",
        "        y_hat = self(x)\n",
        "        loss = F.cross_entropy(y_hat, y)\n",
        "        acc = self.accuracy(y_hat, y)\n",
        "        self.log('val_loss', loss, on_step=False, on_epoch=True, logger=True)\n",
        "        self.log('val_acc', acc, on_step=False, on_epoch=True, prog_bar=True, logger=True)\n",
        "\n",
        "    def test_step(self, batch, batch_idx):\n",
        "        x, y = batch\n",
        "        y_hat = self(x)\n",
        "        acc = self.accuracy(y_hat, y)\n",
        "        self.log('test_acc', acc)\n",
        "\n",
        "    def predict_step(self, batch, batch_idx, dataloader_idx=None):\n",
        "        x, y = batch\n",
        "        y_hat = self(x)\n",
        "        preds = torch.argmax(y_hat, dim=1)\n",
        "        return preds"
      ],
      "metadata": {
        "id": "5B0umM5bY7cw"
      },
      "id": "5B0umM5bY7cw",
      "execution_count": 146,
      "outputs": []
    },
    {
      "cell_type": "code",
      "execution_count": 1,
      "id": "E6C8bGAGToxh",
      "metadata": {
        "id": "E6C8bGAGToxh",
        "colab": {
          "base_uri": "https://localhost:8080/",
          "height": 211
        },
        "outputId": "5a2d2ad8-ad70-4ed6-f85a-a5f66a3d433b"
      },
      "outputs": [
        {
          "output_type": "error",
          "ename": "NameError",
          "evalue": "name 'LitModel' is not defined",
          "traceback": [
            "\u001b[0;31m---------------------------------------------------------------------------\u001b[0m",
            "\u001b[0;31mNameError\u001b[0m                                 Traceback (most recent call last)",
            "\u001b[0;32m<ipython-input-1-b5feb614227e>\u001b[0m in \u001b[0;36m<cell line: 2>\u001b[0;34m()\u001b[0m\n\u001b[1;32m      1\u001b[0m \u001b[0mnum_classes\u001b[0m \u001b[0;34m=\u001b[0m \u001b[0;36m10\u001b[0m\u001b[0;34m\u001b[0m\u001b[0;34m\u001b[0m\u001b[0m\n\u001b[0;32m----> 2\u001b[0;31m \u001b[0mmodel\u001b[0m \u001b[0;34m=\u001b[0m \u001b[0mLitModel\u001b[0m\u001b[0;34m(\u001b[0m\u001b[0mnum_classes\u001b[0m\u001b[0;34m=\u001b[0m\u001b[0mnum_classes\u001b[0m\u001b[0;34m)\u001b[0m\u001b[0;34m\u001b[0m\u001b[0;34m\u001b[0m\u001b[0m\n\u001b[0m\u001b[1;32m      3\u001b[0m \u001b[0mlogger\u001b[0m \u001b[0;34m=\u001b[0m \u001b[0mCSVLogger\u001b[0m\u001b[0;34m(\u001b[0m\u001b[0;34m\"./\"\u001b[0m\u001b[0;34m)\u001b[0m\u001b[0;34m\u001b[0m\u001b[0;34m\u001b[0m\u001b[0m\n\u001b[1;32m      4\u001b[0m \u001b[0mearly_stop_callback\u001b[0m \u001b[0;34m=\u001b[0m \u001b[0mEarlyStopping\u001b[0m\u001b[0;34m(\u001b[0m\u001b[0mmonitor\u001b[0m\u001b[0;34m=\u001b[0m\u001b[0;34m\"val_loss\"\u001b[0m\u001b[0;34m,\u001b[0m \u001b[0mmin_delta\u001b[0m\u001b[0;34m=\u001b[0m\u001b[0;36m0.00\u001b[0m\u001b[0;34m,\u001b[0m \u001b[0mpatience\u001b[0m\u001b[0;34m=\u001b[0m\u001b[0;36m5\u001b[0m\u001b[0;34m,\u001b[0m \u001b[0mverbose\u001b[0m\u001b[0;34m=\u001b[0m\u001b[0;32mFalse\u001b[0m\u001b[0;34m,\u001b[0m \u001b[0mmode\u001b[0m\u001b[0;34m=\u001b[0m\u001b[0;34m\"min\"\u001b[0m\u001b[0;34m)\u001b[0m\u001b[0;34m\u001b[0m\u001b[0;34m\u001b[0m\u001b[0m\n\u001b[1;32m      5\u001b[0m \u001b[0mtrainer\u001b[0m \u001b[0;34m=\u001b[0m \u001b[0mpl\u001b[0m\u001b[0;34m.\u001b[0m\u001b[0mTrainer\u001b[0m\u001b[0;34m(\u001b[0m\u001b[0mmax_epochs\u001b[0m\u001b[0;34m=\u001b[0m\u001b[0;36m20\u001b[0m\u001b[0;34m,\u001b[0m \u001b[0menable_progress_bar\u001b[0m\u001b[0;34m=\u001b[0m\u001b[0;32mTrue\u001b[0m\u001b[0;34m,\u001b[0m \u001b[0mlogger\u001b[0m\u001b[0;34m=\u001b[0m\u001b[0mlogger\u001b[0m\u001b[0;34m,\u001b[0m \u001b[0mcallbacks\u001b[0m\u001b[0;34m=\u001b[0m\u001b[0;34m[\u001b[0m\u001b[0mearly_stop_callback\u001b[0m\u001b[0;34m]\u001b[0m\u001b[0;34m)\u001b[0m\u001b[0;34m\u001b[0m\u001b[0;34m\u001b[0m\u001b[0m\n",
            "\u001b[0;31mNameError\u001b[0m: name 'LitModel' is not defined"
          ]
        }
      ],
      "source": [
        "num_classes = 10\n",
        "model = LitModel(num_classes=num_classes)\n",
        "logger = CSVLogger(\"./\")\n",
        "early_stop_callback = EarlyStopping(monitor=\"val_loss\", min_delta=0.00, patience=5, verbose=False, mode=\"min\")\n",
        "trainer = pl.Trainer(max_epochs=20, enable_progress_bar=True, logger=logger, callbacks=[early_stop_callback])\n",
        "trainer.fit(model, train_loader, val_loader)"
      ]
    }
  ],
  "metadata": {
    "accelerator": "GPU",
    "colab": {
      "gpuType": "T4",
      "provenance": []
    },
    "kaggle": {
      "accelerator": "gpu",
      "dataSources": [],
      "dockerImageVersionId": 30674,
      "isGpuEnabled": true,
      "isInternetEnabled": true,
      "language": "python",
      "sourceType": "notebook"
    },
    "kernelspec": {
      "display_name": "Python 3",
      "name": "python3"
    },
    "language_info": {
      "codemirror_mode": {
        "name": "ipython",
        "version": 3
      },
      "file_extension": ".py",
      "mimetype": "text/x-python",
      "name": "python",
      "nbconvert_exporter": "python",
      "pygments_lexer": "ipython3",
      "version": "3.10.13"
    }
  },
  "nbformat": 4,
  "nbformat_minor": 5
}