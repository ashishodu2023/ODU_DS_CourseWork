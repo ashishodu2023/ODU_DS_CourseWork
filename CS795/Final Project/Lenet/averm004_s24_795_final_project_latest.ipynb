{
  "metadata": {
    "accelerator": "GPU",
    "colab": {
      "gpuType": "T4",
      "provenance": []
    },
    "kaggle": {
      "accelerator": "gpu",
      "dataSources": [],
      "dockerImageVersionId": 30674,
      "isInternetEnabled": true,
      "language": "python",
      "sourceType": "notebook",
      "isGpuEnabled": true
    },
    "kernelspec": {
      "name": "python3",
      "display_name": "Python 3",
      "language": "python"
    },
    "language_info": {
      "codemirror_mode": {
        "name": "ipython",
        "version": 3
      },
      "file_extension": ".py",
      "mimetype": "text/x-python",
      "name": "python",
      "nbconvert_exporter": "python",
      "pygments_lexer": "ipython3",
      "version": "3.10.13"
    }
  },
  "nbformat_minor": 5,
  "nbformat": 4,
  "cells": [
    {
      "cell_type": "markdown",
      "source": [
        "### S'24 795/895 DL Fundamentals Final Project\n",
        "\n",
        "**Important**: Rename the notebook with the UID of one of the team members as the prefix, such as jdoe001_xxxxxxx.ipynb.\n",
        "\n",
        "**Important**: Contributer:Ashish Verma\n",
        "\n",
        "#### Description\n",
        "The task of the project is to implement CIFAR10 classification using LeNet. The second task is to use transfer learning to adapt the LeNet model trained on CIFAR10 data to STL-10.\n",
        "\n",
        "#### Background:\n",
        "LeNet is one of the *old* CNN models. Its structure can be described as: CONV-Pooling-CONV-Pooling-FC-FC. Below is a pictorial description:\n",
        "\n",
        "![Screenshot 2024-03-20 at 1.48.02 PM.png](attachment:aa307695-8043-4875-9252-50ebd72643fd.png)\n",
        "\n",
        "Both CIFAR10 and STL-10 are included in Torchvision. More details are at https://pytorch.org/vision/stable/datasets.html\n",
        "#### Specific Requirements\n",
        "1. You are required to implement it in PyTorch\n",
        "2. You are required to use Dropout layers\n",
        "3. You are required to use GPU.\n",
        "4. You can use either colab or ODU HPC resources. It will take some time to train the model, hence I **strongly** suggest you start early.\n",
        "5. You should implement it from scratch (Hint: there aren't too many examples of using LeNet for CIFAR10, so you have to write it yourself)\n",
        "6. It has been reported that LeNet can achieve testing accuracy of ~65% for CIFAR10. I will accept any results with accuracy > 58% (If it's < 50%, it's acutally worse than a coin toss!)\n",
        "7. You probably have to do some hyperparameter tuning to get there.\n",
        "8. After the model is trained, you are required to use transfer learning method to adapt the model to STL-10 dataset. Retrain the model and achieve as good accuracy as possible.\n",
        "\n",
        "#### Grading\n",
        "1. You should implement everything in a single jupyter notebook and submit it before the deadline.\n",
        "2. I recently aquired a desktop server with a beefy GPU. I **will** run your code to verify the output is correct, besides reading your pytorch code.  If your code won't run to completion, points will be deducted depending on where the failure is (the earlier the failure, the more points will be deducted)."
      ],
      "metadata": {
        "id": "CrxMkCvZToxT"
      },
      "id": "CrxMkCvZToxT"
    },
    {
      "cell_type": "markdown",
      "source": [
        "## **Importing Pytorch Libraries**"
      ],
      "metadata": {
        "id": "_7QfA2EDToxU"
      },
      "id": "_7QfA2EDToxU"
    },
    {
      "cell_type": "code",
      "source": [
        "import torch\n",
        "import torch.nn as nn\n",
        "import torchvision.transforms as transforms\n",
        "import torchvision.datasets as datasets\n",
        "\n",
        "import matplotlib.pyplot as plt\n",
        "\n",
        "import gc\n",
        "import warnings\n",
        "warnings.filterwarnings('ignore')"
      ],
      "metadata": {
        "id": "6sL4Afz-ToxU",
        "execution": {
          "iopub.status.busy": "2024-04-11T19:48:48.905184Z",
          "iopub.execute_input": "2024-04-11T19:48:48.905930Z",
          "iopub.status.idle": "2024-04-11T19:48:55.924448Z",
          "shell.execute_reply.started": "2024-04-11T19:48:48.905893Z",
          "shell.execute_reply": "2024-04-11T19:48:55.923523Z"
        },
        "trusted": true
      },
      "execution_count": 2,
      "outputs": [],
      "id": "6sL4Afz-ToxU"
    },
    {
      "cell_type": "markdown",
      "source": [
        "## **Initializing GPUs**"
      ],
      "metadata": {
        "id": "B8iU5mOxToxV"
      },
      "id": "B8iU5mOxToxV"
    },
    {
      "cell_type": "code",
      "source": [
        "#GPU\n",
        "device = torch.device(\"cuda:0\" if torch.cuda.is_available() else \"cpu\")"
      ],
      "metadata": {
        "id": "hHya9WwzToxV",
        "execution": {
          "iopub.status.busy": "2024-04-11T19:48:55.926242Z",
          "iopub.execute_input": "2024-04-11T19:48:55.926933Z",
          "iopub.status.idle": "2024-04-11T19:48:55.962912Z",
          "shell.execute_reply.started": "2024-04-11T19:48:55.926905Z",
          "shell.execute_reply": "2024-04-11T19:48:55.961661Z"
        },
        "trusted": true
      },
      "execution_count": 3,
      "outputs": [],
      "id": "hHya9WwzToxV"
    },
    {
      "cell_type": "markdown",
      "source": [
        "## **Data Augmentation and Transformations**"
      ],
      "metadata": {
        "id": "h3yGWa5CToxV"
      },
      "id": "h3yGWa5CToxV"
    },
    {
      "cell_type": "code",
      "source": [
        "transform = transforms.Compose(\n",
        "    [transforms.ToTensor(),\n",
        "     transforms.Normalize((0.5, 0.5, 0.5), (0.5, 0.5, 0.5))])"
      ],
      "metadata": {
        "id": "3dwGCs8WToxW",
        "execution": {
          "iopub.status.busy": "2024-04-11T19:48:55.969513Z",
          "iopub.execute_input": "2024-04-11T19:48:55.970239Z",
          "iopub.status.idle": "2024-04-11T19:48:55.977405Z",
          "shell.execute_reply.started": "2024-04-11T19:48:55.970199Z",
          "shell.execute_reply": "2024-04-11T19:48:55.976420Z"
        },
        "trusted": true
      },
      "execution_count": 4,
      "outputs": [],
      "id": "3dwGCs8WToxW"
    },
    {
      "cell_type": "markdown",
      "source": [
        "##  **Data from Torchvision**"
      ],
      "metadata": {
        "id": "I66gJx4aToxW"
      },
      "id": "I66gJx4aToxW"
    },
    {
      "cell_type": "code",
      "source": [
        "path = '/tmp'\n",
        "\n",
        "train_ds = datasets.CIFAR10(root=path,\n",
        "                            train=True,\n",
        "                            transform=transform,\n",
        "                            download=True\n",
        "                           )\n",
        "\n",
        "test_ds = datasets.CIFAR10(root=path,\n",
        "                           train=False,\n",
        "                           transform=transform\n",
        "                           )\n",
        "\n",
        "labels = 'airplane automobile bird cat deer dog frog horse ship truck'.split()"
      ],
      "metadata": {
        "colab": {
          "base_uri": "https://localhost:8080/"
        },
        "id": "0mZrCKFBToxX",
        "outputId": "cc74ad69-dd1c-4172-e754-d495fbd7263d",
        "execution": {
          "iopub.status.busy": "2024-04-11T19:48:55.978543Z",
          "iopub.execute_input": "2024-04-11T19:48:55.978857Z",
          "iopub.status.idle": "2024-04-11T19:49:02.391961Z",
          "shell.execute_reply.started": "2024-04-11T19:48:55.978832Z",
          "shell.execute_reply": "2024-04-11T19:49:02.390983Z"
        },
        "trusted": true
      },
      "execution_count": 5,
      "outputs": [
        {
          "output_type": "stream",
          "name": "stdout",
          "text": [
            "Downloading https://www.cs.toronto.edu/~kriz/cifar-10-python.tar.gz to /tmp/cifar-10-python.tar.gz\n"
          ]
        },
        {
          "output_type": "stream",
          "name": "stderr",
          "text": [
            "100%|██████████| 170498071/170498071 [00:03<00:00, 46236047.55it/s]\n"
          ]
        },
        {
          "output_type": "stream",
          "name": "stdout",
          "text": [
            "Extracting /tmp/cifar-10-python.tar.gz to /tmp\n"
          ]
        }
      ],
      "id": "0mZrCKFBToxX"
    },
    {
      "cell_type": "markdown",
      "source": [
        "## **Image Visualization**"
      ],
      "metadata": {
        "id": "TL8iHSajToxX"
      },
      "id": "TL8iHSajToxX"
    },
    {
      "cell_type": "code",
      "source": [
        "first_10_samples = sorted([train_ds[i] for i in range(10)], key=lambda x:x[1])\n",
        "\n",
        "figure = plt.figure(figsize=(15,10))\n",
        "for i in range(1,11):\n",
        "    img = first_10_samples[i-1][0].permute(1,2,0)\n",
        "    label = labels[first_10_samples[i-1][1]]\n",
        "    figure.add_subplot(5,10,i)\n",
        "    plt.title(label)\n",
        "    plt.axis('off')\n",
        "    plt.imshow(img)"
      ],
      "metadata": {
        "colab": {
          "base_uri": "https://localhost:8080/",
          "height": 331
        },
        "id": "OClcfidpToxX",
        "outputId": "a34e580e-6b17-46c1-d0ee-bcda92cc3d6e",
        "execution": {
          "iopub.status.busy": "2024-04-11T19:49:02.393179Z",
          "iopub.execute_input": "2024-04-11T19:49:02.393544Z",
          "iopub.status.idle": "2024-04-11T19:49:03.183636Z",
          "shell.execute_reply.started": "2024-04-11T19:49:02.393510Z",
          "shell.execute_reply": "2024-04-11T19:49:03.182631Z"
        },
        "trusted": true
      },
      "execution_count": 6,
      "outputs": [
        {
          "output_type": "stream",
          "name": "stderr",
          "text": [
            "WARNING:matplotlib.image:Clipping input data to the valid range for imshow with RGB data ([0..1] for floats or [0..255] for integers).\n",
            "WARNING:matplotlib.image:Clipping input data to the valid range for imshow with RGB data ([0..1] for floats or [0..255] for integers).\n",
            "WARNING:matplotlib.image:Clipping input data to the valid range for imshow with RGB data ([0..1] for floats or [0..255] for integers).\n",
            "WARNING:matplotlib.image:Clipping input data to the valid range for imshow with RGB data ([0..1] for floats or [0..255] for integers).\n",
            "WARNING:matplotlib.image:Clipping input data to the valid range for imshow with RGB data ([0..1] for floats or [0..255] for integers).\n",
            "WARNING:matplotlib.image:Clipping input data to the valid range for imshow with RGB data ([0..1] for floats or [0..255] for integers).\n",
            "WARNING:matplotlib.image:Clipping input data to the valid range for imshow with RGB data ([0..1] for floats or [0..255] for integers).\n",
            "WARNING:matplotlib.image:Clipping input data to the valid range for imshow with RGB data ([0..1] for floats or [0..255] for integers).\n",
            "WARNING:matplotlib.image:Clipping input data to the valid range for imshow with RGB data ([0..1] for floats or [0..255] for integers).\n",
            "WARNING:matplotlib.image:Clipping input data to the valid range for imshow with RGB data ([0..1] for floats or [0..255] for integers).\n"
          ]
        },
        {
          "output_type": "display_data",
          "data": {
            "text/plain": [
              "<Figure size 1500x1000 with 10 Axes>"
            ],
            "image/png": "[encoded data removed]"
          },
          "metadata": {}
        }
      ],
      "id": "OClcfidpToxX"
    },
    {
      "cell_type": "markdown",
      "source": [
        "# **Class Config**"
      ],
      "metadata": {
        "id": "aKx5BzrdToxY"
      },
      "id": "aKx5BzrdToxY"
    },
    {
      "cell_type": "code",
      "source": [
        "class Config:\n",
        "    lr=1e-3\n",
        "    epochs=15\n",
        "    optim=torch.optim.Adam\n",
        "    batch_size=64"
      ],
      "metadata": {
        "id": "Isf_TRODToxY",
        "execution": {
          "iopub.status.busy": "2024-04-11T19:49:03.185109Z",
          "iopub.execute_input": "2024-04-11T19:49:03.185520Z",
          "iopub.status.idle": "2024-04-11T19:49:03.191245Z",
          "shell.execute_reply.started": "2024-04-11T19:49:03.185484Z",
          "shell.execute_reply": "2024-04-11T19:49:03.190185Z"
        },
        "trusted": true
      },
      "execution_count": 7,
      "outputs": [],
      "id": "Isf_TRODToxY"
    },
    {
      "cell_type": "markdown",
      "source": [
        "## **DataLoaders**"
      ],
      "metadata": {
        "id": "E998mWuTToxY"
      },
      "id": "E998mWuTToxY"
    },
    {
      "cell_type": "code",
      "source": [
        "train_dataloader = torch.utils.data.DataLoader(train_ds, batch_size=Config.batch_size, shuffle=True, num_workers=2)\n",
        "valid_dataloader = torch.utils.data.DataLoader(test_ds, batch_size=Config.batch_size, shuffle=True, num_workers=2)"
      ],
      "metadata": {
        "id": "8sy5f_VbToxY",
        "execution": {
          "iopub.status.busy": "2024-04-11T19:49:03.192745Z",
          "iopub.execute_input": "2024-04-11T19:49:03.193117Z",
          "iopub.status.idle": "2024-04-11T19:49:03.201950Z",
          "shell.execute_reply.started": "2024-04-11T19:49:03.193084Z",
          "shell.execute_reply": "2024-04-11T19:49:03.200941Z"
        },
        "trusted": true
      },
      "execution_count": 8,
      "outputs": [],
      "id": "8sy5f_VbToxY"
    },
    {
      "cell_type": "markdown",
      "source": [
        "## **The LeNET Model**"
      ],
      "metadata": {
        "id": "S65DaD40ToxY"
      },
      "id": "S65DaD40ToxY"
    },
    {
      "cell_type": "code",
      "source": [
        "class LeNet(nn.Module):\n",
        "\n",
        "    def __init__(self, in_features=3, num_classes=10):\n",
        "        super(LeNet, self).__init__()\n",
        "\n",
        "        self.conv_block = nn.Sequential(nn.Conv2d(in_channels=in_features,\n",
        "                                                   out_channels=6,\n",
        "                                                   kernel_size=5,\n",
        "                                                   stride=1),\n",
        "                                         nn.ReLU(),\n",
        "                                         nn.MaxPool2d(2,2),\n",
        "                                         nn.Dropout(0.2),\n",
        "                                         nn.Conv2d(in_channels=6,\n",
        "                                                   out_channels=16,\n",
        "                                                   kernel_size=5,\n",
        "                                                   stride=1),\n",
        "                                         nn.ReLU(),\n",
        "                                         nn.MaxPool2d(2,2)\n",
        "                                        )\n",
        "\n",
        "        self.linear_block = nn.Sequential( nn.Linear(400, 120),\n",
        "                                           nn.ReLU(),\n",
        "                                           nn.Linear(120,84),\n",
        "                                           nn.ReLU(),\n",
        "                                           nn.Linear(84,10)\n",
        "                                         )\n",
        "\n",
        "    def forward(self, x):\n",
        "        x = self.conv_block(x)\n",
        "        x = torch.flatten(x,1)\n",
        "        x = self.linear_block(x)\n",
        "        return x"
      ],
      "metadata": {
        "id": "0EKP_nJoToxY",
        "execution": {
          "iopub.status.busy": "2024-04-11T19:49:03.203178Z",
          "iopub.execute_input": "2024-04-11T19:49:03.203465Z",
          "iopub.status.idle": "2024-04-11T19:49:03.213530Z",
          "shell.execute_reply.started": "2024-04-11T19:49:03.203440Z",
          "shell.execute_reply": "2024-04-11T19:49:03.212584Z"
        },
        "trusted": true
      },
      "execution_count": 9,
      "outputs": [],
      "id": "0EKP_nJoToxY"
    },
    {
      "cell_type": "code",
      "source": [
        "model = LeNet().to(device)\n",
        "print(model)"
      ],
      "metadata": {
        "colab": {
          "base_uri": "https://localhost:8080/"
        },
        "id": "tjR1wPfFToxZ",
        "outputId": "8546039a-9cc3-4661-aceb-fcdadce58181",
        "execution": {
          "iopub.status.busy": "2024-04-11T19:49:03.217755Z",
          "iopub.execute_input": "2024-04-11T19:49:03.218088Z",
          "iopub.status.idle": "2024-04-11T19:49:03.372477Z",
          "shell.execute_reply.started": "2024-04-11T19:49:03.218054Z",
          "shell.execute_reply": "2024-04-11T19:49:03.371416Z"
        },
        "trusted": true
      },
      "execution_count": 10,
      "outputs": [
        {
          "output_type": "stream",
          "name": "stdout",
          "text": [
            "LeNet(\n",
            "  (conv_block): Sequential(\n",
            "    (0): Conv2d(3, 6, kernel_size=(5, 5), stride=(1, 1))\n",
            "    (1): ReLU()\n",
            "    (2): MaxPool2d(kernel_size=2, stride=2, padding=0, dilation=1, ceil_mode=False)\n",
            "    (3): Dropout(p=0.2, inplace=False)\n",
            "    (4): Conv2d(6, 16, kernel_size=(5, 5), stride=(1, 1))\n",
            "    (5): ReLU()\n",
            "    (6): MaxPool2d(kernel_size=2, stride=2, padding=0, dilation=1, ceil_mode=False)\n",
            "  )\n",
            "  (linear_block): Sequential(\n",
            "    (0): Linear(in_features=400, out_features=120, bias=True)\n",
            "    (1): ReLU()\n",
            "    (2): Linear(in_features=120, out_features=84, bias=True)\n",
            "    (3): ReLU()\n",
            "    (4): Linear(in_features=84, out_features=10, bias=True)\n",
            "  )\n",
            ")\n"
          ]
        }
      ],
      "id": "tjR1wPfFToxZ"
    },
    {
      "cell_type": "markdown",
      "source": [
        "## **Training**"
      ],
      "metadata": {
        "id": "YDkzYl5sToxZ"
      },
      "id": "YDkzYl5sToxZ"
    },
    {
      "cell_type": "code",
      "source": [
        "class Trainer:\n",
        "    def __init__(self, model, dataloaders, device):\n",
        "        self.model = model\n",
        "        self.train_loader, self.valid_loader = dataloaders\n",
        "        self.loss_fn = nn.CrossEntropyLoss()\n",
        "        self.optim = Config.optim(self.model.parameters(), lr = Config.lr)\n",
        "        self.device = device\n",
        "\n",
        "    def accuracy(self, output, y):\n",
        "        pred_labels = torch.argmax(output, dim=1)\n",
        "        return (pred_labels == y).sum().item() / len(y)\n",
        "\n",
        "    def train_one_epoch(self):\n",
        "\n",
        "        running_loss = 0\n",
        "        running_acc = 0\n",
        "\n",
        "        for x,y in self.train_loader:\n",
        "\n",
        "            self.optim.zero_grad()\n",
        "\n",
        "            x = x.to(self.device, dtype=torch.float)\n",
        "            y = y.to(self.device, dtype=torch.long)\n",
        "\n",
        "            output = self.model(x)\n",
        "\n",
        "            loss = self.loss_fn(output, y)\n",
        "\n",
        "            loss.backward()\n",
        "            self.optim.step()\n",
        "\n",
        "            running_loss += loss.item()\n",
        "            running_acc += self.accuracy(output,y)\n",
        "\n",
        "            del x,y,output\n",
        "\n",
        "        train_loss = running_loss/len(self.train_loader)\n",
        "        train_acc = running_acc/len(self.train_loader)\n",
        "\n",
        "        return train_loss, train_acc\n",
        "\n",
        "    @torch.no_grad()\n",
        "    def valid_one_epoch(self):\n",
        "\n",
        "        running_loss = 0\n",
        "        running_acc = 0\n",
        "\n",
        "        for x,y in self.valid_loader:\n",
        "\n",
        "            x = x.to(self.device, dtype=torch.float)\n",
        "            y = y.to(self.device, dtype=torch.long)\n",
        "\n",
        "            output = self.model(x)\n",
        "\n",
        "            loss = self.loss_fn(output, y)\n",
        "\n",
        "            running_loss += loss.item()\n",
        "            running_acc += self.accuracy(output,y)\n",
        "\n",
        "            del x,y,output\n",
        "\n",
        "        valid_loss = running_loss/len(self.valid_loader)\n",
        "        valid_acc = running_acc/len(self.valid_loader)\n",
        "\n",
        "        return valid_loss, valid_acc\n",
        "\n",
        "\n",
        "    def fit(self):\n",
        "        print(f\"Model is using {'cuda' if next(self.model.parameters()).is_cuda else 'cpu'}\")\n",
        "        train_losses,train_accs = [], []\n",
        "        valid_losses, valid_accs = [], []\n",
        "\n",
        "        for epoch in range(Config.epochs):\n",
        "\n",
        "            self.model.train()\n",
        "\n",
        "            train_loss, train_acc = self.train_one_epoch()\n",
        "            train_losses.append(train_loss)\n",
        "            train_accs.append(train_acc)\n",
        "\n",
        "            self.model.eval()\n",
        "\n",
        "            valid_loss, valid_acc = self.valid_one_epoch()\n",
        "            valid_losses.append(valid_loss)\n",
        "            valid_accs.append(valid_acc)\n",
        "\n",
        "            print(f\"------EPOCH {epoch+1}/{Config.epochs}------\")\n",
        "            print(f\"Training: LOSS: {train_loss:.4f} | ACCURACY: {train_acc:.4f}\")\n",
        "            print(f\"Validation: LOSS: {valid_loss:.4f} | ACCURACY: {valid_acc:.4f}\\n\\n\")\n",
        "\n",
        "            # CLEANUP\n",
        "            gc.collect()\n",
        "            torch.cuda.empty_cache()\n",
        "\n",
        "\n",
        "        return (train_losses, train_accs), (valid_losses, valid_accs)"
      ],
      "metadata": {
        "id": "8JRmXuWvToxZ",
        "execution": {
          "iopub.status.busy": "2024-04-11T19:49:03.373991Z",
          "iopub.execute_input": "2024-04-11T19:49:03.374373Z",
          "iopub.status.idle": "2024-04-11T19:49:03.396381Z",
          "shell.execute_reply.started": "2024-04-11T19:49:03.374338Z",
          "shell.execute_reply": "2024-04-11T19:49:03.395127Z"
        },
        "trusted": true
      },
      "execution_count": 11,
      "outputs": [],
      "id": "8JRmXuWvToxZ"
    },
    {
      "cell_type": "code",
      "source": [
        "trainer = Trainer(model, (train_dataloader, valid_dataloader), device)\n",
        "\n",
        "(train_losses, train_accs), (valid_losses, valid_accs) = trainer.fit()"
      ],
      "metadata": {
        "colab": {
          "base_uri": "https://localhost:8080/"
        },
        "id": "s6D3wKV3ToxZ",
        "outputId": "b43eb6d1-d64b-4d0f-cf19-df82467fc6b8",
        "execution": {
          "iopub.status.busy": "2024-04-11T19:49:03.398019Z",
          "iopub.execute_input": "2024-04-11T19:49:03.398418Z",
          "iopub.status.idle": "2024-04-11T19:52:19.235221Z",
          "shell.execute_reply.started": "2024-04-11T19:49:03.398382Z",
          "shell.execute_reply": "2024-04-11T19:52:19.234110Z"
        },
        "trusted": true
      },
      "execution_count": 12,
      "outputs": [
        {
          "output_type": "stream",
          "name": "stdout",
          "text": [
            "Model is using cuda\n",
            "------EPOCH 1/15------\n",
            "Training: LOSS: 1.6674 | ACCURACY: 0.3870\n",
            "Validation: LOSS: 1.4508 | ACCURACY: 0.4675\n",
            "\n",
            "\n",
            "------EPOCH 2/15------\n",
            "Training: LOSS: 1.3973 | ACCURACY: 0.4932\n",
            "Validation: LOSS: 1.3691 | ACCURACY: 0.5047\n",
            "\n",
            "\n",
            "------EPOCH 3/15------\n",
            "Training: LOSS: 1.2859 | ACCURACY: 0.5384\n",
            "Validation: LOSS: 1.2704 | ACCURACY: 0.5474\n",
            "\n",
            "\n",
            "------EPOCH 4/15------\n",
            "Training: LOSS: 1.2088 | ACCURACY: 0.5687\n",
            "Validation: LOSS: 1.1795 | ACCURACY: 0.5820\n",
            "\n",
            "\n",
            "------EPOCH 5/15------\n",
            "Training: LOSS: 1.1477 | ACCURACY: 0.5948\n",
            "Validation: LOSS: 1.1735 | ACCURACY: 0.5892\n",
            "\n",
            "\n",
            "------EPOCH 6/15------\n",
            "Training: LOSS: 1.1036 | ACCURACY: 0.6096\n",
            "Validation: LOSS: 1.0923 | ACCURACY: 0.6124\n",
            "\n",
            "\n",
            "------EPOCH 7/15------\n",
            "Training: LOSS: 1.0649 | ACCURACY: 0.6231\n",
            "Validation: LOSS: 1.0740 | ACCURACY: 0.6203\n",
            "\n",
            "\n",
            "------EPOCH 8/15------\n",
            "Training: LOSS: 1.0271 | ACCURACY: 0.6358\n",
            "Validation: LOSS: 1.0325 | ACCURACY: 0.6366\n",
            "\n",
            "\n",
            "------EPOCH 9/15------\n",
            "Training: LOSS: 1.0031 | ACCURACY: 0.6451\n",
            "Validation: LOSS: 1.0159 | ACCURACY: 0.6441\n",
            "\n",
            "\n",
            "------EPOCH 10/15------\n",
            "Training: LOSS: 0.9749 | ACCURACY: 0.6570\n",
            "Validation: LOSS: 1.0136 | ACCURACY: 0.6493\n",
            "\n",
            "\n",
            "------EPOCH 11/15------\n",
            "Training: LOSS: 0.9568 | ACCURACY: 0.6638\n",
            "Validation: LOSS: 1.0307 | ACCURACY: 0.6387\n",
            "\n",
            "\n",
            "------EPOCH 12/15------\n",
            "Training: LOSS: 0.9360 | ACCURACY: 0.6689\n",
            "Validation: LOSS: 0.9753 | ACCURACY: 0.6641\n",
            "\n",
            "\n",
            "------EPOCH 13/15------\n",
            "Training: LOSS: 0.9152 | ACCURACY: 0.6782\n",
            "Validation: LOSS: 1.0208 | ACCURACY: 0.6434\n",
            "\n",
            "\n",
            "------EPOCH 14/15------\n",
            "Training: LOSS: 0.8973 | ACCURACY: 0.6823\n",
            "Validation: LOSS: 0.9944 | ACCURACY: 0.6582\n",
            "\n",
            "\n",
            "------EPOCH 15/15------\n",
            "Training: LOSS: 0.8845 | ACCURACY: 0.6866\n",
            "Validation: LOSS: 0.9864 | ACCURACY: 0.6636\n",
            "\n",
            "\n"
          ]
        }
      ],
      "id": "s6D3wKV3ToxZ"
    },
    {
      "cell_type": "markdown",
      "source": [
        "## **Plot Losses**"
      ],
      "metadata": {
        "id": "XnCRWj6jToxa"
      },
      "id": "XnCRWj6jToxa"
    },
    {
      "cell_type": "code",
      "source": [
        "plt.plot(train_losses, color='red', label='Training Loss')\n",
        "plt.plot(valid_losses, color='orange', label='Validation Loss')\n",
        "plt.xlabel('Epoch')\n",
        "plt.ylabel('Loss')\n",
        "plt.legend()\n",
        "plt.show()"
      ],
      "metadata": {
        "colab": {
          "base_uri": "https://localhost:8080/",
          "height": 452
        },
        "id": "fFgc2HU9Toxa",
        "outputId": "fd106464-be13-4f87-9fd8-43b304c4e738",
        "execution": {
          "iopub.status.busy": "2024-04-11T19:52:19.236789Z",
          "iopub.execute_input": "2024-04-11T19:52:19.237182Z",
          "iopub.status.idle": "2024-04-11T19:52:19.571426Z",
          "shell.execute_reply.started": "2024-04-11T19:52:19.237149Z",
          "shell.execute_reply": "2024-04-11T19:52:19.570379Z"
        },
        "trusted": true
      },
      "execution_count": 13,
      "outputs": [
        {
          "output_type": "display_data",
          "data": {
            "text/plain": [
              "<Figure size 640x480 with 1 Axes>"
            ],
            "image/png": "[encoded data removed]"
          },
          "metadata": {}
        }
      ],
      "id": "fFgc2HU9Toxa"
    },
    {
      "cell_type": "markdown",
      "source": [
        "## **Plot Accuracy**"
      ],
      "metadata": {
        "id": "Yt4WJTKXToxa"
      },
      "id": "Yt4WJTKXToxa"
    },
    {
      "cell_type": "code",
      "source": [
        "plt.plot(train_accs, color='yellow', label='Training Accuracy')\n",
        "plt.plot(valid_accs, color='green', label='Validation Accuracy')\n",
        "plt.xlabel('Epoch')\n",
        "plt.ylabel('Accuracy')\n",
        "plt.legend()\n",
        "plt.show()"
      ],
      "metadata": {
        "colab": {
          "base_uri": "https://localhost:8080/",
          "height": 453
        },
        "id": "IaNNkHgTToxa",
        "outputId": "45b5eec0-b1e8-4e1d-aaa4-6b2c6598bdc4",
        "execution": {
          "iopub.status.busy": "2024-04-11T19:52:19.572928Z",
          "iopub.execute_input": "2024-04-11T19:52:19.573316Z",
          "iopub.status.idle": "2024-04-11T19:52:19.882811Z",
          "shell.execute_reply.started": "2024-04-11T19:52:19.573281Z",
          "shell.execute_reply": "2024-04-11T19:52:19.881533Z"
        },
        "trusted": true
      },
      "execution_count": 14,
      "outputs": [
        {
          "output_type": "display_data",
          "data": {
            "text/plain": [
              "<Figure size 640x480 with 1 Axes>"
            ],
            "image/png": "[encoded data removed]"
          },
          "metadata": {}
        }
      ],
      "id": "IaNNkHgTToxa"
    },
    {
      "cell_type": "markdown",
      "source": [
        "# **Save Model**"
      ],
      "metadata": {
        "id": "96UJlLnZToxa"
      },
      "id": "96UJlLnZToxa"
    },
    {
      "cell_type": "code",
      "source": [
        "## save model for later use\n",
        "torch.save(model.state_dict(), './lenet_cifar10.pt')"
      ],
      "metadata": {
        "id": "1V4HGChXToxa",
        "execution": {
          "iopub.status.busy": "2024-04-11T19:52:19.884220Z",
          "iopub.execute_input": "2024-04-11T19:52:19.884538Z",
          "iopub.status.idle": "2024-04-11T19:52:19.895063Z",
          "shell.execute_reply.started": "2024-04-11T19:52:19.884511Z",
          "shell.execute_reply": "2024-04-11T19:52:19.893940Z"
        },
        "trusted": true
      },
      "execution_count": 15,
      "outputs": [],
      "id": "1V4HGChXToxa"
    },
    {
      "cell_type": "code",
      "source": [
        "!ls -al *.pt"
      ],
      "metadata": {
        "colab": {
          "base_uri": "https://localhost:8080/"
        },
        "id": "fmP8IJFWToxb",
        "outputId": "f260e1d4-74b9-404b-8dce-b8a8734e6de5",
        "execution": {
          "iopub.status.busy": "2024-04-11T19:52:19.896424Z",
          "iopub.execute_input": "2024-04-11T19:52:19.896754Z",
          "iopub.status.idle": "2024-04-11T19:52:21.049800Z",
          "shell.execute_reply.started": "2024-04-11T19:52:19.896726Z",
          "shell.execute_reply": "2024-04-11T19:52:21.048333Z"
        },
        "trusted": true
      },
      "execution_count": 16,
      "outputs": [
        {
          "output_type": "stream",
          "name": "stdout",
          "text": [
            "-rw-r--r-- 1 root root 252108 Apr 12 06:52 lenet_cifar10.pt\n"
          ]
        }
      ],
      "id": "fmP8IJFWToxb"
    },
    {
      "cell_type": "markdown",
      "source": [
        "# **Load Model**"
      ],
      "metadata": {
        "id": "i-6LKR-LToxb"
      },
      "id": "i-6LKR-LToxb"
    },
    {
      "cell_type": "code",
      "source": [
        "model.load_state_dict(torch.load('./lenet_cifar10.pt'))\n",
        "# Print model's state_dict\n",
        "print(\"Model's state_dict:\")\n",
        "for param_tensor in model.state_dict():\n",
        "    print(param_tensor, \"\\t\", model.state_dict()[param_tensor].size())"
      ],
      "metadata": {
        "colab": {
          "base_uri": "https://localhost:8080/"
        },
        "id": "ilNvueM8Toxc",
        "outputId": "149df848-7bd2-4625-cb99-2847171d98b3",
        "execution": {
          "iopub.status.busy": "2024-04-11T19:52:21.052004Z",
          "iopub.execute_input": "2024-04-11T19:52:21.052466Z",
          "iopub.status.idle": "2024-04-11T19:52:21.068349Z",
          "shell.execute_reply.started": "2024-04-11T19:52:21.052423Z",
          "shell.execute_reply": "2024-04-11T19:52:21.066904Z"
        },
        "trusted": true
      },
      "execution_count": 17,
      "outputs": [
        {
          "output_type": "stream",
          "name": "stdout",
          "text": [
            "Model's state_dict:\n",
            "conv_block.0.weight \t torch.Size([6, 3, 5, 5])\n",
            "conv_block.0.bias \t torch.Size([6])\n",
            "conv_block.4.weight \t torch.Size([16, 6, 5, 5])\n",
            "conv_block.4.bias \t torch.Size([16])\n",
            "linear_block.0.weight \t torch.Size([120, 400])\n",
            "linear_block.0.bias \t torch.Size([120])\n",
            "linear_block.2.weight \t torch.Size([84, 120])\n",
            "linear_block.2.bias \t torch.Size([84])\n",
            "linear_block.4.weight \t torch.Size([10, 84])\n",
            "linear_block.4.bias \t torch.Size([10])\n"
          ]
        }
      ],
      "id": "ilNvueM8Toxc"
    },
    {
      "cell_type": "markdown",
      "source": [
        "# **Data Transformation on STL-10**"
      ],
      "metadata": {
        "id": "n6cSunjSToxc"
      },
      "id": "n6cSunjSToxc"
    },
    {
      "cell_type": "code",
      "source": [
        "transform = transforms.Compose(\n",
        "    [transforms.ToTensor(),\n",
        "     transforms.Resize((32, 32)),\n",
        "     transforms.Normalize((0.5, 0.5, 0.5), (0.5, 0.5, 0.5))])"
      ],
      "metadata": {
        "id": "zfLM9_RGToxc",
        "execution": {
          "iopub.status.busy": "2024-04-11T19:52:21.069684Z",
          "iopub.execute_input": "2024-04-11T19:52:21.070026Z",
          "iopub.status.idle": "2024-04-11T19:52:21.075446Z",
          "shell.execute_reply.started": "2024-04-11T19:52:21.069982Z",
          "shell.execute_reply": "2024-04-11T19:52:21.074403Z"
        },
        "trusted": true
      },
      "execution_count": 18,
      "outputs": [],
      "id": "zfLM9_RGToxc"
    },
    {
      "cell_type": "markdown",
      "source": [
        "# **Transfer Learning on STL-10**"
      ],
      "metadata": {
        "id": "xdj-FFTMToxc"
      },
      "id": "xdj-FFTMToxc"
    },
    {
      "cell_type": "code",
      "source": [
        "train_ds_stl = datasets.STL10(root='./data', split='train', download=True, transform=transform)\n",
        "test_ds_stl = datasets.STL10(root='./data', split='test', download=True, transform=transform)\n"
      ],
      "metadata": {
        "colab": {
          "base_uri": "https://localhost:8080/"
        },
        "id": "3ltNMeHrToxc",
        "outputId": "45b1a3e3-6bf3-4296-e2f0-d4f55051be69",
        "execution": {
          "iopub.status.busy": "2024-04-11T19:52:21.076835Z",
          "iopub.execute_input": "2024-04-11T19:52:21.077221Z",
          "iopub.status.idle": "2024-04-11T20:01:31.761987Z",
          "shell.execute_reply.started": "2024-04-11T19:52:21.077188Z",
          "shell.execute_reply": "2024-04-11T20:01:31.760944Z"
        },
        "trusted": true
      },
      "execution_count": 19,
      "outputs": [
        {
          "output_type": "stream",
          "name": "stdout",
          "text": [
            "Downloading http://ai.stanford.edu/~acoates/stl10/stl10_binary.tar.gz to ./data/stl10_binary.tar.gz\n"
          ]
        },
        {
          "output_type": "stream",
          "name": "stderr",
          "text": [
            "100%|██████████| 2640397119/2640397119 [01:12<00:00, 36401221.73it/s]\n"
          ]
        },
        {
          "output_type": "stream",
          "name": "stdout",
          "text": [
            "Extracting ./data/stl10_binary.tar.gz to ./data\n",
            "Files already downloaded and verified\n"
          ]
        }
      ],
      "id": "3ltNMeHrToxc"
    },
    {
      "cell_type": "markdown",
      "source": [
        "# **STL-10 Image Visualization**"
      ],
      "metadata": {
        "id": "srLDubwEToxc"
      },
      "id": "srLDubwEToxc"
    },
    {
      "cell_type": "code",
      "source": [
        "first_10_samples = sorted([train_ds_stl[i] for i in range(10)], key=lambda x:x[1])\n",
        "\n",
        "figure = plt.figure(figsize=(15,10))\n",
        "for i in range(1,11):\n",
        "    img = first_10_samples[i-1][0].permute(1,2,0)\n",
        "    label = train_ds_stl.classes[first_10_samples[i-1][1]]\n",
        "    figure.add_subplot(5,10,i)\n",
        "    plt.title(label)\n",
        "    plt.axis('off')\n",
        "    plt.imshow(img)"
      ],
      "metadata": {
        "colab": {
          "base_uri": "https://localhost:8080/",
          "height": 331
        },
        "id": "BlymHnZFToxd",
        "outputId": "0874be2d-fe75-4475-bff0-22da22a8cb28",
        "execution": {
          "iopub.status.busy": "2024-04-11T20:01:31.763453Z",
          "iopub.execute_input": "2024-04-11T20:01:31.763883Z",
          "iopub.status.idle": "2024-04-11T20:01:32.518451Z",
          "shell.execute_reply.started": "2024-04-11T20:01:31.763846Z",
          "shell.execute_reply": "2024-04-11T20:01:32.517515Z"
        },
        "trusted": true
      },
      "execution_count": 20,
      "outputs": [
        {
          "output_type": "stream",
          "name": "stderr",
          "text": [
            "WARNING:matplotlib.image:Clipping input data to the valid range for imshow with RGB data ([0..1] for floats or [0..255] for integers).\n",
            "WARNING:matplotlib.image:Clipping input data to the valid range for imshow with RGB data ([0..1] for floats or [0..255] for integers).\n",
            "WARNING:matplotlib.image:Clipping input data to the valid range for imshow with RGB data ([0..1] for floats or [0..255] for integers).\n",
            "WARNING:matplotlib.image:Clipping input data to the valid range for imshow with RGB data ([0..1] for floats or [0..255] for integers).\n",
            "WARNING:matplotlib.image:Clipping input data to the valid range for imshow with RGB data ([0..1] for floats or [0..255] for integers).\n",
            "WARNING:matplotlib.image:Clipping input data to the valid range for imshow with RGB data ([0..1] for floats or [0..255] for integers).\n",
            "WARNING:matplotlib.image:Clipping input data to the valid range for imshow with RGB data ([0..1] for floats or [0..255] for integers).\n",
            "WARNING:matplotlib.image:Clipping input data to the valid range for imshow with RGB data ([0..1] for floats or [0..255] for integers).\n",
            "WARNING:matplotlib.image:Clipping input data to the valid range for imshow with RGB data ([0..1] for floats or [0..255] for integers).\n",
            "WARNING:matplotlib.image:Clipping input data to the valid range for imshow with RGB data ([0..1] for floats or [0..255] for integers).\n"
          ]
        },
        {
          "output_type": "display_data",
          "data": {
            "text/plain": [
              "<Figure size 1500x1000 with 10 Axes>"
            ],
            "image/png": "[encoded data removed]"
          },
          "metadata": {}
        }
      ],
      "id": "BlymHnZFToxd"
    },
    {
      "cell_type": "markdown",
      "source": [
        "# **STL-10 DataLoader**"
      ],
      "metadata": {
        "id": "BoXGLhyNToxd"
      },
      "id": "BoXGLhyNToxd"
    },
    {
      "cell_type": "code",
      "source": [
        "train_dataloader_stl = torch.utils.data.DataLoader(train_ds_stl, batch_size=64, shuffle=True, num_workers=2)\n",
        "valid_dataloader_stl = torch.utils.data.DataLoader(test_ds_stl, batch_size=64, shuffle=True, num_workers=2)"
      ],
      "metadata": {
        "id": "OCO7mznXToxd",
        "execution": {
          "iopub.status.busy": "2024-04-11T20:01:32.519680Z",
          "iopub.execute_input": "2024-04-11T20:01:32.519966Z",
          "iopub.status.idle": "2024-04-11T20:01:32.526191Z",
          "shell.execute_reply.started": "2024-04-11T20:01:32.519941Z",
          "shell.execute_reply": "2024-04-11T20:01:32.525142Z"
        },
        "trusted": true
      },
      "execution_count": 21,
      "outputs": [],
      "id": "OCO7mznXToxd"
    },
    {
      "cell_type": "markdown",
      "source": [
        "# **Create object for STL-10**"
      ],
      "metadata": {
        "id": "rAABcjP3Toxd"
      },
      "id": "rAABcjP3Toxd"
    },
    {
      "cell_type": "code",
      "source": [
        "model_stl = LeNet().to(device)\n",
        "print(model)"
      ],
      "metadata": {
        "colab": {
          "base_uri": "https://localhost:8080/"
        },
        "id": "4U6BXlcpToxd",
        "outputId": "2ec53113-9500-4f8e-a28c-a3311530f86b",
        "execution": {
          "iopub.status.busy": "2024-04-11T20:01:32.527689Z",
          "iopub.execute_input": "2024-04-11T20:01:32.528056Z",
          "iopub.status.idle": "2024-04-11T20:01:32.541939Z",
          "shell.execute_reply.started": "2024-04-11T20:01:32.528022Z",
          "shell.execute_reply": "2024-04-11T20:01:32.540932Z"
        },
        "trusted": true
      },
      "execution_count": 22,
      "outputs": [
        {
          "output_type": "stream",
          "name": "stdout",
          "text": [
            "LeNet(\n",
            "  (conv_block): Sequential(\n",
            "    (0): Conv2d(3, 6, kernel_size=(5, 5), stride=(1, 1))\n",
            "    (1): ReLU()\n",
            "    (2): MaxPool2d(kernel_size=2, stride=2, padding=0, dilation=1, ceil_mode=False)\n",
            "    (3): Dropout(p=0.2, inplace=False)\n",
            "    (4): Conv2d(6, 16, kernel_size=(5, 5), stride=(1, 1))\n",
            "    (5): ReLU()\n",
            "    (6): MaxPool2d(kernel_size=2, stride=2, padding=0, dilation=1, ceil_mode=False)\n",
            "  )\n",
            "  (linear_block): Sequential(\n",
            "    (0): Linear(in_features=400, out_features=120, bias=True)\n",
            "    (1): ReLU()\n",
            "    (2): Linear(in_features=120, out_features=84, bias=True)\n",
            "    (3): ReLU()\n",
            "    (4): Linear(in_features=84, out_features=10, bias=True)\n",
            "  )\n",
            ")\n"
          ]
        }
      ],
      "id": "4U6BXlcpToxd"
    },
    {
      "cell_type": "markdown",
      "source": [
        "# **Load CIFAR-10 for STL-10**"
      ],
      "metadata": {
        "id": "qpez3gViToxd"
      },
      "id": "qpez3gViToxd"
    },
    {
      "cell_type": "code",
      "source": [
        "# Load the weights from the trained CIFAR-10 model to the STL-10 model\n",
        "model_stl.load_state_dict(model.state_dict())"
      ],
      "metadata": {
        "colab": {
          "base_uri": "https://localhost:8080/"
        },
        "id": "pBpBrzfhToxd",
        "outputId": "edd58b1e-6278-41b7-dd0b-fb1a0e96d73c",
        "execution": {
          "iopub.status.busy": "2024-04-11T20:01:32.543314Z",
          "iopub.execute_input": "2024-04-11T20:01:32.543619Z",
          "iopub.status.idle": "2024-04-11T20:01:32.551620Z",
          "shell.execute_reply.started": "2024-04-11T20:01:32.543572Z",
          "shell.execute_reply": "2024-04-11T20:01:32.550582Z"
        },
        "trusted": true
      },
      "execution_count": 23,
      "outputs": [
        {
          "output_type": "execute_result",
          "data": {
            "text/plain": [
              "<All keys matched successfully>"
            ]
          },
          "metadata": {},
          "execution_count": 23
        }
      ],
      "id": "pBpBrzfhToxd"
    },
    {
      "cell_type": "markdown",
      "source": [
        "# **Train the STL-10 model**"
      ],
      "metadata": {
        "id": "1Juv8oFRToxe"
      },
      "id": "1Juv8oFRToxe"
    },
    {
      "cell_type": "code",
      "source": [
        "class Trainer_STL:\n",
        "    def __init__(self, model, dataloaders, device):\n",
        "\n",
        "        self.config = {\n",
        "            'lr':1e-4,\n",
        "            'epochs': 150\n",
        "        }\n",
        "\n",
        "        self.model = model\n",
        "        self.train_loader, self.valid_loader = dataloaders\n",
        "        self.loss_fn = nn.CrossEntropyLoss()\n",
        "        #self.optim = torch.optim.Adam(self.model.parameters(), lr = self.config['lr'])\n",
        "        self.optim = torch.optim.SGD(self.model.parameters(), lr = self.config['lr'],momentum=0.9)\n",
        "        self.device = device\n",
        "\n",
        "    def accuracy(self, output, y):\n",
        "        pred_labels = torch.argmax(output, dim=1)\n",
        "        return (pred_labels == y).sum().item() / len(y)\n",
        "\n",
        "    def train_one_epoch(self):\n",
        "\n",
        "        running_loss = 0\n",
        "        running_acc = 0\n",
        "\n",
        "        for x,y in self.train_loader:\n",
        "\n",
        "            self.optim.zero_grad()\n",
        "\n",
        "            x = x.to(self.device, dtype=torch.float)\n",
        "            y = y.to(self.device, dtype=torch.long)\n",
        "\n",
        "            output = self.model(x)\n",
        "\n",
        "            loss = self.loss_fn(output, y)\n",
        "\n",
        "            loss.backward()\n",
        "            self.optim.step()\n",
        "\n",
        "            running_loss += loss.item()\n",
        "            running_acc += self.accuracy(output,y)\n",
        "\n",
        "            del x,y,output\n",
        "\n",
        "        train_loss = running_loss/len(self.train_loader)\n",
        "        train_acc = running_acc/len(self.train_loader)\n",
        "\n",
        "        return train_loss, train_acc\n",
        "\n",
        "    @torch.no_grad()\n",
        "    def valid_one_epoch(self):\n",
        "\n",
        "        running_loss = 0\n",
        "        running_acc = 0\n",
        "\n",
        "        for x,y in self.valid_loader:\n",
        "\n",
        "            x = x.to(self.device, dtype=torch.float)\n",
        "            y = y.to(self.device, dtype=torch.long)\n",
        "\n",
        "            output = self.model(x)\n",
        "\n",
        "            loss = self.loss_fn(output, y)\n",
        "\n",
        "            running_loss += loss.item()\n",
        "            running_acc += self.accuracy(output,y)\n",
        "\n",
        "            del x,y,output\n",
        "\n",
        "        valid_loss = running_loss/len(self.valid_loader)\n",
        "        valid_acc = running_acc/len(self.valid_loader)\n",
        "\n",
        "        return valid_loss, valid_acc\n",
        "\n",
        "\n",
        "    def fit(self):\n",
        "\n",
        "        train_losses,train_accs = [], []\n",
        "        valid_losses, valid_accs = [], []\n",
        "\n",
        "        for epoch in range(self.config['epochs']):\n",
        "\n",
        "            print(f\"Model is using {'cuda' if next(self.model.parameters()).is_cuda else 'cpu'}\")\n",
        "\n",
        "            self.model.train()\n",
        "\n",
        "            train_loss, train_acc = self.train_one_epoch()\n",
        "            train_losses.append(train_loss)\n",
        "            train_accs.append(train_acc)\n",
        "\n",
        "            self.model.eval()\n",
        "\n",
        "            valid_loss, valid_acc = self.valid_one_epoch()\n",
        "            valid_losses.append(valid_loss)\n",
        "            valid_accs.append(valid_acc)\n",
        "\n",
        "            print(f\"------EPOCH {epoch+1}/{self.config['epochs']}------\")\n",
        "            print(f\"Training: LOSS: {train_loss:.4f} | ACCURACY: {train_acc:.4f}\")\n",
        "            print(f\"Validation: LOSS: {valid_loss:.4f} | ACCURACY: {valid_acc:.4f}\\n\\n\")\n",
        "\n",
        "            # CLEANUP\n",
        "            gc.collect()\n",
        "            torch.cuda.empty_cache()\n",
        "\n",
        "\n",
        "        return (train_losses, train_accs), (valid_losses, valid_accs)"
      ],
      "metadata": {
        "id": "ANTN-qY6Toxe",
        "execution": {
          "iopub.status.busy": "2024-04-11T20:01:32.552976Z",
          "iopub.execute_input": "2024-04-11T20:01:32.553291Z",
          "iopub.status.idle": "2024-04-11T20:01:32.573836Z",
          "shell.execute_reply.started": "2024-04-11T20:01:32.553264Z",
          "shell.execute_reply": "2024-04-11T20:01:32.572696Z"
        },
        "trusted": true
      },
      "execution_count": 24,
      "outputs": [],
      "id": "ANTN-qY6Toxe"
    },
    {
      "cell_type": "code",
      "source": [
        "trainer_stl = Trainer_STL(model_stl, (train_dataloader_stl, valid_dataloader_stl), device)\n",
        "(train_losses_stl, train_accs_stl), (valid_losses_stl, valid_accs_stl) = trainer_stl.fit()"
      ],
      "metadata": {
        "id": "ILKelG7TToxe",
        "colab": {
          "base_uri": "https://localhost:8080/"
        },
        "outputId": "707b77ef-c230-4cf7-efd9-3613d9ed0e42",
        "execution": {
          "iopub.status.busy": "2024-04-11T20:01:32.575031Z",
          "iopub.execute_input": "2024-04-11T20:01:32.575344Z",
          "iopub.status.idle": "2024-04-11T20:11:23.441648Z",
          "shell.execute_reply.started": "2024-04-11T20:01:32.575318Z",
          "shell.execute_reply": "2024-04-11T20:11:23.440524Z"
        },
        "trusted": true
      },
      "execution_count": 25,
      "outputs": [
        {
          "output_type": "stream",
          "name": "stdout",
          "text": [
            "Model is using cuda\n",
            "------EPOCH 1/150------\n",
            "Training: LOSS: 2.9186 | ACCURACY: 0.2971\n",
            "Validation: LOSS: 2.6061 | ACCURACY: 0.3016\n",
            "\n",
            "\n",
            "Model is using cuda\n",
            "------EPOCH 2/150------\n",
            "Training: LOSS: 2.5023 | ACCURACY: 0.2985\n",
            "Validation: LOSS: 2.3454 | ACCURACY: 0.3159\n",
            "\n",
            "\n",
            "Model is using cuda\n",
            "------EPOCH 3/150------\n",
            "Training: LOSS: 2.2768 | ACCURACY: 0.3123\n",
            "Validation: LOSS: 2.1896 | ACCURACY: 0.3118\n",
            "\n",
            "\n",
            "Model is using cuda\n",
            "------EPOCH 4/150------\n",
            "Training: LOSS: 2.1497 | ACCURACY: 0.3151\n",
            "Validation: LOSS: 2.0627 | ACCURACY: 0.3187\n",
            "\n",
            "\n",
            "Model is using cuda\n",
            "------EPOCH 5/150------\n",
            "Training: LOSS: 2.0313 | ACCURACY: 0.3224\n",
            "Validation: LOSS: 1.9700 | ACCURACY: 0.3344\n",
            "\n",
            "\n",
            "Model is using cuda\n",
            "------EPOCH 6/150------\n",
            "Training: LOSS: 1.9588 | ACCURACY: 0.3271\n",
            "Validation: LOSS: 1.9021 | ACCURACY: 0.3399\n",
            "\n",
            "\n",
            "Model is using cuda\n",
            "------EPOCH 7/150------\n",
            "Training: LOSS: 1.8881 | ACCURACY: 0.3394\n",
            "Validation: LOSS: 1.8464 | ACCURACY: 0.3523\n",
            "\n",
            "\n",
            "Model is using cuda\n",
            "------EPOCH 8/150------\n",
            "Training: LOSS: 1.8483 | ACCURACY: 0.3505\n",
            "Validation: LOSS: 1.8065 | ACCURACY: 0.3579\n",
            "\n",
            "\n",
            "Model is using cuda\n",
            "------EPOCH 9/150------\n",
            "Training: LOSS: 1.7993 | ACCURACY: 0.3584\n",
            "Validation: LOSS: 1.7672 | ACCURACY: 0.3693\n",
            "\n",
            "\n",
            "Model is using cuda\n",
            "------EPOCH 10/150------\n",
            "Training: LOSS: 1.7584 | ACCURACY: 0.3758\n",
            "Validation: LOSS: 1.7366 | ACCURACY: 0.3800\n",
            "\n",
            "\n",
            "Model is using cuda\n",
            "------EPOCH 11/150------\n",
            "Training: LOSS: 1.7361 | ACCURACY: 0.3829\n",
            "Validation: LOSS: 1.7090 | ACCURACY: 0.3844\n",
            "\n",
            "\n",
            "Model is using cuda\n",
            "------EPOCH 12/150------\n",
            "Training: LOSS: 1.7160 | ACCURACY: 0.3841\n",
            "Validation: LOSS: 1.6859 | ACCURACY: 0.3934\n",
            "\n",
            "\n",
            "Model is using cuda\n",
            "------EPOCH 13/150------\n",
            "Training: LOSS: 1.6972 | ACCURACY: 0.3936\n",
            "Validation: LOSS: 1.6617 | ACCURACY: 0.3979\n",
            "\n",
            "\n",
            "Model is using cuda\n",
            "------EPOCH 14/150------\n",
            "Training: LOSS: 1.6572 | ACCURACY: 0.4025\n",
            "Validation: LOSS: 1.6439 | ACCURACY: 0.4005\n",
            "\n",
            "\n",
            "Model is using cuda\n",
            "------EPOCH 15/150------\n",
            "Training: LOSS: 1.6468 | ACCURACY: 0.4059\n",
            "Validation: LOSS: 1.6264 | ACCURACY: 0.4064\n",
            "\n",
            "\n",
            "Model is using cuda\n",
            "------EPOCH 16/150------\n",
            "Training: LOSS: 1.6318 | ACCURACY: 0.4082\n",
            "Validation: LOSS: 1.6103 | ACCURACY: 0.4119\n",
            "\n",
            "\n",
            "Model is using cuda\n",
            "------EPOCH 17/150------\n",
            "Training: LOSS: 1.6168 | ACCURACY: 0.4146\n",
            "Validation: LOSS: 1.5984 | ACCURACY: 0.4179\n",
            "\n",
            "\n",
            "Model is using cuda\n",
            "------EPOCH 18/150------\n",
            "Training: LOSS: 1.5938 | ACCURACY: 0.4146\n",
            "Validation: LOSS: 1.5796 | ACCURACY: 0.4198\n",
            "\n",
            "\n",
            "Model is using cuda\n",
            "------EPOCH 19/150------\n",
            "Training: LOSS: 1.5936 | ACCURACY: 0.4193\n",
            "Validation: LOSS: 1.5689 | ACCURACY: 0.4240\n",
            "\n",
            "\n",
            "Model is using cuda\n",
            "------EPOCH 20/150------\n",
            "Training: LOSS: 1.5805 | ACCURACY: 0.4387\n",
            "Validation: LOSS: 1.5552 | ACCURACY: 0.4281\n",
            "\n",
            "\n",
            "Model is using cuda\n",
            "------EPOCH 21/150------\n",
            "Training: LOSS: 1.5564 | ACCURACY: 0.4339\n",
            "Validation: LOSS: 1.5450 | ACCURACY: 0.4304\n",
            "\n",
            "\n",
            "Model is using cuda\n",
            "------EPOCH 22/150------\n",
            "Training: LOSS: 1.5591 | ACCURACY: 0.4335\n",
            "Validation: LOSS: 1.5347 | ACCURACY: 0.4364\n",
            "\n",
            "\n",
            "Model is using cuda\n",
            "------EPOCH 23/150------\n",
            "Training: LOSS: 1.5351 | ACCURACY: 0.4409\n",
            "Validation: LOSS: 1.5231 | ACCURACY: 0.4401\n",
            "\n",
            "\n",
            "Model is using cuda\n",
            "------EPOCH 24/150------\n",
            "Training: LOSS: 1.5288 | ACCURACY: 0.4434\n",
            "Validation: LOSS: 1.5140 | ACCURACY: 0.4425\n",
            "\n",
            "\n",
            "Model is using cuda\n",
            "------EPOCH 25/150------\n",
            "Training: LOSS: 1.5195 | ACCURACY: 0.4385\n",
            "Validation: LOSS: 1.5049 | ACCURACY: 0.4439\n",
            "\n",
            "\n",
            "Model is using cuda\n",
            "------EPOCH 26/150------\n",
            "Training: LOSS: 1.5206 | ACCURACY: 0.4422\n",
            "Validation: LOSS: 1.4965 | ACCURACY: 0.4476\n",
            "\n",
            "\n",
            "Model is using cuda\n",
            "------EPOCH 27/150------\n",
            "Training: LOSS: 1.4953 | ACCURACY: 0.4498\n",
            "Validation: LOSS: 1.4885 | ACCURACY: 0.4510\n",
            "\n",
            "\n",
            "Model is using cuda\n",
            "------EPOCH 28/150------\n",
            "Training: LOSS: 1.4863 | ACCURACY: 0.4545\n",
            "Validation: LOSS: 1.4823 | ACCURACY: 0.4516\n",
            "\n",
            "\n",
            "Model is using cuda\n",
            "------EPOCH 29/150------\n",
            "Training: LOSS: 1.4888 | ACCURACY: 0.4577\n",
            "Validation: LOSS: 1.4750 | ACCURACY: 0.4551\n",
            "\n",
            "\n",
            "Model is using cuda\n",
            "------EPOCH 30/150------\n",
            "Training: LOSS: 1.4758 | ACCURACY: 0.4561\n",
            "Validation: LOSS: 1.4655 | ACCURACY: 0.4594\n",
            "\n",
            "\n",
            "Model is using cuda\n",
            "------EPOCH 31/150------\n",
            "Training: LOSS: 1.4672 | ACCURACY: 0.4600\n",
            "Validation: LOSS: 1.4591 | ACCURACY: 0.4609\n",
            "\n",
            "\n",
            "Model is using cuda\n",
            "------EPOCH 32/150------\n",
            "Training: LOSS: 1.4607 | ACCURACY: 0.4602\n",
            "Validation: LOSS: 1.4547 | ACCURACY: 0.4625\n",
            "\n",
            "\n",
            "Model is using cuda\n",
            "------EPOCH 33/150------\n",
            "Training: LOSS: 1.4537 | ACCURACY: 0.4622\n",
            "Validation: LOSS: 1.4464 | ACCURACY: 0.4667\n",
            "\n",
            "\n",
            "Model is using cuda\n",
            "------EPOCH 34/150------\n",
            "Training: LOSS: 1.4552 | ACCURACY: 0.4709\n",
            "Validation: LOSS: 1.4427 | ACCURACY: 0.4665\n",
            "\n",
            "\n",
            "Model is using cuda\n",
            "------EPOCH 35/150------\n",
            "Training: LOSS: 1.4411 | ACCURACY: 0.4662\n",
            "Validation: LOSS: 1.4354 | ACCURACY: 0.4680\n",
            "\n",
            "\n",
            "Model is using cuda\n",
            "------EPOCH 36/150------\n",
            "Training: LOSS: 1.4294 | ACCURACY: 0.4780\n",
            "Validation: LOSS: 1.4288 | ACCURACY: 0.4718\n",
            "\n",
            "\n",
            "Model is using cuda\n",
            "------EPOCH 37/150------\n",
            "Training: LOSS: 1.4330 | ACCURACY: 0.4733\n",
            "Validation: LOSS: 1.4261 | ACCURACY: 0.4700\n",
            "\n",
            "\n",
            "Model is using cuda\n",
            "------EPOCH 38/150------\n",
            "Training: LOSS: 1.4166 | ACCURACY: 0.4771\n",
            "Validation: LOSS: 1.4204 | ACCURACY: 0.4743\n",
            "\n",
            "\n",
            "Model is using cuda\n",
            "------EPOCH 39/150------\n",
            "Training: LOSS: 1.4361 | ACCURACY: 0.4662\n",
            "Validation: LOSS: 1.4161 | ACCURACY: 0.4749\n",
            "\n",
            "\n",
            "Model is using cuda\n",
            "------EPOCH 40/150------\n",
            "Training: LOSS: 1.4072 | ACCURACY: 0.4854\n",
            "Validation: LOSS: 1.4088 | ACCURACY: 0.4771\n",
            "\n",
            "\n",
            "Model is using cuda\n",
            "------EPOCH 41/150------\n",
            "Training: LOSS: 1.4128 | ACCURACY: 0.4749\n",
            "Validation: LOSS: 1.4066 | ACCURACY: 0.4761\n",
            "\n",
            "\n",
            "Model is using cuda\n",
            "------EPOCH 42/150------\n",
            "Training: LOSS: 1.4064 | ACCURACY: 0.4869\n",
            "Validation: LOSS: 1.4015 | ACCURACY: 0.4795\n",
            "\n",
            "\n",
            "Model is using cuda\n",
            "------EPOCH 43/150------\n",
            "Training: LOSS: 1.4044 | ACCURACY: 0.4808\n",
            "Validation: LOSS: 1.3961 | ACCURACY: 0.4821\n",
            "\n",
            "\n",
            "Model is using cuda\n",
            "------EPOCH 44/150------\n",
            "Training: LOSS: 1.4094 | ACCURACY: 0.4794\n",
            "Validation: LOSS: 1.3927 | ACCURACY: 0.4831\n",
            "\n",
            "\n",
            "Model is using cuda\n",
            "------EPOCH 45/150------\n",
            "Training: LOSS: 1.3946 | ACCURACY: 0.4822\n",
            "Validation: LOSS: 1.3887 | ACCURACY: 0.4838\n",
            "\n",
            "\n",
            "Model is using cuda\n",
            "------EPOCH 46/150------\n",
            "Training: LOSS: 1.3835 | ACCURACY: 0.4869\n",
            "Validation: LOSS: 1.3915 | ACCURACY: 0.4810\n",
            "\n",
            "\n",
            "Model is using cuda\n",
            "------EPOCH 47/150------\n",
            "Training: LOSS: 1.3803 | ACCURACY: 0.4899\n",
            "Validation: LOSS: 1.3822 | ACCURACY: 0.4866\n",
            "\n",
            "\n",
            "Model is using cuda\n",
            "------EPOCH 48/150------\n",
            "Training: LOSS: 1.3824 | ACCURACY: 0.4862\n",
            "Validation: LOSS: 1.3800 | ACCURACY: 0.4863\n",
            "\n",
            "\n",
            "Model is using cuda\n",
            "------EPOCH 49/150------\n",
            "Training: LOSS: 1.3752 | ACCURACY: 0.4883\n",
            "Validation: LOSS: 1.3721 | ACCURACY: 0.4919\n",
            "\n",
            "\n",
            "Model is using cuda\n",
            "------EPOCH 50/150------\n",
            "Training: LOSS: 1.3765 | ACCURACY: 0.4986\n",
            "Validation: LOSS: 1.3722 | ACCURACY: 0.4890\n",
            "\n",
            "\n",
            "Model is using cuda\n",
            "------EPOCH 51/150------\n",
            "Training: LOSS: 1.3612 | ACCURACY: 0.4919\n",
            "Validation: LOSS: 1.3758 | ACCURACY: 0.4871\n",
            "\n",
            "\n",
            "Model is using cuda\n",
            "------EPOCH 52/150------\n",
            "Training: LOSS: 1.3570 | ACCURACY: 0.4992\n",
            "Validation: LOSS: 1.3647 | ACCURACY: 0.4904\n",
            "\n",
            "\n",
            "Model is using cuda\n",
            "------EPOCH 53/150------\n",
            "Training: LOSS: 1.3585 | ACCURACY: 0.4947\n",
            "Validation: LOSS: 1.3625 | ACCURACY: 0.4929\n",
            "\n",
            "\n",
            "Model is using cuda\n",
            "------EPOCH 54/150------\n",
            "Training: LOSS: 1.3562 | ACCURACY: 0.5006\n",
            "Validation: LOSS: 1.3565 | ACCURACY: 0.4943\n",
            "\n",
            "\n",
            "Model is using cuda\n",
            "------EPOCH 55/150------\n",
            "Training: LOSS: 1.3515 | ACCURACY: 0.4996\n",
            "Validation: LOSS: 1.3624 | ACCURACY: 0.4915\n",
            "\n",
            "\n",
            "Model is using cuda\n",
            "------EPOCH 56/150------\n",
            "Training: LOSS: 1.3442 | ACCURACY: 0.5079\n",
            "Validation: LOSS: 1.3506 | ACCURACY: 0.4968\n",
            "\n",
            "\n",
            "Model is using cuda\n",
            "------EPOCH 57/150------\n",
            "Training: LOSS: 1.3391 | ACCURACY: 0.5063\n",
            "Validation: LOSS: 1.3510 | ACCURACY: 0.4981\n",
            "\n",
            "\n",
            "Model is using cuda\n",
            "------EPOCH 58/150------\n",
            "Training: LOSS: 1.3332 | ACCURACY: 0.5038\n",
            "Validation: LOSS: 1.3454 | ACCURACY: 0.4984\n",
            "\n",
            "\n",
            "Model is using cuda\n",
            "------EPOCH 59/150------\n",
            "Training: LOSS: 1.3394 | ACCURACY: 0.5028\n",
            "Validation: LOSS: 1.3530 | ACCURACY: 0.4949\n",
            "\n",
            "\n",
            "Model is using cuda\n",
            "------EPOCH 60/150------\n",
            "Training: LOSS: 1.3343 | ACCURACY: 0.5063\n",
            "Validation: LOSS: 1.3387 | ACCURACY: 0.5031\n",
            "\n",
            "\n",
            "Model is using cuda\n",
            "------EPOCH 61/150------\n",
            "Training: LOSS: 1.3279 | ACCURACY: 0.5127\n",
            "Validation: LOSS: 1.3399 | ACCURACY: 0.5020\n",
            "\n",
            "\n",
            "Model is using cuda\n",
            "------EPOCH 62/150------\n",
            "Training: LOSS: 1.3303 | ACCURACY: 0.5083\n",
            "Validation: LOSS: 1.3327 | ACCURACY: 0.5032\n",
            "\n",
            "\n",
            "Model is using cuda\n",
            "------EPOCH 63/150------\n",
            "Training: LOSS: 1.3144 | ACCURACY: 0.5154\n",
            "Validation: LOSS: 1.3330 | ACCURACY: 0.5055\n",
            "\n",
            "\n",
            "Model is using cuda\n",
            "------EPOCH 64/150------\n",
            "Training: LOSS: 1.3154 | ACCURACY: 0.5134\n",
            "Validation: LOSS: 1.3347 | ACCURACY: 0.5054\n",
            "\n",
            "\n",
            "Model is using cuda\n",
            "------EPOCH 65/150------\n",
            "Training: LOSS: 1.3093 | ACCURACY: 0.5097\n",
            "Validation: LOSS: 1.3291 | ACCURACY: 0.5085\n",
            "\n",
            "\n",
            "Model is using cuda\n",
            "------EPOCH 66/150------\n",
            "Training: LOSS: 1.3167 | ACCURACY: 0.5214\n",
            "Validation: LOSS: 1.3259 | ACCURACY: 0.5068\n",
            "\n",
            "\n",
            "Model is using cuda\n",
            "------EPOCH 67/150------\n",
            "Training: LOSS: 1.3139 | ACCURACY: 0.5170\n",
            "Validation: LOSS: 1.3217 | ACCURACY: 0.5092\n",
            "\n",
            "\n",
            "Model is using cuda\n",
            "------EPOCH 68/150------\n",
            "Training: LOSS: 1.3112 | ACCURACY: 0.5200\n",
            "Validation: LOSS: 1.3252 | ACCURACY: 0.5088\n",
            "\n",
            "\n",
            "Model is using cuda\n",
            "------EPOCH 69/150------\n",
            "Training: LOSS: 1.3041 | ACCURACY: 0.5146\n",
            "Validation: LOSS: 1.3257 | ACCURACY: 0.5091\n",
            "\n",
            "\n",
            "Model is using cuda\n",
            "------EPOCH 70/150------\n",
            "Training: LOSS: 1.3060 | ACCURACY: 0.5172\n",
            "Validation: LOSS: 1.3171 | ACCURACY: 0.5106\n",
            "\n",
            "\n",
            "Model is using cuda\n",
            "------EPOCH 71/150------\n",
            "Training: LOSS: 1.3063 | ACCURACY: 0.5241\n",
            "Validation: LOSS: 1.3175 | ACCURACY: 0.5104\n",
            "\n",
            "\n",
            "Model is using cuda\n",
            "------EPOCH 72/150------\n",
            "Training: LOSS: 1.3024 | ACCURACY: 0.5194\n",
            "Validation: LOSS: 1.3119 | ACCURACY: 0.5170\n",
            "\n",
            "\n",
            "Model is using cuda\n",
            "------EPOCH 73/150------\n",
            "Training: LOSS: 1.2893 | ACCURACY: 0.5271\n",
            "Validation: LOSS: 1.3056 | ACCURACY: 0.5185\n",
            "\n",
            "\n",
            "Model is using cuda\n",
            "------EPOCH 74/150------\n",
            "Training: LOSS: 1.2861 | ACCURACY: 0.5312\n",
            "Validation: LOSS: 1.3112 | ACCURACY: 0.5162\n",
            "\n",
            "\n",
            "Model is using cuda\n",
            "------EPOCH 75/150------\n",
            "Training: LOSS: 1.2919 | ACCURACY: 0.5267\n",
            "Validation: LOSS: 1.3076 | ACCURACY: 0.5151\n",
            "\n",
            "\n",
            "Model is using cuda\n",
            "------EPOCH 76/150------\n",
            "Training: LOSS: 1.2927 | ACCURACY: 0.5214\n",
            "Validation: LOSS: 1.3093 | ACCURACY: 0.5131\n",
            "\n",
            "\n",
            "Model is using cuda\n",
            "------EPOCH 77/150------\n",
            "Training: LOSS: 1.2915 | ACCURACY: 0.5190\n",
            "Validation: LOSS: 1.3072 | ACCURACY: 0.5128\n",
            "\n",
            "\n",
            "Model is using cuda\n",
            "------EPOCH 78/150------\n",
            "Training: LOSS: 1.2922 | ACCURACY: 0.5251\n",
            "Validation: LOSS: 1.3062 | ACCURACY: 0.5172\n",
            "\n",
            "\n",
            "Model is using cuda\n",
            "------EPOCH 79/150------\n",
            "Training: LOSS: 1.2737 | ACCURACY: 0.5263\n",
            "Validation: LOSS: 1.2989 | ACCURACY: 0.5190\n",
            "\n",
            "\n",
            "Model is using cuda\n",
            "------EPOCH 80/150------\n",
            "Training: LOSS: 1.2833 | ACCURACY: 0.5233\n",
            "Validation: LOSS: 1.3052 | ACCURACY: 0.5135\n",
            "\n",
            "\n",
            "Model is using cuda\n",
            "------EPOCH 81/150------\n",
            "Training: LOSS: 1.2751 | ACCURACY: 0.5344\n",
            "Validation: LOSS: 1.3016 | ACCURACY: 0.5184\n",
            "\n",
            "\n",
            "Model is using cuda\n",
            "------EPOCH 82/150------\n",
            "Training: LOSS: 1.2776 | ACCURACY: 0.5340\n",
            "Validation: LOSS: 1.2953 | ACCURACY: 0.5200\n",
            "\n",
            "\n",
            "Model is using cuda\n",
            "------EPOCH 83/150------\n",
            "Training: LOSS: 1.2759 | ACCURACY: 0.5332\n",
            "Validation: LOSS: 1.2905 | ACCURACY: 0.5225\n",
            "\n",
            "\n",
            "Model is using cuda\n",
            "------EPOCH 84/150------\n",
            "Training: LOSS: 1.2604 | ACCURACY: 0.5392\n",
            "Validation: LOSS: 1.2921 | ACCURACY: 0.5222\n",
            "\n",
            "\n",
            "Model is using cuda\n",
            "------EPOCH 85/150------\n",
            "Training: LOSS: 1.2594 | ACCURACY: 0.5411\n",
            "Validation: LOSS: 1.2863 | ACCURACY: 0.5228\n",
            "\n",
            "\n",
            "Model is using cuda\n",
            "------EPOCH 86/150------\n",
            "Training: LOSS: 1.2661 | ACCURACY: 0.5297\n",
            "Validation: LOSS: 1.2941 | ACCURACY: 0.5210\n",
            "\n",
            "\n",
            "Model is using cuda\n",
            "------EPOCH 87/150------\n",
            "Training: LOSS: 1.2692 | ACCURACY: 0.5295\n",
            "Validation: LOSS: 1.2887 | ACCURACY: 0.5226\n",
            "\n",
            "\n",
            "Model is using cuda\n",
            "------EPOCH 88/150------\n",
            "Training: LOSS: 1.2813 | ACCURACY: 0.5247\n",
            "Validation: LOSS: 1.2867 | ACCURACY: 0.5242\n",
            "\n",
            "\n",
            "Model is using cuda\n",
            "------EPOCH 89/150------\n",
            "Training: LOSS: 1.2570 | ACCURACY: 0.5368\n",
            "Validation: LOSS: 1.2827 | ACCURACY: 0.5246\n",
            "\n",
            "\n",
            "Model is using cuda\n",
            "------EPOCH 90/150------\n",
            "Training: LOSS: 1.2563 | ACCURACY: 0.5392\n",
            "Validation: LOSS: 1.2795 | ACCURACY: 0.5260\n",
            "\n",
            "\n",
            "Model is using cuda\n",
            "------EPOCH 91/150------\n",
            "Training: LOSS: 1.2616 | ACCURACY: 0.5311\n",
            "Validation: LOSS: 1.2766 | ACCURACY: 0.5275\n",
            "\n",
            "\n",
            "Model is using cuda\n",
            "------EPOCH 92/150------\n",
            "Training: LOSS: 1.2510 | ACCURACY: 0.5429\n",
            "Validation: LOSS: 1.2832 | ACCURACY: 0.5248\n",
            "\n",
            "\n",
            "Model is using cuda\n",
            "------EPOCH 93/150------\n",
            "Training: LOSS: 1.2524 | ACCURACY: 0.5388\n",
            "Validation: LOSS: 1.2814 | ACCURACY: 0.5249\n",
            "\n",
            "\n",
            "Model is using cuda\n",
            "------EPOCH 94/150------\n",
            "Training: LOSS: 1.2551 | ACCURACY: 0.5461\n",
            "Validation: LOSS: 1.2809 | ACCURACY: 0.5241\n",
            "\n",
            "\n",
            "Model is using cuda\n",
            "------EPOCH 95/150------\n",
            "Training: LOSS: 1.2493 | ACCURACY: 0.5421\n",
            "Validation: LOSS: 1.2763 | ACCURACY: 0.5269\n",
            "\n",
            "\n",
            "Model is using cuda\n",
            "------EPOCH 96/150------\n",
            "Training: LOSS: 1.2392 | ACCURACY: 0.5445\n",
            "Validation: LOSS: 1.2705 | ACCURACY: 0.5302\n",
            "\n",
            "\n",
            "Model is using cuda\n",
            "------EPOCH 97/150------\n",
            "Training: LOSS: 1.2474 | ACCURACY: 0.5435\n",
            "Validation: LOSS: 1.2673 | ACCURACY: 0.5319\n",
            "\n",
            "\n",
            "Model is using cuda\n",
            "------EPOCH 98/150------\n",
            "Training: LOSS: 1.2386 | ACCURACY: 0.5439\n",
            "Validation: LOSS: 1.2697 | ACCURACY: 0.5305\n",
            "\n",
            "\n",
            "Model is using cuda\n",
            "------EPOCH 99/150------\n",
            "Training: LOSS: 1.2396 | ACCURACY: 0.5445\n",
            "Validation: LOSS: 1.2717 | ACCURACY: 0.5286\n",
            "\n",
            "\n",
            "Model is using cuda\n",
            "------EPOCH 100/150------\n",
            "Training: LOSS: 1.2341 | ACCURACY: 0.5500\n",
            "Validation: LOSS: 1.2731 | ACCURACY: 0.5276\n",
            "\n",
            "\n",
            "Model is using cuda\n",
            "------EPOCH 101/150------\n",
            "Training: LOSS: 1.2361 | ACCURACY: 0.5453\n",
            "Validation: LOSS: 1.2663 | ACCURACY: 0.5317\n",
            "\n",
            "\n",
            "Model is using cuda\n",
            "------EPOCH 102/150------\n",
            "Training: LOSS: 1.2334 | ACCURACY: 0.5532\n",
            "Validation: LOSS: 1.2675 | ACCURACY: 0.5326\n",
            "\n",
            "\n",
            "Model is using cuda\n",
            "------EPOCH 103/150------\n",
            "Training: LOSS: 1.2316 | ACCURACY: 0.5487\n",
            "Validation: LOSS: 1.2639 | ACCURACY: 0.5323\n",
            "\n",
            "\n",
            "Model is using cuda\n",
            "------EPOCH 104/150------\n",
            "Training: LOSS: 1.2426 | ACCURACY: 0.5469\n",
            "Validation: LOSS: 1.2651 | ACCURACY: 0.5305\n",
            "\n",
            "\n",
            "Model is using cuda\n",
            "------EPOCH 105/150------\n",
            "Training: LOSS: 1.2336 | ACCURACY: 0.5455\n",
            "Validation: LOSS: 1.2553 | ACCURACY: 0.5351\n",
            "\n",
            "\n",
            "Model is using cuda\n",
            "------EPOCH 106/150------\n",
            "Training: LOSS: 1.2353 | ACCURACY: 0.5463\n",
            "Validation: LOSS: 1.2639 | ACCURACY: 0.5320\n",
            "\n",
            "\n",
            "Model is using cuda\n",
            "------EPOCH 107/150------\n",
            "Training: LOSS: 1.2257 | ACCURACY: 0.5546\n",
            "Validation: LOSS: 1.2630 | ACCURACY: 0.5325\n",
            "\n",
            "\n",
            "Model is using cuda\n",
            "------EPOCH 108/150------\n",
            "Training: LOSS: 1.2238 | ACCURACY: 0.5439\n",
            "Validation: LOSS: 1.2534 | ACCURACY: 0.5361\n",
            "\n",
            "\n",
            "Model is using cuda\n",
            "------EPOCH 109/150------\n",
            "Training: LOSS: 1.2318 | ACCURACY: 0.5489\n",
            "Validation: LOSS: 1.2606 | ACCURACY: 0.5325\n",
            "\n",
            "\n",
            "Model is using cuda\n",
            "------EPOCH 110/150------\n",
            "Training: LOSS: 1.2228 | ACCURACY: 0.5518\n",
            "Validation: LOSS: 1.2530 | ACCURACY: 0.5384\n",
            "\n",
            "\n",
            "Model is using cuda\n",
            "------EPOCH 111/150------\n",
            "Training: LOSS: 1.2264 | ACCURACY: 0.5504\n",
            "Validation: LOSS: 1.2530 | ACCURACY: 0.5377\n",
            "\n",
            "\n",
            "Model is using cuda\n",
            "------EPOCH 112/150------\n",
            "Training: LOSS: 1.2275 | ACCURACY: 0.5465\n",
            "Validation: LOSS: 1.2508 | ACCURACY: 0.5354\n",
            "\n",
            "\n",
            "Model is using cuda\n",
            "------EPOCH 113/150------\n",
            "Training: LOSS: 1.2201 | ACCURACY: 0.5534\n",
            "Validation: LOSS: 1.2682 | ACCURACY: 0.5301\n",
            "\n",
            "\n",
            "Model is using cuda\n",
            "------EPOCH 114/150------\n",
            "Training: LOSS: 1.2219 | ACCURACY: 0.5489\n",
            "Validation: LOSS: 1.2470 | ACCURACY: 0.5384\n",
            "\n",
            "\n",
            "Model is using cuda\n",
            "------EPOCH 115/150------\n",
            "Training: LOSS: 1.2112 | ACCURACY: 0.5512\n",
            "Validation: LOSS: 1.2516 | ACCURACY: 0.5354\n",
            "\n",
            "\n",
            "Model is using cuda\n",
            "------EPOCH 116/150------\n",
            "Training: LOSS: 1.2096 | ACCURACY: 0.5548\n",
            "Validation: LOSS: 1.2556 | ACCURACY: 0.5356\n",
            "\n",
            "\n",
            "Model is using cuda\n",
            "------EPOCH 117/150------\n",
            "Training: LOSS: 1.2138 | ACCURACY: 0.5570\n",
            "Validation: LOSS: 1.2477 | ACCURACY: 0.5415\n",
            "\n",
            "\n",
            "Model is using cuda\n",
            "------EPOCH 118/150------\n",
            "Training: LOSS: 1.2104 | ACCURACY: 0.5581\n",
            "Validation: LOSS: 1.2497 | ACCURACY: 0.5394\n",
            "\n",
            "\n",
            "Model is using cuda\n",
            "------EPOCH 119/150------\n",
            "Training: LOSS: 1.2184 | ACCURACY: 0.5544\n",
            "Validation: LOSS: 1.2452 | ACCURACY: 0.5393\n",
            "\n",
            "\n",
            "Model is using cuda\n",
            "------EPOCH 120/150------\n",
            "Training: LOSS: 1.2106 | ACCURACY: 0.5603\n",
            "Validation: LOSS: 1.2468 | ACCURACY: 0.5424\n",
            "\n",
            "\n",
            "Model is using cuda\n",
            "------EPOCH 121/150------\n",
            "Training: LOSS: 1.2056 | ACCURACY: 0.5552\n",
            "Validation: LOSS: 1.2488 | ACCURACY: 0.5420\n",
            "\n",
            "\n",
            "Model is using cuda\n",
            "------EPOCH 122/150------\n",
            "Training: LOSS: 1.2042 | ACCURACY: 0.5633\n",
            "Validation: LOSS: 1.2446 | ACCURACY: 0.5414\n",
            "\n",
            "\n",
            "Model is using cuda\n",
            "------EPOCH 123/150------\n",
            "Training: LOSS: 1.1995 | ACCURACY: 0.5578\n",
            "Validation: LOSS: 1.2500 | ACCURACY: 0.5375\n",
            "\n",
            "\n",
            "Model is using cuda\n",
            "------EPOCH 124/150------\n",
            "Training: LOSS: 1.2005 | ACCURACY: 0.5520\n",
            "Validation: LOSS: 1.2419 | ACCURACY: 0.5406\n",
            "\n",
            "\n",
            "Model is using cuda\n",
            "------EPOCH 125/150------\n",
            "Training: LOSS: 1.1927 | ACCURACY: 0.5605\n",
            "Validation: LOSS: 1.2518 | ACCURACY: 0.5366\n",
            "\n",
            "\n",
            "Model is using cuda\n",
            "------EPOCH 126/150------\n",
            "Training: LOSS: 1.2050 | ACCURACY: 0.5580\n",
            "Validation: LOSS: 1.2417 | ACCURACY: 0.5407\n",
            "\n",
            "\n",
            "Model is using cuda\n",
            "------EPOCH 127/150------\n",
            "Training: LOSS: 1.1903 | ACCURACY: 0.5603\n",
            "Validation: LOSS: 1.2406 | ACCURACY: 0.5417\n",
            "\n",
            "\n",
            "Model is using cuda\n",
            "------EPOCH 128/150------\n",
            "Training: LOSS: 1.1980 | ACCURACY: 0.5623\n",
            "Validation: LOSS: 1.2387 | ACCURACY: 0.5431\n",
            "\n",
            "\n",
            "Model is using cuda\n",
            "------EPOCH 129/150------\n",
            "Training: LOSS: 1.1882 | ACCURACY: 0.5696\n",
            "Validation: LOSS: 1.2440 | ACCURACY: 0.5439\n",
            "\n",
            "\n",
            "Model is using cuda\n",
            "------EPOCH 130/150------\n",
            "Training: LOSS: 1.1985 | ACCURACY: 0.5552\n",
            "Validation: LOSS: 1.2381 | ACCURACY: 0.5473\n",
            "\n",
            "\n",
            "Model is using cuda\n",
            "------EPOCH 131/150------\n",
            "Training: LOSS: 1.1841 | ACCURACY: 0.5653\n",
            "Validation: LOSS: 1.2412 | ACCURACY: 0.5434\n",
            "\n",
            "\n",
            "Model is using cuda\n",
            "------EPOCH 132/150------\n",
            "Training: LOSS: 1.1833 | ACCURACY: 0.5558\n",
            "Validation: LOSS: 1.2333 | ACCURACY: 0.5455\n",
            "\n",
            "\n",
            "Model is using cuda\n",
            "------EPOCH 133/150------\n",
            "Training: LOSS: 1.1836 | ACCURACY: 0.5649\n",
            "Validation: LOSS: 1.2428 | ACCURACY: 0.5415\n",
            "\n",
            "\n",
            "Model is using cuda\n",
            "------EPOCH 134/150------\n",
            "Training: LOSS: 1.1897 | ACCURACY: 0.5637\n",
            "Validation: LOSS: 1.2346 | ACCURACY: 0.5466\n",
            "\n",
            "\n",
            "Model is using cuda\n",
            "------EPOCH 135/150------\n",
            "Training: LOSS: 1.1910 | ACCURACY: 0.5674\n",
            "Validation: LOSS: 1.2397 | ACCURACY: 0.5440\n",
            "\n",
            "\n",
            "Model is using cuda\n",
            "------EPOCH 136/150------\n",
            "Training: LOSS: 1.1980 | ACCURACY: 0.5637\n",
            "Validation: LOSS: 1.2381 | ACCURACY: 0.5471\n",
            "\n",
            "\n",
            "Model is using cuda\n",
            "------EPOCH 137/150------\n",
            "Training: LOSS: 1.1840 | ACCURACY: 0.5682\n",
            "Validation: LOSS: 1.2310 | ACCURACY: 0.5464\n",
            "\n",
            "\n",
            "Model is using cuda\n",
            "------EPOCH 138/150------\n",
            "Training: LOSS: 1.1821 | ACCURACY: 0.5609\n",
            "Validation: LOSS: 1.2419 | ACCURACY: 0.5424\n",
            "\n",
            "\n",
            "Model is using cuda\n",
            "------EPOCH 139/150------\n",
            "Training: LOSS: 1.1857 | ACCURACY: 0.5694\n",
            "Validation: LOSS: 1.2259 | ACCURACY: 0.5465\n",
            "\n",
            "\n",
            "Model is using cuda\n",
            "------EPOCH 140/150------\n",
            "Training: LOSS: 1.1852 | ACCURACY: 0.5674\n",
            "Validation: LOSS: 1.2402 | ACCURACY: 0.5403\n",
            "\n",
            "\n",
            "Model is using cuda\n",
            "------EPOCH 141/150------\n",
            "Training: LOSS: 1.1655 | ACCURACY: 0.5744\n",
            "Validation: LOSS: 1.2316 | ACCURACY: 0.5465\n",
            "\n",
            "\n",
            "Model is using cuda\n",
            "------EPOCH 142/150------\n",
            "Training: LOSS: 1.1879 | ACCURACY: 0.5641\n",
            "Validation: LOSS: 1.2299 | ACCURACY: 0.5491\n",
            "\n",
            "\n",
            "Model is using cuda\n",
            "------EPOCH 143/150------\n",
            "Training: LOSS: 1.1801 | ACCURACY: 0.5625\n",
            "Validation: LOSS: 1.2328 | ACCURACY: 0.5479\n",
            "\n",
            "\n",
            "Model is using cuda\n",
            "------EPOCH 144/150------\n",
            "Training: LOSS: 1.1885 | ACCURACY: 0.5657\n",
            "Validation: LOSS: 1.2354 | ACCURACY: 0.5466\n",
            "\n",
            "\n",
            "Model is using cuda\n",
            "------EPOCH 145/150------\n",
            "Training: LOSS: 1.1792 | ACCURACY: 0.5653\n",
            "Validation: LOSS: 1.2222 | ACCURACY: 0.5487\n",
            "\n",
            "\n",
            "Model is using cuda\n",
            "------EPOCH 146/150------\n",
            "Training: LOSS: 1.1817 | ACCURACY: 0.5667\n",
            "Validation: LOSS: 1.2222 | ACCURACY: 0.5527\n",
            "\n",
            "\n",
            "Model is using cuda\n",
            "------EPOCH 147/150------\n",
            "Training: LOSS: 1.1820 | ACCURACY: 0.5674\n",
            "Validation: LOSS: 1.2206 | ACCURACY: 0.5514\n",
            "\n",
            "\n",
            "Model is using cuda\n",
            "------EPOCH 148/150------\n",
            "Training: LOSS: 1.1777 | ACCURACY: 0.5631\n",
            "Validation: LOSS: 1.2236 | ACCURACY: 0.5476\n",
            "\n",
            "\n",
            "Model is using cuda\n",
            "------EPOCH 149/150------\n",
            "Training: LOSS: 1.1679 | ACCURACY: 0.5704\n",
            "Validation: LOSS: 1.2195 | ACCURACY: 0.5515\n",
            "\n",
            "\n",
            "Model is using cuda\n",
            "------EPOCH 150/150------\n",
            "Training: LOSS: 1.1659 | ACCURACY: 0.5736\n",
            "Validation: LOSS: 1.2279 | ACCURACY: 0.5465\n",
            "\n",
            "\n"
          ]
        }
      ],
      "id": "ILKelG7TToxe"
    },
    {
      "cell_type": "markdown",
      "source": [
        "# **Plot STL Losses**"
      ],
      "metadata": {
        "id": "owK3HMwLToxe"
      },
      "id": "owK3HMwLToxe"
    },
    {
      "cell_type": "code",
      "source": [
        "plt.plot(train_losses_stl, color='red', label='Training Loss')\n",
        "plt.plot(valid_losses_stl, color='orange', label='Validation Loss')\n",
        "plt.xlabel('Epoch')\n",
        "plt.ylabel('Loss')\n",
        "plt.legend()\n",
        "plt.show()"
      ],
      "metadata": {
        "id": "aZaobo-oToxe",
        "colab": {
          "base_uri": "https://localhost:8080/",
          "height": 454
        },
        "outputId": "5ca00147-a56f-4721-dd15-426d50dead33",
        "execution": {
          "iopub.status.busy": "2024-04-11T20:11:23.443081Z",
          "iopub.execute_input": "2024-04-11T20:11:23.443396Z",
          "iopub.status.idle": "2024-04-11T20:11:23.751742Z",
          "shell.execute_reply.started": "2024-04-11T20:11:23.443368Z",
          "shell.execute_reply": "2024-04-11T20:11:23.750746Z"
        },
        "trusted": true
      },
      "execution_count": 26,
      "outputs": [
        {
          "output_type": "display_data",
          "data": {
            "text/plain": [
              "<Figure size 640x480 with 1 Axes>"
            ],
            "image/png": "[encoded data removed]"
          },
          "metadata": {}
        }
      ],
      "id": "aZaobo-oToxe"
    },
    {
      "cell_type": "markdown",
      "source": [
        "# **Plot STL Accuracies**"
      ],
      "metadata": {
        "id": "EUEsdbJYToxf"
      },
      "id": "EUEsdbJYToxf"
    },
    {
      "cell_type": "code",
      "source": [
        "plt.plot(train_accs, color='yellow', label='Training Accuracy')\n",
        "plt.plot(valid_accs, color='green', label='Validation Accuracy')\n",
        "plt.xlabel('Epoch')\n",
        "plt.ylabel('Accuracy')\n",
        "plt.legend()\n",
        "plt.show()"
      ],
      "metadata": {
        "id": "oDL0lPtPToxf",
        "colab": {
          "base_uri": "https://localhost:8080/",
          "height": 453
        },
        "outputId": "712371f3-be8d-49a7-b9e2-bf5268456cdc",
        "execution": {
          "iopub.status.busy": "2024-04-11T20:11:23.753186Z",
          "iopub.execute_input": "2024-04-11T20:11:23.753571Z",
          "iopub.status.idle": "2024-04-11T20:11:23.991474Z",
          "shell.execute_reply.started": "2024-04-11T20:11:23.753534Z",
          "shell.execute_reply": "2024-04-11T20:11:23.990531Z"
        },
        "trusted": true
      },
      "execution_count": 27,
      "outputs": [
        {
          "output_type": "display_data",
          "data": {
            "text/plain": [
              "<Figure size 640x480 with 1 Axes>"
            ],
            "image/png": "[encoded data removed]"
          },
          "metadata": {}
        }
      ],
      "id": "oDL0lPtPToxf"
    },
    {
      "cell_type": "code",
      "source": [
        "## save model for later use\n",
        "torch.save(model_stl.state_dict(), './lenet_tranfer_stl10.pt')"
      ],
      "metadata": {
        "id": "01sCUc6aToxf",
        "execution": {
          "iopub.status.busy": "2024-04-11T20:11:23.998467Z",
          "iopub.execute_input": "2024-04-11T20:11:23.998767Z",
          "iopub.status.idle": "2024-04-11T20:11:24.005886Z",
          "shell.execute_reply.started": "2024-04-11T20:11:23.998743Z",
          "shell.execute_reply": "2024-04-11T20:11:24.004798Z"
        },
        "trusted": true
      },
      "execution_count": 28,
      "outputs": [],
      "id": "01sCUc6aToxf"
    },
    {
      "cell_type": "markdown",
      "source": [
        "# **Inception3 Transfer Learning on STL-10**"
      ],
      "metadata": {
        "id": "Mob_29_GToxf"
      },
      "id": "Mob_29_GToxf"
    },
    {
      "cell_type": "code",
      "source": [
        "# Define transformations for the train and test sets\n",
        "transform = transforms.Compose([\n",
        "    transforms.Resize((299, 299)),  # resizing to fit Inception v3 input dimensions\n",
        "    transforms.ToTensor(),\n",
        "    transforms.Normalize(mean=[0.485, 0.456, 0.406], std=[0.229, 0.224, 0.225]),\n",
        "])"
      ],
      "metadata": {
        "id": "juNrCM2vToxf",
        "execution": {
          "iopub.status.busy": "2024-04-11T20:11:24.007216Z",
          "iopub.execute_input": "2024-04-11T20:11:24.007584Z",
          "iopub.status.idle": "2024-04-11T20:11:24.019622Z",
          "shell.execute_reply.started": "2024-04-11T20:11:24.007552Z",
          "shell.execute_reply": "2024-04-11T20:11:24.018727Z"
        },
        "trusted": true
      },
      "execution_count": 29,
      "outputs": [],
      "id": "juNrCM2vToxf"
    },
    {
      "cell_type": "code",
      "source": [
        "batch_size = 64\n",
        "num_classes = 10\n",
        "max_epochs=20"
      ],
      "metadata": {
        "id": "JJVCP6Q2DVPJ"
      },
      "id": "JJVCP6Q2DVPJ",
      "execution_count": 30,
      "outputs": []
    },
    {
      "cell_type": "markdown",
      "source": [
        "# **STl-10 Data Loaders**"
      ],
      "metadata": {
        "id": "S2jkJJAbCslJ"
      },
      "id": "S2jkJJAbCslJ"
    },
    {
      "cell_type": "code",
      "source": [
        "# Loading STL-10 dataset\n",
        "train_dataset = datasets.STL10(root='data/', split='train', transform=transform, download=True)\n",
        "test_dataset = datasets.STL10(root='data/', split='test', transform=transform, download=True)\n",
        "\n",
        "# Data loaders\n",
        "train_loader = torch.utils.data.DataLoader(dataset=train_dataset, batch_size=32, shuffle=True)\n",
        "test_loader = torch.utils.data.DataLoader(dataset=test_dataset, batch_size=32, shuffle=False)"
      ],
      "metadata": {
        "colab": {
          "base_uri": "https://localhost:8080/"
        },
        "id": "elyKjrzeCvpt",
        "outputId": "a33c2477-2783-4e67-c581-e6fc65d76c8f"
      },
      "id": "elyKjrzeCvpt",
      "execution_count": 31,
      "outputs": [
        {
          "output_type": "stream",
          "name": "stdout",
          "text": [
            "Files already downloaded and verified\n",
            "Files already downloaded and verified\n"
          ]
        }
      ]
    },
    {
      "cell_type": "markdown",
      "source": [
        "# **Download the Pretrained Model**"
      ],
      "metadata": {
        "id": "M5PAoxnJC4mG"
      },
      "id": "M5PAoxnJC4mG"
    },
    {
      "cell_type": "code",
      "source": [
        "from torchvision import models\n",
        "\n",
        "model_inc = models.inception_v3(pretrained=True)\n",
        "\n",
        "# Freeze the parameters so we don't backprop through them (optional)\n",
        "for param in model_inc.parameters():\n",
        "    param.requires_grad = False\n",
        "\n",
        "# Replace the classifier\n",
        "num_ftrs = model_inc.fc.in_features\n",
        "model_inc.fc = nn.Linear(num_ftrs, 10)  # We have 10 classes in STL-10\n",
        "model_inc = model_inc.to(device)"
      ],
      "metadata": {
        "colab": {
          "base_uri": "https://localhost:8080/"
        },
        "id": "2ExqToHjC8qT",
        "outputId": "17213c43-5b75-4f7c-8120-35c861fe71f7"
      },
      "id": "2ExqToHjC8qT",
      "execution_count": 33,
      "outputs": [
        {
          "output_type": "stream",
          "name": "stderr",
          "text": [
            "Downloading: \"https://download.pytorch.org/models/inception_v3_google-0cc3c7bd.pth\" to /root/.cache/torch/hub/checkpoints/inception_v3_google-0cc3c7bd.pth\n",
            "100%|██████████| 104M/104M [00:01<00:00, 92.4MB/s] \n"
          ]
        }
      ]
    },
    {
      "cell_type": "markdown",
      "source": [
        "# **Train the Model**"
      ],
      "metadata": {
        "id": "1WXAmwUyG-48"
      },
      "id": "1WXAmwUyG-48"
    },
    {
      "cell_type": "code",
      "source": [
        "def train_and_validate_model(model, criterion, optimizer, train_loader, val_loader, num_epochs=10):\n",
        "    # Track performance metrics\n",
        "    history = {'train_loss': [], 'val_loss': [], 'train_acc': [], 'val_acc': []}\n",
        "\n",
        "    for epoch in range(num_epochs):\n",
        "        # Training Phase\n",
        "        model.train()  # Set model to training mode\n",
        "        train_loss, train_correct, train_total = 0.0, 0, 0\n",
        "\n",
        "        for images, labels in train_loader:\n",
        "            images, labels = images.to(device), labels.to(device)\n",
        "            optimizer.zero_grad()\n",
        "\n",
        "            # Forward pass\n",
        "            outputs, aux_outputs = model(images)\n",
        "            loss1 = criterion(outputs, labels)\n",
        "            loss2 = criterion(aux_outputs, labels)\n",
        "            loss = loss1 + 0.4 * loss2  # combining main and auxiliary losses\n",
        "\n",
        "            # Backward pass and optimize\n",
        "            loss.backward()\n",
        "            optimizer.step()\n",
        "\n",
        "            # Track loss and accuracy\n",
        "            train_loss += loss.item() * images.size(0)\n",
        "            _, predicted = torch.max(outputs, 1)\n",
        "            train_total += labels.size(0)\n",
        "            train_correct += (predicted == labels).sum().item()\n",
        "\n",
        "        # Validation Phase\n",
        "        model.eval()  # Set model to evaluate mode\n",
        "        val_loss, val_correct, val_total = 0.0, 0, 0\n",
        "\n",
        "        with torch.no_grad():\n",
        "            for images, labels in val_loader:\n",
        "                images, labels = images.to(device), labels.to(device)\n",
        "\n",
        "                # Only forward pass\n",
        "                outputs = model(images)\n",
        "\n",
        "                # In evaluation, we typically use only the main output for validation\n",
        "                if isinstance(outputs, tuple):\n",
        "                    outputs = outputs[0]\n",
        "\n",
        "                loss = criterion(outputs, labels)\n",
        "\n",
        "                # Track loss and accuracy\n",
        "                val_loss += loss.item() * images.size(0)\n",
        "                _, predicted = torch.max(outputs, 1)\n",
        "                val_total += labels.size(0)\n",
        "                val_correct += (predicted == labels).sum().item()\n",
        "\n",
        "        # Calculate average losses and accuracy\n",
        "        epoch_train_loss = train_loss / train_total\n",
        "        epoch_val_loss = val_loss / val_total\n",
        "        epoch_train_acc = 100 * train_correct / train_total\n",
        "        epoch_val_acc = 100 * val_correct / val_total\n",
        "\n",
        "        # Append epoch statistics to history\n",
        "        history['train_loss'].append(epoch_train_loss)\n",
        "        history['val_loss'].append(epoch_val_loss)\n",
        "        history['train_acc'].append(epoch_train_acc)\n",
        "        history['val_acc'].append(epoch_val_acc)\n",
        "\n",
        "        print(f'Epoch {epoch+1}/{num_epochs}:')\n",
        "        print(f'Train Loss: {epoch_train_loss:.4f}, Train Acc: {epoch_train_acc:.2f}%')\n",
        "        print(f'Val Loss: {epoch_val_loss:.4f}, Val Acc: {epoch_val_acc:.2f}%')\n",
        "\n",
        "    return model, history\n"
      ],
      "metadata": {
        "id": "MuR4QYceNzqN"
      },
      "id": "MuR4QYceNzqN",
      "execution_count": 40,
      "outputs": []
    },
    {
      "cell_type": "code",
      "source": [
        "criterion = nn.CrossEntropyLoss()\n",
        "optimizer = torch.optim.Adam(model_inc.fc.parameters(), lr=0.001)\n",
        "\n",
        "model, history = train_and_validate_model(model_inc, criterion, optimizer, train_loader, test_loader, num_epochs=5)"
      ],
      "metadata": {
        "colab": {
          "base_uri": "https://localhost:8080/"
        },
        "id": "gNdepvcON4xA",
        "outputId": "415ba169-83d1-435c-dcbd-d83b0cbe12c8"
      },
      "id": "gNdepvcON4xA",
      "execution_count": 41,
      "outputs": [
        {
          "output_type": "stream",
          "name": "stdout",
          "text": [
            "Epoch 1/10:\n",
            "Train Loss: 3.8975, Train Acc: 96.22%\n",
            "Val Loss: 0.1451, Val Acc: 95.79%\n",
            "Epoch 2/10:\n",
            "Train Loss: 3.8938, Train Acc: 96.24%\n",
            "Val Loss: 0.1360, Val Acc: 96.01%\n",
            "Epoch 3/10:\n",
            "Train Loss: 3.8776, Train Acc: 96.46%\n",
            "Val Loss: 0.1374, Val Acc: 95.91%\n",
            "Epoch 4/10:\n",
            "Train Loss: 3.8799, Train Acc: 96.26%\n",
            "Val Loss: 0.1356, Val Acc: 96.01%\n",
            "Epoch 5/10:\n",
            "Train Loss: 3.8786, Train Acc: 96.42%\n",
            "Val Loss: 0.1343, Val Acc: 96.03%\n",
            "Epoch 6/10:\n",
            "Train Loss: 3.8674, Train Acc: 96.72%\n",
            "Val Loss: 0.1261, Val Acc: 96.25%\n",
            "Epoch 7/10:\n",
            "Train Loss: 3.8654, Train Acc: 96.44%\n",
            "Val Loss: 0.1243, Val Acc: 96.26%\n",
            "Epoch 8/10:\n",
            "Train Loss: 3.8549, Train Acc: 97.08%\n",
            "Val Loss: 0.1212, Val Acc: 96.11%\n",
            "Epoch 9/10:\n",
            "Train Loss: 3.8637, Train Acc: 96.94%\n",
            "Val Loss: 0.1219, Val Acc: 96.35%\n",
            "Epoch 10/10:\n",
            "Train Loss: 3.8555, Train Acc: 96.78%\n",
            "Val Loss: 0.1233, Val Acc: 96.01%\n"
          ]
        }
      ]
    },
    {
      "cell_type": "markdown",
      "source": [
        "# **Plot Loss and Accuracy**"
      ],
      "metadata": {
        "id": "Nfujeu8oOx0X"
      },
      "id": "Nfujeu8oOx0X"
    },
    {
      "cell_type": "code",
      "source": [
        "def plot_history(history):\n",
        "    # Plotting the training and validation loss\n",
        "    plt.figure(figsize=(12, 5))\n",
        "\n",
        "    plt.subplot(1, 2, 1)  # 1 row, 2 columns, 1st subplot\n",
        "    plt.plot(history['train_loss'], label='Train Loss')\n",
        "    plt.plot(history['val_loss'], label='Validation Loss')\n",
        "    plt.title('Loss Curve')\n",
        "    plt.xlabel('Epochs')\n",
        "    plt.ylabel('Loss')\n",
        "    plt.legend()\n",
        "\n",
        "    plt.subplot(1, 2, 2)  # 1 row, 2 columns, 2nd subplot\n",
        "    plt.plot(history['train_acc'], label='Train Accuracy')\n",
        "    plt.plot(history['val_acc'], label='Validation Accuracy')\n",
        "    plt.title('Accuracy Curve')\n",
        "    plt.xlabel('Epochs')\n",
        "    plt.ylabel('Accuracy (%)')\n",
        "    plt.legend()\n",
        "\n",
        "    plt.show()"
      ],
      "metadata": {
        "id": "ONXMgQR2O1w6"
      },
      "id": "ONXMgQR2O1w6",
      "execution_count": 42,
      "outputs": []
    },
    {
      "cell_type": "code",
      "source": [
        "plot_history(history)"
      ],
      "metadata": {
        "colab": {
          "base_uri": "https://localhost:8080/",
          "height": 487
        },
        "id": "OwmA65t7RZxe",
        "outputId": "73a87b75-9659-490c-98c8-ca66ab28265a"
      },
      "id": "OwmA65t7RZxe",
      "execution_count": 43,
      "outputs": [
        {
          "output_type": "display_data",
          "data": {
            "text/plain": [
              "<Figure size 1200x500 with 2 Axes>"
            ],
            "image/png": "[encoded data removed]"
          },
          "metadata": {}
        }
      ]
    },
    {
      "cell_type": "code",
      "source": [],
      "metadata": {
        "id": "USnBpiigRbeh"
      },
      "id": "USnBpiigRbeh",
      "execution_count": null,
      "outputs": []
    }
  ]
}