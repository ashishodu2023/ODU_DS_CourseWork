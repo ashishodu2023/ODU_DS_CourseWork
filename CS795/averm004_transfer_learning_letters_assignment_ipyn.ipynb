{
  "metadata": {
    "kernelspec": {
      "display_name": "Python 3",
      "name": "python3"
    },
    "language_info": {
      "name": "python",
      "version": "3.10.13",
      "mimetype": "text/x-python",
      "codemirror_mode": {
        "name": "ipython",
        "version": 3
      },
      "pygments_lexer": "ipython3",
      "nbconvert_exporter": "python",
      "file_extension": ".py"
    },
    "kaggle": {
      "accelerator": "gpu",
      "dataSources": [],
      "dockerImageVersionId": 30648,
      "isInternetEnabled": true,
      "language": "python",
      "sourceType": "notebook",
      "isGpuEnabled": true
    },
    "colab": {
      "name": "averm004_transfer_learning_letters_assignment.ipyn",
      "provenance": [],
      "gpuType": "T4"
    },
    "accelerator": "GPU"
  },
  "nbformat_minor": 0,
  "nbformat": 4,
  "cells": [
    {
      "cell_type": "markdown",
      "source": [
        "### MNIST using MLP and Transfer Learning\n",
        "\n",
        "The task of this assignment is to train a MLP model on MNIST classification. The second task is to use transfer learning (or re-training) to train another model for a letter classification task.\n",
        "\n",
        "**important**: before turning in your final notebook for grading, make sure to make a \"clean\" run. Choose \"Restart & Run All\" from the \"Kernel\" pulldown menu. The indices of runs must be sequential and start with 1\n",
        "\n",
        "**important**: rename the notebook with your UID as the prefix, such as jdoe001_xxxxxxx.ipynb, and put your name below\n",
        "\n",
        "**Name**: Ashish Verma"
      ],
      "metadata": {
        "id": "bGToYX7Gt1Av"
      }
    },
    {
      "cell_type": "code",
      "source": [
        "#Importing necessary packages.\n",
        "import torch\n",
        "import torchvision\n",
        "import torch.nn as nn\n",
        "import torch.nn.functional as F\n",
        "import matplotlib.pyplot as plt\n",
        "import torchvision.transforms as transforms\n",
        "import torch.utils as utils\n",
        "from torch.utils.data import DataLoader,random_split\n",
        "from torchvision import datasets\n",
        "from torchvision.datasets import EMNIST, KMNIST\n",
        "\n",
        "import numpy as np"
      ],
      "metadata": {
        "_uuid": "8f2839f25d086af736a60e9eeb907d3b93b6e0e5",
        "_cell_guid": "b1076dfc-b9ad-4769-8c92-a6c4dae69d19",
        "execution": {
          "iopub.status.busy": "2024-02-28T02:37:13.028815Z",
          "iopub.execute_input": "2024-02-28T02:37:13.029159Z",
          "iopub.status.idle": "2024-02-28T02:37:19.186007Z",
          "shell.execute_reply.started": "2024-02-28T02:37:13.02913Z",
          "shell.execute_reply": "2024-02-28T02:37:19.18519Z"
        },
        "trusted": true,
        "id": "GCIOXJCBt1Aw"
      },
      "execution_count": 1,
      "outputs": []
    },
    {
      "cell_type": "code",
      "source": [
        "# Check if GPU is available\n",
        "device = torch.device(\"cuda\" if torch.cuda.is_available() else \"cpu\")\n",
        "print(device)"
      ],
      "metadata": {
        "execution": {
          "iopub.status.busy": "2024-02-28T02:37:19.187519Z",
          "iopub.execute_input": "2024-02-28T02:37:19.187901Z",
          "iopub.status.idle": "2024-02-28T02:37:19.212644Z",
          "shell.execute_reply.started": "2024-02-28T02:37:19.187875Z",
          "shell.execute_reply": "2024-02-28T02:37:19.211621Z"
        },
        "trusted": true,
        "colab": {
          "base_uri": "https://localhost:8080/"
        },
        "id": "6PLYL_cvt1Ax",
        "outputId": "ee9bae89-077b-4ce0-c755-4c79cb6552de"
      },
      "execution_count": 2,
      "outputs": [
        {
          "output_type": "stream",
          "name": "stdout",
          "text": [
            "cuda\n"
          ]
        }
      ]
    },
    {
      "cell_type": "code",
      "source": [
        "## Load MNIST digit datasets\n",
        "train_data = torchvision.datasets.MNIST('./data',download=True)\n",
        "test_data = torchvision.datasets.MNIST('./data', train=False)\n",
        "num_classes = len(train_data.classes)\n",
        "print(train_data)\n",
        "print(test_data)\n",
        "print(\"Number of classes = {0:d}\".format(num_classes))"
      ],
      "metadata": {
        "execution": {
          "iopub.status.busy": "2024-02-28T02:37:19.217459Z",
          "iopub.execute_input": "2024-02-28T02:37:19.21831Z",
          "iopub.status.idle": "2024-02-28T02:37:20.336825Z",
          "shell.execute_reply.started": "2024-02-28T02:37:19.218284Z",
          "shell.execute_reply": "2024-02-28T02:37:20.33589Z"
        },
        "trusted": true,
        "colab": {
          "base_uri": "https://localhost:8080/"
        },
        "id": "amSQUtqFt1Ax",
        "outputId": "0e258d1a-da62-4b13-e9a3-f32ace059411"
      },
      "execution_count": 3,
      "outputs": [
        {
          "output_type": "stream",
          "name": "stdout",
          "text": [
            "Downloading http://yann.lecun.com/exdb/mnist/train-images-idx3-ubyte.gz\n",
            "Downloading http://yann.lecun.com/exdb/mnist/train-images-idx3-ubyte.gz to ./data/MNIST/raw/train-images-idx3-ubyte.gz\n"
          ]
        },
        {
          "output_type": "stream",
          "name": "stderr",
          "text": [
            "100%|██████████| 9912422/9912422 [00:00<00:00, 110562232.23it/s]\n"
          ]
        },
        {
          "output_type": "stream",
          "name": "stdout",
          "text": [
            "Extracting ./data/MNIST/raw/train-images-idx3-ubyte.gz to ./data/MNIST/raw\n",
            "\n",
            "Downloading http://yann.lecun.com/exdb/mnist/train-labels-idx1-ubyte.gz\n",
            "Downloading http://yann.lecun.com/exdb/mnist/train-labels-idx1-ubyte.gz to ./data/MNIST/raw/train-labels-idx1-ubyte.gz\n"
          ]
        },
        {
          "output_type": "stream",
          "name": "stderr",
          "text": [
            "100%|██████████| 28881/28881 [00:00<00:00, 53957992.79it/s]\n"
          ]
        },
        {
          "output_type": "stream",
          "name": "stdout",
          "text": [
            "Extracting ./data/MNIST/raw/train-labels-idx1-ubyte.gz to ./data/MNIST/raw\n",
            "\n",
            "Downloading http://yann.lecun.com/exdb/mnist/t10k-images-idx3-ubyte.gz\n",
            "Downloading http://yann.lecun.com/exdb/mnist/t10k-images-idx3-ubyte.gz to ./data/MNIST/raw/t10k-images-idx3-ubyte.gz\n"
          ]
        },
        {
          "output_type": "stream",
          "name": "stderr",
          "text": [
            "100%|██████████| 1648877/1648877 [00:00<00:00, 35024797.28it/s]\n"
          ]
        },
        {
          "output_type": "stream",
          "name": "stdout",
          "text": [
            "Extracting ./data/MNIST/raw/t10k-images-idx3-ubyte.gz to ./data/MNIST/raw\n",
            "\n",
            "Downloading http://yann.lecun.com/exdb/mnist/t10k-labels-idx1-ubyte.gz\n",
            "Downloading http://yann.lecun.com/exdb/mnist/t10k-labels-idx1-ubyte.gz to ./data/MNIST/raw/t10k-labels-idx1-ubyte.gz\n"
          ]
        },
        {
          "output_type": "stream",
          "name": "stderr",
          "text": [
            "100%|██████████| 4542/4542 [00:00<00:00, 21073593.77it/s]\n"
          ]
        },
        {
          "output_type": "stream",
          "name": "stdout",
          "text": [
            "Extracting ./data/MNIST/raw/t10k-labels-idx1-ubyte.gz to ./data/MNIST/raw\n",
            "\n",
            "Dataset MNIST\n",
            "    Number of datapoints: 60000\n",
            "    Root location: ./data\n",
            "    Split: Train\n",
            "Dataset MNIST\n",
            "    Number of datapoints: 10000\n",
            "    Root location: ./data\n",
            "    Split: Test\n",
            "Number of classes = 10\n"
          ]
        }
      ]
    },
    {
      "cell_type": "code",
      "source": [
        "# Apply transforms to the loaded dataset\n",
        "transform = transforms.Compose([transforms.ToTensor(), transforms.Normalize((0.5,), (0.5,))])\n",
        "train_data.transform = transform\n",
        "test_data.transform = transform"
      ],
      "metadata": {
        "execution": {
          "iopub.status.busy": "2024-02-28T02:37:20.339304Z",
          "iopub.execute_input": "2024-02-28T02:37:20.339604Z",
          "iopub.status.idle": "2024-02-28T02:37:20.344437Z",
          "shell.execute_reply.started": "2024-02-28T02:37:20.339579Z",
          "shell.execute_reply": "2024-02-28T02:37:20.343392Z"
        },
        "trusted": true,
        "id": "TgrOzWUdt1Ay"
      },
      "execution_count": 4,
      "outputs": []
    },
    {
      "cell_type": "code",
      "source": [
        "## MNIST visualization\n",
        "def show_images(images, labels, title):\n",
        "    fig, axes = plt.subplots(1, 2, figsize=(8, 4))\n",
        "    fig.suptitle(title, fontsize=16)\n",
        "\n",
        "    for i in range(2):\n",
        "        idx = np.random.randint(len(images))\n",
        "        image = images[idx][0].numpy()\n",
        "        label = labels[idx].item()\n",
        "        axes[i].imshow(image[0], cmap='gray')\n",
        "        axes[i].set_title(f\"Label: {label}\")\n",
        "        axes[i].axis('off')\n",
        "\n",
        "# Display 2 randomly chosen images from the training set\n",
        "show_images(train_data, train_data.targets, \"Training Set\")\n",
        "# Display 2 randomly chosen images from the test set\n",
        "show_images(test_data, test_data.targets, \"Test Set\")\n",
        "\n",
        "plt.show()"
      ],
      "metadata": {
        "execution": {
          "iopub.status.busy": "2024-02-28T02:37:20.345478Z",
          "iopub.execute_input": "2024-02-28T02:37:20.345743Z",
          "iopub.status.idle": "2024-02-28T02:37:20.730076Z",
          "shell.execute_reply.started": "2024-02-28T02:37:20.34572Z",
          "shell.execute_reply": "2024-02-28T02:37:20.729189Z"
        },
        "trusted": true,
        "colab": {
          "base_uri": "https://localhost:8080/",
          "height": 725
        },
        "id": "K9I6JiGnt1Ay",
        "outputId": "0a7325c7-c5f5-4299-ebcc-cb8cd01ca0c2"
      },
      "execution_count": 5,
      "outputs": [
        {
          "output_type": "display_data",
          "data": {
            "text/plain": [
              "<Figure size 800x400 with 2 Axes>"
            ],
            "image/png": "[encoded data removed]"
          },
          "metadata": {}
        },
        {
          "output_type": "display_data",
          "data": {
            "text/plain": [
              "<Figure size 800x400 with 2 Axes>"
            ],
            "image/png": "[encoded data removed]"
          },
          "metadata": {}
        }
      ]
    },
    {
      "cell_type": "code",
      "source": [
        "## Hyperparameters\n",
        "input_size = 28*28  #Size of image\n",
        "num_classes = 10   #the image number are in range 0-10\n",
        "num_epochs =10 #one cycle through the full train data\n",
        "batch_size = 100 #sample size consider before updating the model’s weights\n",
        "learning_rate = 0.001  #step size to update parameter\n",
        "num_hidden = 512\n",
        "dropout_prob = 0.2\n",
        "batch_size_mnist  = 100"
      ],
      "metadata": {
        "execution": {
          "iopub.status.busy": "2024-02-28T02:37:20.731339Z",
          "iopub.execute_input": "2024-02-28T02:37:20.731704Z",
          "iopub.status.idle": "2024-02-28T02:37:20.736904Z",
          "shell.execute_reply.started": "2024-02-28T02:37:20.731671Z",
          "shell.execute_reply": "2024-02-28T02:37:20.735997Z"
        },
        "trusted": true,
        "id": "gtf47T6Dt1Az"
      },
      "execution_count": 6,
      "outputs": []
    },
    {
      "cell_type": "code",
      "source": [
        "## Create dataloaders\n",
        "train_loader = DataLoader(dataset=train_data, batch_size=batch_size, shuffle=True,num_workers=2)\n",
        "# Test dataset\n",
        "test_loader = DataLoader(dataset=test_data, batch_size=batch_size, shuffle=False,num_workers=2)\n",
        "\n",
        "# Print dataset sizes\n",
        "print(f\"Training set size: {len(train_loader.dataset)}\")\n",
        "print(f\"Test set size: {len(test_loader.dataset)}\")"
      ],
      "metadata": {
        "execution": {
          "iopub.status.busy": "2024-02-28T02:37:20.738049Z",
          "iopub.execute_input": "2024-02-28T02:37:20.738393Z",
          "iopub.status.idle": "2024-02-28T02:37:20.748343Z",
          "shell.execute_reply.started": "2024-02-28T02:37:20.738345Z",
          "shell.execute_reply": "2024-02-28T02:37:20.747418Z"
        },
        "trusted": true,
        "colab": {
          "base_uri": "https://localhost:8080/"
        },
        "id": "2lCZztmBt1Az",
        "outputId": "0a41ea73-ddf1-498b-c311-c0dc76670b66"
      },
      "execution_count": 7,
      "outputs": [
        {
          "output_type": "stream",
          "name": "stdout",
          "text": [
            "Training set size: 60000\n",
            "Test set size: 10000\n"
          ]
        }
      ]
    },
    {
      "cell_type": "code",
      "source": [
        "## Define the MLP model and Dropout layers MUST be used\n",
        "class MLP(nn.Module):\n",
        "  def __init__(self,input_size, num_hidden, num_classes):\n",
        "    super(MLP,self).__init__()\n",
        "    self.flatten = nn.Flatten()\n",
        "    self.fc1 = nn.Linear(input_size, num_hidden)\n",
        "    self.droput_1 = nn.Dropout(dropout_prob)\n",
        "    self.fc2 = nn.Linear(num_hidden,num_hidden)\n",
        "    self.droput_2 = nn.Dropout(dropout_prob)\n",
        "    self.fc3 = nn.Linear(num_hidden,num_classes)\n",
        "    #self.droput_3 = nn.Dropout(dropout_prob)\n",
        "    #self.fc4 = nn.Linear(num_hidden,num_classes)\n",
        "\n",
        "  def forward(self,x):\n",
        "    x = x.view(-1,input_size)\n",
        "    x = F.relu(self.fc1(x))\n",
        "    x = self.droput_1(x)\n",
        "    x = F.relu(self.fc2(x))\n",
        "    x = self.droput_2(x)\n",
        "    #x = self.droput_3(x)\n",
        "    x = self.fc3(x)\n",
        "    return x\n",
        "\n"
      ],
      "metadata": {
        "execution": {
          "iopub.status.busy": "2024-02-28T02:37:20.749413Z",
          "iopub.execute_input": "2024-02-28T02:37:20.749696Z",
          "iopub.status.idle": "2024-02-28T02:37:20.760969Z",
          "shell.execute_reply.started": "2024-02-28T02:37:20.749674Z",
          "shell.execute_reply": "2024-02-28T02:37:20.760149Z"
        },
        "trusted": true,
        "id": "d20av9NQt1A0"
      },
      "execution_count": 8,
      "outputs": []
    },
    {
      "cell_type": "code",
      "source": [
        "## Set up loss function and optimizer\n",
        "model =  MLP(input_size, num_hidden, num_classes).to(device)\n",
        "criterion = nn.CrossEntropyLoss()\n",
        "## you are free to use other optimizers\n",
        "optimizer = torch.optim.Adam(model.parameters(),lr=learning_rate)"
      ],
      "metadata": {
        "execution": {
          "iopub.status.busy": "2024-02-28T02:37:20.764385Z",
          "iopub.execute_input": "2024-02-28T02:37:20.764712Z",
          "iopub.status.idle": "2024-02-28T02:37:20.932356Z",
          "shell.execute_reply.started": "2024-02-28T02:37:20.764689Z",
          "shell.execute_reply": "2024-02-28T02:37:20.931609Z"
        },
        "trusted": true,
        "id": "K-RAguDJt1A0"
      },
      "execution_count": 9,
      "outputs": []
    },
    {
      "cell_type": "code",
      "source": [
        "## Training of MNIST model\n",
        "total_step = len(train_loader)\n",
        "for epoch in range(10):\n",
        "    for i, (images, labels) in enumerate(train_loader):\n",
        "        # Forward pass\n",
        "        model_outputs = model(images.to(device))\n",
        "        compute_loss = criterion(model_outputs, labels.to(device))\n",
        "\n",
        "        # Backward and optimize\n",
        "        optimizer.zero_grad()\n",
        "        compute_loss.backward()\n",
        "        optimizer.step()\n",
        "\n",
        "        # Printing training losses\n",
        "        if (i+1) % 200 == 0:\n",
        "            print('Iteration: {0}, training loss = {1:.4f}'.format(i+1, compute_loss.item()))\n",
        "\n",
        "    # Run testing after each epoch\n",
        "    with torch.no_grad():\n",
        "        total = 0\n",
        "        accurate = 0\n",
        "\n",
        "        for images, labels in test_loader:\n",
        "            test_outputs = model(images.to(device))\n",
        "            _, predicted = torch.max(test_outputs.data, 1)\n",
        "            total += labels.size(0)\n",
        "            accurate += (predicted == labels.to(device)).sum().item()\n",
        "\n",
        "        accuracy_score = 100 * accurate / total\n",
        "        print('==> Epoch: {0}, test accuracy = {1:.4f}'.format(epoch, accuracy_score))"
      ],
      "metadata": {
        "execution": {
          "iopub.status.busy": "2024-02-28T02:37:20.933578Z",
          "iopub.execute_input": "2024-02-28T02:37:20.934214Z",
          "iopub.status.idle": "2024-02-28T02:38:54.880375Z",
          "shell.execute_reply.started": "2024-02-28T02:37:20.93418Z",
          "shell.execute_reply": "2024-02-28T02:38:54.87917Z"
        },
        "trusted": true,
        "colab": {
          "base_uri": "https://localhost:8080/"
        },
        "id": "f3vP8Mqmt1A1",
        "outputId": "02868255-0743-4503-9a8c-82770bfd0c7d"
      },
      "execution_count": 10,
      "outputs": [
        {
          "output_type": "stream",
          "name": "stdout",
          "text": [
            "Iteration: 200, training loss = 0.2490\n",
            "Iteration: 400, training loss = 0.2539\n",
            "Iteration: 600, training loss = 0.1401\n",
            "==> Epoch: 0, test accuracy = 93.9000\n",
            "Iteration: 200, training loss = 0.2005\n",
            "Iteration: 400, training loss = 0.0729\n",
            "Iteration: 600, training loss = 0.1067\n",
            "==> Epoch: 1, test accuracy = 95.2100\n",
            "Iteration: 200, training loss = 0.0349\n",
            "Iteration: 400, training loss = 0.1264\n",
            "Iteration: 600, training loss = 0.0958\n",
            "==> Epoch: 2, test accuracy = 95.8300\n",
            "Iteration: 200, training loss = 0.1059\n",
            "Iteration: 400, training loss = 0.0882\n",
            "Iteration: 600, training loss = 0.0801\n",
            "==> Epoch: 3, test accuracy = 96.0900\n",
            "Iteration: 200, training loss = 0.1414\n",
            "Iteration: 400, training loss = 0.0541\n",
            "Iteration: 600, training loss = 0.2555\n",
            "==> Epoch: 4, test accuracy = 96.4200\n",
            "Iteration: 200, training loss = 0.1298\n",
            "Iteration: 400, training loss = 0.0890\n",
            "Iteration: 600, training loss = 0.0798\n",
            "==> Epoch: 5, test accuracy = 96.2900\n",
            "Iteration: 200, training loss = 0.1280\n",
            "Iteration: 400, training loss = 0.2362\n",
            "Iteration: 600, training loss = 0.0639\n",
            "==> Epoch: 6, test accuracy = 96.4100\n",
            "Iteration: 200, training loss = 0.0118\n",
            "Iteration: 400, training loss = 0.0359\n",
            "Iteration: 600, training loss = 0.1491\n",
            "==> Epoch: 7, test accuracy = 97.1000\n",
            "Iteration: 200, training loss = 0.1356\n",
            "Iteration: 400, training loss = 0.0126\n",
            "Iteration: 600, training loss = 0.2065\n",
            "==> Epoch: 8, test accuracy = 96.7400\n",
            "Iteration: 200, training loss = 0.1122\n",
            "Iteration: 400, training loss = 0.0723\n",
            "Iteration: 600, training loss = 0.0419\n",
            "==> Epoch: 9, test accuracy = 96.9300\n"
          ]
        }
      ]
    },
    {
      "cell_type": "code",
      "source": [
        "# Print MNIST model's state_dict\n",
        "print(\"Model's state_dict:\")\n",
        "for param_tensor in model.state_dict():\n",
        "    print(param_tensor, \"\\t\", model.state_dict()[param_tensor].size())"
      ],
      "metadata": {
        "execution": {
          "iopub.status.busy": "2024-02-28T02:38:54.881942Z",
          "iopub.execute_input": "2024-02-28T02:38:54.882264Z",
          "iopub.status.idle": "2024-02-28T02:38:54.888838Z",
          "shell.execute_reply.started": "2024-02-28T02:38:54.88223Z",
          "shell.execute_reply": "2024-02-28T02:38:54.887922Z"
        },
        "trusted": true,
        "colab": {
          "base_uri": "https://localhost:8080/"
        },
        "id": "cJOzXzk5t1A1",
        "outputId": "547b4ba3-f2bd-4965-a223-668cacda4efc"
      },
      "execution_count": 11,
      "outputs": [
        {
          "output_type": "stream",
          "name": "stdout",
          "text": [
            "Model's state_dict:\n",
            "fc1.weight \t torch.Size([512, 784])\n",
            "fc1.bias \t torch.Size([512])\n",
            "fc2.weight \t torch.Size([512, 512])\n",
            "fc2.bias \t torch.Size([512])\n",
            "fc3.weight \t torch.Size([10, 512])\n",
            "fc3.bias \t torch.Size([10])\n"
          ]
        }
      ]
    },
    {
      "cell_type": "code",
      "source": [
        "## Save model for later use\n",
        "torch.save(model.state_dict(), './mlp_mnist.pt')"
      ],
      "metadata": {
        "execution": {
          "iopub.status.busy": "2024-02-28T02:38:54.889992Z",
          "iopub.execute_input": "2024-02-28T02:38:54.89027Z",
          "iopub.status.idle": "2024-02-28T02:38:54.906237Z",
          "shell.execute_reply.started": "2024-02-28T02:38:54.890247Z",
          "shell.execute_reply": "2024-02-28T02:38:54.905479Z"
        },
        "trusted": true,
        "id": "bKH4r-F4t1A1"
      },
      "execution_count": 12,
      "outputs": []
    },
    {
      "cell_type": "code",
      "source": [
        "!ls -al *.pt"
      ],
      "metadata": {
        "execution": {
          "iopub.status.busy": "2024-02-28T02:38:54.907426Z",
          "iopub.execute_input": "2024-02-28T02:38:54.907748Z",
          "iopub.status.idle": "2024-02-28T02:38:55.863664Z",
          "shell.execute_reply.started": "2024-02-28T02:38:54.907717Z",
          "shell.execute_reply": "2024-02-28T02:38:55.862659Z"
        },
        "trusted": true,
        "colab": {
          "base_uri": "https://localhost:8080/"
        },
        "id": "Ai7tg-AKt1A2",
        "outputId": "682ccc56-b4cd-469e-fc92-ff16eaebaa05"
      },
      "execution_count": 13,
      "outputs": [
        {
          "output_type": "stream",
          "name": "stdout",
          "text": [
            "-rw-r--r-- 1 root root 2681564 Feb 28 03:21 mlp_mnist.pt\n"
          ]
        }
      ]
    },
    {
      "cell_type": "code",
      "source": [
        "## Now we load the letters from EMNIST\n",
        "## use split=\"letters\"\n",
        "\n",
        "\n",
        "# Download EMNIST-letters dataset\n",
        "transform_emnist = transforms.Compose([transforms.ToTensor(), transforms.Normalize((0.5,), (0.5,))])\n",
        "\n",
        "emnist_letter_dataset = EMNIST(root='./data', split='letters', download=True, train=True, transform=transform)\n",
        "emnist_train_dataset = EMNIST(root='./data', split='letters', train=True, download=True, transform=transform_emnist)\n",
        "emnist_test_dataset = EMNIST(root='./data', split='letters', train=False, download=True, transform=transform_emnist)\n",
        "\n",
        "# Create DataLoader for EMNIST-letters\n",
        "emnist_train_loader = DataLoader(dataset=emnist_train_dataset, batch_size=64, shuffle=True)\n",
        "emnist_test_loader = DataLoader(dataset=emnist_test_dataset, batch_size=64, shuffle=False)"
      ],
      "metadata": {
        "execution": {
          "iopub.status.busy": "2024-02-28T02:38:55.865072Z",
          "iopub.execute_input": "2024-02-28T02:38:55.865344Z",
          "iopub.status.idle": "2024-02-28T02:39:52.639798Z",
          "shell.execute_reply.started": "2024-02-28T02:38:55.865317Z",
          "shell.execute_reply": "2024-02-28T02:39:52.63887Z"
        },
        "trusted": true,
        "colab": {
          "base_uri": "https://localhost:8080/"
        },
        "id": "JAVfoz1ht1A3",
        "outputId": "90297025-7baa-403e-ded1-ff01854ed986"
      },
      "execution_count": 14,
      "outputs": [
        {
          "output_type": "stream",
          "name": "stdout",
          "text": [
            "Downloading https://www.itl.nist.gov/iaui/vip/cs_links/EMNIST/gzip.zip to ./data/EMNIST/raw/gzip.zip\n"
          ]
        },
        {
          "output_type": "stream",
          "name": "stderr",
          "text": [
            "100%|██████████| 561753746/561753746 [00:10<00:00, 54719936.31it/s]\n"
          ]
        },
        {
          "output_type": "stream",
          "name": "stdout",
          "text": [
            "Extracting ./data/EMNIST/raw/gzip.zip to ./data/EMNIST/raw\n"
          ]
        }
      ]
    },
    {
      "cell_type": "code",
      "source": [
        "# visualize EMNIST dataset\n",
        "def show_images(dataset, title, num_images=2):\n",
        "    fig, axes = plt.subplots(1, num_images, figsize=(8, 4))\n",
        "    fig.suptitle(title, fontsize=16)\n",
        "\n",
        "    for i in range(num_images):\n",
        "        idx = np.random.randint(len(dataset))\n",
        "        image, label = dataset[idx]\n",
        "        image = image.numpy()\n",
        "        axes[i].imshow(image[0], cmap='gray')\n",
        "        axes[i].set_title(f\"Label: {label}\")\n",
        "        axes[i].axis('off')\n",
        "\n",
        "    plt.show()\n",
        "\n",
        "\n",
        "# Show images with labels using the defined function\n",
        "show_images(emnist_letter_dataset, \"Random Samples from EMNIST Letters Dataset\")## we define a new model and load from saved weights"
      ],
      "metadata": {
        "execution": {
          "iopub.status.busy": "2024-02-28T02:39:52.641185Z",
          "iopub.execute_input": "2024-02-28T02:39:52.641977Z",
          "iopub.status.idle": "2024-02-28T02:39:52.821122Z",
          "shell.execute_reply.started": "2024-02-28T02:39:52.641938Z",
          "shell.execute_reply": "2024-02-28T02:39:52.820189Z"
        },
        "trusted": true,
        "colab": {
          "base_uri": "https://localhost:8080/",
          "height": 371
        },
        "id": "A-Db5zUot1A3",
        "outputId": "0191cd21-a44e-4077-f290-d72dc3573858"
      },
      "execution_count": 15,
      "outputs": [
        {
          "output_type": "display_data",
          "data": {
            "text/plain": [
              "<Figure size 800x400 with 2 Axes>"
            ],
            "image/png": "[encoded data removed]"
          },
          "metadata": {}
        }
      ]
    },
    {
      "cell_type": "code",
      "source": [
        "## model_emnist = MLP( ..... )\n",
        "model_emnist =  MLP(input_size, num_hidden, num_classes).to(device)\n",
        "model_emnist.load_state_dict(torch.load('./mlp_mnist.pt'))"
      ],
      "metadata": {
        "execution": {
          "iopub.status.busy": "2024-02-28T02:39:52.822512Z",
          "iopub.execute_input": "2024-02-28T02:39:52.822881Z",
          "iopub.status.idle": "2024-02-28T02:39:52.843043Z",
          "shell.execute_reply.started": "2024-02-28T02:39:52.822847Z",
          "shell.execute_reply": "2024-02-28T02:39:52.842209Z"
        },
        "trusted": true,
        "colab": {
          "base_uri": "https://localhost:8080/"
        },
        "id": "ghU8LuLOt1A3",
        "outputId": "dc3554f5-ba97-4ff5-9841-13be3780be65"
      },
      "execution_count": 16,
      "outputs": [
        {
          "output_type": "execute_result",
          "data": {
            "text/plain": [
              "<All keys matched successfully>"
            ]
          },
          "metadata": {},
          "execution_count": 16
        }
      ]
    },
    {
      "cell_type": "code",
      "source": [
        "# Modify the output layer for the new number of classes in EMNIST\n",
        "model_emnist.fc3 = nn.Linear(512, len(emnist_letter_dataset.classes)).to(device)\n",
        "print(model_emnist)"
      ],
      "metadata": {
        "execution": {
          "iopub.status.busy": "2024-02-28T02:39:52.844091Z",
          "iopub.execute_input": "2024-02-28T02:39:52.844402Z",
          "iopub.status.idle": "2024-02-28T02:39:52.849892Z",
          "shell.execute_reply.started": "2024-02-28T02:39:52.844349Z",
          "shell.execute_reply": "2024-02-28T02:39:52.849047Z"
        },
        "trusted": true,
        "colab": {
          "base_uri": "https://localhost:8080/"
        },
        "id": "hvHPZquSt1A3",
        "outputId": "758a5a13-0efd-4fa9-8963-08745a87bead"
      },
      "execution_count": 17,
      "outputs": [
        {
          "output_type": "stream",
          "name": "stdout",
          "text": [
            "MLP(\n",
            "  (flatten): Flatten(start_dim=1, end_dim=-1)\n",
            "  (fc1): Linear(in_features=784, out_features=512, bias=True)\n",
            "  (droput_1): Dropout(p=0.2, inplace=False)\n",
            "  (fc2): Linear(in_features=512, out_features=512, bias=True)\n",
            "  (droput_2): Dropout(p=0.2, inplace=False)\n",
            "  (fc3): Linear(in_features=512, out_features=27, bias=True)\n",
            ")\n"
          ]
        }
      ]
    },
    {
      "cell_type": "code",
      "source": [
        "## do an inference on the pre-trained model\n",
        "## Build the new data loader\n",
        "loader_emnist = DataLoader(dataset=emnist_letter_dataset, batch_size=64, shuffle=True)\n",
        "with torch.no_grad():\n",
        "        total = 0\n",
        "        accurate = 0\n",
        "\n",
        "        for images, labels in loader_emnist:\n",
        "            test_outputs = model_emnist(images.to(device))\n",
        "            _, predicted = torch.max(test_outputs.data, 1)\n",
        "            total += labels.size(0)\n",
        "            accurate += (predicted == labels.to(device)).sum().item()\n",
        "\n",
        "        accuracy_score = 100 * accurate / total\n",
        "        print('==> Epoch: {0}, test accuracy = {1:.4f}'.format(epoch, accuracy_score))"
      ],
      "metadata": {
        "execution": {
          "iopub.status.busy": "2024-02-28T02:39:52.851125Z",
          "iopub.execute_input": "2024-02-28T02:39:52.851866Z",
          "iopub.status.idle": "2024-02-28T02:40:19.567313Z",
          "shell.execute_reply.started": "2024-02-28T02:39:52.851834Z",
          "shell.execute_reply": "2024-02-28T02:40:19.566354Z"
        },
        "trusted": true,
        "colab": {
          "base_uri": "https://localhost:8080/"
        },
        "id": "AvLYolztt1A3",
        "outputId": "43a7c881-5485-4c07-e71f-b0a15e9e905b"
      },
      "execution_count": 18,
      "outputs": [
        {
          "output_type": "stream",
          "name": "stdout",
          "text": [
            "==> Epoch: 9, test accuracy = 3.3093\n"
          ]
        }
      ]
    },
    {
      "cell_type": "code",
      "source": [
        "## now we retrain the model with the new data\n",
        "## The final accuracy must be > 90%!\n",
        "# Reset optimizer for the new model parameters\n",
        "optimizer = torch.optim.Adam(model_emnist.parameters(), lr=0.0001)\n",
        "\n",
        "## training of EMNIST model\n",
        "total_step = len(emnist_train_loader)\n",
        "for epoch in range(30):\n",
        "    for i, (images, labels) in enumerate(emnist_train_loader):\n",
        "        # Forward pass\n",
        "        model_outputs = model_emnist(images.to(device))\n",
        "        compute_loss = criterion(model_outputs, labels.to(device))\n",
        "\n",
        "        # Backward and optimize\n",
        "        optimizer.zero_grad()\n",
        "        compute_loss.backward()\n",
        "        optimizer.step()\n",
        "\n",
        "        # Printing training losses\n",
        "        if (i+1) % 400 == 0:\n",
        "            print('Iteration: {0}, training loss = {1:.4f}'.format(i+1, compute_loss.item()))\n",
        "\n",
        "    # Run testing after each epoch\n",
        "    with torch.no_grad():\n",
        "        total = 0\n",
        "        accurate = 0\n",
        "\n",
        "        for images, labels in emnist_test_loader:\n",
        "            test_outputs = model_emnist(images.to(device))\n",
        "            _, predicted = torch.max(test_outputs.data, 1)\n",
        "            total += labels.size(0)\n",
        "            accurate += (predicted == labels.to(device)).sum().item()\n",
        "\n",
        "        accuracy_score = 100 * accurate / total\n",
        "        print('==> Epoch: {0}, test accuracy = {1:.4f}'.format(epoch, accuracy_score))"
      ],
      "metadata": {
        "execution": {
          "iopub.status.busy": "2024-02-28T02:40:19.570194Z",
          "iopub.execute_input": "2024-02-28T02:40:19.570523Z"
        },
        "trusted": true,
        "colab": {
          "base_uri": "https://localhost:8080/"
        },
        "id": "a87Srlvvt1A3",
        "outputId": "4691c5e5-aede-4cca-d36d-a03fa7c3330a"
      },
      "execution_count": 19,
      "outputs": [
        {
          "output_type": "stream",
          "name": "stdout",
          "text": [
            "Iteration: 400, training loss = 1.8506\n",
            "Iteration: 800, training loss = 1.2077\n",
            "Iteration: 1200, training loss = 1.2216\n",
            "Iteration: 1600, training loss = 0.9950\n",
            "==> Epoch: 0, test accuracy = 73.9904\n",
            "Iteration: 400, training loss = 0.8087\n",
            "Iteration: 800, training loss = 0.7432\n",
            "Iteration: 1200, training loss = 0.9731\n",
            "Iteration: 1600, training loss = 0.6538\n",
            "==> Epoch: 1, test accuracy = 79.9231\n",
            "Iteration: 400, training loss = 0.8219\n",
            "Iteration: 800, training loss = 0.3946\n",
            "Iteration: 1200, training loss = 0.7202\n",
            "Iteration: 1600, training loss = 0.4073\n",
            "==> Epoch: 2, test accuracy = 82.6635\n",
            "Iteration: 400, training loss = 0.5415\n",
            "Iteration: 800, training loss = 0.5653\n",
            "Iteration: 1200, training loss = 0.3562\n",
            "Iteration: 1600, training loss = 0.7399\n",
            "==> Epoch: 3, test accuracy = 84.3798\n",
            "Iteration: 400, training loss = 0.4518\n",
            "Iteration: 800, training loss = 0.4716\n",
            "Iteration: 1200, training loss = 0.6212\n",
            "Iteration: 1600, training loss = 0.3866\n",
            "==> Epoch: 4, test accuracy = 85.6971\n",
            "Iteration: 400, training loss = 0.4025\n",
            "Iteration: 800, training loss = 0.3569\n",
            "Iteration: 1200, training loss = 0.3884\n",
            "Iteration: 1600, training loss = 0.4140\n",
            "==> Epoch: 5, test accuracy = 85.9423\n",
            "Iteration: 400, training loss = 0.4088\n",
            "Iteration: 800, training loss = 0.5774\n",
            "Iteration: 1200, training loss = 0.2972\n",
            "Iteration: 1600, training loss = 0.2961\n",
            "==> Epoch: 6, test accuracy = 86.9712\n",
            "Iteration: 400, training loss = 0.3240\n",
            "Iteration: 800, training loss = 0.3222\n",
            "Iteration: 1200, training loss = 0.2738\n",
            "Iteration: 1600, training loss = 0.1695\n",
            "==> Epoch: 7, test accuracy = 87.3462\n",
            "Iteration: 400, training loss = 0.3762\n",
            "Iteration: 800, training loss = 0.2278\n",
            "Iteration: 1200, training loss = 0.2728\n",
            "Iteration: 1600, training loss = 0.3158\n",
            "==> Epoch: 8, test accuracy = 87.5673\n",
            "Iteration: 400, training loss = 0.2937\n",
            "Iteration: 800, training loss = 0.3496\n",
            "Iteration: 1200, training loss = 0.2301\n",
            "Iteration: 1600, training loss = 0.3660\n",
            "==> Epoch: 9, test accuracy = 88.0288\n",
            "Iteration: 400, training loss = 0.6678\n",
            "Iteration: 800, training loss = 0.4544\n",
            "Iteration: 1200, training loss = 0.3123\n",
            "Iteration: 1600, training loss = 0.4056\n",
            "==> Epoch: 10, test accuracy = 88.2885\n",
            "Iteration: 400, training loss = 0.2080\n",
            "Iteration: 800, training loss = 0.2758\n",
            "Iteration: 1200, training loss = 0.2678\n",
            "Iteration: 1600, training loss = 0.3315\n",
            "==> Epoch: 11, test accuracy = 88.7740\n",
            "Iteration: 400, training loss = 0.2218\n",
            "Iteration: 800, training loss = 0.2934\n",
            "Iteration: 1200, training loss = 0.3350\n",
            "Iteration: 1600, training loss = 0.2902\n",
            "==> Epoch: 12, test accuracy = 88.8125\n",
            "Iteration: 400, training loss = 0.2988\n",
            "Iteration: 800, training loss = 0.2009\n",
            "Iteration: 1200, training loss = 0.2232\n",
            "Iteration: 1600, training loss = 0.2380\n",
            "==> Epoch: 13, test accuracy = 89.0144\n",
            "Iteration: 400, training loss = 0.2441\n",
            "Iteration: 800, training loss = 0.3464\n",
            "Iteration: 1200, training loss = 0.2221\n",
            "Iteration: 1600, training loss = 0.1404\n",
            "==> Epoch: 14, test accuracy = 89.1058\n",
            "Iteration: 400, training loss = 0.1713\n",
            "Iteration: 800, training loss = 0.4450\n",
            "Iteration: 1200, training loss = 0.4656\n",
            "Iteration: 1600, training loss = 0.2464\n",
            "==> Epoch: 15, test accuracy = 89.0000\n",
            "Iteration: 400, training loss = 0.2250\n",
            "Iteration: 800, training loss = 0.2264\n",
            "Iteration: 1200, training loss = 0.5569\n",
            "Iteration: 1600, training loss = 0.2000\n",
            "==> Epoch: 16, test accuracy = 89.3606\n",
            "Iteration: 400, training loss = 0.2080\n",
            "Iteration: 800, training loss = 0.1353\n",
            "Iteration: 1200, training loss = 0.3048\n",
            "Iteration: 1600, training loss = 0.3085\n",
            "==> Epoch: 17, test accuracy = 89.6875\n",
            "Iteration: 400, training loss = 0.1806\n",
            "Iteration: 800, training loss = 0.2420\n",
            "Iteration: 1200, training loss = 0.3678\n",
            "Iteration: 1600, training loss = 0.4422\n",
            "==> Epoch: 18, test accuracy = 89.7933\n",
            "Iteration: 400, training loss = 0.4056\n",
            "Iteration: 800, training loss = 0.3191\n",
            "Iteration: 1200, training loss = 0.4488\n",
            "Iteration: 1600, training loss = 0.1401\n",
            "==> Epoch: 19, test accuracy = 89.7548\n",
            "Iteration: 400, training loss = 0.3679\n",
            "Iteration: 800, training loss = 0.2749\n",
            "Iteration: 1200, training loss = 0.1727\n",
            "Iteration: 1600, training loss = 0.2127\n",
            "==> Epoch: 20, test accuracy = 89.9471\n",
            "Iteration: 400, training loss = 0.2623\n",
            "Iteration: 800, training loss = 0.3476\n",
            "Iteration: 1200, training loss = 0.2857\n",
            "Iteration: 1600, training loss = 0.5836\n",
            "==> Epoch: 21, test accuracy = 89.7356\n",
            "Iteration: 400, training loss = 0.2876\n",
            "Iteration: 800, training loss = 0.1523\n",
            "Iteration: 1200, training loss = 0.2769\n",
            "Iteration: 1600, training loss = 0.2901\n",
            "==> Epoch: 22, test accuracy = 89.8798\n",
            "Iteration: 400, training loss = 0.1470\n",
            "Iteration: 800, training loss = 0.2883\n",
            "Iteration: 1200, training loss = 0.1896\n",
            "Iteration: 1600, training loss = 0.1010\n",
            "==> Epoch: 23, test accuracy = 90.0144\n",
            "Iteration: 400, training loss = 0.1549\n",
            "Iteration: 800, training loss = 0.4397\n",
            "Iteration: 1200, training loss = 0.2708\n",
            "Iteration: 1600, training loss = 0.2739\n",
            "==> Epoch: 24, test accuracy = 90.0721\n",
            "Iteration: 400, training loss = 0.2550\n",
            "Iteration: 800, training loss = 0.2299\n",
            "Iteration: 1200, training loss = 0.2422\n",
            "Iteration: 1600, training loss = 0.2511\n",
            "==> Epoch: 25, test accuracy = 90.0625\n",
            "Iteration: 400, training loss = 0.1071\n",
            "Iteration: 800, training loss = 0.1931\n",
            "Iteration: 1200, training loss = 0.3031\n",
            "Iteration: 1600, training loss = 0.2947\n",
            "==> Epoch: 26, test accuracy = 90.1779\n",
            "Iteration: 400, training loss = 0.0816\n",
            "Iteration: 800, training loss = 0.2509\n",
            "Iteration: 1200, training loss = 0.2434\n",
            "Iteration: 1600, training loss = 0.1174\n",
            "==> Epoch: 27, test accuracy = 90.2933\n",
            "Iteration: 400, training loss = 0.2706\n",
            "Iteration: 800, training loss = 0.2316\n",
            "Iteration: 1200, training loss = 0.3534\n",
            "Iteration: 1600, training loss = 0.3163\n",
            "==> Epoch: 28, test accuracy = 89.9712\n",
            "Iteration: 400, training loss = 0.2358\n",
            "Iteration: 800, training loss = 0.0947\n",
            "Iteration: 1200, training loss = 0.2206\n",
            "Iteration: 1600, training loss = 0.2144\n",
            "==> Epoch: 29, test accuracy = 90.2644\n"
          ]
        }
      ]
    },
    {
      "cell_type": "code",
      "source": [
        "from torchvision.models import resnet18\n",
        "# Set input size for ResNet\n",
        "input_size = 224\n",
        "\n",
        "# Define data transforms\n",
        "transform = transforms.Compose([\n",
        "    transforms.Grayscale(num_output_channels=3),\n",
        "    transforms.Resize((input_size, input_size)),\n",
        "    transforms.ToTensor(),\n",
        "])\n",
        "\n",
        "# Load and preprocess EMNIST dataset\n",
        "emnist_dataset = EMNIST(root=\"./\", split=\"letters\", train=True, transform=transform, download=True)\n",
        "emnist_train_size = int(0.8 * len(emnist_dataset))\n",
        "emnist_test_size = len(emnist_dataset) - emnist_train_size\n",
        "emnist_train_dataset, emnist_test_dataset = random_split(emnist_dataset, [emnist_train_size, emnist_test_size])\n",
        "\n",
        "emnist_train_loader = DataLoader(emnist_train_dataset, batch_size=64, shuffle=True)\n",
        "emnist_test_loader = DataLoader(emnist_test_dataset, batch_size=64, shuffle=False)\n",
        "\n",
        "# Load and preprocess KMNIST dataset\n",
        "kmnist_dataset = KMNIST(root=\"./\", train=True, transform=transform, download=True)\n",
        "kmnist_train_size = int(0.8 * len(kmnist_dataset))\n",
        "kmnist_test_size = len(kmnist_dataset) - kmnist_train_size\n",
        "kmnist_train_dataset, kmnist_test_dataset = random_split(kmnist_dataset, [kmnist_train_size, kmnist_test_size])\n",
        "\n",
        "kmnist_train_loader = DataLoader(kmnist_train_dataset, batch_size=64, shuffle=True)\n",
        "kmnist_test_loader = DataLoader(kmnist_test_dataset, batch_size=64, shuffle=False)\n",
        "\n",
        "# Load pre-trained ResNet model\n",
        "pretrained_resnet = resnet18(pretrained=True)\n",
        "pretrained_resnet.fc = nn.Linear(pretrained_resnet.fc.in_features, len(emnist_dataset.classes))\n",
        "\n",
        "# Move the model to the GPU\n",
        "pretrained_resnet.to(device)\n",
        "\n",
        "# Define loss function and optimizer\n",
        "criterion = nn.CrossEntropyLoss()\n",
        "optimizer = torch.optim.Adam(pretrained_resnet.parameters(), lr=0.001)"
      ],
      "metadata": {
        "trusted": true,
        "colab": {
          "base_uri": "https://localhost:8080/"
        },
        "id": "ENnsvsN5t1A7",
        "outputId": "67fc0817-c1a1-4a60-e6bc-a6bee57758bb"
      },
      "execution_count": 20,
      "outputs": [
        {
          "output_type": "stream",
          "name": "stdout",
          "text": [
            "Downloading https://www.itl.nist.gov/iaui/vip/cs_links/EMNIST/gzip.zip to ./EMNIST/raw/gzip.zip\n"
          ]
        },
        {
          "output_type": "stream",
          "name": "stderr",
          "text": [
            "100%|██████████| 561753746/561753746 [00:07<00:00, 72193367.52it/s] \n"
          ]
        },
        {
          "output_type": "stream",
          "name": "stdout",
          "text": [
            "Extracting ./EMNIST/raw/gzip.zip to ./EMNIST/raw\n",
            "Downloading http://codh.rois.ac.jp/kmnist/dataset/kmnist/train-images-idx3-ubyte.gz\n",
            "Downloading http://codh.rois.ac.jp/kmnist/dataset/kmnist/train-images-idx3-ubyte.gz to ./KMNIST/raw/train-images-idx3-ubyte.gz\n"
          ]
        },
        {
          "output_type": "stream",
          "name": "stderr",
          "text": [
            "100%|██████████| 18165135/18165135 [00:16<00:00, 1128098.71it/s]\n"
          ]
        },
        {
          "output_type": "stream",
          "name": "stdout",
          "text": [
            "Extracting ./KMNIST/raw/train-images-idx3-ubyte.gz to ./KMNIST/raw\n",
            "\n",
            "Downloading http://codh.rois.ac.jp/kmnist/dataset/kmnist/train-labels-idx1-ubyte.gz\n",
            "Downloading http://codh.rois.ac.jp/kmnist/dataset/kmnist/train-labels-idx1-ubyte.gz to ./KMNIST/raw/train-labels-idx1-ubyte.gz\n"
          ]
        },
        {
          "output_type": "stream",
          "name": "stderr",
          "text": [
            "100%|██████████| 29497/29497 [00:00<00:00, 203171.38it/s]\n"
          ]
        },
        {
          "output_type": "stream",
          "name": "stdout",
          "text": [
            "Extracting ./KMNIST/raw/train-labels-idx1-ubyte.gz to ./KMNIST/raw\n",
            "\n",
            "Downloading http://codh.rois.ac.jp/kmnist/dataset/kmnist/t10k-images-idx3-ubyte.gz\n",
            "Downloading http://codh.rois.ac.jp/kmnist/dataset/kmnist/t10k-images-idx3-ubyte.gz to ./KMNIST/raw/t10k-images-idx3-ubyte.gz\n"
          ]
        },
        {
          "output_type": "stream",
          "name": "stderr",
          "text": [
            "100%|██████████| 3041136/3041136 [00:03<00:00, 902157.63it/s]\n"
          ]
        },
        {
          "output_type": "stream",
          "name": "stdout",
          "text": [
            "Extracting ./KMNIST/raw/t10k-images-idx3-ubyte.gz to ./KMNIST/raw\n",
            "\n",
            "Downloading http://codh.rois.ac.jp/kmnist/dataset/kmnist/t10k-labels-idx1-ubyte.gz\n",
            "Downloading http://codh.rois.ac.jp/kmnist/dataset/kmnist/t10k-labels-idx1-ubyte.gz to ./KMNIST/raw/t10k-labels-idx1-ubyte.gz\n"
          ]
        },
        {
          "output_type": "stream",
          "name": "stderr",
          "text": [
            "100%|██████████| 5120/5120 [00:00<00:00, 5810291.26it/s]\n",
            "/usr/local/lib/python3.10/dist-packages/torchvision/models/_utils.py:208: UserWarning: The parameter 'pretrained' is deprecated since 0.13 and may be removed in the future, please use 'weights' instead.\n",
            "  warnings.warn(\n",
            "/usr/local/lib/python3.10/dist-packages/torchvision/models/_utils.py:223: UserWarning: Arguments other than a weight enum or `None` for 'weights' are deprecated since 0.13 and may be removed in the future. The current behavior is equivalent to passing `weights=ResNet18_Weights.IMAGENET1K_V1`. You can also use `weights=ResNet18_Weights.DEFAULT` to get the most up-to-date weights.\n",
            "  warnings.warn(msg)\n",
            "Downloading: \"https://download.pytorch.org/models/resnet18-f37072fd.pth\" to /root/.cache/torch/hub/checkpoints/resnet18-f37072fd.pth\n"
          ]
        },
        {
          "output_type": "stream",
          "name": "stdout",
          "text": [
            "Extracting ./KMNIST/raw/t10k-labels-idx1-ubyte.gz to ./KMNIST/raw\n",
            "\n"
          ]
        },
        {
          "output_type": "stream",
          "name": "stderr",
          "text": [
            "100%|██████████| 44.7M/44.7M [00:00<00:00, 137MB/s]\n"
          ]
        }
      ]
    },
    {
      "cell_type": "code",
      "source": [
        "# Function to train the model\n",
        "def train(model, train_loader, criterion, optimizer, num_epochs=5):\n",
        "    model.train()\n",
        "    model.to(device)  # Move the model to the specified device\n",
        "    for epoch in range(num_epochs):\n",
        "        for data, labels in train_loader:\n",
        "            data, labels = data.to(device), labels.to(device)\n",
        "            optimizer.zero_grad()\n",
        "            outputs = model(data)\n",
        "            loss = criterion(outputs, labels)\n",
        "            loss.backward()\n",
        "            optimizer.step()\n",
        "        print(f\"Epoch {epoch + 1}/{num_epochs}, Loss: {loss.item():.5f}\")\n",
        "\n",
        "# Function to evaluate the model on a given data loader\n",
        "def evaluate(model, data_loader, device='cuda'):\n",
        "    model.eval()\n",
        "    model.to(device)  # Move the model to the specified device\n",
        "    correct = 0\n",
        "    total = 0\n",
        "    with torch.no_grad():\n",
        "        for data, labels in data_loader:\n",
        "            data, labels = data.to(device), labels.to(device)\n",
        "            outputs = model(data)\n",
        "            _, predicted = torch.max(outputs.data, 1)\n",
        "            total += labels.size(0)\n",
        "            correct += (predicted == labels).sum().item()\n",
        "    accuracy = correct / total\n",
        "    return accuracy"
      ],
      "metadata": {
        "trusted": true,
        "id": "WPHIDfAEt1A7"
      },
      "execution_count": 21,
      "outputs": []
    },
    {
      "cell_type": "code",
      "source": [
        "# Train and evaluate using resnet18\n",
        "train(pretrained_resnet, emnist_train_loader, criterion, optimizer, num_epochs=5)\n"
      ],
      "metadata": {
        "trusted": true,
        "colab": {
          "base_uri": "https://localhost:8080/"
        },
        "id": "0dC10ORct1A8",
        "outputId": "2fc71f12-0699-478b-cee7-0a1ab2b85e3c"
      },
      "execution_count": 22,
      "outputs": [
        {
          "output_type": "stream",
          "name": "stdout",
          "text": [
            "Epoch 1/5, Loss: 0.10189\n",
            "Epoch 2/5, Loss: 0.22301\n",
            "Epoch 3/5, Loss: 0.08850\n",
            "Epoch 4/5, Loss: 0.18245\n",
            "Epoch 5/5, Loss: 0.13298\n"
          ]
        }
      ]
    },
    {
      "cell_type": "code",
      "source": [
        "# Evaluate on EMNIST-text test set\n",
        "emnist_test_accuracy = evaluate(pretrained_resnet, emnist_test_loader, device='cuda')\n",
        "print(f\"Accuracy on EMNIST test set: {emnist_test_accuracy * 100:.2f}%\")"
      ],
      "metadata": {
        "trusted": true,
        "colab": {
          "base_uri": "https://localhost:8080/"
        },
        "id": "i4VhuNqTt1A8",
        "outputId": "f0e280d3-7bf1-4760-ee36-b4dfa8e059f6"
      },
      "execution_count": 23,
      "outputs": [
        {
          "output_type": "stream",
          "name": "stdout",
          "text": [
            "Accuracy on EMNIST test set: 95.29%\n"
          ]
        }
      ]
    },
    {
      "cell_type": "code",
      "source": [
        "# Fine-tune on KMNIST\n",
        "pretrained_resnet.fc = nn.Linear(pretrained_resnet.fc.in_features, len(kmnist_dataset.classes))\n",
        "optimizer = torch.optim.Adam(pretrained_resnet.parameters(), lr=0.001)"
      ],
      "metadata": {
        "trusted": true,
        "id": "ytNkZnHht1A8"
      },
      "execution_count": 24,
      "outputs": []
    },
    {
      "cell_type": "code",
      "source": [
        "#Train the resnet on KMNIST data\n",
        "#train(pretrained_resnet, kmnist_train_loader, criterion, optimizer)\n",
        "train(pretrained_resnet, kmnist_train_loader, criterion, optimizer, num_epochs=5)"
      ],
      "metadata": {
        "trusted": true,
        "colab": {
          "base_uri": "https://localhost:8080/"
        },
        "id": "qCEB6oHNt1A8",
        "outputId": "a7213687-190d-4ae5-ee71-3f70ddf85620"
      },
      "execution_count": 25,
      "outputs": [
        {
          "output_type": "stream",
          "name": "stdout",
          "text": [
            "Epoch 1/5, Loss: 0.04264\n",
            "Epoch 2/5, Loss: 0.03602\n",
            "Epoch 3/5, Loss: 0.02762\n",
            "Epoch 4/5, Loss: 0.00150\n",
            "Epoch 5/5, Loss: 0.00314\n"
          ]
        }
      ]
    },
    {
      "cell_type": "code",
      "source": [
        "# Evaluate on KMNIST test set\n",
        "kmnist_test_accuracy = evaluate(pretrained_resnet, kmnist_test_loader)\n",
        "print(f\"Accuracy on KMNIST test set: {kmnist_test_accuracy * 100:.2f}%\")"
      ],
      "metadata": {
        "trusted": true,
        "colab": {
          "base_uri": "https://localhost:8080/"
        },
        "id": "bZwDCTNCt1A8",
        "outputId": "0b9f8c64-eff2-4b9b-9aa6-30c430910ee6"
      },
      "execution_count": 26,
      "outputs": [
        {
          "output_type": "stream",
          "name": "stdout",
          "text": [
            "Accuracy on KMNIST test set: 98.67%\n"
          ]
        }
      ]
    }
  ]
}