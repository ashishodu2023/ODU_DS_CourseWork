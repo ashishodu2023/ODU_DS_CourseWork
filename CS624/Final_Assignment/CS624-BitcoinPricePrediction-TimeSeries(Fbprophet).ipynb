{
 "cells": [
  {
   "cell_type": "markdown",
   "metadata": {
    "application/vnd.databricks.v1+cell": {
     "cellMetadata": {
      "byteLimit": 2048000,
      "rowLimit": 10000
     },
     "inputWidgets": {},
     "nuid": "4de7238a-26bf-4a0f-a70b-ddb5891887a4",
     "showTitle": false,
     "title": ""
    }
   },
   "source": [
    "# CS624 Final Project"
   ]
  },
  {
   "cell_type": "markdown",
   "metadata": {
    "application/vnd.databricks.v1+cell": {
     "cellMetadata": {
      "byteLimit": 2048000,
      "rowLimit": 10000
     },
     "inputWidgets": {},
     "nuid": "b4355cb2-1d6f-4a9f-b0fa-4f6c54e38592",
     "showTitle": false,
     "title": ""
    }
   },
   "source": [
    "## Prophet Timeseries Prediction"
   ]
  },
  {
   "cell_type": "markdown",
   "metadata": {
    "application/vnd.databricks.v1+cell": {
     "cellMetadata": {
      "byteLimit": 2048000,
      "rowLimit": 10000
     },
     "inputWidgets": {},
     "nuid": "e3f31718-3965-4b7c-8cb8-9e1f1de03bcc",
     "showTitle": false,
     "title": ""
    }
   },
   "source": [
    "### Prophet is a facebooks’ open source time series prediction. Prophet decomposes time series into trend, seasonality and holiday. It has intuitive hyper parameters which are easy to tune.\n",
    "\n",
    "\n",
    "#### Advantages of using Prophet\n",
    "1. Accommodates seasonality with multiple periods\n",
    "2. Prophet is resilient to missing values\n",
    "3. Best way to handle outliers in Prophet is to remove them\n",
    "4. Fitting of the model is fast\n",
    "5. Intuitive hyper parameters which are easy to tune\n"
   ]
  },
  {
   "cell_type": "code",
   "execution_count": 0,
   "metadata": {
    "application/vnd.databricks.v1+cell": {
     "cellMetadata": {
      "byteLimit": 2048000,
      "rowLimit": 10000
     },
     "inputWidgets": {},
     "nuid": "01308d8b-d378-4e26-899d-689af2c29468",
     "showTitle": false,
     "title": ""
    }
   },
   "outputs": [],
   "source": [
    "#To avoid printing of un necessary Deprecation warning and future warnings!\n",
    "import warnings\n",
    "warnings.filterwarnings(\"ignore\", category=DeprecationWarning)\n",
    "warnings.filterwarnings(\"ignore\", category=FutureWarning)"
   ]
  },
  {
   "cell_type": "code",
   "execution_count": 0,
   "metadata": {
    "application/vnd.databricks.v1+cell": {
     "cellMetadata": {
      "byteLimit": 2048000,
      "rowLimit": 10000
     },
     "inputWidgets": {},
     "nuid": "3e8d2aca-786c-4aa3-afbf-74266fdaf219",
     "showTitle": false,
     "title": ""
    }
   },
   "outputs": [
    {
     "output_type": "stream",
     "name": "stdout",
     "output_type": "stream",
     "text": [
      "\u001B[43mNote: you may need to restart the kernel using dbutils.library.restartPython() to use updated packages.\u001B[0m\n\u001B[43mNote: you may need to restart the kernel using dbutils.library.restartPython() to use updated packages.\u001B[0m\n"
     ]
    }
   ],
   "source": [
    "!pip install convertdate  --quiet\n",
    "dbutils.library.restartPython()"
   ]
  },
  {
   "cell_type": "code",
   "execution_count": 0,
   "metadata": {
    "application/vnd.databricks.v1+cell": {
     "cellMetadata": {
      "byteLimit": 2048000,
      "rowLimit": 10000
     },
     "inputWidgets": {},
     "nuid": "4308e257-a8a5-43c0-80a0-110feafd8762",
     "showTitle": false,
     "title": ""
    }
   },
   "outputs": [
    {
     "output_type": "stream",
     "name": "stdout",
     "output_type": "stream",
     "text": [
      "\u001B[43mNote: you may need to restart the kernel using dbutils.library.restartPython() to use updated packages.\u001B[0m\n\u001B[43mNote: you may need to restart the kernel using dbutils.library.restartPython() to use updated packages.\u001B[0m\n"
     ]
    }
   ],
   "source": [
    "!pip install prophet --quiet\n",
    "dbutils.library.restartPython()"
   ]
  },
  {
   "cell_type": "code",
   "execution_count": 0,
   "metadata": {
    "application/vnd.databricks.v1+cell": {
     "cellMetadata": {
      "byteLimit": 2048000,
      "rowLimit": 10000
     },
     "inputWidgets": {},
     "nuid": "15d1cdc4-f6cd-46c9-a909-994e56105c14",
     "showTitle": false,
     "title": ""
    }
   },
   "outputs": [
    {
     "output_type": "stream",
     "name": "stdout",
     "output_type": "stream",
     "text": [
      "\u001B[43mNote: you may need to restart the kernel using dbutils.library.restartPython() to use updated packages.\u001B[0m\n\u001B[43mNote: you may need to restart the kernel using dbutils.library.restartPython() to use updated packages.\u001B[0m\n"
     ]
    }
   ],
   "source": [
    "!pip install statsmodels  --quiet  \n",
    "dbutils.library.restartPython()"
   ]
  },
  {
   "cell_type": "code",
   "execution_count": 0,
   "metadata": {
    "application/vnd.databricks.v1+cell": {
     "cellMetadata": {
      "byteLimit": 2048000,
      "rowLimit": 10000
     },
     "inputWidgets": {},
     "nuid": "fb78d95b-0953-458a-b563-d0ddabcc863c",
     "showTitle": false,
     "title": ""
    }
   },
   "outputs": [],
   "source": [
    "\n",
    "from pyspark.sql import SparkSession\n",
    "from pyspark.sql.types import StructType, StructField, DoubleType, LongType, TimestampType,StringType\n",
    "from datetime import datetime\n",
    "from pyspark import SparkConf,SparkContext\n",
    "from pyspark.sql.functions import from_unixtime\n",
    "from pyspark.sql.functions import current_timestamp\n",
    "import json\n",
    "import requests\n",
    "import pyspark.sql.functions as F\n",
    "import pyspark.sql.functions as f\n",
    "\n",
    "#Data Visualization Packages:\n",
    "#Seaborn\n",
    "import seaborn as sns\n",
    "sns.set(rc={'figure.figsize':(10,6)})\n",
    "custom_colors = [\"#4e89ae\", \"#c56183\",\"#ed6663\",\"#ffa372\"]\n",
    "\n",
    "#Matplotlib\n",
    "import matplotlib\n",
    "import matplotlib.pyplot as plt\n",
    "matplotlib.rc('xtick',labelsize=30)\n",
    "matplotlib.rc('ytick',labelsize=30)\n",
    "import seaborn as sns\n",
    "sns.set(style='whitegrid',color_codes=True)\n",
    "from statsmodels.tsa.stattools import acf,pacf\n",
    "\n",
    "\n",
    "import pandas as pd\n",
    "import numpy as np \n",
    "\n",
    "from prophet import Prophet\n",
    "#Time series Analysis pacakages:\n",
    "\n",
    "from statsmodels.tsa.seasonal import seasonal_decompose\n",
    "from statsmodels.tsa.stattools import kpss\n",
    "from statsmodels.tsa.stattools import adfuller\n",
    "from statsmodels.graphics.tsaplots import plot_acf, plot_pacf\n",
    "from statsmodels.tsa.api import ExponentialSmoothing,SimpleExpSmoothing, Holt\n",
    "from statsmodels.tsa.stattools import adfuller\n",
    "\n",
    "#Prophet\n",
    "from prophet import Prophet\n",
    "from prophet.diagnostics import cross_validation, performance_metrics\n",
    "from prophet.plot import add_changepoints_to_plot, plot_cross_validation_metric"
   ]
  },
  {
   "cell_type": "code",
   "execution_count": 0,
   "metadata": {
    "application/vnd.databricks.v1+cell": {
     "cellMetadata": {
      "byteLimit": 2048000,
      "rowLimit": 10000
     },
     "inputWidgets": {},
     "nuid": "20a72614-549c-4599-ac1a-bc58dcf936a0",
     "showTitle": false,
     "title": ""
    }
   },
   "outputs": [
    {
     "output_type": "execute_result",
     "data": {
      "text/html": [
       "\n",
       "            <div>\n",
       "                <p><b>SparkSession - hive</b></p>\n",
       "                \n",
       "        <div>\n",
       "            <p><b>SparkContext</b></p>\n",
       "\n",
       "            <p><a href=\"/?o=1785103845420211#setting/sparkui/0420-222024-7h7p6ryw/driver-7385327800527170995\">Spark UI</a></p>\n",
       "\n",
       "            <dl>\n",
       "              <dt>Version</dt>\n",
       "                <dd><code>v3.5.0</code></dd>\n",
       "              <dt>Master</dt>\n",
       "                <dd><code>local[8]</code></dd>\n",
       "              <dt>AppName</dt>\n",
       "                <dd><code>Databricks Shell</code></dd>\n",
       "            </dl>\n",
       "        </div>\n",
       "        \n",
       "            </div>\n",
       "        "
      ],
      "text/plain": [
       "<pyspark.sql.session.SparkSession at 0x7f6a37958bb0>"
      ]
     },
     "execution_count": 2,
     "metadata": {},
     "output_type": "execute_result"
    }
   ],
   "source": [
    "spark"
   ]
  },
  {
   "cell_type": "code",
   "execution_count": 0,
   "metadata": {
    "application/vnd.databricks.v1+cell": {
     "cellMetadata": {
      "byteLimit": 2048000,
      "rowLimit": 10000
     },
     "inputWidgets": {},
     "nuid": "be407aea-8cef-44a9-ab6f-ea2026abe61e",
     "showTitle": false,
     "title": ""
    }
   },
   "outputs": [],
   "source": [
    "\n",
    "def fetch_hourly_data(spark,symbol=\"BTC/USD\"):\n",
    "    pair_split = symbol.split('/')  # symbol must be in format XXX/XXX ie. BTC/EUR\n",
    "    symbol = pair_split[0] + '-' + pair_split[1]\n",
    "    url = f'https://api.pro.coinbase.com/products/{symbol}/candles?granularity=86400'\n",
    "    response = requests.get(url)\n",
    "    if response.status_code == 200:  # check to make sure the response from server is good\n",
    "        data = json.loads(response.text)\n",
    "        \n",
    "        # Define the schema explicitly\n",
    "        schema = StructType([\n",
    "            StructField(\"Timestamp\", StringType(), True),\n",
    "            StructField(\"Low\", StringType(), True),\n",
    "            StructField(\"High\", StringType(), True),\n",
    "            StructField(\"Open\", StringType(), True),\n",
    "            StructField(\"Close\", StringType(), True),\n",
    "            StructField(\"Volume\", StringType(), True)\n",
    "        ])\n",
    "        \n",
    "        # Create DataFrame with the specified schema\n",
    "        df = spark.createDataFrame(data, schema=schema)\n",
    "        if df.isEmpty():\n",
    "            print(\"Did not return any data from Coinbase for this symbol\")\n",
    "        else:\n",
    "            #df.write.parquet(f'/FileStore/tables/coinbase_data/Coinbase_{pair_split[0]}{pair_split[1]}_{current_timestamp}_hourlydata.parquet', mode='overwrite')\n",
    "            return df\n",
    "    else:\n",
    "        print(\"Did not receive OK response from Coinbase API\")"
   ]
  },
  {
   "cell_type": "code",
   "execution_count": 0,
   "metadata": {
    "application/vnd.databricks.v1+cell": {
     "cellMetadata": {
      "byteLimit": 2048000,
      "rowLimit": 10000
     },
     "inputWidgets": {},
     "nuid": "43171a8a-aee6-4e08-9d7e-3f1d32957c5a",
     "showTitle": false,
     "title": ""
    }
   },
   "outputs": [
    {
     "output_type": "display_data",
     "data": {
      "text/html": [
       "<style scoped>\n",
       "  .table-result-container {\n",
       "    max-height: 300px;\n",
       "    overflow: auto;\n",
       "  }\n",
       "  table, th, td {\n",
       "    border: 1px solid black;\n",
       "    border-collapse: collapse;\n",
       "  }\n",
       "  th, td {\n",
       "    padding: 5px;\n",
       "  }\n",
       "  th {\n",
       "    text-align: left;\n",
       "  }\n",
       "</style><div class='table-result-container'><table class='table-result'><thead style='background-color: white'><tr><th>Timestamp</th><th>Low</th><th>High</th><th>Open</th><th>Close</th><th>Volume</th></tr></thead><tbody><tr><td>1713657600</td><td>64767.34</td><td>64985.95</td><td>64960.82</td><td>64906.18</td><td>52.53767582</td></tr><tr><td>1713571200</td><td>63121.15</td><td>65463.08</td><td>63841.96</td><td>64968.87</td><td>5157.40726514</td></tr><tr><td>1713484800</td><td>59573.32</td><td>65498.99</td><td>63514.84</td><td>63848.37</td><td>22838.07934159</td></tr><tr><td>1713398400</td><td>60816.07</td><td>64210</td><td>61275.73</td><td>63513.85</td><td>15246.98539812</td></tr><tr><td>1713312000</td><td>59648.33</td><td>64524.14</td><td>63814.94</td><td>61279.36</td><td>21811.86704912</td></tr><tr><td>1713225600</td><td>61645.09</td><td>64400</td><td>63452.18</td><td>63814.94</td><td>17710.28213211</td></tr><tr><td>1713139200</td><td>62315.08</td><td>66928.82</td><td>65764.56</td><td>63452.18</td><td>21668.43122052</td></tr><tr><td>1713052800</td><td>62150</td><td>65890.91</td><td>64021.36</td><td>65777.05</td><td>21604.05147827</td></tr><tr><td>1712966400</td><td>60822.01</td><td>69100</td><td>67148.62</td><td>64024.77</td><td>27548.47240557</td></tr><tr><td>1712880000</td><td>65110.31</td><td>71265.74</td><td>70020.71</td><td>67148.61</td><td>23509.04415329</td></tr><tr><td>1712793600</td><td>69530</td><td>71305.86</td><td>70638.4</td><td>70020.73</td><td>11001.1381514</td></tr><tr><td>1712707200</td><td>67463.07</td><td>71159.6</td><td>69115.79</td><td>70634.04</td><td>16655.987797</td></tr><tr><td>1712620800</td><td>68200</td><td>71761.37</td><td>71616.31</td><td>69117.01</td><td>15143.52341376</td></tr><tr><td>1712534400</td><td>69037.33</td><td>72777</td><td>69350.36</td><td>71622.53</td><td>16648.20773443</td></tr><tr><td>1712448000</td><td>68846.23</td><td>70312</td><td>68919.57</td><td>69350.34</td><td>5766.41938443</td></tr><tr><td>1712361600</td><td>67469.19</td><td>69685</td><td>67856.51</td><td>68919.89</td><td>3985.44167764</td></tr><tr><td>1712275200</td><td>66000</td><td>68783.99</td><td>68528.69</td><td>67856.51</td><td>15515.02984528</td></tr><tr><td>1712188800</td><td>65073.95</td><td>69367.19</td><td>65984.18</td><td>68525.23</td><td>18624.08140025</td></tr><tr><td>1712102400</td><td>64500</td><td>66944.06</td><td>65472</td><td>65987.92</td><td>14506.55934744</td></tr><tr><td>1712016000</td><td>64521.61</td><td>69711</td><td>69681.85</td><td>65464.14</td><td>23496.46591597</td></tr><tr><td>1711929600</td><td>68055.15</td><td>71313.8</td><td>71291.5</td><td>69681.82</td><td>13916.60016523</td></tr><tr><td>1711843200</td><td>69587.86</td><td>71399.91</td><td>69623.86</td><td>71288.9</td><td>4424.66955382</td></tr><tr><td>1711756800</td><td>69569.03</td><td>70363.25</td><td>69903.74</td><td>69626.87</td><td>3262.62331859</td></tr><tr><td>1711670400</td><td>69036.95</td><td>70941.7</td><td>70804.06</td><td>69903.75</td><td>7364.3987269</td></tr><tr><td>1711584000</td><td>68841.01</td><td>71635.99</td><td>69437.16</td><td>70801.18</td><td>15223.15591033</td></tr><tr><td>1711497600</td><td>68369.62</td><td>71789.85</td><td>69994.9</td><td>69435.96</td><td>18703.73738295</td></tr><tr><td>1711411200</td><td>69269.69</td><td>71582.96</td><td>69895.6</td><td>69992.4</td><td>15697.73440865</td></tr><tr><td>1711324800</td><td>66381.84</td><td>71269.92</td><td>67212.69</td><td>69890.28</td><td>22228.13803338</td></tr><tr><td>1711238400</td><td>63785.57</td><td>67637.6</td><td>63998.87</td><td>67204.93</td><td>6535.8276512</td></tr><tr><td>1711152000</td><td>63013.19</td><td>66029.09</td><td>63814.56</td><td>63998.86</td><td>7395.08270425</td></tr><tr><td>1711065600</td><td>62258.36</td><td>66651.1</td><td>65478.98</td><td>63814.56</td><td>17807.65930238</td></tr><tr><td>1710979200</td><td>64525</td><td>68234.56</td><td>67855.88</td><td>65484.7</td><td>18523.96247162</td></tr><tr><td>1710892800</td><td>60771.14</td><td>68150</td><td>61902.57</td><td>67858.8</td><td>38590.78345488</td></tr><tr><td>1710806400</td><td>61506</td><td>68136.39</td><td>67609.39</td><td>61906.27</td><td>40111.97553957</td></tr><tr><td>1710720000</td><td>66562.65</td><td>68933.71</td><td>68354.29</td><td>67613.04</td><td>20057.37580028</td></tr><tr><td>1710633600</td><td>64505</td><td>68877.82</td><td>65254.22</td><td>68343.64</td><td>12631.85084112</td></tr><tr><td>1710547200</td><td>64774.05</td><td>70050</td><td>69514.87</td><td>65254.22</td><td>16532.825303</td></tr><tr><td>1710460800</td><td>65565.7</td><td>72414.96</td><td>71364.58</td><td>69506.88</td><td>40195.84231178</td></tr><tr><td>1710374400</td><td>68454.47</td><td>73835.57</td><td>73135.04</td><td>71364.58</td><td>34226.602618</td></tr><tr><td>1710288000</td><td>71337.3</td><td>73709.99</td><td>71473.43</td><td>73135.04</td><td>21455.92195688</td></tr><tr><td>1710201600</td><td>68603</td><td>73027.63</td><td>72110.98</td><td>71475.93</td><td>29420.19277654</td></tr><tr><td>1710115200</td><td>67112.21</td><td>72943.98</td><td>69032.8</td><td>72110.98</td><td>32332.72583229</td></tr><tr><td>1710028800</td><td>68221.13</td><td>70000</td><td>68480.01</td><td>69032.12</td><td>12163.05713369</td></tr><tr><td>1709942400</td><td>68047.62</td><td>68700.41</td><td>68289.16</td><td>68480</td><td>9005.50992187</td></tr><tr><td>1709856000</td><td>66157.09</td><td>70199</td><td>66938.21</td><td>68289.16</td><td>33749.52797544</td></tr><tr><td>1709769600</td><td>65599.63</td><td>68098.09</td><td>66115.48</td><td>66938.21</td><td>22228.36739914</td></tr><tr><td>1709683200</td><td>62832.39</td><td>67654.06</td><td>63802.15</td><td>66122.28</td><td>34653.87884591</td></tr><tr><td>1709596800</td><td>59224.68</td><td>69324.58</td><td>68356.7</td><td>63800.78</td><td>65575.09537327</td></tr><tr><td>1709510400</td><td>62300</td><td>68602.98</td><td>63155.74</td><td>68360.14</td><td>40600.36656889</td></tr><tr><td>1709424000</td><td>61388</td><td>63260</td><td>62045.78</td><td>63154.49</td><td>7314.17629968</td></tr><tr><td>1709337600</td><td>61623.39</td><td>62500</td><td>62439.74</td><td>62045.78</td><td>6882.38410251</td></tr><tr><td>1709251200</td><td>60788.33</td><td>63267.18</td><td>61179.03</td><td>62436.72</td><td>24696.65692545</td></tr><tr><td>1709164800</td><td>60355.61</td><td>63675.48</td><td>62520.06</td><td>61179.03</td><td>36825.89535085</td></tr><tr><td>1709078400</td><td>56723.48</td><td>64100</td><td>57077.08</td><td>62518.9</td><td>48265.6721171</td></tr><tr><td>1708992000</td><td>54490.8</td><td>57646.81</td><td>54530.32</td><td>57077.07</td><td>28791.48651731</td></tr><tr><td>1708905600</td><td>50901.23</td><td>54980</td><td>51730.96</td><td>54533.48</td><td>22422.38763854</td></tr><tr><td>1708819200</td><td>51275.01</td><td>51967.82</td><td>51568.63</td><td>51731</td><td>3617.40106809</td></tr><tr><td>1708732800</td><td>50576.55</td><td>51696.19</td><td>50746.98</td><td>51570.65</td><td>3448.96576791</td></tr><tr><td>1708646400</td><td>50513.01</td><td>51512.68</td><td>51260.29</td><td>50747.05</td><td>11679.16625824</td></tr><tr><td>1708560000</td><td>50905.65</td><td>52076</td><td>51851.46</td><td>51258.7</td><td>13104.51408087</td></tr><tr><td>1708473600</td><td>50628.6</td><td>52394.91</td><td>52277.53</td><td>51851.67</td><td>13735.03407249</td></tr><tr><td>1708387200</td><td>50764.01</td><td>53000</td><td>51787.05</td><td>52277.52</td><td>15888.87599974</td></tr><tr><td>1708300800</td><td>51687.98</td><td>52501.01</td><td>52153.63</td><td>51787.05</td><td>6009.01451962</td></tr><tr><td>1708214400</td><td>51174.38</td><td>52400</td><td>51666.23</td><td>52153.63</td><td>3997.17143898</td></tr><tr><td>1708128000</td><td>50642.36</td><td>52214.05</td><td>52162.65</td><td>51666.22</td><td>5387.27413329</td></tr><tr><td>1708041600</td><td>51597.87</td><td>52608.2</td><td>51935.23</td><td>52162.64</td><td>13816.27351282</td></tr><tr><td>1707955200</td><td>51353.49</td><td>52890</td><td>51858.51</td><td>51934.29</td><td>18465.04404385</td></tr><tr><td>1707868800</td><td>49253.92</td><td>52111</td><td>49724.55</td><td>51858.59</td><td>20249.94369733</td></tr><tr><td>1707782400</td><td>48327.81</td><td>50423.42</td><td>49941.95</td><td>49725.36</td><td>20471.56790372</td></tr><tr><td>1707696000</td><td>47715.67</td><td>50363.42</td><td>48321.14</td><td>49941.81</td><td>18540.40980624</td></tr><tr><td>1707609600</td><td>47590.3</td><td>48614</td><td>47767.06</td><td>48316.3</td><td>5243.1260706</td></tr><tr><td>1707523200</td><td>46889.53</td><td>48179.43</td><td>47157.01</td><td>47767.06</td><td>5663.309891</td></tr><tr><td>1707436800</td><td>45252.93</td><td>48230.02</td><td>45304.83</td><td>47160.41</td><td>21802.75242269</td></tr><tr><td>1707350400</td><td>44335</td><td>45637.38</td><td>44345.94</td><td>45305.2</td><td>19283.80580787</td></tr><tr><td>1707264000</td><td>42760.44</td><td>44430</td><td>43097.16</td><td>44343.61</td><td>12440.36853251</td></tr><tr><td>1707177600</td><td>42516.07</td><td>43372.79</td><td>42658.3</td><td>43095.79</td><td>7940.35140737</td></tr><tr><td>1707091200</td><td>42235</td><td>43520</td><td>42571.91</td><td>42657.67</td><td>8756.87806894</td></tr><tr><td>1707004800</td><td>42228.01</td><td>43100</td><td>43007.82</td><td>42568.55</td><td>2643.251649</td></tr><tr><td>1706918400</td><td>42863.58</td><td>43358.13</td><td>43183.62</td><td>43010.67</td><td>2254.45335539</td></tr><tr><td>1706832000</td><td>42527.58</td><td>43700</td><td>43080.38</td><td>43181.66</td><td>12202.24125895</td></tr><tr><td>1706745600</td><td>41846.04</td><td>43276.19</td><td>42545.47</td><td>43078.81</td><td>11526.63383073</td></tr><tr><td>1706659200</td><td>42265.77</td><td>43741.94</td><td>42937.72</td><td>42548.08</td><td>15320.55510554</td></tr><tr><td>1706572800</td><td>42680.2</td><td>43872.99</td><td>43303.3</td><td>42942.78</td><td>16384.61219735</td></tr><tr><td>1706486400</td><td>41787.35</td><td>43326.77</td><td>42034.57</td><td>43306.18</td><td>12529.09255982</td></tr><tr><td>1706400000</td><td>41617.53</td><td>42839.07</td><td>42126.55</td><td>42034.59</td><td>4298.44263812</td></tr><tr><td>1706313600</td><td>41383.94</td><td>42199.99</td><td>41814.96</td><td>42126.55</td><td>3774.45056434</td></tr><tr><td>1706227200</td><td>39805.95</td><td>42243.14</td><td>39941.66</td><td>41814.8</td><td>19359.37921096</td></tr><tr><td>1706140800</td><td>39503</td><td>40282.87</td><td>40079.87</td><td>39941.66</td><td>12977.61691901</td></tr><tr><td>1706054400</td><td>39382.15</td><td>40527.26</td><td>39878.28</td><td>40077.78</td><td>17438.97734668</td></tr><tr><td>1705968000</td><td>38501</td><td>40144.49</td><td>39524.27</td><td>39878.3</td><td>21966.56334645</td></tr><tr><td>1705881600</td><td>39372.44</td><td>41658</td><td>41553.92</td><td>39524.27</td><td>26539.34338688</td></tr><tr><td>1705795200</td><td>41472.49</td><td>41858.59</td><td>41666.67</td><td>41554.05</td><td>3138.26294449</td></tr><tr><td>1705708800</td><td>41418.55</td><td>41846.15</td><td>41623.94</td><td>41666.67</td><td>4836.63124969</td></tr><tr><td>1705622400</td><td>40236.49</td><td>42159.52</td><td>41290.57</td><td>41624.07</td><td>22744.88751944</td></tr><tr><td>1705536000</td><td>40600.05</td><td>42877.22</td><td>42737.68</td><td>41293.5</td><td>25089.48495636</td></tr><tr><td>1705449600</td><td>42160</td><td>43185.47</td><td>43130.35</td><td>42739.49</td><td>16377.4603776</td></tr><tr><td>1705363200</td><td>42028.02</td><td>43569.23</td><td>42481.69</td><td>43130.45</td><td>18180.4405406</td></tr><tr><td>1705276800</td><td>41680</td><td>43331.91</td><td>41698.13</td><td>42490.16</td><td>10869.45830576</td></tr><tr><td>1705190400</td><td>41680.73</td><td>43064.13</td><td>42839.32</td><td>41697.33</td><td>7834.26155365</td></tr><tr><td>1705104000</td><td>42427</td><td>43250</td><td>42775.1</td><td>42839.33</td><td>10998.76404264</td></tr><tr><td>1705017600</td><td>41444.97</td><td>46522.2</td><td>46344.96</td><td>42773.03</td><td>46862.43347199</td></tr><tr><td>1704931200</td><td>45555.55</td><td>49102.29</td><td>46678.54</td><td>46342.66</td><td>38150.89478822</td></tr><tr><td>1704844800</td><td>44320.01</td><td>47732.5</td><td>46120.79</td><td>46666.11</td><td>36534.39765866</td></tr><tr><td>1704758400</td><td>44701.54</td><td>47901</td><td>46995.09</td><td>46124.08</td><td>26305.56366042</td></tr><tr><td>1704672000</td><td>43200.44</td><td>47330</td><td>43954.52</td><td>46995.1</td><td>26447.17326625</td></tr><tr><td>1704585600</td><td>43629.7</td><td>44510.01</td><td>43992.79</td><td>43950.28</td><td>5931.34650683</td></tr><tr><td>1704499200</td><td>43436.5</td><td>44260.95</td><td>44187.76</td><td>43992.44</td><td>5691.43460343</td></tr><tr><td>1704412800</td><td>42450</td><td>44443.37</td><td>44198.35</td><td>44186.59</td><td>18073.09561495</td></tr><tr><td>1704326400</td><td>42650</td><td>44800</td><td>42860.58</td><td>44193.29</td><td>18190.29825676</td></tr><tr><td>1704240000</td><td>40625.68</td><td>45519.32</td><td>44972.81</td><td>42862.44</td><td>32281.85234351</td></tr><tr><td>1704153600</td><td>44195.13</td><td>45925.82</td><td>44220.78</td><td>44972.8</td><td>29583.38407747</td></tr><tr><td>1704067200</td><td>42175.65</td><td>44240.8</td><td>42288.58</td><td>44220.78</td><td>7977.72851143</td></tr><tr><td>1703980800</td><td>41964.68</td><td>42850</td><td>42139.32</td><td>42288.06</td><td>11397.57303743</td></tr><tr><td>1703894400</td><td>41518.19</td><td>42593.73</td><td>42064.22</td><td>42141.03</td><td>11609.82377015</td></tr><tr><td>1703808000</td><td>41300</td><td>43137.1</td><td>42581.23</td><td>42063.45</td><td>16756.43323881</td></tr><tr><td>1703721600</td><td>42265.08</td><td>43830.34</td><td>43469.06</td><td>42581.23</td><td>13583.91599843</td></tr><tr><td>1703635200</td><td>42111.47</td><td>43709.98</td><td>42521.21</td><td>43474.4</td><td>12917.48404475</td></tr><tr><td>1703548800</td><td>41600.67</td><td>43605</td><td>43589.67</td><td>42515.53</td><td>13030.02545286</td></tr><tr><td>1703462400</td><td>42755.35</td><td>43818.29</td><td>43025.02</td><td>43589.67</td><td>4799.73104807</td></tr><tr><td>1703376000</td><td>42614.17</td><td>43985.67</td><td>43728.36</td><td>43025.03</td><td>4947.00165569</td></tr><tr><td>1703289600</td><td>43333.35</td><td>44033.84</td><td>44013.65</td><td>43726.35</td><td>4075.08953972</td></tr><tr><td>1703203200</td><td>43412.82</td><td>44424.36</td><td>43875.56</td><td>44013.73</td><td>10733.55348079</td></tr><tr><td>1703116800</td><td>43295.78</td><td>44250</td><td>43673.11</td><td>43875.32</td><td>13170.9728222</td></tr><tr><td>1703030400</td><td>42184.48</td><td>44324.86</td><td>42266.25</td><td>43674.77</td><td>19307.1089644</td></tr><tr><td>1702944000</td><td>41780</td><td>43461.86</td><td>42650.01</td><td>42266.22</td><td>13403.93447528</td></tr><tr><td>1702857600</td><td>40508.01</td><td>42754.79</td><td>41349.59</td><td>42650.01</td><td>13394.33474824</td></tr><tr><td>1702771200</td><td>41222</td><td>42367.82</td><td>42235.23</td><td>41349.59</td><td>6649.06495765</td></tr><tr><td>1702684800</td><td>41626.66</td><td>42680.2</td><td>41934.84</td><td>42237.29</td><td>5315.65582307</td></tr><tr><td>1702598400</td><td>41640.51</td><td>43095.71</td><td>43027.77</td><td>41933.89</td><td>10861.72864667</td></tr><tr><td>1702512000</td><td>41426.76</td><td>43442.15</td><td>42887.39</td><td>43027.77</td><td>15434.25971384</td></tr><tr><td>1702425600</td><td>40553.15</td><td>43475</td><td>41477.6</td><td>42885.54</td><td>15796.88171408</td></tr><tr><td>1702339200</td><td>40636.51</td><td>42088.56</td><td>41229.61</td><td>41477.39</td><td>13414.86773655</td></tr><tr><td>1702252800</td><td>40150</td><td>43811.81</td><td>43793.67</td><td>41229.61</td><td>25524.67094691</td></tr><tr><td>1702166400</td><td>43562.06</td><td>44049.51</td><td>43722.84</td><td>43793.68</td><td>3919.09423649</td></tr><tr><td>1702080000</td><td>43586.14</td><td>44384.68</td><td>44192.86</td><td>43723.25</td><td>5469.40708431</td></tr><tr><td>1701993600</td><td>43087.17</td><td>44754.99</td><td>43281.11</td><td>44192.87</td><td>13579.0453041</td></tr><tr><td>1701907200</td><td>42846.53</td><td>44057.23</td><td>43766.41</td><td>43280.95</td><td>13055.36691088</td></tr><tr><td>1701820800</td><td>43369</td><td>44290.37</td><td>44086.33</td><td>43764.05</td><td>15977.54656616</td></tr><tr><td>1701734400</td><td>41384.03</td><td>45000</td><td>41985.53</td><td>44084.39</td><td>24018.76035474</td></tr><tr><td>1701648000</td><td>39983.6</td><td>42410.46</td><td>39984.81</td><td>41987.24</td><td>21993.05995554</td></tr><tr><td>1701561600</td><td>39293.02</td><td>40221.22</td><td>39467.42</td><td>39984.81</td><td>7153.15663784</td></tr><tr><td>1701475200</td><td>38660.03</td><td>39740</td><td>38706.55</td><td>39478.95</td><td>7540.7688183</td></tr><tr><td>1701388800</td><td>37618.25</td><td>39000</td><td>37732.27</td><td>38703.54</td><td>16395.90197806</td></tr><tr><td>1701302400</td><td>37500</td><td>38152.18</td><td>37864.79</td><td>37732.27</td><td>8081.19248391</td></tr><tr><td>1701216000</td><td>37581.93</td><td>38480</td><td>37838.26</td><td>37863.84</td><td>15162.68883049</td></tr><tr><td>1701129600</td><td>36873.55</td><td>38425.96</td><td>37241.64</td><td>37838.26</td><td>18156.47258233</td></tr><tr><td>1701043200</td><td>36715.1</td><td>37578.42</td><td>37462.01</td><td>37241.63</td><td>13510.45476059</td></tr><tr><td>1700956800</td><td>37156.72</td><td>37842.17</td><td>37806.84</td><td>37462.79</td><td>6113.0562518</td></tr><tr><td>1700870400</td><td>37615.91</td><td>37920.27</td><td>37746.29</td><td>37805.99</td><td>3567.42244915</td></tr><tr><td>1700784000</td><td>37257.56</td><td>38454</td><td>37304.04</td><td>37745.84</td><td>17507.8900414</td></tr><tr><td>1700697600</td><td>36888</td><td>37653.67</td><td>37424.31</td><td>37304.05</td><td>7211.31754936</td></tr><tr><td>1700611200</td><td>35633</td><td>37875</td><td>35755.33</td><td>37424.31</td><td>17606.97239528</td></tr><tr><td>1700524800</td><td>35744.9</td><td>37675.77</td><td>37472.76</td><td>35751.89</td><td>20837.73934338</td></tr><tr><td>1700438400</td><td>36720</td><td>37784.07</td><td>37389.06</td><td>37475.64</td><td>14114.01039926</td></tr><tr><td>1700352000</td><td>36404.52</td><td>37546.62</td><td>36596.14</td><td>37391.19</td><td>4366.44892344</td></tr><tr><td>1700265600</td><td>36205.89</td><td>36857.15</td><td>36631.56</td><td>36594.89</td><td>3468.39821362</td></tr><tr><td>1700179200</td><td>35869</td><td>36831.99</td><td>36161.15</td><td>36630.38</td><td>12218.85138403</td></tr><tr><td>1700092800</td><td>35511.11</td><td>37958.75</td><td>37885.35</td><td>36161.15</td><td>18455.96829165</td></tr><tr><td>1700006400</td><td>35358.45</td><td>37987</td><td>35554.1</td><td>37885.35</td><td>19941.6757032</td></tr><tr><td>1699920000</td><td>34758.64</td><td>36756.16</td><td>36475.68</td><td>35554.09</td><td>16008.49077729</td></tr><tr><td>1699833600</td><td>36351</td><td>37442.48</td><td>37086.5</td><td>36475.67</td><td>10543.29564712</td></tr><tr><td>1699747200</td><td>36740.9</td><td>37247</td><td>37139.94</td><td>37086.03</td><td>3317.50278576</td></tr><tr><td>1699660800</td><td>36701.5</td><td>37424.03</td><td>37324.84</td><td>37139.12</td><td>5344.45382766</td></tr><tr><td>1699574400</td><td>36334.46</td><td>37548.8</td><td>36704.01</td><td>37324.83</td><td>15181.1682642</td></tr><tr><td>1699488000</td><td>35555.16</td><td>37999</td><td>35639.13</td><td>36706.59</td><td>29045.63709695</td></tr><tr><td>1699401600</td><td>35103.14</td><td>36113.59</td><td>35416.63</td><td>35639.13</td><td>12253.04717936</td></tr><tr><td>1699315200</td><td>34530.67</td><td>35963</td><td>35059.46</td><td>35416.28</td><td>13841.59195597</td></tr><tr><td>1699228800</td><td>34753.66</td><td>35294.12</td><td>35035.79</td><td>35059.46</td><td>7088.27217192</td></tr><tr><td>1699142400</td><td>34500</td><td>35410</td><td>35087.43</td><td>35035.42</td><td>5892.67329337</td></tr><tr><td>1699056000</td><td>34599.85</td><td>35278.4</td><td>34730.32</td><td>35087.01</td><td>4696.62281508</td></tr><tr><td>1698969600</td><td>34100</td><td>34954.6</td><td>34947.92</td><td>34731.27</td><td>13960.85628785</td></tr><tr><td>1698883200</td><td>34311.73</td><td>35997.8</td><td>35440.1</td><td>34950</td><td>13455.65527035</td></tr><tr><td>1698796800</td><td>34079.46</td><td>35647.19</td><td>34656.38</td><td>35440.1</td><td>16196.30263792</td></tr><tr><td>1698710400</td><td>34038.79</td><td>34732.18</td><td>34493.51</td><td>34656.4</td><td>9281.37651426</td></tr><tr><td>1698624000</td><td>34077.9</td><td>34871</td><td>34534.48</td><td>34493.79</td><td>10183.35509429</td></tr><tr><td>1698537600</td><td>33937.31</td><td>34763</td><td>34085.42</td><td>34534.48</td><td>5547.09585659</td></tr><tr><td>1698451200</td><td>33867.38</td><td>34500</td><td>33905.96</td><td>34085.42</td><td>4372.52724873</td></tr><tr><td>1698364800</td><td>33400</td><td>34249.99</td><td>34153.35</td><td>33906.09</td><td>13879.04330119</td></tr><tr><td>1698278400</td><td>33735.86</td><td>34843.04</td><td>34504.33</td><td>34154.71</td><td>15867.44697165</td></tr><tr><td>1698192000</td><td>33690.91</td><td>35144</td><td>33921.66</td><td>34506.35</td><td>18668.45817435</td></tr><tr><td>1698105600</td><td>32851.45</td><td>35157.23</td><td>33079.72</td><td>33922.52</td><td>38506.35962554</td></tr><tr><td>1698019200</td><td>29890.89</td><td>35000</td><td>30004.14</td><td>33087.58</td><td>33228.46734771</td></tr><tr><td>1697932800</td><td>29670</td><td>30275</td><td>29925.91</td><td>30004.15</td><td>5720.28965895</td></tr><tr><td>1697846400</td><td>29475.06</td><td>30369</td><td>29684.73</td><td>29924.84</td><td>6369.9347533</td></tr><tr><td>1697760000</td><td>28591.85</td><td>30248</td><td>28734.51</td><td>29684.73</td><td>20095.91529217</td></tr><tr><td>1697673600</td><td>28122.57</td><td>28938.96</td><td>28326.24</td><td>28735.34</td><td>12662.68000489</td></tr><tr><td>1697587200</td><td>28151.6</td><td>28999.98</td><td>28408.51</td><td>28326.51</td><td>11820.68114047</td></tr><tr><td>1697500800</td><td>28083.19</td><td>28637.21</td><td>28520.24</td><td>28408.83</td><td>14171.43180714</td></tr><tr><td>1697414400</td><td>27135.92</td><td>30000</td><td>27186.13</td><td>28520.24</td><td>36471.7502374</td></tr><tr><td>1697328000</td><td>26806.06</td><td>27301.37</td><td>26851.71</td><td>27186.13</td><td>6215.85130529</td></tr><tr><td>1697241600</td><td>26797</td><td>26988.12</td><td>26863.54</td><td>26851.71</td><td>2786.76009652</td></tr><tr><td>1697155200</td><td>26662.62</td><td>27122.24</td><td>26752.06</td><td>26863.53</td><td>8694.0854594</td></tr><tr><td>1697068800</td><td>26537.72</td><td>26939.55</td><td>26867.97</td><td>26750.51</td><td>7881.20407108</td></tr><tr><td>1696982400</td><td>26521.32</td><td>27478.61</td><td>27393.28</td><td>26869.19</td><td>16466.26612207</td></tr><tr><td>1696896000</td><td>27291.81</td><td>27739.94</td><td>27596.67</td><td>27393.29</td><td>10265.79357936</td></tr><tr><td>1696809600</td><td>27268.63</td><td>28003.7</td><td>27933.54</td><td>27596.67</td><td>10218.62556021</td></tr><tr><td>1696723200</td><td>27708.6</td><td>28109.94</td><td>27976.44</td><td>27933.55</td><td>4118.56381073</td></tr><tr><td>1696636800</td><td>27861.2</td><td>28040.84</td><td>27945.17</td><td>27976.43</td><td>3489.91595717</td></tr><tr><td>1696550400</td><td>27173.41</td><td>28288.88</td><td>27413.15</td><td>27945.17</td><td>12908.75146274</td></tr><tr><td>1696464000</td><td>27358.05</td><td>28140</td><td>27786.12</td><td>27412.96</td><td>14136.04592802</td></tr><tr><td>1696377600</td><td>27208.65</td><td>27842.38</td><td>27428.96</td><td>27786.75</td><td>10238.17053376</td></tr><tr><td>1696291200</td><td>27160.47</td><td>27672.12</td><td>27504.03</td><td>27428.96</td><td>14334.10857629</td></tr><tr><td>1696204800</td><td>27302.3</td><td>28613.37</td><td>27995.46</td><td>27504.04</td><td>25148.25341854</td></tr><tr><td>1696118400</td><td>26955.25</td><td>28062.62</td><td>26961</td><td>27995.46</td><td>8747.06888783</td></tr><tr><td>1696032000</td><td>26884.86</td><td>27097.25</td><td>26905.57</td><td>26961</td><td>4413.30948101</td></tr><tr><td>1695945600</td><td>26661.71</td><td>27238.9</td><td>27027.44</td><td>26907</td><td>12712.27177691</td></tr><tr><td>1695859200</td><td>26321.37</td><td>27313.86</td><td>26357.56</td><td>27027.14</td><td>18975.87763693</td></tr><tr><td>1695772800</td><td>26088.37</td><td>26830</td><td>26208.43</td><td>26357.62</td><td>14123.89690964</td></tr><tr><td>1695686400</td><td>26080</td><td>26397.59</td><td>26296.07</td><td>26208.44</td><td>7016.42122845</td></tr><tr><td>1695600000</td><td>25983.78</td><td>26444.95</td><td>26248.17</td><td>26296.08</td><td>10762.98401397</td></tr><tr><td>1695513600</td><td>26118.86</td><td>26731.1</td><td>26579.59</td><td>26250.24</td><td>4587.80529114</td></tr><tr><td>1695427200</td><td>26513</td><td>26638.58</td><td>26578.4</td><td>26579.6</td><td>2597.25705711</td></tr><tr><td>1695340800</td><td>26467.94</td><td>26742.86</td><td>26564.54</td><td>26578.4</td><td>8563.0523313</td></tr><tr><td>1695254400</td><td>26359.7</td><td>27163.48</td><td>27122.65</td><td>26564.54</td><td>11801.98943642</td></tr><tr><td>1695168000</td><td>26798.98</td><td>27393.78</td><td>27216.52</td><td>27123.94</td><td>11590.24027633</td></tr><tr><td>1695081600</td><td>26666.93</td><td>27500</td><td>26764.03</td><td>27216.13</td><td>14386.07884728</td></tr><tr><td>1694995200</td><td>26382.13</td><td>27427.34</td><td>26530.96</td><td>26764.49</td><td>17493.70820354</td></tr><tr><td>1694908800</td><td>26405.04</td><td>26626.49</td><td>26569.69</td><td>26530.95</td><td>3252.26976131</td></tr><tr><td>1694822400</td><td>26453.32</td><td>26777</td><td>26601.71</td><td>26569.69</td><td>4132.04817572</td></tr><tr><td>1694736000</td><td>26213.96</td><td>26892.65</td><td>26532.5</td><td>26602.42</td><td>9345.93913701</td></tr><tr><td>1694649600</td><td>26128.25</td><td>26869.06</td><td>26227.16</td><td>26532.76</td><td>12929.08237721</td></tr><tr><td>1694563200</td><td>25763.43</td><td>26413.59</td><td>25839.95</td><td>26226.65</td><td>10099.7383701</td></tr><tr><td>1694476800</td><td>25120.76</td><td>26556.91</td><td>25152.13</td><td>25840.61</td><td>19789.48058328</td></tr><tr><td>1694390400</td><td>24900</td><td>25891.6</td><td>25831.77</td><td>25152.14</td><td>13404.10979142</td></tr><tr><td>1694304000</td><td>25578.01</td><td>26023.89</td><td>25897.82</td><td>25831.76</td><td>4361.60285333</td></tr><tr><td>1694217600</td><td>25791.45</td><td>25942.69</td><td>25906.33</td><td>25897.82</td><td>2225.82211069</td></tr><tr><td>1694131200</td><td>25640.1</td><td>26460.41</td><td>26276.38</td><td>25906.34</td><td>11149.95850667</td></tr><tr><td>1694044800</td><td>25595.8</td><td>26440.55</td><td>25747.63</td><td>26276.3</td><td>10885.13902329</td></tr><tr><td>1693958400</td><td>25358</td><td>26025.78</td><td>25782.49</td><td>25747.63</td><td>9374.33792185</td></tr><tr><td>1693872000</td><td>25551.36</td><td>25884.04</td><td>25816.14</td><td>25783.91</td><td>6051.14811848</td></tr><tr><td>1693785600</td><td>25627</td><td>26093.07</td><td>25969.83</td><td>25816.13</td><td>4635.8154655</td></tr><tr><td>1693699200</td><td>25792.29</td><td>26123</td><td>25867.82</td><td>25969.83</td><td>3434.5195669</td></tr><tr><td>1693612800</td><td>25707.3</td><td>25982.48</td><td>25795.61</td><td>25867.83</td><td>3810.77429103</td></tr><tr><td>1693526400</td><td>25307.37</td><td>26142.28</td><td>25931.51</td><td>25794.88</td><td>14995.72610123</td></tr><tr><td>1693440000</td><td>25660.61</td><td>27576.99</td><td>27306.06</td><td>25932.45</td><td>14462.02738125</td></tr><tr><td>1693353600</td><td>27015.75</td><td>27775</td><td>27717.15</td><td>27306.06</td><td>9793.95679478</td></tr><tr><td>1693267200</td><td>25903.18</td><td>28184.89</td><td>26101.03</td><td>27717.98</td><td>21400.14608326</td></tr><tr><td>1693180800</td><td>25850</td><td>26232.88</td><td>26091.16</td><td>26101.04</td><td>5460.42038393</td></tr><tr><td>1693094400</td><td>25961.81</td><td>26171.87</td><td>26009.62</td><td>26091.16</td><td>2069.84831133</td></tr><tr><td>1693008000</td><td>25971.44</td><td>26115.44</td><td>26049.4</td><td>26009.61</td><td>1862.15021008</td></tr><tr><td>1692921600</td><td>25750</td><td>26294.53</td><td>26163.49</td><td>26049.39</td><td>10926.33773703</td></tr><tr><td>1692835200</td><td>25850</td><td>26567.38</td><td>26427.73</td><td>26163.49</td><td>10002.33992977</td></tr><tr><td>1692748800</td><td>25796.47</td><td>26818.28</td><td>26041.94</td><td>26427.54</td><td>15743.86437208</td></tr><tr><td>1692662400</td><td>25350</td><td>26137.99</td><td>26125.16</td><td>26042.11</td><td>12418.87289323</td></tr><tr><td>1692576000</td><td>25814</td><td>26260.25</td><td>26189.36</td><td>26125.18</td><td>9936.51156256</td></tr><tr><td>1692489600</td><td>25975.01</td><td>26296.78</td><td>26096.4</td><td>26189.14</td><td>4345.07228674</td></tr><tr><td>1692403200</td><td>25793.11</td><td>26269.11</td><td>26048.9</td><td>26096.42</td><td>6554.05344759</td></tr><tr><td>1692316800</td><td>25610</td><td>26834.37</td><td>26627.21</td><td>26048.89</td><td>21187.5150669</td></tr><tr><td>1692230400</td><td>25234.76</td><td>28751.84</td><td>28700.51</td><td>26627.57</td><td>27723.2108711</td></tr><tr><td>1692144000</td><td>28690.37</td><td>29231.92</td><td>29170.13</td><td>28700.51</td><td>9669.42094524</td></tr><tr><td>1692057600</td><td>29046.58</td><td>29464.62</td><td>29405.49</td><td>29170.14</td><td>5815.32226178</td></tr><tr><td>1691971200</td><td>29072.96</td><td>29665.27</td><td>29275.78</td><td>29405.49</td><td>7063.46806345</td></tr><tr><td>1691884800</td><td>29247.15</td><td>29447.6</td><td>29417.19</td><td>29275.94</td><td>2128.37437697</td></tr><tr><td>1691798400</td><td>29349.98</td><td>29477.31</td><td>29400.45</td><td>29416.96</td><td>1906.1707986</td></tr><tr><td>1691712000</td><td>29213.59</td><td>29534.14</td><td>29424.04</td><td>29400.45</td><td>5961.21744691</td></tr><tr><td>1691625600</td><td>29306</td><td>29709.38</td><td>29562.76</td><td>29424.03</td><td>7104.52622213</td></tr><tr><td>1691539200</td><td>29344.16</td><td>30128.88</td><td>29770.01</td><td>29562.76</td><td>10451.45167511</td></tr><tr><td>1691452800</td><td>29104.65</td><td>30222</td><td>29179.28</td><td>29770.01</td><td>15610.0513824</td></tr><tr><td>1691366400</td><td>28660.53</td><td>29246</td><td>29040.01</td><td>29179.21</td><td>9200.08523317</td></tr><tr><td>1691280000</td><td>28955</td><td>29163.24</td><td>29047.33</td><td>29040.01</td><td>2461.64012073</td></tr><tr><td>1691193600</td><td>28946.17</td><td>29111.87</td><td>29077.04</td><td>29047.12</td><td>2490.84710469</td></tr><tr><td>1691107200</td><td>28747.1</td><td>29312.28</td><td>29174.84</td><td>29076.48</td><td>7291.14687702</td></tr><tr><td>1691020800</td><td>28938.93</td><td>29399.97</td><td>29163.87</td><td>29174.18</td><td>8920.01477716</td></tr><tr><td>1690934400</td><td>28903.79</td><td>30033</td><td>29699.25</td><td>29164.22</td><td>17967.34799565</td></tr><tr><td>1690848000</td><td>28477</td><td>29726.73</td><td>29230.61</td><td>29697.27</td><td>17752.83934133</td></tr><tr><td>1690761600</td><td>29102.65</td><td>29526.99</td><td>29280.41</td><td>29230.67</td><td>8793.06328471</td></tr><tr><td>1690675200</td><td>29033</td><td>29450</td><td>29356.65</td><td>29281.39</td><td>4387.57256615</td></tr><tr><td>1690588800</td><td>29253.44</td><td>29411.09</td><td>29316.05</td><td>29355.71</td><td>2893.05298823</td></tr><tr><td>1690502400</td><td>29115.32</td><td>29532.45</td><td>29214.93</td><td>29316.15</td><td>7104.73639515</td></tr><tr><td>1690416000</td><td>29075</td><td>29571.42</td><td>29350.88</td><td>29214.92</td><td>7327.29083361</td></tr><tr><td>1690329600</td><td>29089.54</td><td>29686.41</td><td>29225.11</td><td>29353.23</td><td>9635.03503236</td></tr><tr><td>1690243200</td><td>29046</td><td>29376.51</td><td>29176.98</td><td>29225.14</td><td>7139.21073686</td></tr><tr><td>1690156800</td><td>28850</td><td>30099.99</td><td>30081.61</td><td>29176.98</td><td>14484.27543962</td></tr><tr><td>1690070400</td><td>29733.55</td><td>30350.7</td><td>29793.62</td><td>30081.61</td><td>4513.83214295</td></tr><tr><td>1689984000</td><td>29626.86</td><td>30002.38</td><td>29907.15</td><td>29795.03</td><td>3629.48251055</td></tr><tr><td>1689897600</td><td>29729.48</td><td>30060.28</td><td>29809.13</td><td>29907.98</td><td>7597.8102674</td></tr><tr><td>1689811200</td><td>29564.19</td><td>30421.29</td><td>29916.69</td><td>29809.13</td><td>11494.95348803</td></tr><tr><td>1689724800</td><td>29757.44</td><td>30196.24</td><td>29861.92</td><td>29916.72</td><td>8804.54675154</td></tr><tr><td>1689638400</td><td>29525</td><td>30249.3</td><td>30143.08</td><td>29861.93</td><td>11124.83936583</td></tr><tr><td>1689552000</td><td>29668.58</td><td>30345.45</td><td>30247.56</td><td>30143.08</td><td>10632.8066781</td></tr><tr><td>1689465600</td><td>30075.93</td><td>30457.03</td><td>30302.01</td><td>30247.64</td><td>4021.41012275</td></tr><tr><td>1689379200</td><td>30254.67</td><td>30406.27</td><td>30330.93</td><td>30301.65</td><td>2559.07232743</td></tr><tr><td>1689292800</td><td>29920.31</td><td>31645.66</td><td>31471.83</td><td>30330.52</td><td>19272.20339271</td></tr><tr><td>1689206400</td><td>30250.73</td><td>31862.21</td><td>30383.26</td><td>31471.83</td><td>26135.6192364</td></tr><tr><td>1689120000</td><td>30200</td><td>31000</td><td>30624.65</td><td>30381.81</td><td>14881.70511963</td></tr><tr><td>1689033600</td><td>30304.45</td><td>30811.65</td><td>30419.89</td><td>30626.55</td><td>10653.5761104</td></tr><tr><td>1688947200</td><td>29955</td><td>31055.75</td><td>30168.26</td><td>30419.89</td><td>12703.78162563</td></tr><tr><td>1688860800</td><td>30066.95</td><td>30451.78</td><td>30291.69</td><td>30168.38</td><td>3884.04687903</td></tr><tr><td>1688774400</td><td>30047.78</td><td>30388.91</td><td>30350.35</td><td>30291.69</td><td>3856.11078847</td></tr><tr><td>1688688000</td><td>29715.87</td><td>30456</td><td>29895.6</td><td>30352.08</td><td>11137.14221055</td></tr><tr><td>1688601600</td><td>29850</td><td>31525.1</td><td>30499.27</td><td>29899.38</td><td>17229.92231032</td></tr><tr><td>1688515200</td><td>30189.56</td><td>30882.95</td><td>30772.93</td><td>30499.27</td><td>8782.6192239</td></tr><tr><td>1688428800</td><td>30628.3</td><td>31333</td><td>31162.71</td><td>30771.25</td><td>7233.95188576</td></tr><tr><td>1688342400</td><td>30569</td><td>31399.08</td><td>30613.57</td><td>31161.8</td><td>11391.98257522</td></tr><tr><td>1688256000</td><td>30165.39</td><td>30791.75</td><td>30587.22</td><td>30613.51</td><td>4829.83871313</td></tr><tr><td>1688169600</td><td>30312.8</td><td>30659.33</td><td>30466.73</td><td>30587.21</td><td>4012.76538882</td></tr><tr><td>1688083200</td><td>29417.14</td><td>31277</td><td>30445.67</td><td>30466.72</td><td>26013.22734909</td></tr><tr><td>1687996800</td><td>30036.18</td><td>30838</td><td>30074.93</td><td>30446.47</td><td>12261.34048625</td></tr><tr><td>1687910400</td><td>29840</td><td>30716.93</td><td>30696.06</td><td>30074.94</td><td>9391.66542094</td></tr><tr><td>1687824000</td><td>30228.44</td><td>31020.54</td><td>30272.24</td><td>30697.38</td><td>11995.526853</td></tr></tbody></table></div>"
      ]
     },
     "metadata": {
      "application/vnd.databricks.v1+output": {
       "addedWidgets": {},
       "aggData": [],
       "aggError": "",
       "aggOverflow": false,
       "aggSchema": [],
       "aggSeriesLimitReached": false,
       "aggType": "",
       "arguments": {},
       "columnCustomDisplayInfos": {},
       "data": [
        [
         "1713657600",
         "64767.34",
         "64985.95",
         "64960.82",
         "64906.18",
         "52.53767582"
        ],
        [
         "1713571200",
         "63121.15",
         "65463.08",
         "63841.96",
         "64968.87",
         "5157.40726514"
        ],
        [
         "1713484800",
         "59573.32",
         "65498.99",
         "63514.84",
         "63848.37",
         "22838.07934159"
        ],
        [
         "1713398400",
         "60816.07",
         "64210",
         "61275.73",
         "63513.85",
         "15246.98539812"
        ],
        [
         "1713312000",
         "59648.33",
         "64524.14",
         "63814.94",
         "61279.36",
         "21811.86704912"
        ],
        [
         "1713225600",
         "61645.09",
         "64400",
         "63452.18",
         "63814.94",
         "17710.28213211"
        ],
        [
         "1713139200",
         "62315.08",
         "66928.82",
         "65764.56",
         "63452.18",
         "21668.43122052"
        ],
        [
         "1713052800",
         "62150",
         "65890.91",
         "64021.36",
         "65777.05",
         "21604.05147827"
        ],
        [
         "1712966400",
         "60822.01",
         "69100",
         "67148.62",
         "64024.77",
         "27548.47240557"
        ],
        [
         "1712880000",
         "65110.31",
         "71265.74",
         "70020.71",
         "67148.61",
         "23509.04415329"
        ],
        [
         "1712793600",
         "69530",
         "71305.86",
         "70638.4",
         "70020.73",
         "11001.1381514"
        ],
        [
         "1712707200",
         "67463.07",
         "71159.6",
         "69115.79",
         "70634.04",
         "16655.987797"
        ],
        [
         "1712620800",
         "68200",
         "71761.37",
         "71616.31",
         "69117.01",
         "15143.52341376"
        ],
        [
         "1712534400",
         "69037.33",
         "72777",
         "69350.36",
         "71622.53",
         "16648.20773443"
        ],
        [
         "1712448000",
         "68846.23",
         "70312",
         "68919.57",
         "69350.34",
         "5766.41938443"
        ],
        [
         "1712361600",
         "67469.19",
         "69685",
         "67856.51",
         "68919.89",
         "3985.44167764"
        ],
        [
         "1712275200",
         "66000",
         "68783.99",
         "68528.69",
         "67856.51",
         "15515.02984528"
        ],
        [
         "1712188800",
         "65073.95",
         "69367.19",
         "65984.18",
         "68525.23",
         "18624.08140025"
        ],
        [
         "1712102400",
         "64500",
         "66944.06",
         "65472",
         "65987.92",
         "14506.55934744"
        ],
        [
         "1712016000",
         "64521.61",
         "69711",
         "69681.85",
         "65464.14",
         "23496.46591597"
        ],
        [
         "1711929600",
         "68055.15",
         "71313.8",
         "71291.5",
         "69681.82",
         "13916.60016523"
        ],
        [
         "1711843200",
         "69587.86",
         "71399.91",
         "69623.86",
         "71288.9",
         "4424.66955382"
        ],
        [
         "1711756800",
         "69569.03",
         "70363.25",
         "69903.74",
         "69626.87",
         "3262.62331859"
        ],
        [
         "1711670400",
         "69036.95",
         "70941.7",
         "70804.06",
         "69903.75",
         "7364.3987269"
        ],
        [
         "1711584000",
         "68841.01",
         "71635.99",
         "69437.16",
         "70801.18",
         "15223.15591033"
        ],
        [
         "1711497600",
         "68369.62",
         "71789.85",
         "69994.9",
         "69435.96",
         "18703.73738295"
        ],
        [
         "1711411200",
         "69269.69",
         "71582.96",
         "69895.6",
         "69992.4",
         "15697.73440865"
        ],
        [
         "1711324800",
         "66381.84",
         "71269.92",
         "67212.69",
         "69890.28",
         "22228.13803338"
        ],
        [
         "1711238400",
         "63785.57",
         "67637.6",
         "63998.87",
         "67204.93",
         "6535.8276512"
        ],
        [
         "1711152000",
         "63013.19",
         "66029.09",
         "63814.56",
         "63998.86",
         "7395.08270425"
        ],
        [
         "1711065600",
         "62258.36",
         "66651.1",
         "65478.98",
         "63814.56",
         "17807.65930238"
        ],
        [
         "1710979200",
         "64525",
         "68234.56",
         "67855.88",
         "65484.7",
         "18523.96247162"
        ],
        [
         "1710892800",
         "60771.14",
         "68150",
         "61902.57",
         "67858.8",
         "38590.78345488"
        ],
        [
         "1710806400",
         "61506",
         "68136.39",
         "67609.39",
         "61906.27",
         "40111.97553957"
        ],
        [
         "1710720000",
         "66562.65",
         "68933.71",
         "68354.29",
         "67613.04",
         "20057.37580028"
        ],
        [
         "1710633600",
         "64505",
         "68877.82",
         "65254.22",
         "68343.64",
         "12631.85084112"
        ],
        [
         "1710547200",
         "64774.05",
         "70050",
         "69514.87",
         "65254.22",
         "16532.825303"
        ],
        [
         "1710460800",
         "65565.7",
         "72414.96",
         "71364.58",
         "69506.88",
         "40195.84231178"
        ],
        [
         "1710374400",
         "68454.47",
         "73835.57",
         "73135.04",
         "71364.58",
         "34226.602618"
        ],
        [
         "1710288000",
         "71337.3",
         "73709.99",
         "71473.43",
         "73135.04",
         "21455.92195688"
        ],
        [
         "1710201600",
         "68603",
         "73027.63",
         "72110.98",
         "71475.93",
         "29420.19277654"
        ],
        [
         "1710115200",
         "67112.21",
         "72943.98",
         "69032.8",
         "72110.98",
         "32332.72583229"
        ],
        [
         "1710028800",
         "68221.13",
         "70000",
         "68480.01",
         "69032.12",
         "12163.05713369"
        ],
        [
         "1709942400",
         "68047.62",
         "68700.41",
         "68289.16",
         "68480",
         "9005.50992187"
        ],
        [
         "1709856000",
         "66157.09",
         "70199",
         "66938.21",
         "68289.16",
         "33749.52797544"
        ],
        [
         "1709769600",
         "65599.63",
         "68098.09",
         "66115.48",
         "66938.21",
         "22228.36739914"
        ],
        [
         "1709683200",
         "62832.39",
         "67654.06",
         "63802.15",
         "66122.28",
         "34653.87884591"
        ],
        [
         "1709596800",
         "59224.68",
         "69324.58",
         "68356.7",
         "63800.78",
         "65575.09537327"
        ],
        [
         "1709510400",
         "62300",
         "68602.98",
         "63155.74",
         "68360.14",
         "40600.36656889"
        ],
        [
         "1709424000",
         "61388",
         "63260",
         "62045.78",
         "63154.49",
         "7314.17629968"
        ],
        [
         "1709337600",
         "61623.39",
         "62500",
         "62439.74",
         "62045.78",
         "6882.38410251"
        ],
        [
         "1709251200",
         "60788.33",
         "63267.18",
         "61179.03",
         "62436.72",
         "24696.65692545"
        ],
        [
         "1709164800",
         "60355.61",
         "63675.48",
         "62520.06",
         "61179.03",
         "36825.89535085"
        ],
        [
         "1709078400",
         "56723.48",
         "64100",
         "57077.08",
         "62518.9",
         "48265.6721171"
        ],
        [
         "1708992000",
         "54490.8",
         "57646.81",
         "54530.32",
         "57077.07",
         "28791.48651731"
        ],
        [
         "1708905600",
         "50901.23",
         "54980",
         "51730.96",
         "54533.48",
         "22422.38763854"
        ],
        [
         "1708819200",
         "51275.01",
         "51967.82",
         "51568.63",
         "51731",
         "3617.40106809"
        ],
        [
         "1708732800",
         "50576.55",
         "51696.19",
         "50746.98",
         "51570.65",
         "3448.96576791"
        ],
        [
         "1708646400",
         "50513.01",
         "51512.68",
         "51260.29",
         "50747.05",
         "11679.16625824"
        ],
        [
         "1708560000",
         "50905.65",
         "52076",
         "51851.46",
         "51258.7",
         "13104.51408087"
        ],
        [
         "1708473600",
         "50628.6",
         "52394.91",
         "52277.53",
         "51851.67",
         "13735.03407249"
        ],
        [
         "1708387200",
         "50764.01",
         "53000",
         "51787.05",
         "52277.52",
         "15888.87599974"
        ],
        [
         "1708300800",
         "51687.98",
         "52501.01",
         "52153.63",
         "51787.05",
         "6009.01451962"
        ],
        [
         "1708214400",
         "51174.38",
         "52400",
         "51666.23",
         "52153.63",
         "3997.17143898"
        ],
        [
         "1708128000",
         "50642.36",
         "52214.05",
         "52162.65",
         "51666.22",
         "5387.27413329"
        ],
        [
         "1708041600",
         "51597.87",
         "52608.2",
         "51935.23",
         "52162.64",
         "13816.27351282"
        ],
        [
         "1707955200",
         "51353.49",
         "52890",
         "51858.51",
         "51934.29",
         "18465.04404385"
        ],
        [
         "1707868800",
         "49253.92",
         "52111",
         "49724.55",
         "51858.59",
         "20249.94369733"
        ],
        [
         "1707782400",
         "48327.81",
         "50423.42",
         "49941.95",
         "49725.36",
         "20471.56790372"
        ],
        [
         "1707696000",
         "47715.67",
         "50363.42",
         "48321.14",
         "49941.81",
         "18540.40980624"
        ],
        [
         "1707609600",
         "47590.3",
         "48614",
         "47767.06",
         "48316.3",
         "5243.1260706"
        ],
        [
         "1707523200",
         "46889.53",
         "48179.43",
         "47157.01",
         "47767.06",
         "5663.309891"
        ],
        [
         "1707436800",
         "45252.93",
         "48230.02",
         "45304.83",
         "47160.41",
         "21802.75242269"
        ],
        [
         "1707350400",
         "44335",
         "45637.38",
         "44345.94",
         "45305.2",
         "19283.80580787"
        ],
        [
         "1707264000",
         "42760.44",
         "44430",
         "43097.16",
         "44343.61",
         "12440.36853251"
        ],
        [
         "1707177600",
         "42516.07",
         "43372.79",
         "42658.3",
         "43095.79",
         "7940.35140737"
        ],
        [
         "1707091200",
         "42235",
         "43520",
         "42571.91",
         "42657.67",
         "8756.87806894"
        ],
        [
         "1707004800",
         "42228.01",
         "43100",
         "43007.82",
         "42568.55",
         "2643.251649"
        ],
        [
         "1706918400",
         "42863.58",
         "43358.13",
         "43183.62",
         "43010.67",
         "2254.45335539"
        ],
        [
         "1706832000",
         "42527.58",
         "43700",
         "43080.38",
         "43181.66",
         "12202.24125895"
        ],
        [
         "1706745600",
         "41846.04",
         "43276.19",
         "42545.47",
         "43078.81",
         "11526.63383073"
        ],
        [
         "1706659200",
         "42265.77",
         "43741.94",
         "42937.72",
         "42548.08",
         "15320.55510554"
        ],
        [
         "1706572800",
         "42680.2",
         "43872.99",
         "43303.3",
         "42942.78",
         "16384.61219735"
        ],
        [
         "1706486400",
         "41787.35",
         "43326.77",
         "42034.57",
         "43306.18",
         "12529.09255982"
        ],
        [
         "1706400000",
         "41617.53",
         "42839.07",
         "42126.55",
         "42034.59",
         "4298.44263812"
        ],
        [
         "1706313600",
         "41383.94",
         "42199.99",
         "41814.96",
         "42126.55",
         "3774.45056434"
        ],
        [
         "1706227200",
         "39805.95",
         "42243.14",
         "39941.66",
         "41814.8",
         "19359.37921096"
        ],
        [
         "1706140800",
         "39503",
         "40282.87",
         "40079.87",
         "39941.66",
         "12977.61691901"
        ],
        [
         "1706054400",
         "39382.15",
         "40527.26",
         "39878.28",
         "40077.78",
         "17438.97734668"
        ],
        [
         "1705968000",
         "38501",
         "40144.49",
         "39524.27",
         "39878.3",
         "21966.56334645"
        ],
        [
         "1705881600",
         "39372.44",
         "41658",
         "41553.92",
         "39524.27",
         "26539.34338688"
        ],
        [
         "1705795200",
         "41472.49",
         "41858.59",
         "41666.67",
         "41554.05",
         "3138.26294449"
        ],
        [
         "1705708800",
         "41418.55",
         "41846.15",
         "41623.94",
         "41666.67",
         "4836.63124969"
        ],
        [
         "1705622400",
         "40236.49",
         "42159.52",
         "41290.57",
         "41624.07",
         "22744.88751944"
        ],
        [
         "1705536000",
         "40600.05",
         "42877.22",
         "42737.68",
         "41293.5",
         "25089.48495636"
        ],
        [
         "1705449600",
         "42160",
         "43185.47",
         "43130.35",
         "42739.49",
         "16377.4603776"
        ],
        [
         "1705363200",
         "42028.02",
         "43569.23",
         "42481.69",
         "43130.45",
         "18180.4405406"
        ],
        [
         "1705276800",
         "41680",
         "43331.91",
         "41698.13",
         "42490.16",
         "10869.45830576"
        ],
        [
         "1705190400",
         "41680.73",
         "43064.13",
         "42839.32",
         "41697.33",
         "7834.26155365"
        ],
        [
         "1705104000",
         "42427",
         "43250",
         "42775.1",
         "42839.33",
         "10998.76404264"
        ],
        [
         "1705017600",
         "41444.97",
         "46522.2",
         "46344.96",
         "42773.03",
         "46862.43347199"
        ],
        [
         "1704931200",
         "45555.55",
         "49102.29",
         "46678.54",
         "46342.66",
         "38150.89478822"
        ],
        [
         "1704844800",
         "44320.01",
         "47732.5",
         "46120.79",
         "46666.11",
         "36534.39765866"
        ],
        [
         "1704758400",
         "44701.54",
         "47901",
         "46995.09",
         "46124.08",
         "26305.56366042"
        ],
        [
         "1704672000",
         "43200.44",
         "47330",
         "43954.52",
         "46995.1",
         "26447.17326625"
        ],
        [
         "1704585600",
         "43629.7",
         "44510.01",
         "43992.79",
         "43950.28",
         "5931.34650683"
        ],
        [
         "1704499200",
         "43436.5",
         "44260.95",
         "44187.76",
         "43992.44",
         "5691.43460343"
        ],
        [
         "1704412800",
         "42450",
         "44443.37",
         "44198.35",
         "44186.59",
         "18073.09561495"
        ],
        [
         "1704326400",
         "42650",
         "44800",
         "42860.58",
         "44193.29",
         "18190.29825676"
        ],
        [
         "1704240000",
         "40625.68",
         "45519.32",
         "44972.81",
         "42862.44",
         "32281.85234351"
        ],
        [
         "1704153600",
         "44195.13",
         "45925.82",
         "44220.78",
         "44972.8",
         "29583.38407747"
        ],
        [
         "1704067200",
         "42175.65",
         "44240.8",
         "42288.58",
         "44220.78",
         "7977.72851143"
        ],
        [
         "1703980800",
         "41964.68",
         "42850",
         "42139.32",
         "42288.06",
         "11397.57303743"
        ],
        [
         "1703894400",
         "41518.19",
         "42593.73",
         "42064.22",
         "42141.03",
         "11609.82377015"
        ],
        [
         "1703808000",
         "41300",
         "43137.1",
         "42581.23",
         "42063.45",
         "16756.43323881"
        ],
        [
         "1703721600",
         "42265.08",
         "43830.34",
         "43469.06",
         "42581.23",
         "13583.91599843"
        ],
        [
         "1703635200",
         "42111.47",
         "43709.98",
         "42521.21",
         "43474.4",
         "12917.48404475"
        ],
        [
         "1703548800",
         "41600.67",
         "43605",
         "43589.67",
         "42515.53",
         "13030.02545286"
        ],
        [
         "1703462400",
         "42755.35",
         "43818.29",
         "43025.02",
         "43589.67",
         "4799.73104807"
        ],
        [
         "1703376000",
         "42614.17",
         "43985.67",
         "43728.36",
         "43025.03",
         "4947.00165569"
        ],
        [
         "1703289600",
         "43333.35",
         "44033.84",
         "44013.65",
         "43726.35",
         "4075.08953972"
        ],
        [
         "1703203200",
         "43412.82",
         "44424.36",
         "43875.56",
         "44013.73",
         "10733.55348079"
        ],
        [
         "1703116800",
         "43295.78",
         "44250",
         "43673.11",
         "43875.32",
         "13170.9728222"
        ],
        [
         "1703030400",
         "42184.48",
         "44324.86",
         "42266.25",
         "43674.77",
         "19307.1089644"
        ],
        [
         "1702944000",
         "41780",
         "43461.86",
         "42650.01",
         "42266.22",
         "13403.93447528"
        ],
        [
         "1702857600",
         "40508.01",
         "42754.79",
         "41349.59",
         "42650.01",
         "13394.33474824"
        ],
        [
         "1702771200",
         "41222",
         "42367.82",
         "42235.23",
         "41349.59",
         "6649.06495765"
        ],
        [
         "1702684800",
         "41626.66",
         "42680.2",
         "41934.84",
         "42237.29",
         "5315.65582307"
        ],
        [
         "1702598400",
         "41640.51",
         "43095.71",
         "43027.77",
         "41933.89",
         "10861.72864667"
        ],
        [
         "1702512000",
         "41426.76",
         "43442.15",
         "42887.39",
         "43027.77",
         "15434.25971384"
        ],
        [
         "1702425600",
         "40553.15",
         "43475",
         "41477.6",
         "42885.54",
         "15796.88171408"
        ],
        [
         "1702339200",
         "40636.51",
         "42088.56",
         "41229.61",
         "41477.39",
         "13414.86773655"
        ],
        [
         "1702252800",
         "40150",
         "43811.81",
         "43793.67",
         "41229.61",
         "25524.67094691"
        ],
        [
         "1702166400",
         "43562.06",
         "44049.51",
         "43722.84",
         "43793.68",
         "3919.09423649"
        ],
        [
         "1702080000",
         "43586.14",
         "44384.68",
         "44192.86",
         "43723.25",
         "5469.40708431"
        ],
        [
         "1701993600",
         "43087.17",
         "44754.99",
         "43281.11",
         "44192.87",
         "13579.0453041"
        ],
        [
         "1701907200",
         "42846.53",
         "44057.23",
         "43766.41",
         "43280.95",
         "13055.36691088"
        ],
        [
         "1701820800",
         "43369",
         "44290.37",
         "44086.33",
         "43764.05",
         "15977.54656616"
        ],
        [
         "1701734400",
         "41384.03",
         "45000",
         "41985.53",
         "44084.39",
         "24018.76035474"
        ],
        [
         "1701648000",
         "39983.6",
         "42410.46",
         "39984.81",
         "41987.24",
         "21993.05995554"
        ],
        [
         "1701561600",
         "39293.02",
         "40221.22",
         "39467.42",
         "39984.81",
         "7153.15663784"
        ],
        [
         "1701475200",
         "38660.03",
         "39740",
         "38706.55",
         "39478.95",
         "7540.7688183"
        ],
        [
         "1701388800",
         "37618.25",
         "39000",
         "37732.27",
         "38703.54",
         "16395.90197806"
        ],
        [
         "1701302400",
         "37500",
         "38152.18",
         "37864.79",
         "37732.27",
         "8081.19248391"
        ],
        [
         "1701216000",
         "37581.93",
         "38480",
         "37838.26",
         "37863.84",
         "15162.68883049"
        ],
        [
         "1701129600",
         "36873.55",
         "38425.96",
         "37241.64",
         "37838.26",
         "18156.47258233"
        ],
        [
         "1701043200",
         "36715.1",
         "37578.42",
         "37462.01",
         "37241.63",
         "13510.45476059"
        ],
        [
         "1700956800",
         "37156.72",
         "37842.17",
         "37806.84",
         "37462.79",
         "6113.0562518"
        ],
        [
         "1700870400",
         "37615.91",
         "37920.27",
         "37746.29",
         "37805.99",
         "3567.42244915"
        ],
        [
         "1700784000",
         "37257.56",
         "38454",
         "37304.04",
         "37745.84",
         "17507.8900414"
        ],
        [
         "1700697600",
         "36888",
         "37653.67",
         "37424.31",
         "37304.05",
         "7211.31754936"
        ],
        [
         "1700611200",
         "35633",
         "37875",
         "35755.33",
         "37424.31",
         "17606.97239528"
        ],
        [
         "1700524800",
         "35744.9",
         "37675.77",
         "37472.76",
         "35751.89",
         "20837.73934338"
        ],
        [
         "1700438400",
         "36720",
         "37784.07",
         "37389.06",
         "37475.64",
         "14114.01039926"
        ],
        [
         "1700352000",
         "36404.52",
         "37546.62",
         "36596.14",
         "37391.19",
         "4366.44892344"
        ],
        [
         "1700265600",
         "36205.89",
         "36857.15",
         "36631.56",
         "36594.89",
         "3468.39821362"
        ],
        [
         "1700179200",
         "35869",
         "36831.99",
         "36161.15",
         "36630.38",
         "12218.85138403"
        ],
        [
         "1700092800",
         "35511.11",
         "37958.75",
         "37885.35",
         "36161.15",
         "18455.96829165"
        ],
        [
         "1700006400",
         "35358.45",
         "37987",
         "35554.1",
         "37885.35",
         "19941.6757032"
        ],
        [
         "1699920000",
         "34758.64",
         "36756.16",
         "36475.68",
         "35554.09",
         "16008.49077729"
        ],
        [
         "1699833600",
         "36351",
         "37442.48",
         "37086.5",
         "36475.67",
         "10543.29564712"
        ],
        [
         "1699747200",
         "36740.9",
         "37247",
         "37139.94",
         "37086.03",
         "3317.50278576"
        ],
        [
         "1699660800",
         "36701.5",
         "37424.03",
         "37324.84",
         "37139.12",
         "5344.45382766"
        ],
        [
         "1699574400",
         "36334.46",
         "37548.8",
         "36704.01",
         "37324.83",
         "15181.1682642"
        ],
        [
         "1699488000",
         "35555.16",
         "37999",
         "35639.13",
         "36706.59",
         "29045.63709695"
        ],
        [
         "1699401600",
         "35103.14",
         "36113.59",
         "35416.63",
         "35639.13",
         "12253.04717936"
        ],
        [
         "1699315200",
         "34530.67",
         "35963",
         "35059.46",
         "35416.28",
         "13841.59195597"
        ],
        [
         "1699228800",
         "34753.66",
         "35294.12",
         "35035.79",
         "35059.46",
         "7088.27217192"
        ],
        [
         "1699142400",
         "34500",
         "35410",
         "35087.43",
         "35035.42",
         "5892.67329337"
        ],
        [
         "1699056000",
         "34599.85",
         "35278.4",
         "34730.32",
         "35087.01",
         "4696.62281508"
        ],
        [
         "1698969600",
         "34100",
         "34954.6",
         "34947.92",
         "34731.27",
         "13960.85628785"
        ],
        [
         "1698883200",
         "34311.73",
         "35997.8",
         "35440.1",
         "34950",
         "13455.65527035"
        ],
        [
         "1698796800",
         "34079.46",
         "35647.19",
         "34656.38",
         "35440.1",
         "16196.30263792"
        ],
        [
         "1698710400",
         "34038.79",
         "34732.18",
         "34493.51",
         "34656.4",
         "9281.37651426"
        ],
        [
         "1698624000",
         "34077.9",
         "34871",
         "34534.48",
         "34493.79",
         "10183.35509429"
        ],
        [
         "1698537600",
         "33937.31",
         "34763",
         "34085.42",
         "34534.48",
         "5547.09585659"
        ],
        [
         "1698451200",
         "33867.38",
         "34500",
         "33905.96",
         "34085.42",
         "4372.52724873"
        ],
        [
         "1698364800",
         "33400",
         "34249.99",
         "34153.35",
         "33906.09",
         "13879.04330119"
        ],
        [
         "1698278400",
         "33735.86",
         "34843.04",
         "34504.33",
         "34154.71",
         "15867.44697165"
        ],
        [
         "1698192000",
         "33690.91",
         "35144",
         "33921.66",
         "34506.35",
         "18668.45817435"
        ],
        [
         "1698105600",
         "32851.45",
         "35157.23",
         "33079.72",
         "33922.52",
         "38506.35962554"
        ],
        [
         "1698019200",
         "29890.89",
         "35000",
         "30004.14",
         "33087.58",
         "33228.46734771"
        ],
        [
         "1697932800",
         "29670",
         "30275",
         "29925.91",
         "30004.15",
         "5720.28965895"
        ],
        [
         "1697846400",
         "29475.06",
         "30369",
         "29684.73",
         "29924.84",
         "6369.9347533"
        ],
        [
         "1697760000",
         "28591.85",
         "30248",
         "28734.51",
         "29684.73",
         "20095.91529217"
        ],
        [
         "1697673600",
         "28122.57",
         "28938.96",
         "28326.24",
         "28735.34",
         "12662.68000489"
        ],
        [
         "1697587200",
         "28151.6",
         "28999.98",
         "28408.51",
         "28326.51",
         "11820.68114047"
        ],
        [
         "1697500800",
         "28083.19",
         "28637.21",
         "28520.24",
         "28408.83",
         "14171.43180714"
        ],
        [
         "1697414400",
         "27135.92",
         "30000",
         "27186.13",
         "28520.24",
         "36471.7502374"
        ],
        [
         "1697328000",
         "26806.06",
         "27301.37",
         "26851.71",
         "27186.13",
         "6215.85130529"
        ],
        [
         "1697241600",
         "26797",
         "26988.12",
         "26863.54",
         "26851.71",
         "2786.76009652"
        ],
        [
         "1697155200",
         "26662.62",
         "27122.24",
         "26752.06",
         "26863.53",
         "8694.0854594"
        ],
        [
         "1697068800",
         "26537.72",
         "26939.55",
         "26867.97",
         "26750.51",
         "7881.20407108"
        ],
        [
         "1696982400",
         "26521.32",
         "27478.61",
         "27393.28",
         "26869.19",
         "16466.26612207"
        ],
        [
         "1696896000",
         "27291.81",
         "27739.94",
         "27596.67",
         "27393.29",
         "10265.79357936"
        ],
        [
         "1696809600",
         "27268.63",
         "28003.7",
         "27933.54",
         "27596.67",
         "10218.62556021"
        ],
        [
         "1696723200",
         "27708.6",
         "28109.94",
         "27976.44",
         "27933.55",
         "4118.56381073"
        ],
        [
         "1696636800",
         "27861.2",
         "28040.84",
         "27945.17",
         "27976.43",
         "3489.91595717"
        ],
        [
         "1696550400",
         "27173.41",
         "28288.88",
         "27413.15",
         "27945.17",
         "12908.75146274"
        ],
        [
         "1696464000",
         "27358.05",
         "28140",
         "27786.12",
         "27412.96",
         "14136.04592802"
        ],
        [
         "1696377600",
         "27208.65",
         "27842.38",
         "27428.96",
         "27786.75",
         "10238.17053376"
        ],
        [
         "1696291200",
         "27160.47",
         "27672.12",
         "27504.03",
         "27428.96",
         "14334.10857629"
        ],
        [
         "1696204800",
         "27302.3",
         "28613.37",
         "27995.46",
         "27504.04",
         "25148.25341854"
        ],
        [
         "1696118400",
         "26955.25",
         "28062.62",
         "26961",
         "27995.46",
         "8747.06888783"
        ],
        [
         "1696032000",
         "26884.86",
         "27097.25",
         "26905.57",
         "26961",
         "4413.30948101"
        ],
        [
         "1695945600",
         "26661.71",
         "27238.9",
         "27027.44",
         "26907",
         "12712.27177691"
        ],
        [
         "1695859200",
         "26321.37",
         "27313.86",
         "26357.56",
         "27027.14",
         "18975.87763693"
        ],
        [
         "1695772800",
         "26088.37",
         "26830",
         "26208.43",
         "26357.62",
         "14123.89690964"
        ],
        [
         "1695686400",
         "26080",
         "26397.59",
         "26296.07",
         "26208.44",
         "7016.42122845"
        ],
        [
         "1695600000",
         "25983.78",
         "26444.95",
         "26248.17",
         "26296.08",
         "10762.98401397"
        ],
        [
         "1695513600",
         "26118.86",
         "26731.1",
         "26579.59",
         "26250.24",
         "4587.80529114"
        ],
        [
         "1695427200",
         "26513",
         "26638.58",
         "26578.4",
         "26579.6",
         "2597.25705711"
        ],
        [
         "1695340800",
         "26467.94",
         "26742.86",
         "26564.54",
         "26578.4",
         "8563.0523313"
        ],
        [
         "1695254400",
         "26359.7",
         "27163.48",
         "27122.65",
         "26564.54",
         "11801.98943642"
        ],
        [
         "1695168000",
         "26798.98",
         "27393.78",
         "27216.52",
         "27123.94",
         "11590.24027633"
        ],
        [
         "1695081600",
         "26666.93",
         "27500",
         "26764.03",
         "27216.13",
         "14386.07884728"
        ],
        [
         "1694995200",
         "26382.13",
         "27427.34",
         "26530.96",
         "26764.49",
         "17493.70820354"
        ],
        [
         "1694908800",
         "26405.04",
         "26626.49",
         "26569.69",
         "26530.95",
         "3252.26976131"
        ],
        [
         "1694822400",
         "26453.32",
         "26777",
         "26601.71",
         "26569.69",
         "4132.04817572"
        ],
        [
         "1694736000",
         "26213.96",
         "26892.65",
         "26532.5",
         "26602.42",
         "9345.93913701"
        ],
        [
         "1694649600",
         "26128.25",
         "26869.06",
         "26227.16",
         "26532.76",
         "12929.08237721"
        ],
        [
         "1694563200",
         "25763.43",
         "26413.59",
         "25839.95",
         "26226.65",
         "10099.7383701"
        ],
        [
         "1694476800",
         "25120.76",
         "26556.91",
         "25152.13",
         "25840.61",
         "19789.48058328"
        ],
        [
         "1694390400",
         "24900",
         "25891.6",
         "25831.77",
         "25152.14",
         "13404.10979142"
        ],
        [
         "1694304000",
         "25578.01",
         "26023.89",
         "25897.82",
         "25831.76",
         "4361.60285333"
        ],
        [
         "1694217600",
         "25791.45",
         "25942.69",
         "25906.33",
         "25897.82",
         "2225.82211069"
        ],
        [
         "1694131200",
         "25640.1",
         "26460.41",
         "26276.38",
         "25906.34",
         "11149.95850667"
        ],
        [
         "1694044800",
         "25595.8",
         "26440.55",
         "25747.63",
         "26276.3",
         "10885.13902329"
        ],
        [
         "1693958400",
         "25358",
         "26025.78",
         "25782.49",
         "25747.63",
         "9374.33792185"
        ],
        [
         "1693872000",
         "25551.36",
         "25884.04",
         "25816.14",
         "25783.91",
         "6051.14811848"
        ],
        [
         "1693785600",
         "25627",
         "26093.07",
         "25969.83",
         "25816.13",
         "4635.8154655"
        ],
        [
         "1693699200",
         "25792.29",
         "26123",
         "25867.82",
         "25969.83",
         "3434.5195669"
        ],
        [
         "1693612800",
         "25707.3",
         "25982.48",
         "25795.61",
         "25867.83",
         "3810.77429103"
        ],
        [
         "1693526400",
         "25307.37",
         "26142.28",
         "25931.51",
         "25794.88",
         "14995.72610123"
        ],
        [
         "1693440000",
         "25660.61",
         "27576.99",
         "27306.06",
         "25932.45",
         "14462.02738125"
        ],
        [
         "1693353600",
         "27015.75",
         "27775",
         "27717.15",
         "27306.06",
         "9793.95679478"
        ],
        [
         "1693267200",
         "25903.18",
         "28184.89",
         "26101.03",
         "27717.98",
         "21400.14608326"
        ],
        [
         "1693180800",
         "25850",
         "26232.88",
         "26091.16",
         "26101.04",
         "5460.42038393"
        ],
        [
         "1693094400",
         "25961.81",
         "26171.87",
         "26009.62",
         "26091.16",
         "2069.84831133"
        ],
        [
         "1693008000",
         "25971.44",
         "26115.44",
         "26049.4",
         "26009.61",
         "1862.15021008"
        ],
        [
         "1692921600",
         "25750",
         "26294.53",
         "26163.49",
         "26049.39",
         "10926.33773703"
        ],
        [
         "1692835200",
         "25850",
         "26567.38",
         "26427.73",
         "26163.49",
         "10002.33992977"
        ],
        [
         "1692748800",
         "25796.47",
         "26818.28",
         "26041.94",
         "26427.54",
         "15743.86437208"
        ],
        [
         "1692662400",
         "25350",
         "26137.99",
         "26125.16",
         "26042.11",
         "12418.87289323"
        ],
        [
         "1692576000",
         "25814",
         "26260.25",
         "26189.36",
         "26125.18",
         "9936.51156256"
        ],
        [
         "1692489600",
         "25975.01",
         "26296.78",
         "26096.4",
         "26189.14",
         "4345.07228674"
        ],
        [
         "1692403200",
         "25793.11",
         "26269.11",
         "26048.9",
         "26096.42",
         "6554.05344759"
        ],
        [
         "1692316800",
         "25610",
         "26834.37",
         "26627.21",
         "26048.89",
         "21187.5150669"
        ],
        [
         "1692230400",
         "25234.76",
         "28751.84",
         "28700.51",
         "26627.57",
         "27723.2108711"
        ],
        [
         "1692144000",
         "28690.37",
         "29231.92",
         "29170.13",
         "28700.51",
         "9669.42094524"
        ],
        [
         "1692057600",
         "29046.58",
         "29464.62",
         "29405.49",
         "29170.14",
         "5815.32226178"
        ],
        [
         "1691971200",
         "29072.96",
         "29665.27",
         "29275.78",
         "29405.49",
         "7063.46806345"
        ],
        [
         "1691884800",
         "29247.15",
         "29447.6",
         "29417.19",
         "29275.94",
         "2128.37437697"
        ],
        [
         "1691798400",
         "29349.98",
         "29477.31",
         "29400.45",
         "29416.96",
         "1906.1707986"
        ],
        [
         "1691712000",
         "29213.59",
         "29534.14",
         "29424.04",
         "29400.45",
         "5961.21744691"
        ],
        [
         "1691625600",
         "29306",
         "29709.38",
         "29562.76",
         "29424.03",
         "7104.52622213"
        ],
        [
         "1691539200",
         "29344.16",
         "30128.88",
         "29770.01",
         "29562.76",
         "10451.45167511"
        ],
        [
         "1691452800",
         "29104.65",
         "30222",
         "29179.28",
         "29770.01",
         "15610.0513824"
        ],
        [
         "1691366400",
         "28660.53",
         "29246",
         "29040.01",
         "29179.21",
         "9200.08523317"
        ],
        [
         "1691280000",
         "28955",
         "29163.24",
         "29047.33",
         "29040.01",
         "2461.64012073"
        ],
        [
         "1691193600",
         "28946.17",
         "29111.87",
         "29077.04",
         "29047.12",
         "2490.84710469"
        ],
        [
         "1691107200",
         "28747.1",
         "29312.28",
         "29174.84",
         "29076.48",
         "7291.14687702"
        ],
        [
         "1691020800",
         "28938.93",
         "29399.97",
         "29163.87",
         "29174.18",
         "8920.01477716"
        ],
        [
         "1690934400",
         "28903.79",
         "30033",
         "29699.25",
         "29164.22",
         "17967.34799565"
        ],
        [
         "1690848000",
         "28477",
         "29726.73",
         "29230.61",
         "29697.27",
         "17752.83934133"
        ],
        [
         "1690761600",
         "29102.65",
         "29526.99",
         "29280.41",
         "29230.67",
         "8793.06328471"
        ],
        [
         "1690675200",
         "29033",
         "29450",
         "29356.65",
         "29281.39",
         "4387.57256615"
        ],
        [
         "1690588800",
         "29253.44",
         "29411.09",
         "29316.05",
         "29355.71",
         "2893.05298823"
        ],
        [
         "1690502400",
         "29115.32",
         "29532.45",
         "29214.93",
         "29316.15",
         "7104.73639515"
        ],
        [
         "1690416000",
         "29075",
         "29571.42",
         "29350.88",
         "29214.92",
         "7327.29083361"
        ],
        [
         "1690329600",
         "29089.54",
         "29686.41",
         "29225.11",
         "29353.23",
         "9635.03503236"
        ],
        [
         "1690243200",
         "29046",
         "29376.51",
         "29176.98",
         "29225.14",
         "7139.21073686"
        ],
        [
         "1690156800",
         "28850",
         "30099.99",
         "30081.61",
         "29176.98",
         "14484.27543962"
        ],
        [
         "1690070400",
         "29733.55",
         "30350.7",
         "29793.62",
         "30081.61",
         "4513.83214295"
        ],
        [
         "1689984000",
         "29626.86",
         "30002.38",
         "29907.15",
         "29795.03",
         "3629.48251055"
        ],
        [
         "1689897600",
         "29729.48",
         "30060.28",
         "29809.13",
         "29907.98",
         "7597.8102674"
        ],
        [
         "1689811200",
         "29564.19",
         "30421.29",
         "29916.69",
         "29809.13",
         "11494.95348803"
        ],
        [
         "1689724800",
         "29757.44",
         "30196.24",
         "29861.92",
         "29916.72",
         "8804.54675154"
        ],
        [
         "1689638400",
         "29525",
         "30249.3",
         "30143.08",
         "29861.93",
         "11124.83936583"
        ],
        [
         "1689552000",
         "29668.58",
         "30345.45",
         "30247.56",
         "30143.08",
         "10632.8066781"
        ],
        [
         "1689465600",
         "30075.93",
         "30457.03",
         "30302.01",
         "30247.64",
         "4021.41012275"
        ],
        [
         "1689379200",
         "30254.67",
         "30406.27",
         "30330.93",
         "30301.65",
         "2559.07232743"
        ],
        [
         "1689292800",
         "29920.31",
         "31645.66",
         "31471.83",
         "30330.52",
         "19272.20339271"
        ],
        [
         "1689206400",
         "30250.73",
         "31862.21",
         "30383.26",
         "31471.83",
         "26135.6192364"
        ],
        [
         "1689120000",
         "30200",
         "31000",
         "30624.65",
         "30381.81",
         "14881.70511963"
        ],
        [
         "1689033600",
         "30304.45",
         "30811.65",
         "30419.89",
         "30626.55",
         "10653.5761104"
        ],
        [
         "1688947200",
         "29955",
         "31055.75",
         "30168.26",
         "30419.89",
         "12703.78162563"
        ],
        [
         "1688860800",
         "30066.95",
         "30451.78",
         "30291.69",
         "30168.38",
         "3884.04687903"
        ],
        [
         "1688774400",
         "30047.78",
         "30388.91",
         "30350.35",
         "30291.69",
         "3856.11078847"
        ],
        [
         "1688688000",
         "29715.87",
         "30456",
         "29895.6",
         "30352.08",
         "11137.14221055"
        ],
        [
         "1688601600",
         "29850",
         "31525.1",
         "30499.27",
         "29899.38",
         "17229.92231032"
        ],
        [
         "1688515200",
         "30189.56",
         "30882.95",
         "30772.93",
         "30499.27",
         "8782.6192239"
        ],
        [
         "1688428800",
         "30628.3",
         "31333",
         "31162.71",
         "30771.25",
         "7233.95188576"
        ],
        [
         "1688342400",
         "30569",
         "31399.08",
         "30613.57",
         "31161.8",
         "11391.98257522"
        ],
        [
         "1688256000",
         "30165.39",
         "30791.75",
         "30587.22",
         "30613.51",
         "4829.83871313"
        ],
        [
         "1688169600",
         "30312.8",
         "30659.33",
         "30466.73",
         "30587.21",
         "4012.76538882"
        ],
        [
         "1688083200",
         "29417.14",
         "31277",
         "30445.67",
         "30466.72",
         "26013.22734909"
        ],
        [
         "1687996800",
         "30036.18",
         "30838",
         "30074.93",
         "30446.47",
         "12261.34048625"
        ],
        [
         "1687910400",
         "29840",
         "30716.93",
         "30696.06",
         "30074.94",
         "9391.66542094"
        ],
        [
         "1687824000",
         "30228.44",
         "31020.54",
         "30272.24",
         "30697.38",
         "11995.526853"
        ]
       ],
       "datasetInfos": [],
       "dbfsResultPath": null,
       "isJsonSchema": true,
       "metadata": {},
       "overflow": false,
       "plotOptions": {
        "customPlotOptions": {},
        "displayType": "table",
        "pivotAggregation": null,
        "pivotColumns": null,
        "xColumns": null,
        "yColumns": null
       },
       "removedWidgets": [],
       "schema": [
        {
         "metadata": "{}",
         "name": "Timestamp",
         "type": "\"string\""
        },
        {
         "metadata": "{}",
         "name": "Low",
         "type": "\"string\""
        },
        {
         "metadata": "{}",
         "name": "High",
         "type": "\"string\""
        },
        {
         "metadata": "{}",
         "name": "Open",
         "type": "\"string\""
        },
        {
         "metadata": "{}",
         "name": "Close",
         "type": "\"string\""
        },
        {
         "metadata": "{}",
         "name": "Volume",
         "type": "\"string\""
        }
       ],
       "type": "table"
      }
     },
     "output_type": "display_data"
    }
   ],
   "source": [
    "\n",
    "# Initialize SparkSession\n",
    "conf = SparkConf()\n",
    "conf.set(\"spark.executor.memory\", \"20g\")\n",
    "conf.set(\"spark.driver.memory\", \"10g\")\n",
    "conf.set(\"spark.executor.cores\", \"4\")\n",
    "conf.set(\"spark.default.parallelism\", \"200\")\n",
    "conf.set(\"spark.sql.shuffle.partitions\", \"200\")\n",
    "conf.set(\"spark.executor.extraJavaOptions\", \"-XX:+UseG4GC\")\n",
    "conf.set(\"spark.dynamicAllocation.enabled\", \"true\")\n",
    "conf.set(\"spark.shuffle.service.enabled\", \"true\")\n",
    "conf.set(\"spark.memory.fraction\", \"0.7\")\n",
    "conf.set(\"spark.memory.storageFraction\", \"0.5\")\n",
    "\n",
    "spark = SparkSession.builder.appName(\"Coinbase API Data\") \\\n",
    "            .config(conf=conf) \\\n",
    "            .getOrCreate()\n",
    "data=fetch_hourly_data(spark)\n",
    "data.display()"
   ]
  },
  {
   "cell_type": "code",
   "execution_count": 0,
   "metadata": {
    "application/vnd.databricks.v1+cell": {
     "cellMetadata": {
      "byteLimit": 2048000,
      "rowLimit": 10000
     },
     "inputWidgets": {},
     "nuid": "a5ec9aad-c833-42f5-8b5c-cafd3b9d8071",
     "showTitle": false,
     "title": ""
    }
   },
   "outputs": [
    {
     "output_type": "execute_result",
     "data": {
      "text/html": [
       "<div>\n",
       "<style scoped>\n",
       "    .dataframe tbody tr th:only-of-type {\n",
       "        vertical-align: middle;\n",
       "    }\n",
       "\n",
       "    .dataframe tbody tr th {\n",
       "        vertical-align: top;\n",
       "    }\n",
       "\n",
       "    .dataframe thead th {\n",
       "        text-align: right;\n",
       "    }\n",
       "</style>\n",
       "<table border=\"1\" class=\"dataframe\">\n",
       "  <thead>\n",
       "    <tr style=\"text-align: right;\">\n",
       "      <th></th>\n",
       "      <th>ds</th>\n",
       "      <th>y</th>\n",
       "    </tr>\n",
       "  </thead>\n",
       "  <tbody>\n",
       "    <tr>\n",
       "      <th>0</th>\n",
       "      <td>2024-04-21</td>\n",
       "      <td>11.080698</td>\n",
       "    </tr>\n",
       "    <tr>\n",
       "      <th>1</th>\n",
       "      <td>2024-04-20</td>\n",
       "      <td>11.081664</td>\n",
       "    </tr>\n",
       "    <tr>\n",
       "      <th>2</th>\n",
       "      <td>2024-04-19</td>\n",
       "      <td>11.064266</td>\n",
       "    </tr>\n",
       "    <tr>\n",
       "      <th>3</th>\n",
       "      <td>2024-04-18</td>\n",
       "      <td>11.059013</td>\n",
       "    </tr>\n",
       "    <tr>\n",
       "      <th>4</th>\n",
       "      <td>2024-04-17</td>\n",
       "      <td>11.023198</td>\n",
       "    </tr>\n",
       "    <tr>\n",
       "      <th>...</th>\n",
       "      <td>...</td>\n",
       "      <td>...</td>\n",
       "    </tr>\n",
       "    <tr>\n",
       "      <th>295</th>\n",
       "      <td>2023-07-01</td>\n",
       "      <td>10.328337</td>\n",
       "    </tr>\n",
       "    <tr>\n",
       "      <th>296</th>\n",
       "      <td>2023-06-30</td>\n",
       "      <td>10.324390</td>\n",
       "    </tr>\n",
       "    <tr>\n",
       "      <th>297</th>\n",
       "      <td>2023-06-29</td>\n",
       "      <td>10.323725</td>\n",
       "    </tr>\n",
       "    <tr>\n",
       "      <th>298</th>\n",
       "      <td>2023-06-28</td>\n",
       "      <td>10.311448</td>\n",
       "    </tr>\n",
       "    <tr>\n",
       "      <th>299</th>\n",
       "      <td>2023-06-27</td>\n",
       "      <td>10.331933</td>\n",
       "    </tr>\n",
       "  </tbody>\n",
       "</table>\n",
       "<p>300 rows × 2 columns</p>\n",
       "</div>"
      ],
      "text/plain": [
       "             ds          y\n",
       "0    2024-04-21  11.080698\n",
       "1    2024-04-20  11.081664\n",
       "2    2024-04-19  11.064266\n",
       "3    2024-04-18  11.059013\n",
       "4    2024-04-17  11.023198\n",
       "..          ...        ...\n",
       "295  2023-07-01  10.328337\n",
       "296  2023-06-30  10.324390\n",
       "297  2023-06-29  10.323725\n",
       "298  2023-06-28  10.311448\n",
       "299  2023-06-27  10.331933\n",
       "\n",
       "[300 rows x 2 columns]"
      ]
     },
     "execution_count": 5,
     "metadata": {},
     "output_type": "execute_result"
    }
   ],
   "source": [
    "import datetime\n",
    "data_pandas = data.toPandas()\n",
    "\n",
    "data_pandas['Timestamp'] = data_pandas['Timestamp'].astype(int)\n",
    "data_pandas['Low'] = data_pandas['Low'].astype(float)\n",
    "data_pandas['High'] = data_pandas['High'].astype(float)\n",
    "data_pandas['Open'] = data_pandas['Open'].astype(float)\n",
    "data_pandas['Close'] = data_pandas['Close'].astype(float)\n",
    "data_pandas['Volume'] = data_pandas['Volume'].astype(float)\n",
    "\n",
    "data_pandas['logy'] = np.log(data_pandas[\"Close\"])\n",
    "data_pandas['Timestamp'] = pd.to_datetime(data_pandas['Timestamp'], unit='s').dt.date\n",
    "data_pandas = data_pandas.rename(columns={\"Timestamp\": \"ds\", \"logy\" : \"y\"})\n",
    "data_final= data_pandas[['ds','y']]\n",
    "data_final"
   ]
  },
  {
   "cell_type": "code",
   "execution_count": 0,
   "metadata": {
    "application/vnd.databricks.v1+cell": {
     "cellMetadata": {
      "byteLimit": 2048000,
      "rowLimit": 10000
     },
     "inputWidgets": {},
     "nuid": "a5878312-ced5-42fe-8def-74c408e9b7ec",
     "showTitle": false,
     "title": ""
    }
   },
   "outputs": [
    {
     "output_type": "stream",
     "name": "stderr",
     "output_type": "stream",
     "text": [
      "00:25:16 - cmdstanpy - INFO - Chain [1] start processing\n00:25:16 - cmdstanpy - INFO - Chain [1] done processing\n00:25:16 - cmdstanpy - INFO - Chain [1] start processing\n00:25:16 - cmdstanpy - INFO - Chain [1] done processing\n"
     ]
    }
   ],
   "source": [
    "priors = [0.001, 0.01]\n",
    "prophets, labels = [], []\n",
    "for prior in priors:\n",
    "    prophet = Prophet(changepoint_prior_scale=prior)\n",
    "    prophet.fit(data_final)\n",
    " \n",
    "    prophets.append(prophet)\n",
    "    labels.append(r\"CP Prior = \" + str(prior))"
   ]
  },
  {
   "cell_type": "code",
   "execution_count": 0,
   "metadata": {
    "application/vnd.databricks.v1+cell": {
     "cellMetadata": {
      "byteLimit": 2048000,
      "rowLimit": 10000
     },
     "inputWidgets": {},
     "nuid": "a7281166-72bc-4206-9330-c2ea03e3d8fd",
     "showTitle": false,
     "title": ""
    }
   },
   "outputs": [],
   "source": [
    "forecasts = []\n",
    "for prophet in prophets:\n",
    "    forecast = prophet.make_future_dataframe(periods=7, freq=\"D\")\n",
    "    forecast = prophet.predict(forecast)\n",
    " \n",
    "    forecast = forecast.rename(columns={\"ds\" : str(priors[prophets.index(prophet)]) + \"_ds\"})\n",
    "    forecasts.append(forecast)"
   ]
  },
  {
   "cell_type": "code",
   "execution_count": 0,
   "metadata": {
    "application/vnd.databricks.v1+cell": {
     "cellMetadata": {
      "byteLimit": 2048000,
      "rowLimit": 10000
     },
     "inputWidgets": {},
     "nuid": "832a73ee-058f-4a7d-9a35-479fc6b37541",
     "showTitle": false,
     "title": ""
    }
   },
   "outputs": [],
   "source": [
    "output = pd.merge(forecasts[0], forecasts[1], how = \"inner\", left_on = \"0.001_ds\", right_on = \"0.01_ds\")\n",
    "output = output.rename(columns={\"0.001_ds\": \"Date\"}).drop(\"0.01_ds\", axis=1)\n",
    "output = output.set_index('Date')"
   ]
  },
  {
   "cell_type": "code",
   "execution_count": 0,
   "metadata": {
    "application/vnd.databricks.v1+cell": {
     "cellMetadata": {
      "byteLimit": 2048000,
      "rowLimit": 10000
     },
     "inputWidgets": {},
     "nuid": "9179713d-a6cf-4690-b8b5-4bde2d4c527b",
     "showTitle": false,
     "title": ""
    }
   },
   "outputs": [
    {
     "output_type": "stream",
     "name": "stderr",
     "output_type": "stream",
     "text": [
      "/root/.ipykernel/33483/command-2679605384241061-867501912:8: UserWarning: FixedFormatter should only be used together with FixedLocator\n  ax.set_yticklabels(np.round(np.exp(a), 1))\n"
     ]
    },
    {
     "output_type": "display_data",
     "data": {
      "image/png": "[encoded data removed]",
      "text/plain": [
       "<Figure size 1000x800 with 1 Axes>"
      ]
     },
     "metadata": {},
     "output_type": "display_data"
    }
   ],
   "source": [
    "fig, ax = plt.subplots(1, 1, figsize=(10, 8))\n",
    "ax.plot(output.index, output[\"yhat_x\"], label=labels[0])\n",
    "ax.fill_between(output.index, output[\"yhat_upper_x\"], output[\"yhat_lower_x\"], alpha=0.6, edgecolor = \"k\")\n",
    "ax.plot(output.index, output[\"yhat_y\"], \"r\", label=labels[1])\n",
    "ax.fill_between(output.index, output[\"yhat_upper_y\"], output[\"yhat_lower_y\"], alpha=0.6, edgecolor = \"k\")\n",
    "ax.plot(data_final.ds, data_final.y, color=\"green\", linewidth=3, label=r\"Bitcoin price Prediction\")\n",
    "a=ax.get_yticks().tolist()\n",
    "ax.set_yticklabels(np.round(np.exp(a), 1))\n",
    "plt.legend(loc=\"upper left\")\n",
    "plt.ylabel(r\"Price /$\")\n",
    "plt.show()"
   ]
  },
  {
   "cell_type": "markdown",
   "metadata": {
    "application/vnd.databricks.v1+cell": {
     "cellMetadata": {},
     "inputWidgets": {},
     "nuid": "ad2e0494-70d3-4f47-8b19-43227e28723b",
     "showTitle": false,
     "title": ""
    }
   },
   "source": [
    "# Future Enchancements\n",
    "\n",
    "* Include more moving average features.\n",
    "* Include the timeseries implementation with historical data.\n",
    "* Deep Learning LSTM time series analysis.\n",
    "* Streaming implementation using API call using Kafka or pub-sub mechanism.\n",
    "* Real time or near real time model prediction based on SparkML timeseries implementation."
   ]
  },
  {
   "cell_type": "markdown",
   "metadata": {
    "application/vnd.databricks.v1+cell": {
     "cellMetadata": {
      "byteLimit": 2048000,
      "rowLimit": 10000
     },
     "inputWidgets": {},
     "nuid": "87ce8acb-3196-42c9-8b54-a9bff1e0d70e",
     "showTitle": false,
     "title": ""
    }
   },
   "source": [
    "# References\n",
    "\n",
    "* https://www.projectpro.io/recipes/read-and-write-parquet-files-pyspark\n",
    "* https://api-docs.databricks.com/python/pyspark/latest/index.html\n",
    "* https://www.databricks.com/blog/2020/01/27/time-series-forecasting-prophet-spark.html\n",
    "* https://www.statsmodels.org/dev/index.html\n",
    "* https://towardsdatascience.com/bitcoin-predictive-price-modeling-with-facebooks-prophet-b66efd0169a0\n",
    "* https://github.com/facebook/prophet\n",
    "* https://www.kaggle.com/code/sandeepanmukherjee/pyspark-bitcoin-trend-analysis#Building-A-Machine-Learning-Model-With-Spark-ML\n"
   ]
  },
  {
   "cell_type": "markdown",
   "metadata": {
    "application/vnd.databricks.v1+cell": {
     "cellMetadata": {
      "byteLimit": 2048000,
      "rowLimit": 10000
     },
     "inputWidgets": {},
     "nuid": "a5589564-de44-4402-9732-4e5b54ace4e6",
     "showTitle": false,
     "title": ""
    }
   },
   "source": []
  },
  {
   "cell_type": "markdown",
   "metadata": {
    "application/vnd.databricks.v1+cell": {
     "cellMetadata": {
      "byteLimit": 2048000,
      "rowLimit": 10000
     },
     "inputWidgets": {},
     "nuid": "93a6b0c4-0f54-4205-afcf-a38d7ffc2092",
     "showTitle": false,
     "title": ""
    }
   },
   "source": []
  }
 ],
 "metadata": {
  "application/vnd.databricks.v1+notebook": {
   "dashboards": [],
   "language": "python",
   "notebookMetadata": {
    "mostRecentlyExecutedCommandWithImplicitDF": {
     "commandId": 3460140070952482,
     "dataframes": [
      "_sqldf"
     ]
    },
    "pythonIndentUnit": 4
   },
   "notebookName": "CS624-BitcoinPricePrediction-TimeSeries(Fbprophet)",
   "widgets": {}
  }
 },
 "nbformat": 4,
 "nbformat_minor": 0
}
