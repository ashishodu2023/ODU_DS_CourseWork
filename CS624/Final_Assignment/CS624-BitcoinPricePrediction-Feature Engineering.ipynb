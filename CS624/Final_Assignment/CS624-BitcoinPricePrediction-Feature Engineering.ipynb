{
 "cells": [
  {
   "cell_type": "markdown",
   "metadata": {
    "application/vnd.databricks.v1+cell": {
     "cellMetadata": {
      "byteLimit": 2048000,
      "rowLimit": 10000
     },
     "inputWidgets": {},
     "nuid": "0e9eb4d9-1395-4098-9909-0f93922f0add",
     "showTitle": false,
     "title": ""
    }
   },
   "source": [
    "# CS624 Final Project"
   ]
  },
  {
   "cell_type": "markdown",
   "metadata": {
    "application/vnd.databricks.v1+cell": {
     "cellMetadata": {
      "byteLimit": 2048000,
      "rowLimit": 10000
     },
     "inputWidgets": {},
     "nuid": "34efaf1b-2027-4731-8836-c08be3849edc",
     "showTitle": false,
     "title": ""
    }
   },
   "source": [
    "## Read the data from  Parquet Files"
   ]
  },
  {
   "cell_type": "markdown",
   "metadata": {
    "application/vnd.databricks.v1+cell": {
     "cellMetadata": {
      "byteLimit": 2048000,
      "rowLimit": 10000
     },
     "inputWidgets": {},
     "nuid": "f71981e5-7e94-443f-af65-e548bcfe390a",
     "showTitle": false,
     "title": ""
    }
   },
   "source": [
    "* SMA (Simple Moving Average) is an average of data points over a specific period, emphasizing all points equally. \n",
    "* EMA (Exponential Moving Average) gives more weight to recent data points, reacting faster to price changes.\n",
    "* Variance (Var) measures the average of the squared differences from the mean, indicating the spread of a dataset.\n",
    "* Standard Deviation (Std) is the square root of variance, representing the average distance of each data point from the mean.\n",
    "* Smoothing Period (7,30,90) days"
   ]
  },
  {
   "cell_type": "code",
   "execution_count": 0,
   "metadata": {
    "application/vnd.databricks.v1+cell": {
     "cellMetadata": {
      "byteLimit": 2048000,
      "rowLimit": 10000
     },
     "inputWidgets": {},
     "nuid": "f1f2fb30-7886-44a7-aa55-09475653db0a",
     "showTitle": false,
     "title": ""
    }
   },
   "outputs": [],
   "source": [
    "%%capture\n",
    "!pip install pandas_ta --quiet"
   ]
  },
  {
   "cell_type": "code",
   "execution_count": 0,
   "metadata": {
    "application/vnd.databricks.v1+cell": {
     "cellMetadata": {
      "byteLimit": 2048000,
      "rowLimit": 10000
     },
     "inputWidgets": {},
     "nuid": "50335d08-2b07-4262-9618-1929556664c6",
     "showTitle": false,
     "title": ""
    }
   },
   "outputs": [],
   "source": [
    "#Pyspark\n",
    "from pyspark.sql import SparkSession\n",
    "from pyspark.sql.types import StructType, StructField, StringType,DoubleType,DateType,TimestampType,LongType\n",
    "from pyspark.sql.functions import mean, min, max, stddev, regexp_replace,trim\n",
    "from pyspark.sql import functions as F\n",
    "from pyspark.sql.functions import col, isnan, when, trim\n",
    "from pyspark.sql.types import *\n",
    "from pyspark.sql.functions import *\n",
    "from pyspark.sql.functions import col, avg\n",
    "from pyspark.sql.window import Window\n",
    "from pyspark import SparkConf\n",
    "import numpy as np\n",
    "\n",
    "import matplotlib.pyplot as plt"
   ]
  },
  {
   "cell_type": "code",
   "execution_count": 0,
   "metadata": {
    "application/vnd.databricks.v1+cell": {
     "cellMetadata": {
      "byteLimit": 2048000,
      "rowLimit": 10000
     },
     "inputWidgets": {},
     "nuid": "d40fcceb-abc9-4338-bac6-d30e1ae1e3bf",
     "showTitle": false,
     "title": ""
    }
   },
   "outputs": [
    {
     "output_type": "execute_result",
     "data": {
      "text/html": [
       "\n",
       "            <div>\n",
       "                <p><b>SparkSession - hive</b></p>\n",
       "                \n",
       "        <div>\n",
       "            <p><b>SparkContext</b></p>\n",
       "\n",
       "            <p><a href=\"/?o=1785103845420211#setting/sparkui/0421-044707-z03dmbyt/driver-285968078835802330\">Spark UI</a></p>\n",
       "\n",
       "            <dl>\n",
       "              <dt>Version</dt>\n",
       "                <dd><code>v3.5.0</code></dd>\n",
       "              <dt>Master</dt>\n",
       "                <dd><code>local[8]</code></dd>\n",
       "              <dt>AppName</dt>\n",
       "                <dd><code>Databricks Shell</code></dd>\n",
       "            </dl>\n",
       "        </div>\n",
       "        \n",
       "            </div>\n",
       "        "
      ],
      "text/plain": [
       "<pyspark.sql.session.SparkSession at 0x7f5034154cd0>"
      ]
     },
     "execution_count": 3,
     "metadata": {},
     "output_type": "execute_result"
    }
   ],
   "source": [
    "spark"
   ]
  },
  {
   "cell_type": "code",
   "execution_count": 0,
   "metadata": {
    "application/vnd.databricks.v1+cell": {
     "cellMetadata": {
      "byteLimit": 2048000,
      "rowLimit": 10000
     },
     "inputWidgets": {},
     "nuid": "3d326995-aca4-46c3-9b31-aabd6829d0fc",
     "showTitle": false,
     "title": ""
    }
   },
   "outputs": [],
   "source": [
    "class DataParquet:\n",
    "    def __init__(self, app_name=\"DataParquet\"):\n",
    "        \"\"\"\n",
    "        Initializes a Spark session.\n",
    "\n",
    "        Args:\n",
    "        - app_name: Name of the Spark application.\n",
    "        \"\"\"\n",
    "        conf = SparkConf()\n",
    "        conf.set(\"spark.executor.memory\", \"20g\")\n",
    "        conf.set(\"spark.driver.memory\", \"10g\")\n",
    "        conf.set(\"spark.executor.cores\", \"4\")\n",
    "        conf.set(\"spark.default.parallelism\", \"200\")\n",
    "        conf.set(\"spark.sql.shuffle.partitions\", \"200\")\n",
    "        conf.set(\"spark.executor.extraJavaOptions\", \"-XX:+UseG4GC\")\n",
    "        #conf.set(\"spark.dynamicAllocation.enabled\", \"true\")\n",
    "        conf.set(\"spark.shuffle.service.enabled\", \"true\")\n",
    "        conf.set(\"spark.memory.fraction\", \"0.7\")\n",
    "        conf.set(\"spark.memory.storageFraction\", \"0.5\")\n",
    "        conf.set('spark.sql.execution.arrow.enabled', 'true')\n",
    "        self.spark = SparkSession.builder \\\n",
    "            .appName(app_name) \\\n",
    "            .config(conf=conf) \\\n",
    "            .getOrCreate()\n",
    "\n",
    "\n",
    "    def read_parquet(self, file_path, header=True, infer_schema=True):\n",
    "        \"\"\"\n",
    "        Reads a Parquet file into a DataFrame.\n",
    "\n",
    "        Args:\n",
    "        - file_path: Path to the Parquet file.\n",
    "        - header: Whether the Parquet file has a header row.\n",
    "        - infer_schema: Whether to infer the data types of columns.\n",
    "\n",
    "        Returns:\n",
    "        - DataFrame: The DataFrame containing the Parquet data.\n",
    "        \"\"\"\n",
    "       \n",
    "        return self.spark.read.parquet(file_path, header=header, inferschema=True)\n",
    "    \n",
    "    def ChangeDataType(self,clean_data):\n",
    "        schema = StructType([\n",
    "        StructField(\"Timestamp\", LongType(), True),\n",
    "        StructField(\"Open\", DoubleType(), True),\n",
    "        StructField(\"High\", DoubleType(), True),\n",
    "        StructField(\"Low\", DoubleType(), True),\n",
    "        StructField(\"Close\", DoubleType(), True),\n",
    "        StructField(\"VolBTC\", DoubleType(), True),\n",
    "        StructField(\"VolCurrency\", DoubleType(), True),\n",
    "        StructField(\"Weighted_Price\", DoubleType(), True),\n",
    "        StructField(\"Timestamp_new\", TimestampType(), True),\n",
    "        StructField(\"date\", DateType(), True),\n",
    "        StructField(\"time\", StringType(), True),\n",
    "        StructField(\"hour\",  IntegerType(), True),\n",
    "        StructField(\"day_of_week\", IntegerType(), True),\n",
    "        StructField(\"year\", IntegerType(), True),\n",
    "        ])\n",
    "\n",
    "        new_data = clean_data.select(\n",
    "        [clean_data[col_name].cast(schema[col_name].dataType).alias(col_name) for col_name in clean_data.columns])\n",
    "        return new_data\n",
    "\n",
    "\n",
    "    def stop(self):\n",
    "        \"\"\"\n",
    "        Stops the Spark session.\n",
    "        \"\"\"\n",
    "        self.spark.stop()"
   ]
  },
  {
   "cell_type": "code",
   "execution_count": 0,
   "metadata": {
    "application/vnd.databricks.v1+cell": {
     "cellMetadata": {
      "byteLimit": 2048000,
      "rowLimit": 10000
     },
     "inputWidgets": {},
     "nuid": "439c7ac3-13ef-40c2-9adb-121e70fc655f",
     "showTitle": false,
     "title": ""
    }
   },
   "outputs": [],
   "source": [
    "dp = DataParquet(app_name=\"DataParquet\")\n",
    "URL=\"/FileStore/tables/parquet_data/splitDFWithYear.parquet\"\n",
    "splitDFWithYear = dp.read_parquet(URL)\n",
    "splitDFWithYear=dp.ChangeDataType(splitDFWithYear)"
   ]
  },
  {
   "cell_type": "code",
   "execution_count": 0,
   "metadata": {
    "application/vnd.databricks.v1+cell": {
     "cellMetadata": {
      "byteLimit": 2048000,
      "rowLimit": 10000
     },
     "inputWidgets": {},
     "nuid": "39385465-3efa-455d-b171-12bdc2f3e55b",
     "showTitle": false,
     "title": ""
    }
   },
   "outputs": [
    {
     "output_type": "execute_result",
     "data": {
      "text/html": [
       "<div>\n",
       "<style scoped>\n",
       "    .dataframe tbody tr th:only-of-type {\n",
       "        vertical-align: middle;\n",
       "    }\n",
       "\n",
       "    .dataframe tbody tr th {\n",
       "        vertical-align: top;\n",
       "    }\n",
       "\n",
       "    .dataframe thead th {\n",
       "        text-align: right;\n",
       "    }\n",
       "</style>\n",
       "<table border=\"1\" class=\"dataframe\">\n",
       "  <thead>\n",
       "    <tr style=\"text-align: right;\">\n",
       "      <th></th>\n",
       "      <th>Timestamp</th>\n",
       "      <th>Open</th>\n",
       "      <th>High</th>\n",
       "      <th>Low</th>\n",
       "      <th>Close</th>\n",
       "      <th>VolBTC</th>\n",
       "      <th>VolCurrency</th>\n",
       "      <th>Weighted_Price</th>\n",
       "      <th>Timestamp_new</th>\n",
       "      <th>date</th>\n",
       "      <th>time</th>\n",
       "      <th>hour</th>\n",
       "      <th>day_of_week</th>\n",
       "      <th>year</th>\n",
       "    </tr>\n",
       "  </thead>\n",
       "  <tbody>\n",
       "    <tr>\n",
       "      <th>0</th>\n",
       "      <td>1496431020</td>\n",
       "      <td>2425.01</td>\n",
       "      <td>2427.04</td>\n",
       "      <td>2425.01</td>\n",
       "      <td>2426.83</td>\n",
       "      <td>3.273191</td>\n",
       "      <td>7943.286051</td>\n",
       "      <td>2426.770974</td>\n",
       "      <td>2017-06-02</td>\n",
       "      <td>2017-06-02</td>\n",
       "      <td>19:17:00</td>\n",
       "      <td>19</td>\n",
       "      <td>6</td>\n",
       "      <td>2017</td>\n",
       "    </tr>\n",
       "    <tr>\n",
       "      <th>1</th>\n",
       "      <td>1496431920</td>\n",
       "      <td>2422.97</td>\n",
       "      <td>2425.11</td>\n",
       "      <td>2422.97</td>\n",
       "      <td>2423.00</td>\n",
       "      <td>2.619033</td>\n",
       "      <td>6346.482316</td>\n",
       "      <td>2423.215865</td>\n",
       "      <td>2017-06-02</td>\n",
       "      <td>2017-06-02</td>\n",
       "      <td>19:32:00</td>\n",
       "      <td>19</td>\n",
       "      <td>6</td>\n",
       "      <td>2017</td>\n",
       "    </tr>\n",
       "    <tr>\n",
       "      <th>2</th>\n",
       "      <td>1496497680</td>\n",
       "      <td>2520.99</td>\n",
       "      <td>2520.99</td>\n",
       "      <td>2520.99</td>\n",
       "      <td>2520.99</td>\n",
       "      <td>0.010368</td>\n",
       "      <td>26.137624</td>\n",
       "      <td>2520.990000</td>\n",
       "      <td>2017-06-03</td>\n",
       "      <td>2017-06-03</td>\n",
       "      <td>13:48:00</td>\n",
       "      <td>13</td>\n",
       "      <td>7</td>\n",
       "      <td>2017</td>\n",
       "    </tr>\n",
       "    <tr>\n",
       "      <th>3</th>\n",
       "      <td>1496504280</td>\n",
       "      <td>2548.00</td>\n",
       "      <td>2550.00</td>\n",
       "      <td>2547.01</td>\n",
       "      <td>2550.00</td>\n",
       "      <td>8.082427</td>\n",
       "      <td>20600.322052</td>\n",
       "      <td>2548.779285</td>\n",
       "      <td>2017-06-03</td>\n",
       "      <td>2017-06-03</td>\n",
       "      <td>15:38:00</td>\n",
       "      <td>15</td>\n",
       "      <td>7</td>\n",
       "      <td>2017</td>\n",
       "    </tr>\n",
       "    <tr>\n",
       "      <th>4</th>\n",
       "      <td>1496532900</td>\n",
       "      <td>2557.26</td>\n",
       "      <td>2557.26</td>\n",
       "      <td>2557.26</td>\n",
       "      <td>2557.26</td>\n",
       "      <td>0.035473</td>\n",
       "      <td>90.713505</td>\n",
       "      <td>2557.260000</td>\n",
       "      <td>2017-06-03</td>\n",
       "      <td>2017-06-03</td>\n",
       "      <td>23:35:00</td>\n",
       "      <td>23</td>\n",
       "      <td>7</td>\n",
       "      <td>2017</td>\n",
       "    </tr>\n",
       "  </tbody>\n",
       "</table>\n",
       "</div>"
      ],
      "text/plain": [
       "    Timestamp     Open     High      Low  ...      time  hour  day_of_week  year\n",
       "0  1496431020  2425.01  2427.04  2425.01  ...  19:17:00    19            6  2017\n",
       "1  1496431920  2422.97  2425.11  2422.97  ...  19:32:00    19            6  2017\n",
       "2  1496497680  2520.99  2520.99  2520.99  ...  13:48:00    13            7  2017\n",
       "3  1496504280  2548.00  2550.00  2547.01  ...  15:38:00    15            7  2017\n",
       "4  1496532900  2557.26  2557.26  2557.26  ...  23:35:00    23            7  2017\n",
       "\n",
       "[5 rows x 14 columns]"
      ]
     },
     "execution_count": 6,
     "metadata": {},
     "output_type": "execute_result"
    }
   ],
   "source": [
    "splitDFWithYear_pandas=splitDFWithYear.toPandas()\n",
    "splitDFWithYear_pandas.head()"
   ]
  },
  {
   "cell_type": "markdown",
   "metadata": {
    "application/vnd.databricks.v1+cell": {
     "cellMetadata": {
      "byteLimit": 2048000,
      "rowLimit": 10000
     },
     "inputWidgets": {},
     "nuid": "569b11cf-123c-4aef-9098-e883c2680b9c",
     "showTitle": false,
     "title": ""
    }
   },
   "source": [
    "# Reduce Pandas Memory"
   ]
  },
  {
   "cell_type": "code",
   "execution_count": 0,
   "metadata": {
    "application/vnd.databricks.v1+cell": {
     "cellMetadata": {
      "byteLimit": 2048000,
      "rowLimit": 10000
     },
     "inputWidgets": {},
     "nuid": "8c119565-cdb5-47dc-b8e2-e8bffffb9391",
     "showTitle": false,
     "title": ""
    }
   },
   "outputs": [],
   "source": [
    "##https://www.kaggle.com/code/rinnqd/reduce-memory-usage\n",
    "def reduce_mem_usage(df, verbose=True):\n",
    "    numerics = ['int16', 'int32', 'int64', 'float16', 'float32', 'float64']\n",
    "    start_mem = df.memory_usage().sum() / 1024**2\n",
    "    for col in df.columns:\n",
    "        col_type = df[col].dtypes\n",
    "        if col_type in numerics:\n",
    "            c_min = df[col].min()\n",
    "            c_max = df[col].max()\n",
    "            if str(col_type)[:3] == 'int':\n",
    "                if c_min > np.iinfo(np.int8).min and c_max < np.iinfo(np.int8).max:\n",
    "                    df[col] = df[col].astype(np.int8)\n",
    "                elif c_min > np.iinfo(np.int16).min and c_max < np.iinfo(np.int16).max:\n",
    "                    df[col] = df[col].astype(np.int16)\n",
    "                elif c_min > np.iinfo(np.int32).min and c_max < np.iinfo(np.int32).max:\n",
    "                    df[col] = df[col].astype(np.int32)\n",
    "                elif c_min > np.iinfo(np.int64).min and c_max < np.iinfo(np.int64).max:\n",
    "                    df[col] = df[col].astype(np.int64)\n",
    "            else:\n",
    "                if c_min > np.finfo(np.float16).min and c_max < np.finfo(np.float16).max:\n",
    "                    df[col] = df[col].astype(np.float16)\n",
    "                elif c_min > np.finfo(np.float32).min and c_max < np.finfo(np.float32).max:\n",
    "                    df[col] = df[col].astype(np.float32)\n",
    "                else:\n",
    "                    df[col] = df[col].astype(np.float64)\n",
    "\n",
    "    end_mem = df.memory_usage().sum() / 1024**2\n",
    "    print('Memory usage after optimization is: {:.2f} MB'.format(end_mem))\n",
    "    print('Decreased by {:.1f}%'.format(100 * (start_mem - end_mem) / start_mem))\n",
    "\n",
    "    return df"
   ]
  },
  {
   "cell_type": "code",
   "execution_count": 0,
   "metadata": {
    "application/vnd.databricks.v1+cell": {
     "cellMetadata": {
      "byteLimit": 2048000,
      "rowLimit": 10000
     },
     "inputWidgets": {},
     "nuid": "7953e3b8-a07c-45db-a00c-7c3452c70e82",
     "showTitle": false,
     "title": ""
    }
   },
   "outputs": [
    {
     "output_type": "stream",
     "name": "stdout",
     "output_type": "stream",
     "text": [
      "Memory usage after optimization is: 165.43 MB\nDecreased by 52.0%\n"
     ]
    }
   ],
   "source": [
    "splitDFWithYear_pandas = reduce_mem_usage(splitDFWithYear_pandas)"
   ]
  },
  {
   "cell_type": "markdown",
   "metadata": {
    "application/vnd.databricks.v1+cell": {
     "cellMetadata": {
      "byteLimit": 2048000,
      "rowLimit": 10000
     },
     "inputWidgets": {},
     "nuid": "9d272c9c-5805-4145-9b9a-8007a45f18c7",
     "showTitle": false,
     "title": ""
    }
   },
   "source": [
    "# Feature Engineering"
   ]
  },
  {
   "cell_type": "code",
   "execution_count": 0,
   "metadata": {
    "application/vnd.databricks.v1+cell": {
     "cellMetadata": {
      "byteLimit": 2048000,
      "rowLimit": 10000
     },
     "inputWidgets": {},
     "nuid": "3d065208-5e60-4650-a2b2-90e61fbc6239",
     "showTitle": false,
     "title": ""
    }
   },
   "outputs": [],
   "source": [
    "# Data smoothing is done by using an algorithm to remove noise from a data set. This allows important patterns to more clearly stand out.\n",
    "class DataSmoothing:\n",
    "    def MovingAverages(self,data_df,smoothening_type):\n",
    "        smoothening_range = [7, 30, 90]\n",
    "        #column_name=['Open','High','Low','Close','Weighted_Price']\n",
    "        column_name=['Open','High','Low','Weighted_Price']\n",
    "        if smoothening_type == 'sma':\n",
    "            # Loop through each column (excluding non-numeric columns)\n",
    "            for column in data_df[column_name]:\n",
    "                # Calculate SMA using pandas_ta for each window length in the range\n",
    "                for window_length in smoothening_range:\n",
    "                    data_df[f'{column}_sma_{window_length}'] = ta.sma(data_df[column], length=window_length)\n",
    "\n",
    "        if smoothening_type == 'ema':\n",
    "            # Loop through each column (excluding non-numeric columns)\n",
    "            for column in data_df[column_name]:\n",
    "                # Calculate SMA using pandas_ta for each window length in the range\n",
    "                for window_length in smoothening_range:\n",
    "                    data_df[f'{column}_ema_{window_length}'] = ta.ema(data_df[column], length=window_length)\n",
    "\n",
    "        if smoothening_type == 'rsi':\n",
    "            # Loop through each column (excluding non-numeric columns)\n",
    "            for column in data_df[column_name]:\n",
    "                # Calculate SMA using pandas_ta for each window length in the range\n",
    "                for window_length in smoothening_range:\n",
    "                    data_df[f'{column}_rsi_{window_length}'] = ta.rsi(data_df[column], length=window_length)\n",
    "\n",
    "        if smoothening_type == 'var':\n",
    "            # Loop through each column (excluding non-numeric columns)\n",
    "            for column in data_df[column_name]:\n",
    "                # Calculate SMA using pandas_ta for each window length in the range\n",
    "                for window_length in smoothening_range:\n",
    "                    data_df[f'{column}_var_{window_length}'] = ta.variance(data_df[column], length=window_length)\n",
    "\n",
    "        if smoothening_type == 'std':\n",
    "            # Loop through each column (excluding non-numeric columns)\n",
    "            for column in data_df[column_name]:\n",
    "                # Calculate SMA using pandas_ta for each window length in the range\n",
    "                for window_length in smoothening_range:\n",
    "                    data_df[f'{column}_std_{window_length}'] = ta.stdev(data_df[column], length=window_length)\n",
    "\n",
    "        if smoothening_type == 'roc':\n",
    "            # Loop through each column (excluding non-numeric columns)\n",
    "            for column in data_df[column_name]:\n",
    "                # Calculate SMA using pandas_ta for each window length in the range\n",
    "                for window_length in smoothening_range:\n",
    "                    data_df[f'{column}_roc_{window_length}'] = ta.roc(data_df[column], length=window_length)\n",
    "        \n",
    "        if smoothening_type == 'dema':\n",
    "            # Loop through each column (excluding non-numeric columns)\n",
    "            for column in data_df[column_name]:\n",
    "                # Calculate SMA using pandas_ta for each window length in the range\n",
    "                for window_length in smoothening_range:\n",
    "                    data_df[f'{column}_dema_{window_length}'] = ta.dema(data_df[column], length=window_length)\n",
    "\n",
    "        if smoothening_type == 'tema':\n",
    "            # Loop through each column (excluding non-numeric columns)\n",
    "            for column in data_df[column_name]:\n",
    "                # Calculate SMA using pandas_ta for each window length in the range\n",
    "                for window_length in smoothening_range:\n",
    "                    data_df[f'{column}_tema_{window_length}'] = ta.tema(data_df[column], length=window_length)\n",
    "        \n",
    "        return data_df\n",
    "\n",
    "da = DataSmoothing()"
   ]
  },
  {
   "cell_type": "code",
   "execution_count": 0,
   "metadata": {
    "application/vnd.databricks.v1+cell": {
     "cellMetadata": {
      "byteLimit": 2048000,
      "rowLimit": 10000
     },
     "inputWidgets": {},
     "nuid": "66bb9d78-ea0e-406d-830b-c4de90508031",
     "showTitle": false,
     "title": ""
    }
   },
   "outputs": [
    {
     "output_type": "execute_result",
     "data": {
      "text/html": [
       "<div>\n",
       "<style scoped>\n",
       "    .dataframe tbody tr th:only-of-type {\n",
       "        vertical-align: middle;\n",
       "    }\n",
       "\n",
       "    .dataframe tbody tr th {\n",
       "        vertical-align: top;\n",
       "    }\n",
       "\n",
       "    .dataframe thead th {\n",
       "        text-align: right;\n",
       "    }\n",
       "</style>\n",
       "<table border=\"1\" class=\"dataframe\">\n",
       "  <thead>\n",
       "    <tr style=\"text-align: right;\">\n",
       "      <th></th>\n",
       "      <th>Timestamp</th>\n",
       "      <th>Open</th>\n",
       "      <th>High</th>\n",
       "      <th>Low</th>\n",
       "      <th>Close</th>\n",
       "      <th>VolBTC</th>\n",
       "      <th>VolCurrency</th>\n",
       "      <th>Weighted_Price</th>\n",
       "      <th>Timestamp_new</th>\n",
       "      <th>date</th>\n",
       "      <th>time</th>\n",
       "      <th>hour</th>\n",
       "      <th>day_of_week</th>\n",
       "      <th>year</th>\n",
       "      <th>Open_sma_7</th>\n",
       "      <th>Open_sma_30</th>\n",
       "      <th>Open_sma_90</th>\n",
       "      <th>High_sma_7</th>\n",
       "      <th>High_sma_30</th>\n",
       "      <th>High_sma_90</th>\n",
       "      <th>Low_sma_7</th>\n",
       "      <th>Low_sma_30</th>\n",
       "      <th>Low_sma_90</th>\n",
       "      <th>Weighted_Price_sma_7</th>\n",
       "      <th>Weighted_Price_sma_30</th>\n",
       "      <th>Weighted_Price_sma_90</th>\n",
       "    </tr>\n",
       "  </thead>\n",
       "  <tbody>\n",
       "    <tr>\n",
       "      <th>0</th>\n",
       "      <td>1496431020</td>\n",
       "      <td>2426.0</td>\n",
       "      <td>2428.0</td>\n",
       "      <td>2426.0</td>\n",
       "      <td>2426.0</td>\n",
       "      <td>3.273438</td>\n",
       "      <td>7943.286133</td>\n",
       "      <td>2426.0</td>\n",
       "      <td>2017-06-02</td>\n",
       "      <td>2017-06-02</td>\n",
       "      <td>19:17:00</td>\n",
       "      <td>19</td>\n",
       "      <td>6</td>\n",
       "      <td>2017</td>\n",
       "      <td>NaN</td>\n",
       "      <td>NaN</td>\n",
       "      <td>NaN</td>\n",
       "      <td>NaN</td>\n",
       "      <td>NaN</td>\n",
       "      <td>NaN</td>\n",
       "      <td>NaN</td>\n",
       "      <td>NaN</td>\n",
       "      <td>NaN</td>\n",
       "      <td>NaN</td>\n",
       "      <td>NaN</td>\n",
       "      <td>NaN</td>\n",
       "    </tr>\n",
       "    <tr>\n",
       "      <th>1</th>\n",
       "      <td>1496431920</td>\n",
       "      <td>2422.0</td>\n",
       "      <td>2426.0</td>\n",
       "      <td>2422.0</td>\n",
       "      <td>2424.0</td>\n",
       "      <td>2.619141</td>\n",
       "      <td>6346.482422</td>\n",
       "      <td>2424.0</td>\n",
       "      <td>2017-06-02</td>\n",
       "      <td>2017-06-02</td>\n",
       "      <td>19:32:00</td>\n",
       "      <td>19</td>\n",
       "      <td>6</td>\n",
       "      <td>2017</td>\n",
       "      <td>NaN</td>\n",
       "      <td>NaN</td>\n",
       "      <td>NaN</td>\n",
       "      <td>NaN</td>\n",
       "      <td>NaN</td>\n",
       "      <td>NaN</td>\n",
       "      <td>NaN</td>\n",
       "      <td>NaN</td>\n",
       "      <td>NaN</td>\n",
       "      <td>NaN</td>\n",
       "      <td>NaN</td>\n",
       "      <td>NaN</td>\n",
       "    </tr>\n",
       "    <tr>\n",
       "      <th>2</th>\n",
       "      <td>1496497680</td>\n",
       "      <td>2520.0</td>\n",
       "      <td>2520.0</td>\n",
       "      <td>2520.0</td>\n",
       "      <td>2520.0</td>\n",
       "      <td>0.010368</td>\n",
       "      <td>26.137625</td>\n",
       "      <td>2520.0</td>\n",
       "      <td>2017-06-03</td>\n",
       "      <td>2017-06-03</td>\n",
       "      <td>13:48:00</td>\n",
       "      <td>13</td>\n",
       "      <td>7</td>\n",
       "      <td>2017</td>\n",
       "      <td>NaN</td>\n",
       "      <td>NaN</td>\n",
       "      <td>NaN</td>\n",
       "      <td>NaN</td>\n",
       "      <td>NaN</td>\n",
       "      <td>NaN</td>\n",
       "      <td>NaN</td>\n",
       "      <td>NaN</td>\n",
       "      <td>NaN</td>\n",
       "      <td>NaN</td>\n",
       "      <td>NaN</td>\n",
       "      <td>NaN</td>\n",
       "    </tr>\n",
       "    <tr>\n",
       "      <th>3</th>\n",
       "      <td>1496504280</td>\n",
       "      <td>2548.0</td>\n",
       "      <td>2550.0</td>\n",
       "      <td>2548.0</td>\n",
       "      <td>2550.0</td>\n",
       "      <td>8.085938</td>\n",
       "      <td>20600.322266</td>\n",
       "      <td>2548.0</td>\n",
       "      <td>2017-06-03</td>\n",
       "      <td>2017-06-03</td>\n",
       "      <td>15:38:00</td>\n",
       "      <td>15</td>\n",
       "      <td>7</td>\n",
       "      <td>2017</td>\n",
       "      <td>NaN</td>\n",
       "      <td>NaN</td>\n",
       "      <td>NaN</td>\n",
       "      <td>NaN</td>\n",
       "      <td>NaN</td>\n",
       "      <td>NaN</td>\n",
       "      <td>NaN</td>\n",
       "      <td>NaN</td>\n",
       "      <td>NaN</td>\n",
       "      <td>NaN</td>\n",
       "      <td>NaN</td>\n",
       "      <td>NaN</td>\n",
       "    </tr>\n",
       "    <tr>\n",
       "      <th>4</th>\n",
       "      <td>1496532900</td>\n",
       "      <td>2558.0</td>\n",
       "      <td>2558.0</td>\n",
       "      <td>2558.0</td>\n",
       "      <td>2558.0</td>\n",
       "      <td>0.035461</td>\n",
       "      <td>90.713509</td>\n",
       "      <td>2558.0</td>\n",
       "      <td>2017-06-03</td>\n",
       "      <td>2017-06-03</td>\n",
       "      <td>23:35:00</td>\n",
       "      <td>23</td>\n",
       "      <td>7</td>\n",
       "      <td>2017</td>\n",
       "      <td>NaN</td>\n",
       "      <td>NaN</td>\n",
       "      <td>NaN</td>\n",
       "      <td>NaN</td>\n",
       "      <td>NaN</td>\n",
       "      <td>NaN</td>\n",
       "      <td>NaN</td>\n",
       "      <td>NaN</td>\n",
       "      <td>NaN</td>\n",
       "      <td>NaN</td>\n",
       "      <td>NaN</td>\n",
       "      <td>NaN</td>\n",
       "    </tr>\n",
       "  </tbody>\n",
       "</table>\n",
       "</div>"
      ],
      "text/plain": [
       "    Timestamp    Open  ...  Weighted_Price_sma_30  Weighted_Price_sma_90\n",
       "0  1496431020  2426.0  ...                    NaN                    NaN\n",
       "1  1496431920  2422.0  ...                    NaN                    NaN\n",
       "2  1496497680  2520.0  ...                    NaN                    NaN\n",
       "3  1496504280  2548.0  ...                    NaN                    NaN\n",
       "4  1496532900  2558.0  ...                    NaN                    NaN\n",
       "\n",
       "[5 rows x 26 columns]"
      ]
     },
     "execution_count": 10,
     "metadata": {},
     "output_type": "execute_result"
    }
   ],
   "source": [
    "import pandas_ta as ta\n",
    "data_df_sma=da.MovingAverages(splitDFWithYear_pandas,'sma')\n",
    "data_df_sma.head()"
   ]
  },
  {
   "cell_type": "code",
   "execution_count": 0,
   "metadata": {
    "application/vnd.databricks.v1+cell": {
     "cellMetadata": {
      "byteLimit": 2048000,
      "rowLimit": 10000
     },
     "inputWidgets": {},
     "nuid": "ae3ab292-e86a-4cdd-ad77-582cd1c00a95",
     "showTitle": false,
     "title": ""
    }
   },
   "outputs": [
    {
     "output_type": "execute_result",
     "data": {
      "text/html": [
       "<div>\n",
       "<style scoped>\n",
       "    .dataframe tbody tr th:only-of-type {\n",
       "        vertical-align: middle;\n",
       "    }\n",
       "\n",
       "    .dataframe tbody tr th {\n",
       "        vertical-align: top;\n",
       "    }\n",
       "\n",
       "    .dataframe thead th {\n",
       "        text-align: right;\n",
       "    }\n",
       "</style>\n",
       "<table border=\"1\" class=\"dataframe\">\n",
       "  <thead>\n",
       "    <tr style=\"text-align: right;\">\n",
       "      <th></th>\n",
       "      <th>Timestamp</th>\n",
       "      <th>Open</th>\n",
       "      <th>High</th>\n",
       "      <th>Low</th>\n",
       "      <th>Close</th>\n",
       "      <th>VolBTC</th>\n",
       "      <th>VolCurrency</th>\n",
       "      <th>Weighted_Price</th>\n",
       "      <th>Timestamp_new</th>\n",
       "      <th>date</th>\n",
       "      <th>time</th>\n",
       "      <th>hour</th>\n",
       "      <th>day_of_week</th>\n",
       "      <th>year</th>\n",
       "      <th>Open_sma_7</th>\n",
       "      <th>Open_sma_30</th>\n",
       "      <th>Open_sma_90</th>\n",
       "      <th>High_sma_7</th>\n",
       "      <th>High_sma_30</th>\n",
       "      <th>High_sma_90</th>\n",
       "      <th>Low_sma_7</th>\n",
       "      <th>Low_sma_30</th>\n",
       "      <th>Low_sma_90</th>\n",
       "      <th>Weighted_Price_sma_7</th>\n",
       "      <th>Weighted_Price_sma_30</th>\n",
       "      <th>Weighted_Price_sma_90</th>\n",
       "      <th>Open_ema_7</th>\n",
       "      <th>Open_ema_30</th>\n",
       "      <th>Open_ema_90</th>\n",
       "      <th>High_ema_7</th>\n",
       "      <th>High_ema_30</th>\n",
       "      <th>High_ema_90</th>\n",
       "      <th>Low_ema_7</th>\n",
       "      <th>Low_ema_30</th>\n",
       "      <th>Low_ema_90</th>\n",
       "      <th>Weighted_Price_ema_7</th>\n",
       "      <th>Weighted_Price_ema_30</th>\n",
       "      <th>Weighted_Price_ema_90</th>\n",
       "    </tr>\n",
       "  </thead>\n",
       "  <tbody>\n",
       "    <tr>\n",
       "      <th>0</th>\n",
       "      <td>1496431020</td>\n",
       "      <td>2426.0</td>\n",
       "      <td>2428.0</td>\n",
       "      <td>2426.0</td>\n",
       "      <td>2426.0</td>\n",
       "      <td>3.273438</td>\n",
       "      <td>7943.286133</td>\n",
       "      <td>2426.0</td>\n",
       "      <td>2017-06-02</td>\n",
       "      <td>2017-06-02</td>\n",
       "      <td>19:17:00</td>\n",
       "      <td>19</td>\n",
       "      <td>6</td>\n",
       "      <td>2017</td>\n",
       "      <td>NaN</td>\n",
       "      <td>NaN</td>\n",
       "      <td>NaN</td>\n",
       "      <td>NaN</td>\n",
       "      <td>NaN</td>\n",
       "      <td>NaN</td>\n",
       "      <td>NaN</td>\n",
       "      <td>NaN</td>\n",
       "      <td>NaN</td>\n",
       "      <td>NaN</td>\n",
       "      <td>NaN</td>\n",
       "      <td>NaN</td>\n",
       "      <td>NaN</td>\n",
       "      <td>NaN</td>\n",
       "      <td>NaN</td>\n",
       "      <td>NaN</td>\n",
       "      <td>NaN</td>\n",
       "      <td>NaN</td>\n",
       "      <td>NaN</td>\n",
       "      <td>NaN</td>\n",
       "      <td>NaN</td>\n",
       "      <td>NaN</td>\n",
       "      <td>NaN</td>\n",
       "      <td>NaN</td>\n",
       "    </tr>\n",
       "    <tr>\n",
       "      <th>1</th>\n",
       "      <td>1496431920</td>\n",
       "      <td>2422.0</td>\n",
       "      <td>2426.0</td>\n",
       "      <td>2422.0</td>\n",
       "      <td>2424.0</td>\n",
       "      <td>2.619141</td>\n",
       "      <td>6346.482422</td>\n",
       "      <td>2424.0</td>\n",
       "      <td>2017-06-02</td>\n",
       "      <td>2017-06-02</td>\n",
       "      <td>19:32:00</td>\n",
       "      <td>19</td>\n",
       "      <td>6</td>\n",
       "      <td>2017</td>\n",
       "      <td>NaN</td>\n",
       "      <td>NaN</td>\n",
       "      <td>NaN</td>\n",
       "      <td>NaN</td>\n",
       "      <td>NaN</td>\n",
       "      <td>NaN</td>\n",
       "      <td>NaN</td>\n",
       "      <td>NaN</td>\n",
       "      <td>NaN</td>\n",
       "      <td>NaN</td>\n",
       "      <td>NaN</td>\n",
       "      <td>NaN</td>\n",
       "      <td>NaN</td>\n",
       "      <td>NaN</td>\n",
       "      <td>NaN</td>\n",
       "      <td>NaN</td>\n",
       "      <td>NaN</td>\n",
       "      <td>NaN</td>\n",
       "      <td>NaN</td>\n",
       "      <td>NaN</td>\n",
       "      <td>NaN</td>\n",
       "      <td>NaN</td>\n",
       "      <td>NaN</td>\n",
       "      <td>NaN</td>\n",
       "    </tr>\n",
       "    <tr>\n",
       "      <th>2</th>\n",
       "      <td>1496497680</td>\n",
       "      <td>2520.0</td>\n",
       "      <td>2520.0</td>\n",
       "      <td>2520.0</td>\n",
       "      <td>2520.0</td>\n",
       "      <td>0.010368</td>\n",
       "      <td>26.137625</td>\n",
       "      <td>2520.0</td>\n",
       "      <td>2017-06-03</td>\n",
       "      <td>2017-06-03</td>\n",
       "      <td>13:48:00</td>\n",
       "      <td>13</td>\n",
       "      <td>7</td>\n",
       "      <td>2017</td>\n",
       "      <td>NaN</td>\n",
       "      <td>NaN</td>\n",
       "      <td>NaN</td>\n",
       "      <td>NaN</td>\n",
       "      <td>NaN</td>\n",
       "      <td>NaN</td>\n",
       "      <td>NaN</td>\n",
       "      <td>NaN</td>\n",
       "      <td>NaN</td>\n",
       "      <td>NaN</td>\n",
       "      <td>NaN</td>\n",
       "      <td>NaN</td>\n",
       "      <td>NaN</td>\n",
       "      <td>NaN</td>\n",
       "      <td>NaN</td>\n",
       "      <td>NaN</td>\n",
       "      <td>NaN</td>\n",
       "      <td>NaN</td>\n",
       "      <td>NaN</td>\n",
       "      <td>NaN</td>\n",
       "      <td>NaN</td>\n",
       "      <td>NaN</td>\n",
       "      <td>NaN</td>\n",
       "      <td>NaN</td>\n",
       "    </tr>\n",
       "    <tr>\n",
       "      <th>3</th>\n",
       "      <td>1496504280</td>\n",
       "      <td>2548.0</td>\n",
       "      <td>2550.0</td>\n",
       "      <td>2548.0</td>\n",
       "      <td>2550.0</td>\n",
       "      <td>8.085938</td>\n",
       "      <td>20600.322266</td>\n",
       "      <td>2548.0</td>\n",
       "      <td>2017-06-03</td>\n",
       "      <td>2017-06-03</td>\n",
       "      <td>15:38:00</td>\n",
       "      <td>15</td>\n",
       "      <td>7</td>\n",
       "      <td>2017</td>\n",
       "      <td>NaN</td>\n",
       "      <td>NaN</td>\n",
       "      <td>NaN</td>\n",
       "      <td>NaN</td>\n",
       "      <td>NaN</td>\n",
       "      <td>NaN</td>\n",
       "      <td>NaN</td>\n",
       "      <td>NaN</td>\n",
       "      <td>NaN</td>\n",
       "      <td>NaN</td>\n",
       "      <td>NaN</td>\n",
       "      <td>NaN</td>\n",
       "      <td>NaN</td>\n",
       "      <td>NaN</td>\n",
       "      <td>NaN</td>\n",
       "      <td>NaN</td>\n",
       "      <td>NaN</td>\n",
       "      <td>NaN</td>\n",
       "      <td>NaN</td>\n",
       "      <td>NaN</td>\n",
       "      <td>NaN</td>\n",
       "      <td>NaN</td>\n",
       "      <td>NaN</td>\n",
       "      <td>NaN</td>\n",
       "    </tr>\n",
       "    <tr>\n",
       "      <th>4</th>\n",
       "      <td>1496532900</td>\n",
       "      <td>2558.0</td>\n",
       "      <td>2558.0</td>\n",
       "      <td>2558.0</td>\n",
       "      <td>2558.0</td>\n",
       "      <td>0.035461</td>\n",
       "      <td>90.713509</td>\n",
       "      <td>2558.0</td>\n",
       "      <td>2017-06-03</td>\n",
       "      <td>2017-06-03</td>\n",
       "      <td>23:35:00</td>\n",
       "      <td>23</td>\n",
       "      <td>7</td>\n",
       "      <td>2017</td>\n",
       "      <td>NaN</td>\n",
       "      <td>NaN</td>\n",
       "      <td>NaN</td>\n",
       "      <td>NaN</td>\n",
       "      <td>NaN</td>\n",
       "      <td>NaN</td>\n",
       "      <td>NaN</td>\n",
       "      <td>NaN</td>\n",
       "      <td>NaN</td>\n",
       "      <td>NaN</td>\n",
       "      <td>NaN</td>\n",
       "      <td>NaN</td>\n",
       "      <td>NaN</td>\n",
       "      <td>NaN</td>\n",
       "      <td>NaN</td>\n",
       "      <td>NaN</td>\n",
       "      <td>NaN</td>\n",
       "      <td>NaN</td>\n",
       "      <td>NaN</td>\n",
       "      <td>NaN</td>\n",
       "      <td>NaN</td>\n",
       "      <td>NaN</td>\n",
       "      <td>NaN</td>\n",
       "      <td>NaN</td>\n",
       "    </tr>\n",
       "  </tbody>\n",
       "</table>\n",
       "</div>"
      ],
      "text/plain": [
       "    Timestamp    Open  ...  Weighted_Price_ema_30  Weighted_Price_ema_90\n",
       "0  1496431020  2426.0  ...                    NaN                    NaN\n",
       "1  1496431920  2422.0  ...                    NaN                    NaN\n",
       "2  1496497680  2520.0  ...                    NaN                    NaN\n",
       "3  1496504280  2548.0  ...                    NaN                    NaN\n",
       "4  1496532900  2558.0  ...                    NaN                    NaN\n",
       "\n",
       "[5 rows x 38 columns]"
      ]
     },
     "execution_count": 11,
     "metadata": {},
     "output_type": "execute_result"
    }
   ],
   "source": [
    "data_df_ema=da.MovingAverages(splitDFWithYear_pandas,'ema')\n",
    "data_df_ema.head()"
   ]
  },
  {
   "cell_type": "code",
   "execution_count": 0,
   "metadata": {
    "application/vnd.databricks.v1+cell": {
     "cellMetadata": {
      "byteLimit": 2048000,
      "rowLimit": 10000
     },
     "inputWidgets": {},
     "nuid": "69e396a3-2252-41c1-b7a4-0916c56e935b",
     "showTitle": false,
     "title": ""
    }
   },
   "outputs": [
    {
     "output_type": "execute_result",
     "data": {
      "text/html": [
       "<div>\n",
       "<style scoped>\n",
       "    .dataframe tbody tr th:only-of-type {\n",
       "        vertical-align: middle;\n",
       "    }\n",
       "\n",
       "    .dataframe tbody tr th {\n",
       "        vertical-align: top;\n",
       "    }\n",
       "\n",
       "    .dataframe thead th {\n",
       "        text-align: right;\n",
       "    }\n",
       "</style>\n",
       "<table border=\"1\" class=\"dataframe\">\n",
       "  <thead>\n",
       "    <tr style=\"text-align: right;\">\n",
       "      <th></th>\n",
       "      <th>Timestamp</th>\n",
       "      <th>Open</th>\n",
       "      <th>High</th>\n",
       "      <th>Low</th>\n",
       "      <th>Close</th>\n",
       "      <th>VolBTC</th>\n",
       "      <th>VolCurrency</th>\n",
       "      <th>Weighted_Price</th>\n",
       "      <th>Timestamp_new</th>\n",
       "      <th>date</th>\n",
       "      <th>time</th>\n",
       "      <th>hour</th>\n",
       "      <th>day_of_week</th>\n",
       "      <th>year</th>\n",
       "      <th>Open_sma_7</th>\n",
       "      <th>Open_sma_30</th>\n",
       "      <th>Open_sma_90</th>\n",
       "      <th>High_sma_7</th>\n",
       "      <th>High_sma_30</th>\n",
       "      <th>High_sma_90</th>\n",
       "      <th>Low_sma_7</th>\n",
       "      <th>Low_sma_30</th>\n",
       "      <th>Low_sma_90</th>\n",
       "      <th>Weighted_Price_sma_7</th>\n",
       "      <th>Weighted_Price_sma_30</th>\n",
       "      <th>Weighted_Price_sma_90</th>\n",
       "      <th>Open_ema_7</th>\n",
       "      <th>Open_ema_30</th>\n",
       "      <th>Open_ema_90</th>\n",
       "      <th>High_ema_7</th>\n",
       "      <th>High_ema_30</th>\n",
       "      <th>High_ema_90</th>\n",
       "      <th>Low_ema_7</th>\n",
       "      <th>Low_ema_30</th>\n",
       "      <th>Low_ema_90</th>\n",
       "      <th>Weighted_Price_ema_7</th>\n",
       "      <th>Weighted_Price_ema_30</th>\n",
       "      <th>Weighted_Price_ema_90</th>\n",
       "      <th>Open_var_7</th>\n",
       "      <th>Open_var_30</th>\n",
       "      <th>Open_var_90</th>\n",
       "      <th>High_var_7</th>\n",
       "      <th>High_var_30</th>\n",
       "      <th>High_var_90</th>\n",
       "      <th>Low_var_7</th>\n",
       "      <th>Low_var_30</th>\n",
       "      <th>Low_var_90</th>\n",
       "      <th>Weighted_Price_var_7</th>\n",
       "      <th>Weighted_Price_var_30</th>\n",
       "      <th>Weighted_Price_var_90</th>\n",
       "    </tr>\n",
       "  </thead>\n",
       "  <tbody>\n",
       "    <tr>\n",
       "      <th>0</th>\n",
       "      <td>1496431020</td>\n",
       "      <td>2426.0</td>\n",
       "      <td>2428.0</td>\n",
       "      <td>2426.0</td>\n",
       "      <td>2426.0</td>\n",
       "      <td>3.273438</td>\n",
       "      <td>7943.286133</td>\n",
       "      <td>2426.0</td>\n",
       "      <td>2017-06-02</td>\n",
       "      <td>2017-06-02</td>\n",
       "      <td>19:17:00</td>\n",
       "      <td>19</td>\n",
       "      <td>6</td>\n",
       "      <td>2017</td>\n",
       "      <td>NaN</td>\n",
       "      <td>NaN</td>\n",
       "      <td>NaN</td>\n",
       "      <td>NaN</td>\n",
       "      <td>NaN</td>\n",
       "      <td>NaN</td>\n",
       "      <td>NaN</td>\n",
       "      <td>NaN</td>\n",
       "      <td>NaN</td>\n",
       "      <td>NaN</td>\n",
       "      <td>NaN</td>\n",
       "      <td>NaN</td>\n",
       "      <td>NaN</td>\n",
       "      <td>NaN</td>\n",
       "      <td>NaN</td>\n",
       "      <td>NaN</td>\n",
       "      <td>NaN</td>\n",
       "      <td>NaN</td>\n",
       "      <td>NaN</td>\n",
       "      <td>NaN</td>\n",
       "      <td>NaN</td>\n",
       "      <td>NaN</td>\n",
       "      <td>NaN</td>\n",
       "      <td>NaN</td>\n",
       "      <td>NaN</td>\n",
       "      <td>NaN</td>\n",
       "      <td>NaN</td>\n",
       "      <td>NaN</td>\n",
       "      <td>NaN</td>\n",
       "      <td>NaN</td>\n",
       "      <td>NaN</td>\n",
       "      <td>NaN</td>\n",
       "      <td>NaN</td>\n",
       "      <td>NaN</td>\n",
       "      <td>NaN</td>\n",
       "      <td>NaN</td>\n",
       "    </tr>\n",
       "    <tr>\n",
       "      <th>1</th>\n",
       "      <td>1496431920</td>\n",
       "      <td>2422.0</td>\n",
       "      <td>2426.0</td>\n",
       "      <td>2422.0</td>\n",
       "      <td>2424.0</td>\n",
       "      <td>2.619141</td>\n",
       "      <td>6346.482422</td>\n",
       "      <td>2424.0</td>\n",
       "      <td>2017-06-02</td>\n",
       "      <td>2017-06-02</td>\n",
       "      <td>19:32:00</td>\n",
       "      <td>19</td>\n",
       "      <td>6</td>\n",
       "      <td>2017</td>\n",
       "      <td>NaN</td>\n",
       "      <td>NaN</td>\n",
       "      <td>NaN</td>\n",
       "      <td>NaN</td>\n",
       "      <td>NaN</td>\n",
       "      <td>NaN</td>\n",
       "      <td>NaN</td>\n",
       "      <td>NaN</td>\n",
       "      <td>NaN</td>\n",
       "      <td>NaN</td>\n",
       "      <td>NaN</td>\n",
       "      <td>NaN</td>\n",
       "      <td>NaN</td>\n",
       "      <td>NaN</td>\n",
       "      <td>NaN</td>\n",
       "      <td>NaN</td>\n",
       "      <td>NaN</td>\n",
       "      <td>NaN</td>\n",
       "      <td>NaN</td>\n",
       "      <td>NaN</td>\n",
       "      <td>NaN</td>\n",
       "      <td>NaN</td>\n",
       "      <td>NaN</td>\n",
       "      <td>NaN</td>\n",
       "      <td>NaN</td>\n",
       "      <td>NaN</td>\n",
       "      <td>NaN</td>\n",
       "      <td>NaN</td>\n",
       "      <td>NaN</td>\n",
       "      <td>NaN</td>\n",
       "      <td>NaN</td>\n",
       "      <td>NaN</td>\n",
       "      <td>NaN</td>\n",
       "      <td>NaN</td>\n",
       "      <td>NaN</td>\n",
       "      <td>NaN</td>\n",
       "    </tr>\n",
       "    <tr>\n",
       "      <th>2</th>\n",
       "      <td>1496497680</td>\n",
       "      <td>2520.0</td>\n",
       "      <td>2520.0</td>\n",
       "      <td>2520.0</td>\n",
       "      <td>2520.0</td>\n",
       "      <td>0.010368</td>\n",
       "      <td>26.137625</td>\n",
       "      <td>2520.0</td>\n",
       "      <td>2017-06-03</td>\n",
       "      <td>2017-06-03</td>\n",
       "      <td>13:48:00</td>\n",
       "      <td>13</td>\n",
       "      <td>7</td>\n",
       "      <td>2017</td>\n",
       "      <td>NaN</td>\n",
       "      <td>NaN</td>\n",
       "      <td>NaN</td>\n",
       "      <td>NaN</td>\n",
       "      <td>NaN</td>\n",
       "      <td>NaN</td>\n",
       "      <td>NaN</td>\n",
       "      <td>NaN</td>\n",
       "      <td>NaN</td>\n",
       "      <td>NaN</td>\n",
       "      <td>NaN</td>\n",
       "      <td>NaN</td>\n",
       "      <td>NaN</td>\n",
       "      <td>NaN</td>\n",
       "      <td>NaN</td>\n",
       "      <td>NaN</td>\n",
       "      <td>NaN</td>\n",
       "      <td>NaN</td>\n",
       "      <td>NaN</td>\n",
       "      <td>NaN</td>\n",
       "      <td>NaN</td>\n",
       "      <td>NaN</td>\n",
       "      <td>NaN</td>\n",
       "      <td>NaN</td>\n",
       "      <td>NaN</td>\n",
       "      <td>NaN</td>\n",
       "      <td>NaN</td>\n",
       "      <td>NaN</td>\n",
       "      <td>NaN</td>\n",
       "      <td>NaN</td>\n",
       "      <td>NaN</td>\n",
       "      <td>NaN</td>\n",
       "      <td>NaN</td>\n",
       "      <td>NaN</td>\n",
       "      <td>NaN</td>\n",
       "      <td>NaN</td>\n",
       "    </tr>\n",
       "    <tr>\n",
       "      <th>3</th>\n",
       "      <td>1496504280</td>\n",
       "      <td>2548.0</td>\n",
       "      <td>2550.0</td>\n",
       "      <td>2548.0</td>\n",
       "      <td>2550.0</td>\n",
       "      <td>8.085938</td>\n",
       "      <td>20600.322266</td>\n",
       "      <td>2548.0</td>\n",
       "      <td>2017-06-03</td>\n",
       "      <td>2017-06-03</td>\n",
       "      <td>15:38:00</td>\n",
       "      <td>15</td>\n",
       "      <td>7</td>\n",
       "      <td>2017</td>\n",
       "      <td>NaN</td>\n",
       "      <td>NaN</td>\n",
       "      <td>NaN</td>\n",
       "      <td>NaN</td>\n",
       "      <td>NaN</td>\n",
       "      <td>NaN</td>\n",
       "      <td>NaN</td>\n",
       "      <td>NaN</td>\n",
       "      <td>NaN</td>\n",
       "      <td>NaN</td>\n",
       "      <td>NaN</td>\n",
       "      <td>NaN</td>\n",
       "      <td>NaN</td>\n",
       "      <td>NaN</td>\n",
       "      <td>NaN</td>\n",
       "      <td>NaN</td>\n",
       "      <td>NaN</td>\n",
       "      <td>NaN</td>\n",
       "      <td>NaN</td>\n",
       "      <td>NaN</td>\n",
       "      <td>NaN</td>\n",
       "      <td>NaN</td>\n",
       "      <td>NaN</td>\n",
       "      <td>NaN</td>\n",
       "      <td>NaN</td>\n",
       "      <td>NaN</td>\n",
       "      <td>NaN</td>\n",
       "      <td>NaN</td>\n",
       "      <td>NaN</td>\n",
       "      <td>NaN</td>\n",
       "      <td>NaN</td>\n",
       "      <td>NaN</td>\n",
       "      <td>NaN</td>\n",
       "      <td>NaN</td>\n",
       "      <td>NaN</td>\n",
       "      <td>NaN</td>\n",
       "    </tr>\n",
       "    <tr>\n",
       "      <th>4</th>\n",
       "      <td>1496532900</td>\n",
       "      <td>2558.0</td>\n",
       "      <td>2558.0</td>\n",
       "      <td>2558.0</td>\n",
       "      <td>2558.0</td>\n",
       "      <td>0.035461</td>\n",
       "      <td>90.713509</td>\n",
       "      <td>2558.0</td>\n",
       "      <td>2017-06-03</td>\n",
       "      <td>2017-06-03</td>\n",
       "      <td>23:35:00</td>\n",
       "      <td>23</td>\n",
       "      <td>7</td>\n",
       "      <td>2017</td>\n",
       "      <td>NaN</td>\n",
       "      <td>NaN</td>\n",
       "      <td>NaN</td>\n",
       "      <td>NaN</td>\n",
       "      <td>NaN</td>\n",
       "      <td>NaN</td>\n",
       "      <td>NaN</td>\n",
       "      <td>NaN</td>\n",
       "      <td>NaN</td>\n",
       "      <td>NaN</td>\n",
       "      <td>NaN</td>\n",
       "      <td>NaN</td>\n",
       "      <td>NaN</td>\n",
       "      <td>NaN</td>\n",
       "      <td>NaN</td>\n",
       "      <td>NaN</td>\n",
       "      <td>NaN</td>\n",
       "      <td>NaN</td>\n",
       "      <td>NaN</td>\n",
       "      <td>NaN</td>\n",
       "      <td>NaN</td>\n",
       "      <td>NaN</td>\n",
       "      <td>NaN</td>\n",
       "      <td>NaN</td>\n",
       "      <td>NaN</td>\n",
       "      <td>NaN</td>\n",
       "      <td>NaN</td>\n",
       "      <td>NaN</td>\n",
       "      <td>NaN</td>\n",
       "      <td>NaN</td>\n",
       "      <td>NaN</td>\n",
       "      <td>NaN</td>\n",
       "      <td>NaN</td>\n",
       "      <td>NaN</td>\n",
       "      <td>NaN</td>\n",
       "      <td>NaN</td>\n",
       "    </tr>\n",
       "  </tbody>\n",
       "</table>\n",
       "</div>"
      ],
      "text/plain": [
       "    Timestamp    Open  ...  Weighted_Price_var_30  Weighted_Price_var_90\n",
       "0  1496431020  2426.0  ...                    NaN                    NaN\n",
       "1  1496431920  2422.0  ...                    NaN                    NaN\n",
       "2  1496497680  2520.0  ...                    NaN                    NaN\n",
       "3  1496504280  2548.0  ...                    NaN                    NaN\n",
       "4  1496532900  2558.0  ...                    NaN                    NaN\n",
       "\n",
       "[5 rows x 50 columns]"
      ]
     },
     "execution_count": 12,
     "metadata": {},
     "output_type": "execute_result"
    }
   ],
   "source": [
    "data_df_var=da.MovingAverages(splitDFWithYear_pandas,'var')\n",
    "data_df_var.head()"
   ]
  },
  {
   "cell_type": "code",
   "execution_count": 0,
   "metadata": {
    "application/vnd.databricks.v1+cell": {
     "cellMetadata": {
      "byteLimit": 2048000,
      "rowLimit": 10000
     },
     "inputWidgets": {},
     "nuid": "81fc91f5-19ba-4a08-aa7b-9bcf4dfdb2fb",
     "showTitle": false,
     "title": ""
    }
   },
   "outputs": [
    {
     "output_type": "execute_result",
     "data": {
      "text/html": [
       "<div>\n",
       "<style scoped>\n",
       "    .dataframe tbody tr th:only-of-type {\n",
       "        vertical-align: middle;\n",
       "    }\n",
       "\n",
       "    .dataframe tbody tr th {\n",
       "        vertical-align: top;\n",
       "    }\n",
       "\n",
       "    .dataframe thead th {\n",
       "        text-align: right;\n",
       "    }\n",
       "</style>\n",
       "<table border=\"1\" class=\"dataframe\">\n",
       "  <thead>\n",
       "    <tr style=\"text-align: right;\">\n",
       "      <th></th>\n",
       "      <th>Timestamp</th>\n",
       "      <th>Open</th>\n",
       "      <th>High</th>\n",
       "      <th>Low</th>\n",
       "      <th>Close</th>\n",
       "      <th>VolBTC</th>\n",
       "      <th>VolCurrency</th>\n",
       "      <th>Weighted_Price</th>\n",
       "      <th>Timestamp_new</th>\n",
       "      <th>date</th>\n",
       "      <th>time</th>\n",
       "      <th>hour</th>\n",
       "      <th>day_of_week</th>\n",
       "      <th>year</th>\n",
       "      <th>Open_sma_7</th>\n",
       "      <th>Open_sma_30</th>\n",
       "      <th>Open_sma_90</th>\n",
       "      <th>High_sma_7</th>\n",
       "      <th>High_sma_30</th>\n",
       "      <th>High_sma_90</th>\n",
       "      <th>Low_sma_7</th>\n",
       "      <th>Low_sma_30</th>\n",
       "      <th>Low_sma_90</th>\n",
       "      <th>Weighted_Price_sma_7</th>\n",
       "      <th>Weighted_Price_sma_30</th>\n",
       "      <th>Weighted_Price_sma_90</th>\n",
       "      <th>Open_ema_7</th>\n",
       "      <th>Open_ema_30</th>\n",
       "      <th>Open_ema_90</th>\n",
       "      <th>High_ema_7</th>\n",
       "      <th>High_ema_30</th>\n",
       "      <th>High_ema_90</th>\n",
       "      <th>Low_ema_7</th>\n",
       "      <th>Low_ema_30</th>\n",
       "      <th>Low_ema_90</th>\n",
       "      <th>Weighted_Price_ema_7</th>\n",
       "      <th>Weighted_Price_ema_30</th>\n",
       "      <th>Weighted_Price_ema_90</th>\n",
       "      <th>Open_var_7</th>\n",
       "      <th>Open_var_30</th>\n",
       "      <th>Open_var_90</th>\n",
       "      <th>High_var_7</th>\n",
       "      <th>High_var_30</th>\n",
       "      <th>High_var_90</th>\n",
       "      <th>Low_var_7</th>\n",
       "      <th>Low_var_30</th>\n",
       "      <th>Low_var_90</th>\n",
       "      <th>Weighted_Price_var_7</th>\n",
       "      <th>Weighted_Price_var_30</th>\n",
       "      <th>Weighted_Price_var_90</th>\n",
       "      <th>Open_std_7</th>\n",
       "      <th>Open_std_30</th>\n",
       "      <th>Open_std_90</th>\n",
       "      <th>High_std_7</th>\n",
       "      <th>High_std_30</th>\n",
       "      <th>High_std_90</th>\n",
       "      <th>Low_std_7</th>\n",
       "      <th>Low_std_30</th>\n",
       "      <th>Low_std_90</th>\n",
       "      <th>Weighted_Price_std_7</th>\n",
       "      <th>Weighted_Price_std_30</th>\n",
       "      <th>Weighted_Price_std_90</th>\n",
       "    </tr>\n",
       "  </thead>\n",
       "  <tbody>\n",
       "    <tr>\n",
       "      <th>0</th>\n",
       "      <td>1496431020</td>\n",
       "      <td>2426.0</td>\n",
       "      <td>2428.0</td>\n",
       "      <td>2426.0</td>\n",
       "      <td>2426.0</td>\n",
       "      <td>3.273438</td>\n",
       "      <td>7943.286133</td>\n",
       "      <td>2426.0</td>\n",
       "      <td>2017-06-02</td>\n",
       "      <td>2017-06-02</td>\n",
       "      <td>19:17:00</td>\n",
       "      <td>19</td>\n",
       "      <td>6</td>\n",
       "      <td>2017</td>\n",
       "      <td>NaN</td>\n",
       "      <td>NaN</td>\n",
       "      <td>NaN</td>\n",
       "      <td>NaN</td>\n",
       "      <td>NaN</td>\n",
       "      <td>NaN</td>\n",
       "      <td>NaN</td>\n",
       "      <td>NaN</td>\n",
       "      <td>NaN</td>\n",
       "      <td>NaN</td>\n",
       "      <td>NaN</td>\n",
       "      <td>NaN</td>\n",
       "      <td>NaN</td>\n",
       "      <td>NaN</td>\n",
       "      <td>NaN</td>\n",
       "      <td>NaN</td>\n",
       "      <td>NaN</td>\n",
       "      <td>NaN</td>\n",
       "      <td>NaN</td>\n",
       "      <td>NaN</td>\n",
       "      <td>NaN</td>\n",
       "      <td>NaN</td>\n",
       "      <td>NaN</td>\n",
       "      <td>NaN</td>\n",
       "      <td>NaN</td>\n",
       "      <td>NaN</td>\n",
       "      <td>NaN</td>\n",
       "      <td>NaN</td>\n",
       "      <td>NaN</td>\n",
       "      <td>NaN</td>\n",
       "      <td>NaN</td>\n",
       "      <td>NaN</td>\n",
       "      <td>NaN</td>\n",
       "      <td>NaN</td>\n",
       "      <td>NaN</td>\n",
       "      <td>NaN</td>\n",
       "      <td>NaN</td>\n",
       "      <td>NaN</td>\n",
       "      <td>NaN</td>\n",
       "      <td>NaN</td>\n",
       "      <td>NaN</td>\n",
       "      <td>NaN</td>\n",
       "      <td>NaN</td>\n",
       "      <td>NaN</td>\n",
       "      <td>NaN</td>\n",
       "      <td>NaN</td>\n",
       "      <td>NaN</td>\n",
       "      <td>NaN</td>\n",
       "    </tr>\n",
       "    <tr>\n",
       "      <th>1</th>\n",
       "      <td>1496431920</td>\n",
       "      <td>2422.0</td>\n",
       "      <td>2426.0</td>\n",
       "      <td>2422.0</td>\n",
       "      <td>2424.0</td>\n",
       "      <td>2.619141</td>\n",
       "      <td>6346.482422</td>\n",
       "      <td>2424.0</td>\n",
       "      <td>2017-06-02</td>\n",
       "      <td>2017-06-02</td>\n",
       "      <td>19:32:00</td>\n",
       "      <td>19</td>\n",
       "      <td>6</td>\n",
       "      <td>2017</td>\n",
       "      <td>NaN</td>\n",
       "      <td>NaN</td>\n",
       "      <td>NaN</td>\n",
       "      <td>NaN</td>\n",
       "      <td>NaN</td>\n",
       "      <td>NaN</td>\n",
       "      <td>NaN</td>\n",
       "      <td>NaN</td>\n",
       "      <td>NaN</td>\n",
       "      <td>NaN</td>\n",
       "      <td>NaN</td>\n",
       "      <td>NaN</td>\n",
       "      <td>NaN</td>\n",
       "      <td>NaN</td>\n",
       "      <td>NaN</td>\n",
       "      <td>NaN</td>\n",
       "      <td>NaN</td>\n",
       "      <td>NaN</td>\n",
       "      <td>NaN</td>\n",
       "      <td>NaN</td>\n",
       "      <td>NaN</td>\n",
       "      <td>NaN</td>\n",
       "      <td>NaN</td>\n",
       "      <td>NaN</td>\n",
       "      <td>NaN</td>\n",
       "      <td>NaN</td>\n",
       "      <td>NaN</td>\n",
       "      <td>NaN</td>\n",
       "      <td>NaN</td>\n",
       "      <td>NaN</td>\n",
       "      <td>NaN</td>\n",
       "      <td>NaN</td>\n",
       "      <td>NaN</td>\n",
       "      <td>NaN</td>\n",
       "      <td>NaN</td>\n",
       "      <td>NaN</td>\n",
       "      <td>NaN</td>\n",
       "      <td>NaN</td>\n",
       "      <td>NaN</td>\n",
       "      <td>NaN</td>\n",
       "      <td>NaN</td>\n",
       "      <td>NaN</td>\n",
       "      <td>NaN</td>\n",
       "      <td>NaN</td>\n",
       "      <td>NaN</td>\n",
       "      <td>NaN</td>\n",
       "      <td>NaN</td>\n",
       "      <td>NaN</td>\n",
       "    </tr>\n",
       "    <tr>\n",
       "      <th>2</th>\n",
       "      <td>1496497680</td>\n",
       "      <td>2520.0</td>\n",
       "      <td>2520.0</td>\n",
       "      <td>2520.0</td>\n",
       "      <td>2520.0</td>\n",
       "      <td>0.010368</td>\n",
       "      <td>26.137625</td>\n",
       "      <td>2520.0</td>\n",
       "      <td>2017-06-03</td>\n",
       "      <td>2017-06-03</td>\n",
       "      <td>13:48:00</td>\n",
       "      <td>13</td>\n",
       "      <td>7</td>\n",
       "      <td>2017</td>\n",
       "      <td>NaN</td>\n",
       "      <td>NaN</td>\n",
       "      <td>NaN</td>\n",
       "      <td>NaN</td>\n",
       "      <td>NaN</td>\n",
       "      <td>NaN</td>\n",
       "      <td>NaN</td>\n",
       "      <td>NaN</td>\n",
       "      <td>NaN</td>\n",
       "      <td>NaN</td>\n",
       "      <td>NaN</td>\n",
       "      <td>NaN</td>\n",
       "      <td>NaN</td>\n",
       "      <td>NaN</td>\n",
       "      <td>NaN</td>\n",
       "      <td>NaN</td>\n",
       "      <td>NaN</td>\n",
       "      <td>NaN</td>\n",
       "      <td>NaN</td>\n",
       "      <td>NaN</td>\n",
       "      <td>NaN</td>\n",
       "      <td>NaN</td>\n",
       "      <td>NaN</td>\n",
       "      <td>NaN</td>\n",
       "      <td>NaN</td>\n",
       "      <td>NaN</td>\n",
       "      <td>NaN</td>\n",
       "      <td>NaN</td>\n",
       "      <td>NaN</td>\n",
       "      <td>NaN</td>\n",
       "      <td>NaN</td>\n",
       "      <td>NaN</td>\n",
       "      <td>NaN</td>\n",
       "      <td>NaN</td>\n",
       "      <td>NaN</td>\n",
       "      <td>NaN</td>\n",
       "      <td>NaN</td>\n",
       "      <td>NaN</td>\n",
       "      <td>NaN</td>\n",
       "      <td>NaN</td>\n",
       "      <td>NaN</td>\n",
       "      <td>NaN</td>\n",
       "      <td>NaN</td>\n",
       "      <td>NaN</td>\n",
       "      <td>NaN</td>\n",
       "      <td>NaN</td>\n",
       "      <td>NaN</td>\n",
       "      <td>NaN</td>\n",
       "    </tr>\n",
       "    <tr>\n",
       "      <th>3</th>\n",
       "      <td>1496504280</td>\n",
       "      <td>2548.0</td>\n",
       "      <td>2550.0</td>\n",
       "      <td>2548.0</td>\n",
       "      <td>2550.0</td>\n",
       "      <td>8.085938</td>\n",
       "      <td>20600.322266</td>\n",
       "      <td>2548.0</td>\n",
       "      <td>2017-06-03</td>\n",
       "      <td>2017-06-03</td>\n",
       "      <td>15:38:00</td>\n",
       "      <td>15</td>\n",
       "      <td>7</td>\n",
       "      <td>2017</td>\n",
       "      <td>NaN</td>\n",
       "      <td>NaN</td>\n",
       "      <td>NaN</td>\n",
       "      <td>NaN</td>\n",
       "      <td>NaN</td>\n",
       "      <td>NaN</td>\n",
       "      <td>NaN</td>\n",
       "      <td>NaN</td>\n",
       "      <td>NaN</td>\n",
       "      <td>NaN</td>\n",
       "      <td>NaN</td>\n",
       "      <td>NaN</td>\n",
       "      <td>NaN</td>\n",
       "      <td>NaN</td>\n",
       "      <td>NaN</td>\n",
       "      <td>NaN</td>\n",
       "      <td>NaN</td>\n",
       "      <td>NaN</td>\n",
       "      <td>NaN</td>\n",
       "      <td>NaN</td>\n",
       "      <td>NaN</td>\n",
       "      <td>NaN</td>\n",
       "      <td>NaN</td>\n",
       "      <td>NaN</td>\n",
       "      <td>NaN</td>\n",
       "      <td>NaN</td>\n",
       "      <td>NaN</td>\n",
       "      <td>NaN</td>\n",
       "      <td>NaN</td>\n",
       "      <td>NaN</td>\n",
       "      <td>NaN</td>\n",
       "      <td>NaN</td>\n",
       "      <td>NaN</td>\n",
       "      <td>NaN</td>\n",
       "      <td>NaN</td>\n",
       "      <td>NaN</td>\n",
       "      <td>NaN</td>\n",
       "      <td>NaN</td>\n",
       "      <td>NaN</td>\n",
       "      <td>NaN</td>\n",
       "      <td>NaN</td>\n",
       "      <td>NaN</td>\n",
       "      <td>NaN</td>\n",
       "      <td>NaN</td>\n",
       "      <td>NaN</td>\n",
       "      <td>NaN</td>\n",
       "      <td>NaN</td>\n",
       "      <td>NaN</td>\n",
       "    </tr>\n",
       "    <tr>\n",
       "      <th>4</th>\n",
       "      <td>1496532900</td>\n",
       "      <td>2558.0</td>\n",
       "      <td>2558.0</td>\n",
       "      <td>2558.0</td>\n",
       "      <td>2558.0</td>\n",
       "      <td>0.035461</td>\n",
       "      <td>90.713509</td>\n",
       "      <td>2558.0</td>\n",
       "      <td>2017-06-03</td>\n",
       "      <td>2017-06-03</td>\n",
       "      <td>23:35:00</td>\n",
       "      <td>23</td>\n",
       "      <td>7</td>\n",
       "      <td>2017</td>\n",
       "      <td>NaN</td>\n",
       "      <td>NaN</td>\n",
       "      <td>NaN</td>\n",
       "      <td>NaN</td>\n",
       "      <td>NaN</td>\n",
       "      <td>NaN</td>\n",
       "      <td>NaN</td>\n",
       "      <td>NaN</td>\n",
       "      <td>NaN</td>\n",
       "      <td>NaN</td>\n",
       "      <td>NaN</td>\n",
       "      <td>NaN</td>\n",
       "      <td>NaN</td>\n",
       "      <td>NaN</td>\n",
       "      <td>NaN</td>\n",
       "      <td>NaN</td>\n",
       "      <td>NaN</td>\n",
       "      <td>NaN</td>\n",
       "      <td>NaN</td>\n",
       "      <td>NaN</td>\n",
       "      <td>NaN</td>\n",
       "      <td>NaN</td>\n",
       "      <td>NaN</td>\n",
       "      <td>NaN</td>\n",
       "      <td>NaN</td>\n",
       "      <td>NaN</td>\n",
       "      <td>NaN</td>\n",
       "      <td>NaN</td>\n",
       "      <td>NaN</td>\n",
       "      <td>NaN</td>\n",
       "      <td>NaN</td>\n",
       "      <td>NaN</td>\n",
       "      <td>NaN</td>\n",
       "      <td>NaN</td>\n",
       "      <td>NaN</td>\n",
       "      <td>NaN</td>\n",
       "      <td>NaN</td>\n",
       "      <td>NaN</td>\n",
       "      <td>NaN</td>\n",
       "      <td>NaN</td>\n",
       "      <td>NaN</td>\n",
       "      <td>NaN</td>\n",
       "      <td>NaN</td>\n",
       "      <td>NaN</td>\n",
       "      <td>NaN</td>\n",
       "      <td>NaN</td>\n",
       "      <td>NaN</td>\n",
       "      <td>NaN</td>\n",
       "    </tr>\n",
       "  </tbody>\n",
       "</table>\n",
       "</div>"
      ],
      "text/plain": [
       "    Timestamp    Open  ...  Weighted_Price_std_30  Weighted_Price_std_90\n",
       "0  1496431020  2426.0  ...                    NaN                    NaN\n",
       "1  1496431920  2422.0  ...                    NaN                    NaN\n",
       "2  1496497680  2520.0  ...                    NaN                    NaN\n",
       "3  1496504280  2548.0  ...                    NaN                    NaN\n",
       "4  1496532900  2558.0  ...                    NaN                    NaN\n",
       "\n",
       "[5 rows x 62 columns]"
      ]
     },
     "execution_count": 13,
     "metadata": {},
     "output_type": "execute_result"
    }
   ],
   "source": [
    "spark.catalog.clearCache()\n",
    "data_df_std=da.MovingAverages(splitDFWithYear_pandas,'std')\n",
    "data_df_std.head()"
   ]
  },
  {
   "cell_type": "code",
   "execution_count": 0,
   "metadata": {
    "application/vnd.databricks.v1+cell": {
     "cellMetadata": {
      "byteLimit": 2048000,
      "rowLimit": 10000
     },
     "inputWidgets": {},
     "nuid": "95671887-a8a4-4baf-a610-fe3756a4a204",
     "showTitle": false,
     "title": ""
    }
   },
   "outputs": [],
   "source": [
    "#spark.catalog.clearCache()\n",
    "#data_df_rsi=da.MovingAverages(splitDFWithYear_pandas,'rsi')\n",
    "#data_df_rsi.head()"
   ]
  },
  {
   "cell_type": "code",
   "execution_count": 0,
   "metadata": {
    "application/vnd.databricks.v1+cell": {
     "cellMetadata": {
      "byteLimit": 2048000,
      "rowLimit": 10000
     },
     "inputWidgets": {},
     "nuid": "35328ad5-19ba-45a7-8e8c-6a62e5e565dc",
     "showTitle": false,
     "title": ""
    }
   },
   "outputs": [],
   "source": [
    "#data_df_rsi=da.MovingAverages(splitDFWithYear_pandas,'roc')\n",
    "#data_df_rsi.head()"
   ]
  },
  {
   "cell_type": "code",
   "execution_count": 0,
   "metadata": {
    "application/vnd.databricks.v1+cell": {
     "cellMetadata": {
      "byteLimit": 2048000,
      "rowLimit": 10000
     },
     "inputWidgets": {},
     "nuid": "8bcc6140-a78b-4c1c-b215-20e612f8a5b8",
     "showTitle": false,
     "title": ""
    }
   },
   "outputs": [],
   "source": [
    "#data_df_rsi=da.MovingAverages(splitDFWithYear_pandas,'dema')\n",
    "#data_df_rsi.head()"
   ]
  },
  {
   "cell_type": "code",
   "execution_count": 0,
   "metadata": {
    "application/vnd.databricks.v1+cell": {
     "cellMetadata": {
      "byteLimit": 2048000,
      "rowLimit": 10000
     },
     "inputWidgets": {},
     "nuid": "9f7b6267-ec85-493d-b751-397979f32afd",
     "showTitle": false,
     "title": ""
    }
   },
   "outputs": [],
   "source": [
    "#data_df_rsi=da.MovingAverages(splitDFWithYear_pandas,'tema')\n",
    "#data_df_rsi.head()"
   ]
  },
  {
   "cell_type": "code",
   "execution_count": 0,
   "metadata": {
    "application/vnd.databricks.v1+cell": {
     "cellMetadata": {
      "byteLimit": 2048000,
      "rowLimit": 10000
     },
     "inputWidgets": {},
     "nuid": "04848b9c-2b04-4257-9d23-fcd8acec6134",
     "showTitle": false,
     "title": ""
    }
   },
   "outputs": [
    {
     "output_type": "execute_result",
     "data": {
      "text/html": [
       "<div>\n",
       "<style scoped>\n",
       "    .dataframe tbody tr th:only-of-type {\n",
       "        vertical-align: middle;\n",
       "    }\n",
       "\n",
       "    .dataframe tbody tr th {\n",
       "        vertical-align: top;\n",
       "    }\n",
       "\n",
       "    .dataframe thead th {\n",
       "        text-align: right;\n",
       "    }\n",
       "</style>\n",
       "<table border=\"1\" class=\"dataframe\">\n",
       "  <thead>\n",
       "    <tr style=\"text-align: right;\">\n",
       "      <th></th>\n",
       "      <th>Timestamp</th>\n",
       "      <th>Open</th>\n",
       "      <th>High</th>\n",
       "      <th>Low</th>\n",
       "      <th>Close</th>\n",
       "      <th>VolBTC</th>\n",
       "      <th>VolCurrency</th>\n",
       "      <th>Weighted_Price</th>\n",
       "      <th>Timestamp_new</th>\n",
       "      <th>date</th>\n",
       "      <th>time</th>\n",
       "      <th>hour</th>\n",
       "      <th>day_of_week</th>\n",
       "      <th>year</th>\n",
       "      <th>Open_sma_7</th>\n",
       "      <th>Open_sma_30</th>\n",
       "      <th>Open_sma_90</th>\n",
       "      <th>High_sma_7</th>\n",
       "      <th>High_sma_30</th>\n",
       "      <th>High_sma_90</th>\n",
       "      <th>Low_sma_7</th>\n",
       "      <th>Low_sma_30</th>\n",
       "      <th>Low_sma_90</th>\n",
       "      <th>Weighted_Price_sma_7</th>\n",
       "      <th>Weighted_Price_sma_30</th>\n",
       "      <th>Weighted_Price_sma_90</th>\n",
       "      <th>Open_ema_7</th>\n",
       "      <th>Open_ema_30</th>\n",
       "      <th>Open_ema_90</th>\n",
       "      <th>High_ema_7</th>\n",
       "      <th>High_ema_30</th>\n",
       "      <th>High_ema_90</th>\n",
       "      <th>Low_ema_7</th>\n",
       "      <th>Low_ema_30</th>\n",
       "      <th>Low_ema_90</th>\n",
       "      <th>Weighted_Price_ema_7</th>\n",
       "      <th>Weighted_Price_ema_30</th>\n",
       "      <th>Weighted_Price_ema_90</th>\n",
       "      <th>Open_var_7</th>\n",
       "      <th>Open_var_30</th>\n",
       "      <th>Open_var_90</th>\n",
       "      <th>High_var_7</th>\n",
       "      <th>High_var_30</th>\n",
       "      <th>High_var_90</th>\n",
       "      <th>Low_var_7</th>\n",
       "      <th>Low_var_30</th>\n",
       "      <th>Low_var_90</th>\n",
       "      <th>Weighted_Price_var_7</th>\n",
       "      <th>Weighted_Price_var_30</th>\n",
       "      <th>Weighted_Price_var_90</th>\n",
       "      <th>Open_std_7</th>\n",
       "      <th>Open_std_30</th>\n",
       "      <th>Open_std_90</th>\n",
       "      <th>High_std_7</th>\n",
       "      <th>High_std_30</th>\n",
       "      <th>High_std_90</th>\n",
       "      <th>Low_std_7</th>\n",
       "      <th>Low_std_30</th>\n",
       "      <th>Low_std_90</th>\n",
       "      <th>Weighted_Price_std_7</th>\n",
       "      <th>Weighted_Price_std_30</th>\n",
       "      <th>Weighted_Price_std_90</th>\n",
       "    </tr>\n",
       "  </thead>\n",
       "  <tbody>\n",
       "    <tr>\n",
       "      <th>0</th>\n",
       "      <td>1496431020</td>\n",
       "      <td>2426.0</td>\n",
       "      <td>2428.0</td>\n",
       "      <td>2426.0</td>\n",
       "      <td>2426.0</td>\n",
       "      <td>3.273438</td>\n",
       "      <td>7943.286133</td>\n",
       "      <td>2426.0</td>\n",
       "      <td>2017-06-02</td>\n",
       "      <td>2017-06-02</td>\n",
       "      <td>19:17:00</td>\n",
       "      <td>19</td>\n",
       "      <td>6</td>\n",
       "      <td>2017</td>\n",
       "      <td>NaN</td>\n",
       "      <td>NaN</td>\n",
       "      <td>NaN</td>\n",
       "      <td>NaN</td>\n",
       "      <td>NaN</td>\n",
       "      <td>NaN</td>\n",
       "      <td>NaN</td>\n",
       "      <td>NaN</td>\n",
       "      <td>NaN</td>\n",
       "      <td>NaN</td>\n",
       "      <td>NaN</td>\n",
       "      <td>NaN</td>\n",
       "      <td>NaN</td>\n",
       "      <td>NaN</td>\n",
       "      <td>NaN</td>\n",
       "      <td>NaN</td>\n",
       "      <td>NaN</td>\n",
       "      <td>NaN</td>\n",
       "      <td>NaN</td>\n",
       "      <td>NaN</td>\n",
       "      <td>NaN</td>\n",
       "      <td>NaN</td>\n",
       "      <td>NaN</td>\n",
       "      <td>NaN</td>\n",
       "      <td>NaN</td>\n",
       "      <td>NaN</td>\n",
       "      <td>NaN</td>\n",
       "      <td>NaN</td>\n",
       "      <td>NaN</td>\n",
       "      <td>NaN</td>\n",
       "      <td>NaN</td>\n",
       "      <td>NaN</td>\n",
       "      <td>NaN</td>\n",
       "      <td>NaN</td>\n",
       "      <td>NaN</td>\n",
       "      <td>NaN</td>\n",
       "      <td>NaN</td>\n",
       "      <td>NaN</td>\n",
       "      <td>NaN</td>\n",
       "      <td>NaN</td>\n",
       "      <td>NaN</td>\n",
       "      <td>NaN</td>\n",
       "      <td>NaN</td>\n",
       "      <td>NaN</td>\n",
       "      <td>NaN</td>\n",
       "      <td>NaN</td>\n",
       "      <td>NaN</td>\n",
       "      <td>NaN</td>\n",
       "    </tr>\n",
       "    <tr>\n",
       "      <th>1</th>\n",
       "      <td>1496431920</td>\n",
       "      <td>2422.0</td>\n",
       "      <td>2426.0</td>\n",
       "      <td>2422.0</td>\n",
       "      <td>2424.0</td>\n",
       "      <td>2.619141</td>\n",
       "      <td>6346.482422</td>\n",
       "      <td>2424.0</td>\n",
       "      <td>2017-06-02</td>\n",
       "      <td>2017-06-02</td>\n",
       "      <td>19:32:00</td>\n",
       "      <td>19</td>\n",
       "      <td>6</td>\n",
       "      <td>2017</td>\n",
       "      <td>NaN</td>\n",
       "      <td>NaN</td>\n",
       "      <td>NaN</td>\n",
       "      <td>NaN</td>\n",
       "      <td>NaN</td>\n",
       "      <td>NaN</td>\n",
       "      <td>NaN</td>\n",
       "      <td>NaN</td>\n",
       "      <td>NaN</td>\n",
       "      <td>NaN</td>\n",
       "      <td>NaN</td>\n",
       "      <td>NaN</td>\n",
       "      <td>NaN</td>\n",
       "      <td>NaN</td>\n",
       "      <td>NaN</td>\n",
       "      <td>NaN</td>\n",
       "      <td>NaN</td>\n",
       "      <td>NaN</td>\n",
       "      <td>NaN</td>\n",
       "      <td>NaN</td>\n",
       "      <td>NaN</td>\n",
       "      <td>NaN</td>\n",
       "      <td>NaN</td>\n",
       "      <td>NaN</td>\n",
       "      <td>NaN</td>\n",
       "      <td>NaN</td>\n",
       "      <td>NaN</td>\n",
       "      <td>NaN</td>\n",
       "      <td>NaN</td>\n",
       "      <td>NaN</td>\n",
       "      <td>NaN</td>\n",
       "      <td>NaN</td>\n",
       "      <td>NaN</td>\n",
       "      <td>NaN</td>\n",
       "      <td>NaN</td>\n",
       "      <td>NaN</td>\n",
       "      <td>NaN</td>\n",
       "      <td>NaN</td>\n",
       "      <td>NaN</td>\n",
       "      <td>NaN</td>\n",
       "      <td>NaN</td>\n",
       "      <td>NaN</td>\n",
       "      <td>NaN</td>\n",
       "      <td>NaN</td>\n",
       "      <td>NaN</td>\n",
       "      <td>NaN</td>\n",
       "      <td>NaN</td>\n",
       "      <td>NaN</td>\n",
       "    </tr>\n",
       "    <tr>\n",
       "      <th>2</th>\n",
       "      <td>1496497680</td>\n",
       "      <td>2520.0</td>\n",
       "      <td>2520.0</td>\n",
       "      <td>2520.0</td>\n",
       "      <td>2520.0</td>\n",
       "      <td>0.010368</td>\n",
       "      <td>26.137625</td>\n",
       "      <td>2520.0</td>\n",
       "      <td>2017-06-03</td>\n",
       "      <td>2017-06-03</td>\n",
       "      <td>13:48:00</td>\n",
       "      <td>13</td>\n",
       "      <td>7</td>\n",
       "      <td>2017</td>\n",
       "      <td>NaN</td>\n",
       "      <td>NaN</td>\n",
       "      <td>NaN</td>\n",
       "      <td>NaN</td>\n",
       "      <td>NaN</td>\n",
       "      <td>NaN</td>\n",
       "      <td>NaN</td>\n",
       "      <td>NaN</td>\n",
       "      <td>NaN</td>\n",
       "      <td>NaN</td>\n",
       "      <td>NaN</td>\n",
       "      <td>NaN</td>\n",
       "      <td>NaN</td>\n",
       "      <td>NaN</td>\n",
       "      <td>NaN</td>\n",
       "      <td>NaN</td>\n",
       "      <td>NaN</td>\n",
       "      <td>NaN</td>\n",
       "      <td>NaN</td>\n",
       "      <td>NaN</td>\n",
       "      <td>NaN</td>\n",
       "      <td>NaN</td>\n",
       "      <td>NaN</td>\n",
       "      <td>NaN</td>\n",
       "      <td>NaN</td>\n",
       "      <td>NaN</td>\n",
       "      <td>NaN</td>\n",
       "      <td>NaN</td>\n",
       "      <td>NaN</td>\n",
       "      <td>NaN</td>\n",
       "      <td>NaN</td>\n",
       "      <td>NaN</td>\n",
       "      <td>NaN</td>\n",
       "      <td>NaN</td>\n",
       "      <td>NaN</td>\n",
       "      <td>NaN</td>\n",
       "      <td>NaN</td>\n",
       "      <td>NaN</td>\n",
       "      <td>NaN</td>\n",
       "      <td>NaN</td>\n",
       "      <td>NaN</td>\n",
       "      <td>NaN</td>\n",
       "      <td>NaN</td>\n",
       "      <td>NaN</td>\n",
       "      <td>NaN</td>\n",
       "      <td>NaN</td>\n",
       "      <td>NaN</td>\n",
       "      <td>NaN</td>\n",
       "    </tr>\n",
       "    <tr>\n",
       "      <th>3</th>\n",
       "      <td>1496504280</td>\n",
       "      <td>2548.0</td>\n",
       "      <td>2550.0</td>\n",
       "      <td>2548.0</td>\n",
       "      <td>2550.0</td>\n",
       "      <td>8.085938</td>\n",
       "      <td>20600.322266</td>\n",
       "      <td>2548.0</td>\n",
       "      <td>2017-06-03</td>\n",
       "      <td>2017-06-03</td>\n",
       "      <td>15:38:00</td>\n",
       "      <td>15</td>\n",
       "      <td>7</td>\n",
       "      <td>2017</td>\n",
       "      <td>NaN</td>\n",
       "      <td>NaN</td>\n",
       "      <td>NaN</td>\n",
       "      <td>NaN</td>\n",
       "      <td>NaN</td>\n",
       "      <td>NaN</td>\n",
       "      <td>NaN</td>\n",
       "      <td>NaN</td>\n",
       "      <td>NaN</td>\n",
       "      <td>NaN</td>\n",
       "      <td>NaN</td>\n",
       "      <td>NaN</td>\n",
       "      <td>NaN</td>\n",
       "      <td>NaN</td>\n",
       "      <td>NaN</td>\n",
       "      <td>NaN</td>\n",
       "      <td>NaN</td>\n",
       "      <td>NaN</td>\n",
       "      <td>NaN</td>\n",
       "      <td>NaN</td>\n",
       "      <td>NaN</td>\n",
       "      <td>NaN</td>\n",
       "      <td>NaN</td>\n",
       "      <td>NaN</td>\n",
       "      <td>NaN</td>\n",
       "      <td>NaN</td>\n",
       "      <td>NaN</td>\n",
       "      <td>NaN</td>\n",
       "      <td>NaN</td>\n",
       "      <td>NaN</td>\n",
       "      <td>NaN</td>\n",
       "      <td>NaN</td>\n",
       "      <td>NaN</td>\n",
       "      <td>NaN</td>\n",
       "      <td>NaN</td>\n",
       "      <td>NaN</td>\n",
       "      <td>NaN</td>\n",
       "      <td>NaN</td>\n",
       "      <td>NaN</td>\n",
       "      <td>NaN</td>\n",
       "      <td>NaN</td>\n",
       "      <td>NaN</td>\n",
       "      <td>NaN</td>\n",
       "      <td>NaN</td>\n",
       "      <td>NaN</td>\n",
       "      <td>NaN</td>\n",
       "      <td>NaN</td>\n",
       "      <td>NaN</td>\n",
       "    </tr>\n",
       "    <tr>\n",
       "      <th>4</th>\n",
       "      <td>1496532900</td>\n",
       "      <td>2558.0</td>\n",
       "      <td>2558.0</td>\n",
       "      <td>2558.0</td>\n",
       "      <td>2558.0</td>\n",
       "      <td>0.035461</td>\n",
       "      <td>90.713509</td>\n",
       "      <td>2558.0</td>\n",
       "      <td>2017-06-03</td>\n",
       "      <td>2017-06-03</td>\n",
       "      <td>23:35:00</td>\n",
       "      <td>23</td>\n",
       "      <td>7</td>\n",
       "      <td>2017</td>\n",
       "      <td>NaN</td>\n",
       "      <td>NaN</td>\n",
       "      <td>NaN</td>\n",
       "      <td>NaN</td>\n",
       "      <td>NaN</td>\n",
       "      <td>NaN</td>\n",
       "      <td>NaN</td>\n",
       "      <td>NaN</td>\n",
       "      <td>NaN</td>\n",
       "      <td>NaN</td>\n",
       "      <td>NaN</td>\n",
       "      <td>NaN</td>\n",
       "      <td>NaN</td>\n",
       "      <td>NaN</td>\n",
       "      <td>NaN</td>\n",
       "      <td>NaN</td>\n",
       "      <td>NaN</td>\n",
       "      <td>NaN</td>\n",
       "      <td>NaN</td>\n",
       "      <td>NaN</td>\n",
       "      <td>NaN</td>\n",
       "      <td>NaN</td>\n",
       "      <td>NaN</td>\n",
       "      <td>NaN</td>\n",
       "      <td>NaN</td>\n",
       "      <td>NaN</td>\n",
       "      <td>NaN</td>\n",
       "      <td>NaN</td>\n",
       "      <td>NaN</td>\n",
       "      <td>NaN</td>\n",
       "      <td>NaN</td>\n",
       "      <td>NaN</td>\n",
       "      <td>NaN</td>\n",
       "      <td>NaN</td>\n",
       "      <td>NaN</td>\n",
       "      <td>NaN</td>\n",
       "      <td>NaN</td>\n",
       "      <td>NaN</td>\n",
       "      <td>NaN</td>\n",
       "      <td>NaN</td>\n",
       "      <td>NaN</td>\n",
       "      <td>NaN</td>\n",
       "      <td>NaN</td>\n",
       "      <td>NaN</td>\n",
       "      <td>NaN</td>\n",
       "      <td>NaN</td>\n",
       "      <td>NaN</td>\n",
       "      <td>NaN</td>\n",
       "    </tr>\n",
       "  </tbody>\n",
       "</table>\n",
       "</div>"
      ],
      "text/plain": [
       "    Timestamp    Open  ...  Weighted_Price_std_30  Weighted_Price_std_90\n",
       "0  1496431020  2426.0  ...                    NaN                    NaN\n",
       "1  1496431920  2422.0  ...                    NaN                    NaN\n",
       "2  1496497680  2520.0  ...                    NaN                    NaN\n",
       "3  1496504280  2548.0  ...                    NaN                    NaN\n",
       "4  1496532900  2558.0  ...                    NaN                    NaN\n",
       "\n",
       "[5 rows x 62 columns]"
      ]
     },
     "execution_count": 18,
     "metadata": {},
     "output_type": "execute_result"
    }
   ],
   "source": [
    "spark.catalog.clearCache()\n",
    "data_df_std.head()"
   ]
  },
  {
   "cell_type": "code",
   "execution_count": 0,
   "metadata": {
    "application/vnd.databricks.v1+cell": {
     "cellMetadata": {
      "byteLimit": 2048000,
      "rowLimit": 10000
     },
     "inputWidgets": {},
     "nuid": "e4772368-0015-4c79-bdfe-304b81ff4fb0",
     "showTitle": false,
     "title": ""
    }
   },
   "outputs": [],
   "source": [
    "columns_to_convert = ['Open', 'High', 'Low', 'Close', 'VolBTC', 'VolCurrency', 'Weighted_Price']\n",
    "data_df_std[columns_to_convert] = data_df_std[columns_to_convert].astype('float64')"
   ]
  },
  {
   "cell_type": "code",
   "execution_count": 0,
   "metadata": {
    "application/vnd.databricks.v1+cell": {
     "cellMetadata": {
      "byteLimit": 2048000,
      "rowLimit": 10000
     },
     "inputWidgets": {},
     "nuid": "af098b02-8916-4914-88f0-c6085588288c",
     "showTitle": false,
     "title": ""
    }
   },
   "outputs": [],
   "source": [
    "spark_df = spark.createDataFrame(data_df_std)\n"
   ]
  },
  {
   "cell_type": "code",
   "execution_count": 0,
   "metadata": {
    "application/vnd.databricks.v1+cell": {
     "cellMetadata": {
      "byteLimit": 2048000,
      "rowLimit": 10000
     },
     "inputWidgets": {},
     "nuid": "5c58ef2f-949c-4f04-ab3a-bff64c03bf3a",
     "showTitle": false,
     "title": ""
    }
   },
   "outputs": [],
   "source": [
    "spark_df.write.mode(\"overwrite\").parquet(\"/FileStore/tables/parquet_data/data_smoothening_spark.parquet\", compression=\"snappy\") "
   ]
  },
  {
   "cell_type": "code",
   "execution_count": 0,
   "metadata": {
    "application/vnd.databricks.v1+cell": {
     "cellMetadata": {
      "byteLimit": 2048000,
      "rowLimit": 10000
     },
     "inputWidgets": {},
     "nuid": "63edb035-be79-45f2-9f55-19cc70630c48",
     "showTitle": false,
     "title": ""
    }
   },
   "outputs": [
    {
     "output_type": "display_data",
     "data": {
      "text/html": [
       "<style scoped>\n",
       "  .table-result-container {\n",
       "    max-height: 300px;\n",
       "    overflow: auto;\n",
       "  }\n",
       "  table, th, td {\n",
       "    border: 1px solid black;\n",
       "    border-collapse: collapse;\n",
       "  }\n",
       "  th, td {\n",
       "    padding: 5px;\n",
       "  }\n",
       "  th {\n",
       "    text-align: left;\n",
       "  }\n",
       "</style><div class='table-result-container'><table class='table-result'><thead style='background-color: white'><tr><th>path</th><th>name</th><th>size</th><th>modificationTime</th></tr></thead><tbody><tr><td>dbfs:/FileStore/tables/parquet_data/data_smoothening_spark.parquet/_committed_3712456460485398420</td><td>_committed_3712456460485398420</td><td>72675</td><td>1713598203000</td></tr><tr><td>dbfs:/FileStore/tables/parquet_data/data_smoothening_spark.parquet/_committed_4046819016022805013</td><td>_committed_4046819016022805013</td><td>72583</td><td>1713676255000</td></tr><tr><td>dbfs:/FileStore/tables/parquet_data/data_smoothening_spark.parquet/_started_4046819016022805013</td><td>_started_4046819016022805013</td><td>0</td><td>1713675978000</td></tr><tr><td>dbfs:/FileStore/tables/parquet_data/data_smoothening_spark.parquet/part-00000-tid-4046819016022805013-9541258c-d2de-45a2-9aac-43e2b84596c1-9-1-c000.snappy.parquet</td><td>part-00000-tid-4046819016022805013-9541258c-d2de-45a2-9aac-43e2b84596c1-9-1-c000.snappy.parquet</td><td>3741739</td><td>1713675991000</td></tr><tr><td>dbfs:/FileStore/tables/parquet_data/data_smoothening_spark.parquet/part-00001-tid-4046819016022805013-9541258c-d2de-45a2-9aac-43e2b84596c1-10-1-c000.snappy.parquet</td><td>part-00001-tid-4046819016022805013-9541258c-d2de-45a2-9aac-43e2b84596c1-10-1-c000.snappy.parquet</td><td>3794589</td><td>1713675992000</td></tr><tr><td>dbfs:/FileStore/tables/parquet_data/data_smoothening_spark.parquet/part-00002-tid-4046819016022805013-9541258c-d2de-45a2-9aac-43e2b84596c1-11-1-c000.snappy.parquet</td><td>part-00002-tid-4046819016022805013-9541258c-d2de-45a2-9aac-43e2b84596c1-11-1-c000.snappy.parquet</td><td>3785922</td><td>1713675992000</td></tr><tr><td>dbfs:/FileStore/tables/parquet_data/data_smoothening_spark.parquet/part-00003-tid-4046819016022805013-9541258c-d2de-45a2-9aac-43e2b84596c1-12-1-c000.snappy.parquet</td><td>part-00003-tid-4046819016022805013-9541258c-d2de-45a2-9aac-43e2b84596c1-12-1-c000.snappy.parquet</td><td>3795843</td><td>1713675991000</td></tr><tr><td>dbfs:/FileStore/tables/parquet_data/data_smoothening_spark.parquet/part-00004-tid-4046819016022805013-9541258c-d2de-45a2-9aac-43e2b84596c1-13-1-c000.snappy.parquet</td><td>part-00004-tid-4046819016022805013-9541258c-d2de-45a2-9aac-43e2b84596c1-13-1-c000.snappy.parquet</td><td>3789803</td><td>1713675992000</td></tr><tr><td>dbfs:/FileStore/tables/parquet_data/data_smoothening_spark.parquet/part-00005-tid-4046819016022805013-9541258c-d2de-45a2-9aac-43e2b84596c1-14-1-c000.snappy.parquet</td><td>part-00005-tid-4046819016022805013-9541258c-d2de-45a2-9aac-43e2b84596c1-14-1-c000.snappy.parquet</td><td>3792796</td><td>1713675992000</td></tr><tr><td>dbfs:/FileStore/tables/parquet_data/data_smoothening_spark.parquet/part-00006-tid-4046819016022805013-9541258c-d2de-45a2-9aac-43e2b84596c1-15-1-c000.snappy.parquet</td><td>part-00006-tid-4046819016022805013-9541258c-d2de-45a2-9aac-43e2b84596c1-15-1-c000.snappy.parquet</td><td>3779111</td><td>1713675992000</td></tr><tr><td>dbfs:/FileStore/tables/parquet_data/data_smoothening_spark.parquet/part-00007-tid-4046819016022805013-9541258c-d2de-45a2-9aac-43e2b84596c1-16-1-c000.snappy.parquet</td><td>part-00007-tid-4046819016022805013-9541258c-d2de-45a2-9aac-43e2b84596c1-16-1-c000.snappy.parquet</td><td>3803343</td><td>1713675991000</td></tr><tr><td>dbfs:/FileStore/tables/parquet_data/data_smoothening_spark.parquet/part-00008-tid-4046819016022805013-9541258c-d2de-45a2-9aac-43e2b84596c1-17-1-c000.snappy.parquet</td><td>part-00008-tid-4046819016022805013-9541258c-d2de-45a2-9aac-43e2b84596c1-17-1-c000.snappy.parquet</td><td>3784249</td><td>1713676003000</td></tr><tr><td>dbfs:/FileStore/tables/parquet_data/data_smoothening_spark.parquet/part-00009-tid-4046819016022805013-9541258c-d2de-45a2-9aac-43e2b84596c1-18-1-c000.snappy.parquet</td><td>part-00009-tid-4046819016022805013-9541258c-d2de-45a2-9aac-43e2b84596c1-18-1-c000.snappy.parquet</td><td>3792815</td><td>1713676004000</td></tr><tr><td>dbfs:/FileStore/tables/parquet_data/data_smoothening_spark.parquet/part-00010-tid-4046819016022805013-9541258c-d2de-45a2-9aac-43e2b84596c1-19-1-c000.snappy.parquet</td><td>part-00010-tid-4046819016022805013-9541258c-d2de-45a2-9aac-43e2b84596c1-19-1-c000.snappy.parquet</td><td>3791346</td><td>1713676004000</td></tr><tr><td>dbfs:/FileStore/tables/parquet_data/data_smoothening_spark.parquet/part-00011-tid-4046819016022805013-9541258c-d2de-45a2-9aac-43e2b84596c1-20-1-c000.snappy.parquet</td><td>part-00011-tid-4046819016022805013-9541258c-d2de-45a2-9aac-43e2b84596c1-20-1-c000.snappy.parquet</td><td>3776714</td><td>1713676003000</td></tr><tr><td>dbfs:/FileStore/tables/parquet_data/data_smoothening_spark.parquet/part-00012-tid-4046819016022805013-9541258c-d2de-45a2-9aac-43e2b84596c1-21-1-c000.snappy.parquet</td><td>part-00012-tid-4046819016022805013-9541258c-d2de-45a2-9aac-43e2b84596c1-21-1-c000.snappy.parquet</td><td>3793483</td><td>1713676004000</td></tr><tr><td>dbfs:/FileStore/tables/parquet_data/data_smoothening_spark.parquet/part-00013-tid-4046819016022805013-9541258c-d2de-45a2-9aac-43e2b84596c1-22-1-c000.snappy.parquet</td><td>part-00013-tid-4046819016022805013-9541258c-d2de-45a2-9aac-43e2b84596c1-22-1-c000.snappy.parquet</td><td>3787263</td><td>1713676002000</td></tr><tr><td>dbfs:/FileStore/tables/parquet_data/data_smoothening_spark.parquet/part-00014-tid-4046819016022805013-9541258c-d2de-45a2-9aac-43e2b84596c1-23-1-c000.snappy.parquet</td><td>part-00014-tid-4046819016022805013-9541258c-d2de-45a2-9aac-43e2b84596c1-23-1-c000.snappy.parquet</td><td>3794208</td><td>1713676003000</td></tr><tr><td>dbfs:/FileStore/tables/parquet_data/data_smoothening_spark.parquet/part-00015-tid-4046819016022805013-9541258c-d2de-45a2-9aac-43e2b84596c1-24-1-c000.snappy.parquet</td><td>part-00015-tid-4046819016022805013-9541258c-d2de-45a2-9aac-43e2b84596c1-24-1-c000.snappy.parquet</td><td>3799686</td><td>1713676004000</td></tr><tr><td>dbfs:/FileStore/tables/parquet_data/data_smoothening_spark.parquet/part-00016-tid-4046819016022805013-9541258c-d2de-45a2-9aac-43e2b84596c1-25-1-c000.snappy.parquet</td><td>part-00016-tid-4046819016022805013-9541258c-d2de-45a2-9aac-43e2b84596c1-25-1-c000.snappy.parquet</td><td>3790674</td><td>1713676007000</td></tr><tr><td>dbfs:/FileStore/tables/parquet_data/data_smoothening_spark.parquet/part-00017-tid-4046819016022805013-9541258c-d2de-45a2-9aac-43e2b84596c1-26-1-c000.snappy.parquet</td><td>part-00017-tid-4046819016022805013-9541258c-d2de-45a2-9aac-43e2b84596c1-26-1-c000.snappy.parquet</td><td>3779061</td><td>1713676010000</td></tr><tr><td>dbfs:/FileStore/tables/parquet_data/data_smoothening_spark.parquet/part-00018-tid-4046819016022805013-9541258c-d2de-45a2-9aac-43e2b84596c1-27-1-c000.snappy.parquet</td><td>part-00018-tid-4046819016022805013-9541258c-d2de-45a2-9aac-43e2b84596c1-27-1-c000.snappy.parquet</td><td>3805625</td><td>1713676011000</td></tr><tr><td>dbfs:/FileStore/tables/parquet_data/data_smoothening_spark.parquet/part-00019-tid-4046819016022805013-9541258c-d2de-45a2-9aac-43e2b84596c1-28-1-c000.snappy.parquet</td><td>part-00019-tid-4046819016022805013-9541258c-d2de-45a2-9aac-43e2b84596c1-28-1-c000.snappy.parquet</td><td>3782843</td><td>1713676013000</td></tr><tr><td>dbfs:/FileStore/tables/parquet_data/data_smoothening_spark.parquet/part-00020-tid-4046819016022805013-9541258c-d2de-45a2-9aac-43e2b84596c1-29-1-c000.snappy.parquet</td><td>part-00020-tid-4046819016022805013-9541258c-d2de-45a2-9aac-43e2b84596c1-29-1-c000.snappy.parquet</td><td>3791417</td><td>1713676013000</td></tr><tr><td>dbfs:/FileStore/tables/parquet_data/data_smoothening_spark.parquet/part-00021-tid-4046819016022805013-9541258c-d2de-45a2-9aac-43e2b84596c1-30-1-c000.snappy.parquet</td><td>part-00021-tid-4046819016022805013-9541258c-d2de-45a2-9aac-43e2b84596c1-30-1-c000.snappy.parquet</td><td>3788910</td><td>1713676012000</td></tr><tr><td>dbfs:/FileStore/tables/parquet_data/data_smoothening_spark.parquet/part-00022-tid-4046819016022805013-9541258c-d2de-45a2-9aac-43e2b84596c1-31-1-c000.snappy.parquet</td><td>part-00022-tid-4046819016022805013-9541258c-d2de-45a2-9aac-43e2b84596c1-31-1-c000.snappy.parquet</td><td>3772914</td><td>1713676012000</td></tr><tr><td>dbfs:/FileStore/tables/parquet_data/data_smoothening_spark.parquet/part-00023-tid-4046819016022805013-9541258c-d2de-45a2-9aac-43e2b84596c1-32-1-c000.snappy.parquet</td><td>part-00023-tid-4046819016022805013-9541258c-d2de-45a2-9aac-43e2b84596c1-32-1-c000.snappy.parquet</td><td>3797037</td><td>1713676013000</td></tr><tr><td>dbfs:/FileStore/tables/parquet_data/data_smoothening_spark.parquet/part-00024-tid-4046819016022805013-9541258c-d2de-45a2-9aac-43e2b84596c1-33-1-c000.snappy.parquet</td><td>part-00024-tid-4046819016022805013-9541258c-d2de-45a2-9aac-43e2b84596c1-33-1-c000.snappy.parquet</td><td>3784990</td><td>1713676015000</td></tr><tr><td>dbfs:/FileStore/tables/parquet_data/data_smoothening_spark.parquet/part-00025-tid-4046819016022805013-9541258c-d2de-45a2-9aac-43e2b84596c1-34-1-c000.snappy.parquet</td><td>part-00025-tid-4046819016022805013-9541258c-d2de-45a2-9aac-43e2b84596c1-34-1-c000.snappy.parquet</td><td>3796390</td><td>1713676019000</td></tr><tr><td>dbfs:/FileStore/tables/parquet_data/data_smoothening_spark.parquet/part-00026-tid-4046819016022805013-9541258c-d2de-45a2-9aac-43e2b84596c1-35-1-c000.snappy.parquet</td><td>part-00026-tid-4046819016022805013-9541258c-d2de-45a2-9aac-43e2b84596c1-35-1-c000.snappy.parquet</td><td>3799607</td><td>1713676020000</td></tr><tr><td>dbfs:/FileStore/tables/parquet_data/data_smoothening_spark.parquet/part-00027-tid-4046819016022805013-9541258c-d2de-45a2-9aac-43e2b84596c1-36-1-c000.snappy.parquet</td><td>part-00027-tid-4046819016022805013-9541258c-d2de-45a2-9aac-43e2b84596c1-36-1-c000.snappy.parquet</td><td>3793350</td><td>1713676022000</td></tr><tr><td>dbfs:/FileStore/tables/parquet_data/data_smoothening_spark.parquet/part-00028-tid-4046819016022805013-9541258c-d2de-45a2-9aac-43e2b84596c1-37-1-c000.snappy.parquet</td><td>part-00028-tid-4046819016022805013-9541258c-d2de-45a2-9aac-43e2b84596c1-37-1-c000.snappy.parquet</td><td>3780581</td><td>1713676021000</td></tr><tr><td>dbfs:/FileStore/tables/parquet_data/data_smoothening_spark.parquet/part-00029-tid-4046819016022805013-9541258c-d2de-45a2-9aac-43e2b84596c1-38-1-c000.snappy.parquet</td><td>part-00029-tid-4046819016022805013-9541258c-d2de-45a2-9aac-43e2b84596c1-38-1-c000.snappy.parquet</td><td>3805055</td><td>1713676023000</td></tr><tr><td>dbfs:/FileStore/tables/parquet_data/data_smoothening_spark.parquet/part-00030-tid-4046819016022805013-9541258c-d2de-45a2-9aac-43e2b84596c1-39-1-c000.snappy.parquet</td><td>part-00030-tid-4046819016022805013-9541258c-d2de-45a2-9aac-43e2b84596c1-39-1-c000.snappy.parquet</td><td>3783328</td><td>1713676022000</td></tr><tr><td>dbfs:/FileStore/tables/parquet_data/data_smoothening_spark.parquet/part-00031-tid-4046819016022805013-9541258c-d2de-45a2-9aac-43e2b84596c1-40-1-c000.snappy.parquet</td><td>part-00031-tid-4046819016022805013-9541258c-d2de-45a2-9aac-43e2b84596c1-40-1-c000.snappy.parquet</td><td>3786042</td><td>1713676024000</td></tr><tr><td>dbfs:/FileStore/tables/parquet_data/data_smoothening_spark.parquet/part-00032-tid-4046819016022805013-9541258c-d2de-45a2-9aac-43e2b84596c1-41-1-c000.snappy.parquet</td><td>part-00032-tid-4046819016022805013-9541258c-d2de-45a2-9aac-43e2b84596c1-41-1-c000.snappy.parquet</td><td>3794095</td><td>1713676025000</td></tr><tr><td>dbfs:/FileStore/tables/parquet_data/data_smoothening_spark.parquet/part-00033-tid-4046819016022805013-9541258c-d2de-45a2-9aac-43e2b84596c1-42-1-c000.snappy.parquet</td><td>part-00033-tid-4046819016022805013-9541258c-d2de-45a2-9aac-43e2b84596c1-42-1-c000.snappy.parquet</td><td>3778353</td><td>1713676026000</td></tr><tr><td>dbfs:/FileStore/tables/parquet_data/data_smoothening_spark.parquet/part-00034-tid-4046819016022805013-9541258c-d2de-45a2-9aac-43e2b84596c1-43-1-c000.snappy.parquet</td><td>part-00034-tid-4046819016022805013-9541258c-d2de-45a2-9aac-43e2b84596c1-43-1-c000.snappy.parquet</td><td>3793724</td><td>1713676027000</td></tr><tr><td>dbfs:/FileStore/tables/parquet_data/data_smoothening_spark.parquet/part-00035-tid-4046819016022805013-9541258c-d2de-45a2-9aac-43e2b84596c1-44-1-c000.snappy.parquet</td><td>part-00035-tid-4046819016022805013-9541258c-d2de-45a2-9aac-43e2b84596c1-44-1-c000.snappy.parquet</td><td>3789691</td><td>1713676029000</td></tr><tr><td>dbfs:/FileStore/tables/parquet_data/data_smoothening_spark.parquet/part-00036-tid-4046819016022805013-9541258c-d2de-45a2-9aac-43e2b84596c1-45-1-c000.snappy.parquet</td><td>part-00036-tid-4046819016022805013-9541258c-d2de-45a2-9aac-43e2b84596c1-45-1-c000.snappy.parquet</td><td>3791387</td><td>1713676029000</td></tr><tr><td>dbfs:/FileStore/tables/parquet_data/data_smoothening_spark.parquet/part-00037-tid-4046819016022805013-9541258c-d2de-45a2-9aac-43e2b84596c1-46-1-c000.snappy.parquet</td><td>part-00037-tid-4046819016022805013-9541258c-d2de-45a2-9aac-43e2b84596c1-46-1-c000.snappy.parquet</td><td>3801725</td><td>1713676029000</td></tr><tr><td>dbfs:/FileStore/tables/parquet_data/data_smoothening_spark.parquet/part-00038-tid-4046819016022805013-9541258c-d2de-45a2-9aac-43e2b84596c1-47-1-c000.snappy.parquet</td><td>part-00038-tid-4046819016022805013-9541258c-d2de-45a2-9aac-43e2b84596c1-47-1-c000.snappy.parquet</td><td>3786575</td><td>1713676032000</td></tr><tr><td>dbfs:/FileStore/tables/parquet_data/data_smoothening_spark.parquet/part-00039-tid-4046819016022805013-9541258c-d2de-45a2-9aac-43e2b84596c1-48-1-c000.snappy.parquet</td><td>part-00039-tid-4046819016022805013-9541258c-d2de-45a2-9aac-43e2b84596c1-48-1-c000.snappy.parquet</td><td>3785421</td><td>1713676032000</td></tr><tr><td>dbfs:/FileStore/tables/parquet_data/data_smoothening_spark.parquet/part-00040-tid-4046819016022805013-9541258c-d2de-45a2-9aac-43e2b84596c1-49-1-c000.snappy.parquet</td><td>part-00040-tid-4046819016022805013-9541258c-d2de-45a2-9aac-43e2b84596c1-49-1-c000.snappy.parquet</td><td>3802524</td><td>1713676032000</td></tr><tr><td>dbfs:/FileStore/tables/parquet_data/data_smoothening_spark.parquet/part-00041-tid-4046819016022805013-9541258c-d2de-45a2-9aac-43e2b84596c1-50-1-c000.snappy.parquet</td><td>part-00041-tid-4046819016022805013-9541258c-d2de-45a2-9aac-43e2b84596c1-50-1-c000.snappy.parquet</td><td>3785839</td><td>1713676034000</td></tr><tr><td>dbfs:/FileStore/tables/parquet_data/data_smoothening_spark.parquet/part-00042-tid-4046819016022805013-9541258c-d2de-45a2-9aac-43e2b84596c1-51-1-c000.snappy.parquet</td><td>part-00042-tid-4046819016022805013-9541258c-d2de-45a2-9aac-43e2b84596c1-51-1-c000.snappy.parquet</td><td>3780419</td><td>1713676034000</td></tr><tr><td>dbfs:/FileStore/tables/parquet_data/data_smoothening_spark.parquet/part-00043-tid-4046819016022805013-9541258c-d2de-45a2-9aac-43e2b84596c1-52-1-c000.snappy.parquet</td><td>part-00043-tid-4046819016022805013-9541258c-d2de-45a2-9aac-43e2b84596c1-52-1-c000.snappy.parquet</td><td>3791370</td><td>1713676037000</td></tr><tr><td>dbfs:/FileStore/tables/parquet_data/data_smoothening_spark.parquet/part-00044-tid-4046819016022805013-9541258c-d2de-45a2-9aac-43e2b84596c1-53-1-c000.snappy.parquet</td><td>part-00044-tid-4046819016022805013-9541258c-d2de-45a2-9aac-43e2b84596c1-53-1-c000.snappy.parquet</td><td>3783120</td><td>1713676037000</td></tr><tr><td>dbfs:/FileStore/tables/parquet_data/data_smoothening_spark.parquet/part-00045-tid-4046819016022805013-9541258c-d2de-45a2-9aac-43e2b84596c1-54-1-c000.snappy.parquet</td><td>part-00045-tid-4046819016022805013-9541258c-d2de-45a2-9aac-43e2b84596c1-54-1-c000.snappy.parquet</td><td>3796657</td><td>1713676035000</td></tr><tr><td>dbfs:/FileStore/tables/parquet_data/data_smoothening_spark.parquet/part-00046-tid-4046819016022805013-9541258c-d2de-45a2-9aac-43e2b84596c1-55-1-c000.snappy.parquet</td><td>part-00046-tid-4046819016022805013-9541258c-d2de-45a2-9aac-43e2b84596c1-55-1-c000.snappy.parquet</td><td>3797316</td><td>1713676038000</td></tr><tr><td>dbfs:/FileStore/tables/parquet_data/data_smoothening_spark.parquet/part-00047-tid-4046819016022805013-9541258c-d2de-45a2-9aac-43e2b84596c1-56-1-c000.snappy.parquet</td><td>part-00047-tid-4046819016022805013-9541258c-d2de-45a2-9aac-43e2b84596c1-56-1-c000.snappy.parquet</td><td>3791848</td><td>1713676039000</td></tr><tr><td>dbfs:/FileStore/tables/parquet_data/data_smoothening_spark.parquet/part-00048-tid-4046819016022805013-9541258c-d2de-45a2-9aac-43e2b84596c1-57-1-c000.snappy.parquet</td><td>part-00048-tid-4046819016022805013-9541258c-d2de-45a2-9aac-43e2b84596c1-57-1-c000.snappy.parquet</td><td>3770667</td><td>1713676039000</td></tr><tr><td>dbfs:/FileStore/tables/parquet_data/data_smoothening_spark.parquet/part-00049-tid-4046819016022805013-9541258c-d2de-45a2-9aac-43e2b84596c1-58-1-c000.snappy.parquet</td><td>part-00049-tid-4046819016022805013-9541258c-d2de-45a2-9aac-43e2b84596c1-58-1-c000.snappy.parquet</td><td>3772975</td><td>1713676040000</td></tr><tr><td>dbfs:/FileStore/tables/parquet_data/data_smoothening_spark.parquet/part-00050-tid-4046819016022805013-9541258c-d2de-45a2-9aac-43e2b84596c1-59-1-c000.snappy.parquet</td><td>part-00050-tid-4046819016022805013-9541258c-d2de-45a2-9aac-43e2b84596c1-59-1-c000.snappy.parquet</td><td>3785292</td><td>1713676041000</td></tr><tr><td>dbfs:/FileStore/tables/parquet_data/data_smoothening_spark.parquet/part-00051-tid-4046819016022805013-9541258c-d2de-45a2-9aac-43e2b84596c1-60-1-c000.snappy.parquet</td><td>part-00051-tid-4046819016022805013-9541258c-d2de-45a2-9aac-43e2b84596c1-60-1-c000.snappy.parquet</td><td>3794329</td><td>1713676042000</td></tr><tr><td>dbfs:/FileStore/tables/parquet_data/data_smoothening_spark.parquet/part-00052-tid-4046819016022805013-9541258c-d2de-45a2-9aac-43e2b84596c1-61-1-c000.snappy.parquet</td><td>part-00052-tid-4046819016022805013-9541258c-d2de-45a2-9aac-43e2b84596c1-61-1-c000.snappy.parquet</td><td>3791229</td><td>1713676043000</td></tr><tr><td>dbfs:/FileStore/tables/parquet_data/data_smoothening_spark.parquet/part-00053-tid-4046819016022805013-9541258c-d2de-45a2-9aac-43e2b84596c1-62-1-c000.snappy.parquet</td><td>part-00053-tid-4046819016022805013-9541258c-d2de-45a2-9aac-43e2b84596c1-62-1-c000.snappy.parquet</td><td>3775821</td><td>1713676044000</td></tr><tr><td>dbfs:/FileStore/tables/parquet_data/data_smoothening_spark.parquet/part-00054-tid-4046819016022805013-9541258c-d2de-45a2-9aac-43e2b84596c1-63-1-c000.snappy.parquet</td><td>part-00054-tid-4046819016022805013-9541258c-d2de-45a2-9aac-43e2b84596c1-63-1-c000.snappy.parquet</td><td>3796964</td><td>1713676044000</td></tr><tr><td>dbfs:/FileStore/tables/parquet_data/data_smoothening_spark.parquet/part-00055-tid-4046819016022805013-9541258c-d2de-45a2-9aac-43e2b84596c1-64-1-c000.snappy.parquet</td><td>part-00055-tid-4046819016022805013-9541258c-d2de-45a2-9aac-43e2b84596c1-64-1-c000.snappy.parquet</td><td>3785104</td><td>1713676045000</td></tr><tr><td>dbfs:/FileStore/tables/parquet_data/data_smoothening_spark.parquet/part-00056-tid-4046819016022805013-9541258c-d2de-45a2-9aac-43e2b84596c1-65-1-c000.snappy.parquet</td><td>part-00056-tid-4046819016022805013-9541258c-d2de-45a2-9aac-43e2b84596c1-65-1-c000.snappy.parquet</td><td>3795794</td><td>1713676045000</td></tr><tr><td>dbfs:/FileStore/tables/parquet_data/data_smoothening_spark.parquet/part-00057-tid-4046819016022805013-9541258c-d2de-45a2-9aac-43e2b84596c1-66-1-c000.snappy.parquet</td><td>part-00057-tid-4046819016022805013-9541258c-d2de-45a2-9aac-43e2b84596c1-66-1-c000.snappy.parquet</td><td>3798633</td><td>1713676046000</td></tr><tr><td>dbfs:/FileStore/tables/parquet_data/data_smoothening_spark.parquet/part-00058-tid-4046819016022805013-9541258c-d2de-45a2-9aac-43e2b84596c1-67-1-c000.snappy.parquet</td><td>part-00058-tid-4046819016022805013-9541258c-d2de-45a2-9aac-43e2b84596c1-67-1-c000.snappy.parquet</td><td>3790541</td><td>1713676047000</td></tr><tr><td>dbfs:/FileStore/tables/parquet_data/data_smoothening_spark.parquet/part-00059-tid-4046819016022805013-9541258c-d2de-45a2-9aac-43e2b84596c1-68-1-c000.snappy.parquet</td><td>part-00059-tid-4046819016022805013-9541258c-d2de-45a2-9aac-43e2b84596c1-68-1-c000.snappy.parquet</td><td>3784429</td><td>1713676048000</td></tr><tr><td>dbfs:/FileStore/tables/parquet_data/data_smoothening_spark.parquet/part-00060-tid-4046819016022805013-9541258c-d2de-45a2-9aac-43e2b84596c1-69-1-c000.snappy.parquet</td><td>part-00060-tid-4046819016022805013-9541258c-d2de-45a2-9aac-43e2b84596c1-69-1-c000.snappy.parquet</td><td>3803042</td><td>1713676050000</td></tr><tr><td>dbfs:/FileStore/tables/parquet_data/data_smoothening_spark.parquet/part-00061-tid-4046819016022805013-9541258c-d2de-45a2-9aac-43e2b84596c1-70-1-c000.snappy.parquet</td><td>part-00061-tid-4046819016022805013-9541258c-d2de-45a2-9aac-43e2b84596c1-70-1-c000.snappy.parquet</td><td>3782101</td><td>1713676051000</td></tr><tr><td>dbfs:/FileStore/tables/parquet_data/data_smoothening_spark.parquet/part-00062-tid-4046819016022805013-9541258c-d2de-45a2-9aac-43e2b84596c1-71-1-c000.snappy.parquet</td><td>part-00062-tid-4046819016022805013-9541258c-d2de-45a2-9aac-43e2b84596c1-71-1-c000.snappy.parquet</td><td>3782943</td><td>1713676051000</td></tr><tr><td>dbfs:/FileStore/tables/parquet_data/data_smoothening_spark.parquet/part-00063-tid-4046819016022805013-9541258c-d2de-45a2-9aac-43e2b84596c1-72-1-c000.snappy.parquet</td><td>part-00063-tid-4046819016022805013-9541258c-d2de-45a2-9aac-43e2b84596c1-72-1-c000.snappy.parquet</td><td>3795051</td><td>1713676053000</td></tr><tr><td>dbfs:/FileStore/tables/parquet_data/data_smoothening_spark.parquet/part-00064-tid-4046819016022805013-9541258c-d2de-45a2-9aac-43e2b84596c1-73-1-c000.snappy.parquet</td><td>part-00064-tid-4046819016022805013-9541258c-d2de-45a2-9aac-43e2b84596c1-73-1-c000.snappy.parquet</td><td>3777029</td><td>1713676052000</td></tr><tr><td>dbfs:/FileStore/tables/parquet_data/data_smoothening_spark.parquet/part-00065-tid-4046819016022805013-9541258c-d2de-45a2-9aac-43e2b84596c1-74-1-c000.snappy.parquet</td><td>part-00065-tid-4046819016022805013-9541258c-d2de-45a2-9aac-43e2b84596c1-74-1-c000.snappy.parquet</td><td>3795751</td><td>1713676053000</td></tr><tr><td>dbfs:/FileStore/tables/parquet_data/data_smoothening_spark.parquet/part-00066-tid-4046819016022805013-9541258c-d2de-45a2-9aac-43e2b84596c1-75-1-c000.snappy.parquet</td><td>part-00066-tid-4046819016022805013-9541258c-d2de-45a2-9aac-43e2b84596c1-75-1-c000.snappy.parquet</td><td>3793262</td><td>1713676054000</td></tr><tr><td>dbfs:/FileStore/tables/parquet_data/data_smoothening_spark.parquet/part-00067-tid-4046819016022805013-9541258c-d2de-45a2-9aac-43e2b84596c1-76-1-c000.snappy.parquet</td><td>part-00067-tid-4046819016022805013-9541258c-d2de-45a2-9aac-43e2b84596c1-76-1-c000.snappy.parquet</td><td>3791986</td><td>1713676055000</td></tr><tr><td>dbfs:/FileStore/tables/parquet_data/data_smoothening_spark.parquet/part-00068-tid-4046819016022805013-9541258c-d2de-45a2-9aac-43e2b84596c1-77-1-c000.snappy.parquet</td><td>part-00068-tid-4046819016022805013-9541258c-d2de-45a2-9aac-43e2b84596c1-77-1-c000.snappy.parquet</td><td>3768639</td><td>1713676056000</td></tr><tr><td>dbfs:/FileStore/tables/parquet_data/data_smoothening_spark.parquet/part-00069-tid-4046819016022805013-9541258c-d2de-45a2-9aac-43e2b84596c1-78-1-c000.snappy.parquet</td><td>part-00069-tid-4046819016022805013-9541258c-d2de-45a2-9aac-43e2b84596c1-78-1-c000.snappy.parquet</td><td>3776170</td><td>1713676057000</td></tr><tr><td>dbfs:/FileStore/tables/parquet_data/data_smoothening_spark.parquet/part-00070-tid-4046819016022805013-9541258c-d2de-45a2-9aac-43e2b84596c1-79-1-c000.snappy.parquet</td><td>part-00070-tid-4046819016022805013-9541258c-d2de-45a2-9aac-43e2b84596c1-79-1-c000.snappy.parquet</td><td>3786432</td><td>1713676057000</td></tr><tr><td>dbfs:/FileStore/tables/parquet_data/data_smoothening_spark.parquet/part-00071-tid-4046819016022805013-9541258c-d2de-45a2-9aac-43e2b84596c1-80-1-c000.snappy.parquet</td><td>part-00071-tid-4046819016022805013-9541258c-d2de-45a2-9aac-43e2b84596c1-80-1-c000.snappy.parquet</td><td>3800595</td><td>1713676059000</td></tr><tr><td>dbfs:/FileStore/tables/parquet_data/data_smoothening_spark.parquet/part-00072-tid-4046819016022805013-9541258c-d2de-45a2-9aac-43e2b84596c1-81-1-c000.snappy.parquet</td><td>part-00072-tid-4046819016022805013-9541258c-d2de-45a2-9aac-43e2b84596c1-81-1-c000.snappy.parquet</td><td>3788887</td><td>1713676059000</td></tr><tr><td>dbfs:/FileStore/tables/parquet_data/data_smoothening_spark.parquet/part-00073-tid-4046819016022805013-9541258c-d2de-45a2-9aac-43e2b84596c1-82-1-c000.snappy.parquet</td><td>part-00073-tid-4046819016022805013-9541258c-d2de-45a2-9aac-43e2b84596c1-82-1-c000.snappy.parquet</td><td>3778009</td><td>1713676059000</td></tr><tr><td>dbfs:/FileStore/tables/parquet_data/data_smoothening_spark.parquet/part-00074-tid-4046819016022805013-9541258c-d2de-45a2-9aac-43e2b84596c1-83-1-c000.snappy.parquet</td><td>part-00074-tid-4046819016022805013-9541258c-d2de-45a2-9aac-43e2b84596c1-83-1-c000.snappy.parquet</td><td>3797022</td><td>1713676060000</td></tr><tr><td>dbfs:/FileStore/tables/parquet_data/data_smoothening_spark.parquet/part-00075-tid-4046819016022805013-9541258c-d2de-45a2-9aac-43e2b84596c1-84-1-c000.snappy.parquet</td><td>part-00075-tid-4046819016022805013-9541258c-d2de-45a2-9aac-43e2b84596c1-84-1-c000.snappy.parquet</td><td>3786189</td><td>1713676062000</td></tr><tr><td>dbfs:/FileStore/tables/parquet_data/data_smoothening_spark.parquet/part-00076-tid-4046819016022805013-9541258c-d2de-45a2-9aac-43e2b84596c1-85-1-c000.snappy.parquet</td><td>part-00076-tid-4046819016022805013-9541258c-d2de-45a2-9aac-43e2b84596c1-85-1-c000.snappy.parquet</td><td>3794132</td><td>1713676063000</td></tr><tr><td>dbfs:/FileStore/tables/parquet_data/data_smoothening_spark.parquet/part-00077-tid-4046819016022805013-9541258c-d2de-45a2-9aac-43e2b84596c1-86-1-c000.snappy.parquet</td><td>part-00077-tid-4046819016022805013-9541258c-d2de-45a2-9aac-43e2b84596c1-86-1-c000.snappy.parquet</td><td>3790105</td><td>1713676064000</td></tr><tr><td>dbfs:/FileStore/tables/parquet_data/data_smoothening_spark.parquet/part-00078-tid-4046819016022805013-9541258c-d2de-45a2-9aac-43e2b84596c1-87-1-c000.snappy.parquet</td><td>part-00078-tid-4046819016022805013-9541258c-d2de-45a2-9aac-43e2b84596c1-87-1-c000.snappy.parquet</td><td>3789939</td><td>1713676064000</td></tr><tr><td>dbfs:/FileStore/tables/parquet_data/data_smoothening_spark.parquet/part-00079-tid-4046819016022805013-9541258c-d2de-45a2-9aac-43e2b84596c1-88-1-c000.snappy.parquet</td><td>part-00079-tid-4046819016022805013-9541258c-d2de-45a2-9aac-43e2b84596c1-88-1-c000.snappy.parquet</td><td>3783511</td><td>1713676066000</td></tr><tr><td>dbfs:/FileStore/tables/parquet_data/data_smoothening_spark.parquet/part-00080-tid-4046819016022805013-9541258c-d2de-45a2-9aac-43e2b84596c1-89-1-c000.snappy.parquet</td><td>part-00080-tid-4046819016022805013-9541258c-d2de-45a2-9aac-43e2b84596c1-89-1-c000.snappy.parquet</td><td>3803204</td><td>1713676067000</td></tr><tr><td>dbfs:/FileStore/tables/parquet_data/data_smoothening_spark.parquet/part-00081-tid-4046819016022805013-9541258c-d2de-45a2-9aac-43e2b84596c1-90-1-c000.snappy.parquet</td><td>part-00081-tid-4046819016022805013-9541258c-d2de-45a2-9aac-43e2b84596c1-90-1-c000.snappy.parquet</td><td>3784085</td><td>1713676066000</td></tr><tr><td>dbfs:/FileStore/tables/parquet_data/data_smoothening_spark.parquet/part-00082-tid-4046819016022805013-9541258c-d2de-45a2-9aac-43e2b84596c1-91-1-c000.snappy.parquet</td><td>part-00082-tid-4046819016022805013-9541258c-d2de-45a2-9aac-43e2b84596c1-91-1-c000.snappy.parquet</td><td>3783977</td><td>1713676066000</td></tr><tr><td>dbfs:/FileStore/tables/parquet_data/data_smoothening_spark.parquet/part-00083-tid-4046819016022805013-9541258c-d2de-45a2-9aac-43e2b84596c1-92-1-c000.snappy.parquet</td><td>part-00083-tid-4046819016022805013-9541258c-d2de-45a2-9aac-43e2b84596c1-92-1-c000.snappy.parquet</td><td>3793054</td><td>1713676069000</td></tr><tr><td>dbfs:/FileStore/tables/parquet_data/data_smoothening_spark.parquet/part-00084-tid-4046819016022805013-9541258c-d2de-45a2-9aac-43e2b84596c1-93-1-c000.snappy.parquet</td><td>part-00084-tid-4046819016022805013-9541258c-d2de-45a2-9aac-43e2b84596c1-93-1-c000.snappy.parquet</td><td>3780325</td><td>1713676070000</td></tr><tr><td>dbfs:/FileStore/tables/parquet_data/data_smoothening_spark.parquet/part-00085-tid-4046819016022805013-9541258c-d2de-45a2-9aac-43e2b84596c1-94-1-c000.snappy.parquet</td><td>part-00085-tid-4046819016022805013-9541258c-d2de-45a2-9aac-43e2b84596c1-94-1-c000.snappy.parquet</td><td>3795654</td><td>1713676071000</td></tr><tr><td>dbfs:/FileStore/tables/parquet_data/data_smoothening_spark.parquet/part-00086-tid-4046819016022805013-9541258c-d2de-45a2-9aac-43e2b84596c1-95-1-c000.snappy.parquet</td><td>part-00086-tid-4046819016022805013-9541258c-d2de-45a2-9aac-43e2b84596c1-95-1-c000.snappy.parquet</td><td>3794712</td><td>1713676071000</td></tr><tr><td>dbfs:/FileStore/tables/parquet_data/data_smoothening_spark.parquet/part-00087-tid-4046819016022805013-9541258c-d2de-45a2-9aac-43e2b84596c1-96-1-c000.snappy.parquet</td><td>part-00087-tid-4046819016022805013-9541258c-d2de-45a2-9aac-43e2b84596c1-96-1-c000.snappy.parquet</td><td>3792877</td><td>1713676074000</td></tr><tr><td>dbfs:/FileStore/tables/parquet_data/data_smoothening_spark.parquet/part-00088-tid-4046819016022805013-9541258c-d2de-45a2-9aac-43e2b84596c1-97-1-c000.snappy.parquet</td><td>part-00088-tid-4046819016022805013-9541258c-d2de-45a2-9aac-43e2b84596c1-97-1-c000.snappy.parquet</td><td>3768634</td><td>1713676072000</td></tr><tr><td>dbfs:/FileStore/tables/parquet_data/data_smoothening_spark.parquet/part-00089-tid-4046819016022805013-9541258c-d2de-45a2-9aac-43e2b84596c1-98-1-c000.snappy.parquet</td><td>part-00089-tid-4046819016022805013-9541258c-d2de-45a2-9aac-43e2b84596c1-98-1-c000.snappy.parquet</td><td>3774623</td><td>1713676074000</td></tr><tr><td>dbfs:/FileStore/tables/parquet_data/data_smoothening_spark.parquet/part-00090-tid-4046819016022805013-9541258c-d2de-45a2-9aac-43e2b84596c1-99-1-c000.snappy.parquet</td><td>part-00090-tid-4046819016022805013-9541258c-d2de-45a2-9aac-43e2b84596c1-99-1-c000.snappy.parquet</td><td>3785793</td><td>1713676074000</td></tr><tr><td>dbfs:/FileStore/tables/parquet_data/data_smoothening_spark.parquet/part-00091-tid-4046819016022805013-9541258c-d2de-45a2-9aac-43e2b84596c1-100-1-c000.snappy.parquet</td><td>part-00091-tid-4046819016022805013-9541258c-d2de-45a2-9aac-43e2b84596c1-100-1-c000.snappy.parquet</td><td>3799352</td><td>1713676077000</td></tr><tr><td>dbfs:/FileStore/tables/parquet_data/data_smoothening_spark.parquet/part-00092-tid-4046819016022805013-9541258c-d2de-45a2-9aac-43e2b84596c1-101-1-c000.snappy.parquet</td><td>part-00092-tid-4046819016022805013-9541258c-d2de-45a2-9aac-43e2b84596c1-101-1-c000.snappy.parquet</td><td>3789512</td><td>1713676077000</td></tr><tr><td>dbfs:/FileStore/tables/parquet_data/data_smoothening_spark.parquet/part-00093-tid-4046819016022805013-9541258c-d2de-45a2-9aac-43e2b84596c1-102-1-c000.snappy.parquet</td><td>part-00093-tid-4046819016022805013-9541258c-d2de-45a2-9aac-43e2b84596c1-102-1-c000.snappy.parquet</td><td>3775085</td><td>1713676079000</td></tr><tr><td>dbfs:/FileStore/tables/parquet_data/data_smoothening_spark.parquet/part-00094-tid-4046819016022805013-9541258c-d2de-45a2-9aac-43e2b84596c1-103-1-c000.snappy.parquet</td><td>part-00094-tid-4046819016022805013-9541258c-d2de-45a2-9aac-43e2b84596c1-103-1-c000.snappy.parquet</td><td>3798390</td><td>1713676079000</td></tr><tr><td>dbfs:/FileStore/tables/parquet_data/data_smoothening_spark.parquet/part-00095-tid-4046819016022805013-9541258c-d2de-45a2-9aac-43e2b84596c1-104-1-c000.snappy.parquet</td><td>part-00095-tid-4046819016022805013-9541258c-d2de-45a2-9aac-43e2b84596c1-104-1-c000.snappy.parquet</td><td>3784512</td><td>1713676080000</td></tr><tr><td>dbfs:/FileStore/tables/parquet_data/data_smoothening_spark.parquet/part-00096-tid-4046819016022805013-9541258c-d2de-45a2-9aac-43e2b84596c1-105-1-c000.snappy.parquet</td><td>part-00096-tid-4046819016022805013-9541258c-d2de-45a2-9aac-43e2b84596c1-105-1-c000.snappy.parquet</td><td>3795461</td><td>1713676081000</td></tr><tr><td>dbfs:/FileStore/tables/parquet_data/data_smoothening_spark.parquet/part-00097-tid-4046819016022805013-9541258c-d2de-45a2-9aac-43e2b84596c1-106-1-c000.snappy.parquet</td><td>part-00097-tid-4046819016022805013-9541258c-d2de-45a2-9aac-43e2b84596c1-106-1-c000.snappy.parquet</td><td>3799100</td><td>1713676082000</td></tr><tr><td>dbfs:/FileStore/tables/parquet_data/data_smoothening_spark.parquet/part-00098-tid-4046819016022805013-9541258c-d2de-45a2-9aac-43e2b84596c1-107-1-c000.snappy.parquet</td><td>part-00098-tid-4046819016022805013-9541258c-d2de-45a2-9aac-43e2b84596c1-107-1-c000.snappy.parquet</td><td>3788114</td><td>1713676082000</td></tr><tr><td>dbfs:/FileStore/tables/parquet_data/data_smoothening_spark.parquet/part-00099-tid-4046819016022805013-9541258c-d2de-45a2-9aac-43e2b84596c1-108-1-c000.snappy.parquet</td><td>part-00099-tid-4046819016022805013-9541258c-d2de-45a2-9aac-43e2b84596c1-108-1-c000.snappy.parquet</td><td>3786325</td><td>1713676083000</td></tr><tr><td>dbfs:/FileStore/tables/parquet_data/data_smoothening_spark.parquet/part-00100-tid-4046819016022805013-9541258c-d2de-45a2-9aac-43e2b84596c1-109-1-c000.snappy.parquet</td><td>part-00100-tid-4046819016022805013-9541258c-d2de-45a2-9aac-43e2b84596c1-109-1-c000.snappy.parquet</td><td>3801963</td><td>1713676084000</td></tr><tr><td>dbfs:/FileStore/tables/parquet_data/data_smoothening_spark.parquet/part-00101-tid-4046819016022805013-9541258c-d2de-45a2-9aac-43e2b84596c1-110-1-c000.snappy.parquet</td><td>part-00101-tid-4046819016022805013-9541258c-d2de-45a2-9aac-43e2b84596c1-110-1-c000.snappy.parquet</td><td>3786531</td><td>1713676086000</td></tr><tr><td>dbfs:/FileStore/tables/parquet_data/data_smoothening_spark.parquet/part-00102-tid-4046819016022805013-9541258c-d2de-45a2-9aac-43e2b84596c1-111-1-c000.snappy.parquet</td><td>part-00102-tid-4046819016022805013-9541258c-d2de-45a2-9aac-43e2b84596c1-111-1-c000.snappy.parquet</td><td>3778294</td><td>1713676086000</td></tr><tr><td>dbfs:/FileStore/tables/parquet_data/data_smoothening_spark.parquet/part-00103-tid-4046819016022805013-9541258c-d2de-45a2-9aac-43e2b84596c1-112-1-c000.snappy.parquet</td><td>part-00103-tid-4046819016022805013-9541258c-d2de-45a2-9aac-43e2b84596c1-112-1-c000.snappy.parquet</td><td>3794228</td><td>1713676087000</td></tr><tr><td>dbfs:/FileStore/tables/parquet_data/data_smoothening_spark.parquet/part-00104-tid-4046819016022805013-9541258c-d2de-45a2-9aac-43e2b84596c1-113-1-c000.snappy.parquet</td><td>part-00104-tid-4046819016022805013-9541258c-d2de-45a2-9aac-43e2b84596c1-113-1-c000.snappy.parquet</td><td>3785101</td><td>1713676087000</td></tr><tr><td>dbfs:/FileStore/tables/parquet_data/data_smoothening_spark.parquet/part-00105-tid-4046819016022805013-9541258c-d2de-45a2-9aac-43e2b84596c1-114-1-c000.snappy.parquet</td><td>part-00105-tid-4046819016022805013-9541258c-d2de-45a2-9aac-43e2b84596c1-114-1-c000.snappy.parquet</td><td>3795431</td><td>1713676088000</td></tr><tr><td>dbfs:/FileStore/tables/parquet_data/data_smoothening_spark.parquet/part-00106-tid-4046819016022805013-9541258c-d2de-45a2-9aac-43e2b84596c1-115-1-c000.snappy.parquet</td><td>part-00106-tid-4046819016022805013-9541258c-d2de-45a2-9aac-43e2b84596c1-115-1-c000.snappy.parquet</td><td>3797412</td><td>1713676088000</td></tr><tr><td>dbfs:/FileStore/tables/parquet_data/data_smoothening_spark.parquet/part-00107-tid-4046819016022805013-9541258c-d2de-45a2-9aac-43e2b84596c1-116-1-c000.snappy.parquet</td><td>part-00107-tid-4046819016022805013-9541258c-d2de-45a2-9aac-43e2b84596c1-116-1-c000.snappy.parquet</td><td>3791585</td><td>1713676089000</td></tr><tr><td>dbfs:/FileStore/tables/parquet_data/data_smoothening_spark.parquet/part-00108-tid-4046819016022805013-9541258c-d2de-45a2-9aac-43e2b84596c1-117-1-c000.snappy.parquet</td><td>part-00108-tid-4046819016022805013-9541258c-d2de-45a2-9aac-43e2b84596c1-117-1-c000.snappy.parquet</td><td>3781585</td><td>1713676090000</td></tr><tr><td>dbfs:/FileStore/tables/parquet_data/data_smoothening_spark.parquet/part-00109-tid-4046819016022805013-9541258c-d2de-45a2-9aac-43e2b84596c1-118-1-c000.snappy.parquet</td><td>part-00109-tid-4046819016022805013-9541258c-d2de-45a2-9aac-43e2b84596c1-118-1-c000.snappy.parquet</td><td>3795632</td><td>1713676092000</td></tr><tr><td>dbfs:/FileStore/tables/parquet_data/data_smoothening_spark.parquet/part-00110-tid-4046819016022805013-9541258c-d2de-45a2-9aac-43e2b84596c1-119-1-c000.snappy.parquet</td><td>part-00110-tid-4046819016022805013-9541258c-d2de-45a2-9aac-43e2b84596c1-119-1-c000.snappy.parquet</td><td>3784514</td><td>1713676091000</td></tr><tr><td>dbfs:/FileStore/tables/parquet_data/data_smoothening_spark.parquet/part-00111-tid-4046819016022805013-9541258c-d2de-45a2-9aac-43e2b84596c1-120-1-c000.snappy.parquet</td><td>part-00111-tid-4046819016022805013-9541258c-d2de-45a2-9aac-43e2b84596c1-120-1-c000.snappy.parquet</td><td>3786981</td><td>1713676094000</td></tr><tr><td>dbfs:/FileStore/tables/parquet_data/data_smoothening_spark.parquet/part-00112-tid-4046819016022805013-9541258c-d2de-45a2-9aac-43e2b84596c1-121-1-c000.snappy.parquet</td><td>part-00112-tid-4046819016022805013-9541258c-d2de-45a2-9aac-43e2b84596c1-121-1-c000.snappy.parquet</td><td>3794229</td><td>1713676092000</td></tr><tr><td>dbfs:/FileStore/tables/parquet_data/data_smoothening_spark.parquet/part-00113-tid-4046819016022805013-9541258c-d2de-45a2-9aac-43e2b84596c1-122-1-c000.snappy.parquet</td><td>part-00113-tid-4046819016022805013-9541258c-d2de-45a2-9aac-43e2b84596c1-122-1-c000.snappy.parquet</td><td>3780612</td><td>1713676094000</td></tr><tr><td>dbfs:/FileStore/tables/parquet_data/data_smoothening_spark.parquet/part-00114-tid-4046819016022805013-9541258c-d2de-45a2-9aac-43e2b84596c1-123-1-c000.snappy.parquet</td><td>part-00114-tid-4046819016022805013-9541258c-d2de-45a2-9aac-43e2b84596c1-123-1-c000.snappy.parquet</td><td>3797279</td><td>1713676094000</td></tr><tr><td>dbfs:/FileStore/tables/parquet_data/data_smoothening_spark.parquet/part-00115-tid-4046819016022805013-9541258c-d2de-45a2-9aac-43e2b84596c1-124-1-c000.snappy.parquet</td><td>part-00115-tid-4046819016022805013-9541258c-d2de-45a2-9aac-43e2b84596c1-124-1-c000.snappy.parquet</td><td>3794435</td><td>1713676095000</td></tr><tr><td>dbfs:/FileStore/tables/parquet_data/data_smoothening_spark.parquet/part-00116-tid-4046819016022805013-9541258c-d2de-45a2-9aac-43e2b84596c1-125-1-c000.snappy.parquet</td><td>part-00116-tid-4046819016022805013-9541258c-d2de-45a2-9aac-43e2b84596c1-125-1-c000.snappy.parquet</td><td>3793078</td><td>1713676096000</td></tr><tr><td>dbfs:/FileStore/tables/parquet_data/data_smoothening_spark.parquet/part-00117-tid-4046819016022805013-9541258c-d2de-45a2-9aac-43e2b84596c1-126-1-c000.snappy.parquet</td><td>part-00117-tid-4046819016022805013-9541258c-d2de-45a2-9aac-43e2b84596c1-126-1-c000.snappy.parquet</td><td>3776876</td><td>1713676097000</td></tr><tr><td>dbfs:/FileStore/tables/parquet_data/data_smoothening_spark.parquet/part-00118-tid-4046819016022805013-9541258c-d2de-45a2-9aac-43e2b84596c1-127-1-c000.snappy.parquet</td><td>part-00118-tid-4046819016022805013-9541258c-d2de-45a2-9aac-43e2b84596c1-127-1-c000.snappy.parquet</td><td>3778462</td><td>1713676098000</td></tr><tr><td>dbfs:/FileStore/tables/parquet_data/data_smoothening_spark.parquet/part-00119-tid-4046819016022805013-9541258c-d2de-45a2-9aac-43e2b84596c1-128-1-c000.snappy.parquet</td><td>part-00119-tid-4046819016022805013-9541258c-d2de-45a2-9aac-43e2b84596c1-128-1-c000.snappy.parquet</td><td>3785776</td><td>1713676098000</td></tr><tr><td>dbfs:/FileStore/tables/parquet_data/data_smoothening_spark.parquet/part-00120-tid-4046819016022805013-9541258c-d2de-45a2-9aac-43e2b84596c1-129-1-c000.snappy.parquet</td><td>part-00120-tid-4046819016022805013-9541258c-d2de-45a2-9aac-43e2b84596c1-129-1-c000.snappy.parquet</td><td>3800206</td><td>1713676100000</td></tr><tr><td>dbfs:/FileStore/tables/parquet_data/data_smoothening_spark.parquet/part-00121-tid-4046819016022805013-9541258c-d2de-45a2-9aac-43e2b84596c1-130-1-c000.snappy.parquet</td><td>part-00121-tid-4046819016022805013-9541258c-d2de-45a2-9aac-43e2b84596c1-130-1-c000.snappy.parquet</td><td>3788429</td><td>1713676099000</td></tr><tr><td>dbfs:/FileStore/tables/parquet_data/data_smoothening_spark.parquet/part-00122-tid-4046819016022805013-9541258c-d2de-45a2-9aac-43e2b84596c1-131-1-c000.snappy.parquet</td><td>part-00122-tid-4046819016022805013-9541258c-d2de-45a2-9aac-43e2b84596c1-131-1-c000.snappy.parquet</td><td>3778165</td><td>1713676100000</td></tr><tr><td>dbfs:/FileStore/tables/parquet_data/data_smoothening_spark.parquet/part-00123-tid-4046819016022805013-9541258c-d2de-45a2-9aac-43e2b84596c1-132-1-c000.snappy.parquet</td><td>part-00123-tid-4046819016022805013-9541258c-d2de-45a2-9aac-43e2b84596c1-132-1-c000.snappy.parquet</td><td>3796614</td><td>1713676100000</td></tr><tr><td>dbfs:/FileStore/tables/parquet_data/data_smoothening_spark.parquet/part-00124-tid-4046819016022805013-9541258c-d2de-45a2-9aac-43e2b84596c1-133-1-c000.snappy.parquet</td><td>part-00124-tid-4046819016022805013-9541258c-d2de-45a2-9aac-43e2b84596c1-133-1-c000.snappy.parquet</td><td>3787262</td><td>1713676101000</td></tr><tr><td>dbfs:/FileStore/tables/parquet_data/data_smoothening_spark.parquet/part-00125-tid-4046819016022805013-9541258c-d2de-45a2-9aac-43e2b84596c1-134-1-c000.snappy.parquet</td><td>part-00125-tid-4046819016022805013-9541258c-d2de-45a2-9aac-43e2b84596c1-134-1-c000.snappy.parquet</td><td>3796652</td><td>1713676103000</td></tr><tr><td>dbfs:/FileStore/tables/parquet_data/data_smoothening_spark.parquet/part-00126-tid-4046819016022805013-9541258c-d2de-45a2-9aac-43e2b84596c1-135-1-c000.snappy.parquet</td><td>part-00126-tid-4046819016022805013-9541258c-d2de-45a2-9aac-43e2b84596c1-135-1-c000.snappy.parquet</td><td>3791660</td><td>1713676103000</td></tr><tr><td>dbfs:/FileStore/tables/parquet_data/data_smoothening_spark.parquet/part-00127-tid-4046819016022805013-9541258c-d2de-45a2-9aac-43e2b84596c1-136-1-c000.snappy.parquet</td><td>part-00127-tid-4046819016022805013-9541258c-d2de-45a2-9aac-43e2b84596c1-136-1-c000.snappy.parquet</td><td>3790576</td><td>1713676104000</td></tr><tr><td>dbfs:/FileStore/tables/parquet_data/data_smoothening_spark.parquet/part-00128-tid-4046819016022805013-9541258c-d2de-45a2-9aac-43e2b84596c1-137-1-c000.snappy.parquet</td><td>part-00128-tid-4046819016022805013-9541258c-d2de-45a2-9aac-43e2b84596c1-137-1-c000.snappy.parquet</td><td>3785933</td><td>1713676104000</td></tr><tr><td>dbfs:/FileStore/tables/parquet_data/data_smoothening_spark.parquet/part-00129-tid-4046819016022805013-9541258c-d2de-45a2-9aac-43e2b84596c1-138-1-c000.snappy.parquet</td><td>part-00129-tid-4046819016022805013-9541258c-d2de-45a2-9aac-43e2b84596c1-138-1-c000.snappy.parquet</td><td>3794254</td><td>1713676106000</td></tr><tr><td>dbfs:/FileStore/tables/parquet_data/data_smoothening_spark.parquet/part-00130-tid-4046819016022805013-9541258c-d2de-45a2-9aac-43e2b84596c1-139-1-c000.snappy.parquet</td><td>part-00130-tid-4046819016022805013-9541258c-d2de-45a2-9aac-43e2b84596c1-139-1-c000.snappy.parquet</td><td>3776117</td><td>1713676106000</td></tr><tr><td>dbfs:/FileStore/tables/parquet_data/data_smoothening_spark.parquet/part-00131-tid-4046819016022805013-9541258c-d2de-45a2-9aac-43e2b84596c1-140-1-c000.snappy.parquet</td><td>part-00131-tid-4046819016022805013-9541258c-d2de-45a2-9aac-43e2b84596c1-140-1-c000.snappy.parquet</td><td>3781745</td><td>1713676106000</td></tr><tr><td>dbfs:/FileStore/tables/parquet_data/data_smoothening_spark.parquet/part-00132-tid-4046819016022805013-9541258c-d2de-45a2-9aac-43e2b84596c1-141-1-c000.snappy.parquet</td><td>part-00132-tid-4046819016022805013-9541258c-d2de-45a2-9aac-43e2b84596c1-141-1-c000.snappy.parquet</td><td>3794516</td><td>1713676107000</td></tr><tr><td>dbfs:/FileStore/tables/parquet_data/data_smoothening_spark.parquet/part-00133-tid-4046819016022805013-9541258c-d2de-45a2-9aac-43e2b84596c1-142-1-c000.snappy.parquet</td><td>part-00133-tid-4046819016022805013-9541258c-d2de-45a2-9aac-43e2b84596c1-142-1-c000.snappy.parquet</td><td>3782747</td><td>1713676108000</td></tr><tr><td>dbfs:/FileStore/tables/parquet_data/data_smoothening_spark.parquet/part-00134-tid-4046819016022805013-9541258c-d2de-45a2-9aac-43e2b84596c1-143-1-c000.snappy.parquet</td><td>part-00134-tid-4046819016022805013-9541258c-d2de-45a2-9aac-43e2b84596c1-143-1-c000.snappy.parquet</td><td>3795742</td><td>1713676108000</td></tr><tr><td>dbfs:/FileStore/tables/parquet_data/data_smoothening_spark.parquet/part-00135-tid-4046819016022805013-9541258c-d2de-45a2-9aac-43e2b84596c1-144-1-c000.snappy.parquet</td><td>part-00135-tid-4046819016022805013-9541258c-d2de-45a2-9aac-43e2b84596c1-144-1-c000.snappy.parquet</td><td>3796332</td><td>1713676109000</td></tr><tr><td>dbfs:/FileStore/tables/parquet_data/data_smoothening_spark.parquet/part-00136-tid-4046819016022805013-9541258c-d2de-45a2-9aac-43e2b84596c1-145-1-c000.snappy.parquet</td><td>part-00136-tid-4046819016022805013-9541258c-d2de-45a2-9aac-43e2b84596c1-145-1-c000.snappy.parquet</td><td>3791313</td><td>1713676110000</td></tr><tr><td>dbfs:/FileStore/tables/parquet_data/data_smoothening_spark.parquet/part-00137-tid-4046819016022805013-9541258c-d2de-45a2-9aac-43e2b84596c1-146-1-c000.snappy.parquet</td><td>part-00137-tid-4046819016022805013-9541258c-d2de-45a2-9aac-43e2b84596c1-146-1-c000.snappy.parquet</td><td>3774682</td><td>1713676112000</td></tr><tr><td>dbfs:/FileStore/tables/parquet_data/data_smoothening_spark.parquet/part-00138-tid-4046819016022805013-9541258c-d2de-45a2-9aac-43e2b84596c1-147-1-c000.snappy.parquet</td><td>part-00138-tid-4046819016022805013-9541258c-d2de-45a2-9aac-43e2b84596c1-147-1-c000.snappy.parquet</td><td>3803784</td><td>1713676112000</td></tr><tr><td>dbfs:/FileStore/tables/parquet_data/data_smoothening_spark.parquet/part-00139-tid-4046819016022805013-9541258c-d2de-45a2-9aac-43e2b84596c1-148-1-c000.snappy.parquet</td><td>part-00139-tid-4046819016022805013-9541258c-d2de-45a2-9aac-43e2b84596c1-148-1-c000.snappy.parquet</td><td>3785625</td><td>1713676111000</td></tr><tr><td>dbfs:/FileStore/tables/parquet_data/data_smoothening_spark.parquet/part-00140-tid-4046819016022805013-9541258c-d2de-45a2-9aac-43e2b84596c1-149-1-c000.snappy.parquet</td><td>part-00140-tid-4046819016022805013-9541258c-d2de-45a2-9aac-43e2b84596c1-149-1-c000.snappy.parquet</td><td>3789443</td><td>1713676113000</td></tr><tr><td>dbfs:/FileStore/tables/parquet_data/data_smoothening_spark.parquet/part-00141-tid-4046819016022805013-9541258c-d2de-45a2-9aac-43e2b84596c1-150-1-c000.snappy.parquet</td><td>part-00141-tid-4046819016022805013-9541258c-d2de-45a2-9aac-43e2b84596c1-150-1-c000.snappy.parquet</td><td>3793086</td><td>1713676114000</td></tr><tr><td>dbfs:/FileStore/tables/parquet_data/data_smoothening_spark.parquet/part-00142-tid-4046819016022805013-9541258c-d2de-45a2-9aac-43e2b84596c1-151-1-c000.snappy.parquet</td><td>part-00142-tid-4046819016022805013-9541258c-d2de-45a2-9aac-43e2b84596c1-151-1-c000.snappy.parquet</td><td>3777107</td><td>1713676114000</td></tr><tr><td>dbfs:/FileStore/tables/parquet_data/data_smoothening_spark.parquet/part-00143-tid-4046819016022805013-9541258c-d2de-45a2-9aac-43e2b84596c1-152-1-c000.snappy.parquet</td><td>part-00143-tid-4046819016022805013-9541258c-d2de-45a2-9aac-43e2b84596c1-152-1-c000.snappy.parquet</td><td>3797943</td><td>1713676115000</td></tr><tr><td>dbfs:/FileStore/tables/parquet_data/data_smoothening_spark.parquet/part-00144-tid-4046819016022805013-9541258c-d2de-45a2-9aac-43e2b84596c1-153-1-c000.snappy.parquet</td><td>part-00144-tid-4046819016022805013-9541258c-d2de-45a2-9aac-43e2b84596c1-153-1-c000.snappy.parquet</td><td>3793150</td><td>1713676116000</td></tr><tr><td>dbfs:/FileStore/tables/parquet_data/data_smoothening_spark.parquet/part-00145-tid-4046819016022805013-9541258c-d2de-45a2-9aac-43e2b84596c1-154-1-c000.snappy.parquet</td><td>part-00145-tid-4046819016022805013-9541258c-d2de-45a2-9aac-43e2b84596c1-154-1-c000.snappy.parquet</td><td>3794104</td><td>1713676116000</td></tr><tr><td>dbfs:/FileStore/tables/parquet_data/data_smoothening_spark.parquet/part-00146-tid-4046819016022805013-9541258c-d2de-45a2-9aac-43e2b84596c1-155-1-c000.snappy.parquet</td><td>part-00146-tid-4046819016022805013-9541258c-d2de-45a2-9aac-43e2b84596c1-155-1-c000.snappy.parquet</td><td>3770282</td><td>1713676117000</td></tr><tr><td>dbfs:/FileStore/tables/parquet_data/data_smoothening_spark.parquet/part-00147-tid-4046819016022805013-9541258c-d2de-45a2-9aac-43e2b84596c1-156-1-c000.snappy.parquet</td><td>part-00147-tid-4046819016022805013-9541258c-d2de-45a2-9aac-43e2b84596c1-156-1-c000.snappy.parquet</td><td>3775339</td><td>1713676118000</td></tr><tr><td>dbfs:/FileStore/tables/parquet_data/data_smoothening_spark.parquet/part-00148-tid-4046819016022805013-9541258c-d2de-45a2-9aac-43e2b84596c1-157-1-c000.snappy.parquet</td><td>part-00148-tid-4046819016022805013-9541258c-d2de-45a2-9aac-43e2b84596c1-157-1-c000.snappy.parquet</td><td>3786211</td><td>1713676118000</td></tr><tr><td>dbfs:/FileStore/tables/parquet_data/data_smoothening_spark.parquet/part-00149-tid-4046819016022805013-9541258c-d2de-45a2-9aac-43e2b84596c1-158-1-c000.snappy.parquet</td><td>part-00149-tid-4046819016022805013-9541258c-d2de-45a2-9aac-43e2b84596c1-158-1-c000.snappy.parquet</td><td>3796790</td><td>1713676119000</td></tr><tr><td>dbfs:/FileStore/tables/parquet_data/data_smoothening_spark.parquet/part-00150-tid-4046819016022805013-9541258c-d2de-45a2-9aac-43e2b84596c1-159-1-c000.snappy.parquet</td><td>part-00150-tid-4046819016022805013-9541258c-d2de-45a2-9aac-43e2b84596c1-159-1-c000.snappy.parquet</td><td>3788719</td><td>1713676120000</td></tr><tr><td>dbfs:/FileStore/tables/parquet_data/data_smoothening_spark.parquet/part-00151-tid-4046819016022805013-9541258c-d2de-45a2-9aac-43e2b84596c1-160-1-c000.snappy.parquet</td><td>part-00151-tid-4046819016022805013-9541258c-d2de-45a2-9aac-43e2b84596c1-160-1-c000.snappy.parquet</td><td>3778218</td><td>1713676121000</td></tr><tr><td>dbfs:/FileStore/tables/parquet_data/data_smoothening_spark.parquet/part-00152-tid-4046819016022805013-9541258c-d2de-45a2-9aac-43e2b84596c1-161-1-c000.snappy.parquet</td><td>part-00152-tid-4046819016022805013-9541258c-d2de-45a2-9aac-43e2b84596c1-161-1-c000.snappy.parquet</td><td>3797028</td><td>1713676122000</td></tr><tr><td>dbfs:/FileStore/tables/parquet_data/data_smoothening_spark.parquet/part-00153-tid-4046819016022805013-9541258c-d2de-45a2-9aac-43e2b84596c1-162-1-c000.snappy.parquet</td><td>part-00153-tid-4046819016022805013-9541258c-d2de-45a2-9aac-43e2b84596c1-162-1-c000.snappy.parquet</td><td>3786364</td><td>1713676122000</td></tr><tr><td>dbfs:/FileStore/tables/parquet_data/data_smoothening_spark.parquet/part-00154-tid-4046819016022805013-9541258c-d2de-45a2-9aac-43e2b84596c1-163-1-c000.snappy.parquet</td><td>part-00154-tid-4046819016022805013-9541258c-d2de-45a2-9aac-43e2b84596c1-163-1-c000.snappy.parquet</td><td>3796671</td><td>1713676123000</td></tr><tr><td>dbfs:/FileStore/tables/parquet_data/data_smoothening_spark.parquet/part-00155-tid-4046819016022805013-9541258c-d2de-45a2-9aac-43e2b84596c1-164-1-c000.snappy.parquet</td><td>part-00155-tid-4046819016022805013-9541258c-d2de-45a2-9aac-43e2b84596c1-164-1-c000.snappy.parquet</td><td>3800119</td><td>1713676123000</td></tr><tr><td>dbfs:/FileStore/tables/parquet_data/data_smoothening_spark.parquet/part-00156-tid-4046819016022805013-9541258c-d2de-45a2-9aac-43e2b84596c1-165-1-c000.snappy.parquet</td><td>part-00156-tid-4046819016022805013-9541258c-d2de-45a2-9aac-43e2b84596c1-165-1-c000.snappy.parquet</td><td>3786746</td><td>1713676124000</td></tr><tr><td>dbfs:/FileStore/tables/parquet_data/data_smoothening_spark.parquet/part-00157-tid-4046819016022805013-9541258c-d2de-45a2-9aac-43e2b84596c1-166-1-c000.snappy.parquet</td><td>part-00157-tid-4046819016022805013-9541258c-d2de-45a2-9aac-43e2b84596c1-166-1-c000.snappy.parquet</td><td>3786994</td><td>1713676125000</td></tr><tr><td>dbfs:/FileStore/tables/parquet_data/data_smoothening_spark.parquet/part-00158-tid-4046819016022805013-9541258c-d2de-45a2-9aac-43e2b84596c1-167-1-c000.snappy.parquet</td><td>part-00158-tid-4046819016022805013-9541258c-d2de-45a2-9aac-43e2b84596c1-167-1-c000.snappy.parquet</td><td>3801827</td><td>1713676126000</td></tr><tr><td>dbfs:/FileStore/tables/parquet_data/data_smoothening_spark.parquet/part-00159-tid-4046819016022805013-9541258c-d2de-45a2-9aac-43e2b84596c1-168-1-c000.snappy.parquet</td><td>part-00159-tid-4046819016022805013-9541258c-d2de-45a2-9aac-43e2b84596c1-168-1-c000.snappy.parquet</td><td>3791008</td><td>1713676126000</td></tr><tr><td>dbfs:/FileStore/tables/parquet_data/data_smoothening_spark.parquet/part-00160-tid-4046819016022805013-9541258c-d2de-45a2-9aac-43e2b84596c1-169-1-c000.snappy.parquet</td><td>part-00160-tid-4046819016022805013-9541258c-d2de-45a2-9aac-43e2b84596c1-169-1-c000.snappy.parquet</td><td>3776545</td><td>1713676127000</td></tr><tr><td>dbfs:/FileStore/tables/parquet_data/data_smoothening_spark.parquet/part-00161-tid-4046819016022805013-9541258c-d2de-45a2-9aac-43e2b84596c1-170-1-c000.snappy.parquet</td><td>part-00161-tid-4046819016022805013-9541258c-d2de-45a2-9aac-43e2b84596c1-170-1-c000.snappy.parquet</td><td>3799251</td><td>1713676128000</td></tr><tr><td>dbfs:/FileStore/tables/parquet_data/data_smoothening_spark.parquet/part-00162-tid-4046819016022805013-9541258c-d2de-45a2-9aac-43e2b84596c1-171-1-c000.snappy.parquet</td><td>part-00162-tid-4046819016022805013-9541258c-d2de-45a2-9aac-43e2b84596c1-171-1-c000.snappy.parquet</td><td>3788760</td><td>1713676128000</td></tr><tr><td>dbfs:/FileStore/tables/parquet_data/data_smoothening_spark.parquet/part-00163-tid-4046819016022805013-9541258c-d2de-45a2-9aac-43e2b84596c1-172-1-c000.snappy.parquet</td><td>part-00163-tid-4046819016022805013-9541258c-d2de-45a2-9aac-43e2b84596c1-172-1-c000.snappy.parquet</td><td>3794612</td><td>1713676129000</td></tr><tr><td>dbfs:/FileStore/tables/parquet_data/data_smoothening_spark.parquet/part-00164-tid-4046819016022805013-9541258c-d2de-45a2-9aac-43e2b84596c1-173-1-c000.snappy.parquet</td><td>part-00164-tid-4046819016022805013-9541258c-d2de-45a2-9aac-43e2b84596c1-173-1-c000.snappy.parquet</td><td>3790215</td><td>1713676129000</td></tr><tr><td>dbfs:/FileStore/tables/parquet_data/data_smoothening_spark.parquet/part-00165-tid-4046819016022805013-9541258c-d2de-45a2-9aac-43e2b84596c1-174-1-c000.snappy.parquet</td><td>part-00165-tid-4046819016022805013-9541258c-d2de-45a2-9aac-43e2b84596c1-174-1-c000.snappy.parquet</td><td>3790940</td><td>1713676130000</td></tr><tr><td>dbfs:/FileStore/tables/parquet_data/data_smoothening_spark.parquet/part-00166-tid-4046819016022805013-9541258c-d2de-45a2-9aac-43e2b84596c1-175-1-c000.snappy.parquet</td><td>part-00166-tid-4046819016022805013-9541258c-d2de-45a2-9aac-43e2b84596c1-175-1-c000.snappy.parquet</td><td>3784837</td><td>1713676131000</td></tr><tr><td>dbfs:/FileStore/tables/parquet_data/data_smoothening_spark.parquet/part-00167-tid-4046819016022805013-9541258c-d2de-45a2-9aac-43e2b84596c1-176-1-c000.snappy.parquet</td><td>part-00167-tid-4046819016022805013-9541258c-d2de-45a2-9aac-43e2b84596c1-176-1-c000.snappy.parquet</td><td>3801783</td><td>1713676131000</td></tr><tr><td>dbfs:/FileStore/tables/parquet_data/data_smoothening_spark.parquet/part-00168-tid-4046819016022805013-9541258c-d2de-45a2-9aac-43e2b84596c1-177-1-c000.snappy.parquet</td><td>part-00168-tid-4046819016022805013-9541258c-d2de-45a2-9aac-43e2b84596c1-177-1-c000.snappy.parquet</td><td>3780229</td><td>1713676132000</td></tr><tr><td>dbfs:/FileStore/tables/parquet_data/data_smoothening_spark.parquet/part-00169-tid-4046819016022805013-9541258c-d2de-45a2-9aac-43e2b84596c1-178-1-c000.snappy.parquet</td><td>part-00169-tid-4046819016022805013-9541258c-d2de-45a2-9aac-43e2b84596c1-178-1-c000.snappy.parquet</td><td>3780982</td><td>1713676133000</td></tr><tr><td>dbfs:/FileStore/tables/parquet_data/data_smoothening_spark.parquet/part-00170-tid-4046819016022805013-9541258c-d2de-45a2-9aac-43e2b84596c1-179-1-c000.snappy.parquet</td><td>part-00170-tid-4046819016022805013-9541258c-d2de-45a2-9aac-43e2b84596c1-179-1-c000.snappy.parquet</td><td>3793988</td><td>1713676134000</td></tr><tr><td>dbfs:/FileStore/tables/parquet_data/data_smoothening_spark.parquet/part-00171-tid-4046819016022805013-9541258c-d2de-45a2-9aac-43e2b84596c1-180-1-c000.snappy.parquet</td><td>part-00171-tid-4046819016022805013-9541258c-d2de-45a2-9aac-43e2b84596c1-180-1-c000.snappy.parquet</td><td>3782430</td><td>1713676135000</td></tr><tr><td>dbfs:/FileStore/tables/parquet_data/data_smoothening_spark.parquet/part-00172-tid-4046819016022805013-9541258c-d2de-45a2-9aac-43e2b84596c1-181-1-c000.snappy.parquet</td><td>part-00172-tid-4046819016022805013-9541258c-d2de-45a2-9aac-43e2b84596c1-181-1-c000.snappy.parquet</td><td>3796100</td><td>1713676135000</td></tr><tr><td>dbfs:/FileStore/tables/parquet_data/data_smoothening_spark.parquet/part-00173-tid-4046819016022805013-9541258c-d2de-45a2-9aac-43e2b84596c1-182-1-c000.snappy.parquet</td><td>part-00173-tid-4046819016022805013-9541258c-d2de-45a2-9aac-43e2b84596c1-182-1-c000.snappy.parquet</td><td>3796992</td><td>1713676135000</td></tr><tr><td>dbfs:/FileStore/tables/parquet_data/data_smoothening_spark.parquet/part-00174-tid-4046819016022805013-9541258c-d2de-45a2-9aac-43e2b84596c1-183-1-c000.snappy.parquet</td><td>part-00174-tid-4046819016022805013-9541258c-d2de-45a2-9aac-43e2b84596c1-183-1-c000.snappy.parquet</td><td>3793866</td><td>1713676136000</td></tr><tr><td>dbfs:/FileStore/tables/parquet_data/data_smoothening_spark.parquet/part-00175-tid-4046819016022805013-9541258c-d2de-45a2-9aac-43e2b84596c1-184-1-c000.snappy.parquet</td><td>part-00175-tid-4046819016022805013-9541258c-d2de-45a2-9aac-43e2b84596c1-184-1-c000.snappy.parquet</td><td>3784184</td><td>1713676137000</td></tr><tr><td>dbfs:/FileStore/tables/parquet_data/data_smoothening_spark.parquet/part-00176-tid-4046819016022805013-9541258c-d2de-45a2-9aac-43e2b84596c1-185-1-c000.snappy.parquet</td><td>part-00176-tid-4046819016022805013-9541258c-d2de-45a2-9aac-43e2b84596c1-185-1-c000.snappy.parquet</td><td>3785435</td><td>1713676137000</td></tr><tr><td>dbfs:/FileStore/tables/parquet_data/data_smoothening_spark.parquet/part-00177-tid-4046819016022805013-9541258c-d2de-45a2-9aac-43e2b84596c1-186-1-c000.snappy.parquet</td><td>part-00177-tid-4046819016022805013-9541258c-d2de-45a2-9aac-43e2b84596c1-186-1-c000.snappy.parquet</td><td>3783397</td><td>1713676138000</td></tr><tr><td>dbfs:/FileStore/tables/parquet_data/data_smoothening_spark.parquet/part-00178-tid-4046819016022805013-9541258c-d2de-45a2-9aac-43e2b84596c1-187-1-c000.snappy.parquet</td><td>part-00178-tid-4046819016022805013-9541258c-d2de-45a2-9aac-43e2b84596c1-187-1-c000.snappy.parquet</td><td>3783212</td><td>1713676140000</td></tr><tr><td>dbfs:/FileStore/tables/parquet_data/data_smoothening_spark.parquet/part-00179-tid-4046819016022805013-9541258c-d2de-45a2-9aac-43e2b84596c1-188-1-c000.snappy.parquet</td><td>part-00179-tid-4046819016022805013-9541258c-d2de-45a2-9aac-43e2b84596c1-188-1-c000.snappy.parquet</td><td>3793808</td><td>1713676141000</td></tr><tr><td>dbfs:/FileStore/tables/parquet_data/data_smoothening_spark.parquet/part-00180-tid-4046819016022805013-9541258c-d2de-45a2-9aac-43e2b84596c1-189-1-c000.snappy.parquet</td><td>part-00180-tid-4046819016022805013-9541258c-d2de-45a2-9aac-43e2b84596c1-189-1-c000.snappy.parquet</td><td>3784238</td><td>1713676141000</td></tr><tr><td>dbfs:/FileStore/tables/parquet_data/data_smoothening_spark.parquet/part-00181-tid-4046819016022805013-9541258c-d2de-45a2-9aac-43e2b84596c1-190-1-c000.snappy.parquet</td><td>part-00181-tid-4046819016022805013-9541258c-d2de-45a2-9aac-43e2b84596c1-190-1-c000.snappy.parquet</td><td>3795796</td><td>1713676141000</td></tr><tr><td>dbfs:/FileStore/tables/parquet_data/data_smoothening_spark.parquet/part-00182-tid-4046819016022805013-9541258c-d2de-45a2-9aac-43e2b84596c1-191-1-c000.snappy.parquet</td><td>part-00182-tid-4046819016022805013-9541258c-d2de-45a2-9aac-43e2b84596c1-191-1-c000.snappy.parquet</td><td>3796424</td><td>1713676141000</td></tr><tr><td>dbfs:/FileStore/tables/parquet_data/data_smoothening_spark.parquet/part-00183-tid-4046819016022805013-9541258c-d2de-45a2-9aac-43e2b84596c1-192-1-c000.snappy.parquet</td><td>part-00183-tid-4046819016022805013-9541258c-d2de-45a2-9aac-43e2b84596c1-192-1-c000.snappy.parquet</td><td>3791361</td><td>1713676142000</td></tr><tr><td>dbfs:/FileStore/tables/parquet_data/data_smoothening_spark.parquet/part-00184-tid-4046819016022805013-9541258c-d2de-45a2-9aac-43e2b84596c1-193-1-c000.snappy.parquet</td><td>part-00184-tid-4046819016022805013-9541258c-d2de-45a2-9aac-43e2b84596c1-193-1-c000.snappy.parquet</td><td>3771069</td><td>1713676142000</td></tr><tr><td>dbfs:/FileStore/tables/parquet_data/data_smoothening_spark.parquet/part-00185-tid-4046819016022805013-9541258c-d2de-45a2-9aac-43e2b84596c1-194-1-c000.snappy.parquet</td><td>part-00185-tid-4046819016022805013-9541258c-d2de-45a2-9aac-43e2b84596c1-194-1-c000.snappy.parquet</td><td>3790004</td><td>1713676143000</td></tr><tr><td>dbfs:/FileStore/tables/parquet_data/data_smoothening_spark.parquet/part-00186-tid-4046819016022805013-9541258c-d2de-45a2-9aac-43e2b84596c1-195-1-c000.snappy.parquet</td><td>part-00186-tid-4046819016022805013-9541258c-d2de-45a2-9aac-43e2b84596c1-195-1-c000.snappy.parquet</td><td>3785631</td><td>1713676145000</td></tr><tr><td>dbfs:/FileStore/tables/parquet_data/data_smoothening_spark.parquet/part-00187-tid-4046819016022805013-9541258c-d2de-45a2-9aac-43e2b84596c1-196-1-c000.snappy.parquet</td><td>part-00187-tid-4046819016022805013-9541258c-d2de-45a2-9aac-43e2b84596c1-196-1-c000.snappy.parquet</td><td>3787338</td><td>1713676145000</td></tr><tr><td>dbfs:/FileStore/tables/parquet_data/data_smoothening_spark.parquet/part-00188-tid-4046819016022805013-9541258c-d2de-45a2-9aac-43e2b84596c1-197-1-c000.snappy.parquet</td><td>part-00188-tid-4046819016022805013-9541258c-d2de-45a2-9aac-43e2b84596c1-197-1-c000.snappy.parquet</td><td>3796632</td><td>1713676147000</td></tr><tr><td>dbfs:/FileStore/tables/parquet_data/data_smoothening_spark.parquet/part-00189-tid-4046819016022805013-9541258c-d2de-45a2-9aac-43e2b84596c1-198-1-c000.snappy.parquet</td><td>part-00189-tid-4046819016022805013-9541258c-d2de-45a2-9aac-43e2b84596c1-198-1-c000.snappy.parquet</td><td>3779291</td><td>1713676147000</td></tr><tr><td>dbfs:/FileStore/tables/parquet_data/data_smoothening_spark.parquet/part-00190-tid-4046819016022805013-9541258c-d2de-45a2-9aac-43e2b84596c1-199-1-c000.snappy.parquet</td><td>part-00190-tid-4046819016022805013-9541258c-d2de-45a2-9aac-43e2b84596c1-199-1-c000.snappy.parquet</td><td>3797257</td><td>1713676147000</td></tr><tr><td>dbfs:/FileStore/tables/parquet_data/data_smoothening_spark.parquet/part-00191-tid-4046819016022805013-9541258c-d2de-45a2-9aac-43e2b84596c1-200-1-c000.snappy.parquet</td><td>part-00191-tid-4046819016022805013-9541258c-d2de-45a2-9aac-43e2b84596c1-200-1-c000.snappy.parquet</td><td>3795115</td><td>1713676147000</td></tr><tr><td>dbfs:/FileStore/tables/parquet_data/data_smoothening_spark.parquet/part-00192-tid-4046819016022805013-9541258c-d2de-45a2-9aac-43e2b84596c1-201-1-c000.snappy.parquet</td><td>part-00192-tid-4046819016022805013-9541258c-d2de-45a2-9aac-43e2b84596c1-201-1-c000.snappy.parquet</td><td>3792190</td><td>1713676147000</td></tr><tr><td>dbfs:/FileStore/tables/parquet_data/data_smoothening_spark.parquet/part-00193-tid-4046819016022805013-9541258c-d2de-45a2-9aac-43e2b84596c1-202-1-c000.snappy.parquet</td><td>part-00193-tid-4046819016022805013-9541258c-d2de-45a2-9aac-43e2b84596c1-202-1-c000.snappy.parquet</td><td>3768981</td><td>1713676148000</td></tr><tr><td>dbfs:/FileStore/tables/parquet_data/data_smoothening_spark.parquet/part-00194-tid-4046819016022805013-9541258c-d2de-45a2-9aac-43e2b84596c1-203-1-c000.snappy.parquet</td><td>part-00194-tid-4046819016022805013-9541258c-d2de-45a2-9aac-43e2b84596c1-203-1-c000.snappy.parquet</td><td>3775086</td><td>1713676150000</td></tr><tr><td>dbfs:/FileStore/tables/parquet_data/data_smoothening_spark.parquet/part-00195-tid-4046819016022805013-9541258c-d2de-45a2-9aac-43e2b84596c1-204-1-c000.snappy.parquet</td><td>part-00195-tid-4046819016022805013-9541258c-d2de-45a2-9aac-43e2b84596c1-204-1-c000.snappy.parquet</td><td>3787041</td><td>1713676151000</td></tr><tr><td>dbfs:/FileStore/tables/parquet_data/data_smoothening_spark.parquet/part-00196-tid-4046819016022805013-9541258c-d2de-45a2-9aac-43e2b84596c1-205-1-c000.snappy.parquet</td><td>part-00196-tid-4046819016022805013-9541258c-d2de-45a2-9aac-43e2b84596c1-205-1-c000.snappy.parquet</td><td>3793747</td><td>1713676152000</td></tr><tr><td>dbfs:/FileStore/tables/parquet_data/data_smoothening_spark.parquet/part-00197-tid-4046819016022805013-9541258c-d2de-45a2-9aac-43e2b84596c1-206-1-c000.snappy.parquet</td><td>part-00197-tid-4046819016022805013-9541258c-d2de-45a2-9aac-43e2b84596c1-206-1-c000.snappy.parquet</td><td>3791654</td><td>1713676152000</td></tr><tr><td>dbfs:/FileStore/tables/parquet_data/data_smoothening_spark.parquet/part-00198-tid-4046819016022805013-9541258c-d2de-45a2-9aac-43e2b84596c1-207-1-c000.snappy.parquet</td><td>part-00198-tid-4046819016022805013-9541258c-d2de-45a2-9aac-43e2b84596c1-207-1-c000.snappy.parquet</td><td>3775577</td><td>1713676152000</td></tr><tr><td>dbfs:/FileStore/tables/parquet_data/data_smoothening_spark.parquet/part-00199-tid-4046819016022805013-9541258c-d2de-45a2-9aac-43e2b84596c1-208-1-c000.snappy.parquet</td><td>part-00199-tid-4046819016022805013-9541258c-d2de-45a2-9aac-43e2b84596c1-208-1-c000.snappy.parquet</td><td>3797333</td><td>1713676153000</td></tr><tr><td>dbfs:/FileStore/tables/parquet_data/data_smoothening_spark.parquet/part-00200-tid-4046819016022805013-9541258c-d2de-45a2-9aac-43e2b84596c1-209-1-c000.snappy.parquet</td><td>part-00200-tid-4046819016022805013-9541258c-d2de-45a2-9aac-43e2b84596c1-209-1-c000.snappy.parquet</td><td>3786691</td><td>1713676153000</td></tr><tr><td>dbfs:/FileStore/tables/parquet_data/data_smoothening_spark.parquet/part-00201-tid-4046819016022805013-9541258c-d2de-45a2-9aac-43e2b84596c1-210-1-c000.snappy.parquet</td><td>part-00201-tid-4046819016022805013-9541258c-d2de-45a2-9aac-43e2b84596c1-210-1-c000.snappy.parquet</td><td>3792210</td><td>1713676153000</td></tr><tr><td>dbfs:/FileStore/tables/parquet_data/data_smoothening_spark.parquet/part-00202-tid-4046819016022805013-9541258c-d2de-45a2-9aac-43e2b84596c1-211-1-c000.snappy.parquet</td><td>part-00202-tid-4046819016022805013-9541258c-d2de-45a2-9aac-43e2b84596c1-211-1-c000.snappy.parquet</td><td>3766386</td><td>1713676155000</td></tr><tr><td>dbfs:/FileStore/tables/parquet_data/data_smoothening_spark.parquet/part-00203-tid-4046819016022805013-9541258c-d2de-45a2-9aac-43e2b84596c1-212-1-c000.snappy.parquet</td><td>part-00203-tid-4046819016022805013-9541258c-d2de-45a2-9aac-43e2b84596c1-212-1-c000.snappy.parquet</td><td>3780434</td><td>1713676156000</td></tr><tr><td>dbfs:/FileStore/tables/parquet_data/data_smoothening_spark.parquet/part-00204-tid-4046819016022805013-9541258c-d2de-45a2-9aac-43e2b84596c1-213-1-c000.snappy.parquet</td><td>part-00204-tid-4046819016022805013-9541258c-d2de-45a2-9aac-43e2b84596c1-213-1-c000.snappy.parquet</td><td>3786169</td><td>1713676157000</td></tr><tr><td>dbfs:/FileStore/tables/parquet_data/data_smoothening_spark.parquet/part-00205-tid-4046819016022805013-9541258c-d2de-45a2-9aac-43e2b84596c1-214-1-c000.snappy.parquet</td><td>part-00205-tid-4046819016022805013-9541258c-d2de-45a2-9aac-43e2b84596c1-214-1-c000.snappy.parquet</td><td>3799839</td><td>1713676158000</td></tr><tr><td>dbfs:/FileStore/tables/parquet_data/data_smoothening_spark.parquet/part-00206-tid-4046819016022805013-9541258c-d2de-45a2-9aac-43e2b84596c1-215-1-c000.snappy.parquet</td><td>part-00206-tid-4046819016022805013-9541258c-d2de-45a2-9aac-43e2b84596c1-215-1-c000.snappy.parquet</td><td>3787406</td><td>1713676158000</td></tr><tr><td>dbfs:/FileStore/tables/parquet_data/data_smoothening_spark.parquet/part-00207-tid-4046819016022805013-9541258c-d2de-45a2-9aac-43e2b84596c1-216-1-c000.snappy.parquet</td><td>part-00207-tid-4046819016022805013-9541258c-d2de-45a2-9aac-43e2b84596c1-216-1-c000.snappy.parquet</td><td>3776630</td><td>1713676157000</td></tr><tr><td>dbfs:/FileStore/tables/parquet_data/data_smoothening_spark.parquet/part-00208-tid-4046819016022805013-9541258c-d2de-45a2-9aac-43e2b84596c1-217-1-c000.snappy.parquet</td><td>part-00208-tid-4046819016022805013-9541258c-d2de-45a2-9aac-43e2b84596c1-217-1-c000.snappy.parquet</td><td>3798119</td><td>1713676159000</td></tr><tr><td>dbfs:/FileStore/tables/parquet_data/data_smoothening_spark.parquet/part-00209-tid-4046819016022805013-9541258c-d2de-45a2-9aac-43e2b84596c1-218-1-c000.snappy.parquet</td><td>part-00209-tid-4046819016022805013-9541258c-d2de-45a2-9aac-43e2b84596c1-218-1-c000.snappy.parquet</td><td>3788114</td><td>1713676159000</td></tr><tr><td>dbfs:/FileStore/tables/parquet_data/data_smoothening_spark.parquet/part-00210-tid-4046819016022805013-9541258c-d2de-45a2-9aac-43e2b84596c1-219-1-c000.snappy.parquet</td><td>part-00210-tid-4046819016022805013-9541258c-d2de-45a2-9aac-43e2b84596c1-219-1-c000.snappy.parquet</td><td>3795665</td><td>1713676160000</td></tr><tr><td>dbfs:/FileStore/tables/parquet_data/data_smoothening_spark.parquet/part-00211-tid-4046819016022805013-9541258c-d2de-45a2-9aac-43e2b84596c1-220-1-c000.snappy.parquet</td><td>part-00211-tid-4046819016022805013-9541258c-d2de-45a2-9aac-43e2b84596c1-220-1-c000.snappy.parquet</td><td>3801303</td><td>1713676161000</td></tr><tr><td>dbfs:/FileStore/tables/parquet_data/data_smoothening_spark.parquet/part-00212-tid-4046819016022805013-9541258c-d2de-45a2-9aac-43e2b84596c1-221-1-c000.snappy.parquet</td><td>part-00212-tid-4046819016022805013-9541258c-d2de-45a2-9aac-43e2b84596c1-221-1-c000.snappy.parquet</td><td>3789330</td><td>1713676162000</td></tr><tr><td>dbfs:/FileStore/tables/parquet_data/data_smoothening_spark.parquet/part-00213-tid-4046819016022805013-9541258c-d2de-45a2-9aac-43e2b84596c1-222-1-c000.snappy.parquet</td><td>part-00213-tid-4046819016022805013-9541258c-d2de-45a2-9aac-43e2b84596c1-222-1-c000.snappy.parquet</td><td>3787709</td><td>1713676163000</td></tr><tr><td>dbfs:/FileStore/tables/parquet_data/data_smoothening_spark.parquet/part-00214-tid-4046819016022805013-9541258c-d2de-45a2-9aac-43e2b84596c1-223-1-c000.snappy.parquet</td><td>part-00214-tid-4046819016022805013-9541258c-d2de-45a2-9aac-43e2b84596c1-223-1-c000.snappy.parquet</td><td>3802698</td><td>1713676163000</td></tr><tr><td>dbfs:/FileStore/tables/parquet_data/data_smoothening_spark.parquet/part-00215-tid-4046819016022805013-9541258c-d2de-45a2-9aac-43e2b84596c1-224-1-c000.snappy.parquet</td><td>part-00215-tid-4046819016022805013-9541258c-d2de-45a2-9aac-43e2b84596c1-224-1-c000.snappy.parquet</td><td>3789299</td><td>1713676163000</td></tr><tr><td>dbfs:/FileStore/tables/parquet_data/data_smoothening_spark.parquet/part-00216-tid-4046819016022805013-9541258c-d2de-45a2-9aac-43e2b84596c1-225-1-c000.snappy.parquet</td><td>part-00216-tid-4046819016022805013-9541258c-d2de-45a2-9aac-43e2b84596c1-225-1-c000.snappy.parquet</td><td>3780615</td><td>1713676164000</td></tr><tr><td>dbfs:/FileStore/tables/parquet_data/data_smoothening_spark.parquet/part-00217-tid-4046819016022805013-9541258c-d2de-45a2-9aac-43e2b84596c1-226-1-c000.snappy.parquet</td><td>part-00217-tid-4046819016022805013-9541258c-d2de-45a2-9aac-43e2b84596c1-226-1-c000.snappy.parquet</td><td>3797263</td><td>1713676164000</td></tr><tr><td>dbfs:/FileStore/tables/parquet_data/data_smoothening_spark.parquet/part-00218-tid-4046819016022805013-9541258c-d2de-45a2-9aac-43e2b84596c1-227-1-c000.snappy.parquet</td><td>part-00218-tid-4046819016022805013-9541258c-d2de-45a2-9aac-43e2b84596c1-227-1-c000.snappy.parquet</td><td>3787328</td><td>1713676166000</td></tr><tr><td>dbfs:/FileStore/tables/parquet_data/data_smoothening_spark.parquet/part-00219-tid-4046819016022805013-9541258c-d2de-45a2-9aac-43e2b84596c1-228-1-c000.snappy.parquet</td><td>part-00219-tid-4046819016022805013-9541258c-d2de-45a2-9aac-43e2b84596c1-228-1-c000.snappy.parquet</td><td>3796179</td><td>1713676166000</td></tr><tr><td>dbfs:/FileStore/tables/parquet_data/data_smoothening_spark.parquet/part-00220-tid-4046819016022805013-9541258c-d2de-45a2-9aac-43e2b84596c1-229-1-c000.snappy.parquet</td><td>part-00220-tid-4046819016022805013-9541258c-d2de-45a2-9aac-43e2b84596c1-229-1-c000.snappy.parquet</td><td>3799593</td><td>1713676167000</td></tr><tr><td>dbfs:/FileStore/tables/parquet_data/data_smoothening_spark.parquet/part-00221-tid-4046819016022805013-9541258c-d2de-45a2-9aac-43e2b84596c1-230-1-c000.snappy.parquet</td><td>part-00221-tid-4046819016022805013-9541258c-d2de-45a2-9aac-43e2b84596c1-230-1-c000.snappy.parquet</td><td>3790373</td><td>1713676168000</td></tr><tr><td>dbfs:/FileStore/tables/parquet_data/data_smoothening_spark.parquet/part-00222-tid-4046819016022805013-9541258c-d2de-45a2-9aac-43e2b84596c1-231-1-c000.snappy.parquet</td><td>part-00222-tid-4046819016022805013-9541258c-d2de-45a2-9aac-43e2b84596c1-231-1-c000.snappy.parquet</td><td>3786673</td><td>1713676169000</td></tr><tr><td>dbfs:/FileStore/tables/parquet_data/data_smoothening_spark.parquet/part-00223-tid-4046819016022805013-9541258c-d2de-45a2-9aac-43e2b84596c1-232-1-c000.snappy.parquet</td><td>part-00223-tid-4046819016022805013-9541258c-d2de-45a2-9aac-43e2b84596c1-232-1-c000.snappy.parquet</td><td>3802429</td><td>1713676168000</td></tr><tr><td>dbfs:/FileStore/tables/parquet_data/data_smoothening_spark.parquet/part-00224-tid-4046819016022805013-9541258c-d2de-45a2-9aac-43e2b84596c1-233-1-c000.snappy.parquet</td><td>part-00224-tid-4046819016022805013-9541258c-d2de-45a2-9aac-43e2b84596c1-233-1-c000.snappy.parquet</td><td>3791229</td><td>1713676170000</td></tr><tr><td>dbfs:/FileStore/tables/parquet_data/data_smoothening_spark.parquet/part-00225-tid-4046819016022805013-9541258c-d2de-45a2-9aac-43e2b84596c1-234-1-c000.snappy.parquet</td><td>part-00225-tid-4046819016022805013-9541258c-d2de-45a2-9aac-43e2b84596c1-234-1-c000.snappy.parquet</td><td>3778088</td><td>1713676169000</td></tr><tr><td>dbfs:/FileStore/tables/parquet_data/data_smoothening_spark.parquet/part-00226-tid-4046819016022805013-9541258c-d2de-45a2-9aac-43e2b84596c1-235-1-c000.snappy.parquet</td><td>part-00226-tid-4046819016022805013-9541258c-d2de-45a2-9aac-43e2b84596c1-235-1-c000.snappy.parquet</td><td>3796355</td><td>1713676171000</td></tr><tr><td>dbfs:/FileStore/tables/parquet_data/data_smoothening_spark.parquet/part-00227-tid-4046819016022805013-9541258c-d2de-45a2-9aac-43e2b84596c1-236-1-c000.snappy.parquet</td><td>part-00227-tid-4046819016022805013-9541258c-d2de-45a2-9aac-43e2b84596c1-236-1-c000.snappy.parquet</td><td>3788898</td><td>1713676171000</td></tr><tr><td>dbfs:/FileStore/tables/parquet_data/data_smoothening_spark.parquet/part-00228-tid-4046819016022805013-9541258c-d2de-45a2-9aac-43e2b84596c1-237-1-c000.snappy.parquet</td><td>part-00228-tid-4046819016022805013-9541258c-d2de-45a2-9aac-43e2b84596c1-237-1-c000.snappy.parquet</td><td>3795323</td><td>1713676172000</td></tr><tr><td>dbfs:/FileStore/tables/parquet_data/data_smoothening_spark.parquet/part-00229-tid-4046819016022805013-9541258c-d2de-45a2-9aac-43e2b84596c1-238-1-c000.snappy.parquet</td><td>part-00229-tid-4046819016022805013-9541258c-d2de-45a2-9aac-43e2b84596c1-238-1-c000.snappy.parquet</td><td>3798689</td><td>1713676173000</td></tr><tr><td>dbfs:/FileStore/tables/parquet_data/data_smoothening_spark.parquet/part-00230-tid-4046819016022805013-9541258c-d2de-45a2-9aac-43e2b84596c1-239-1-c000.snappy.parquet</td><td>part-00230-tid-4046819016022805013-9541258c-d2de-45a2-9aac-43e2b84596c1-239-1-c000.snappy.parquet</td><td>3789893</td><td>1713676174000</td></tr><tr><td>dbfs:/FileStore/tables/parquet_data/data_smoothening_spark.parquet/part-00231-tid-4046819016022805013-9541258c-d2de-45a2-9aac-43e2b84596c1-240-1-c000.snappy.parquet</td><td>part-00231-tid-4046819016022805013-9541258c-d2de-45a2-9aac-43e2b84596c1-240-1-c000.snappy.parquet</td><td>3788014</td><td>1713676174000</td></tr><tr><td>dbfs:/FileStore/tables/parquet_data/data_smoothening_spark.parquet/part-00232-tid-4046819016022805013-9541258c-d2de-45a2-9aac-43e2b84596c1-241-1-c000.snappy.parquet</td><td>part-00232-tid-4046819016022805013-9541258c-d2de-45a2-9aac-43e2b84596c1-241-1-c000.snappy.parquet</td><td>3805080</td><td>1713676175000</td></tr><tr><td>dbfs:/FileStore/tables/parquet_data/data_smoothening_spark.parquet/part-00233-tid-4046819016022805013-9541258c-d2de-45a2-9aac-43e2b84596c1-242-1-c000.snappy.parquet</td><td>part-00233-tid-4046819016022805013-9541258c-d2de-45a2-9aac-43e2b84596c1-242-1-c000.snappy.parquet</td><td>3780407</td><td>1713676175000</td></tr><tr><td>dbfs:/FileStore/tables/parquet_data/data_smoothening_spark.parquet/part-00234-tid-4046819016022805013-9541258c-d2de-45a2-9aac-43e2b84596c1-243-1-c000.snappy.parquet</td><td>part-00234-tid-4046819016022805013-9541258c-d2de-45a2-9aac-43e2b84596c1-243-1-c000.snappy.parquet</td><td>3775325</td><td>1713676176000</td></tr><tr><td>dbfs:/FileStore/tables/parquet_data/data_smoothening_spark.parquet/part-00235-tid-4046819016022805013-9541258c-d2de-45a2-9aac-43e2b84596c1-244-1-c000.snappy.parquet</td><td>part-00235-tid-4046819016022805013-9541258c-d2de-45a2-9aac-43e2b84596c1-244-1-c000.snappy.parquet</td><td>3798259</td><td>1713676176000</td></tr><tr><td>dbfs:/FileStore/tables/parquet_data/data_smoothening_spark.parquet/part-00236-tid-4046819016022805013-9541258c-d2de-45a2-9aac-43e2b84596c1-245-1-c000.snappy.parquet</td><td>part-00236-tid-4046819016022805013-9541258c-d2de-45a2-9aac-43e2b84596c1-245-1-c000.snappy.parquet</td><td>3786216</td><td>1713676178000</td></tr><tr><td>dbfs:/FileStore/tables/parquet_data/data_smoothening_spark.parquet/part-00237-tid-4046819016022805013-9541258c-d2de-45a2-9aac-43e2b84596c1-246-1-c000.snappy.parquet</td><td>part-00237-tid-4046819016022805013-9541258c-d2de-45a2-9aac-43e2b84596c1-246-1-c000.snappy.parquet</td><td>3795358</td><td>1713676179000</td></tr><tr><td>dbfs:/FileStore/tables/parquet_data/data_smoothening_spark.parquet/part-00238-tid-4046819016022805013-9541258c-d2de-45a2-9aac-43e2b84596c1-247-1-c000.snappy.parquet</td><td>part-00238-tid-4046819016022805013-9541258c-d2de-45a2-9aac-43e2b84596c1-247-1-c000.snappy.parquet</td><td>3798020</td><td>1713676179000</td></tr><tr><td>dbfs:/FileStore/tables/parquet_data/data_smoothening_spark.parquet/part-00239-tid-4046819016022805013-9541258c-d2de-45a2-9aac-43e2b84596c1-248-1-c000.snappy.parquet</td><td>part-00239-tid-4046819016022805013-9541258c-d2de-45a2-9aac-43e2b84596c1-248-1-c000.snappy.parquet</td><td>3789583</td><td>1713676180000</td></tr><tr><td>dbfs:/FileStore/tables/parquet_data/data_smoothening_spark.parquet/part-00240-tid-4046819016022805013-9541258c-d2de-45a2-9aac-43e2b84596c1-249-1-c000.snappy.parquet</td><td>part-00240-tid-4046819016022805013-9541258c-d2de-45a2-9aac-43e2b84596c1-249-1-c000.snappy.parquet</td><td>3787585</td><td>1713676181000</td></tr><tr><td>dbfs:/FileStore/tables/parquet_data/data_smoothening_spark.parquet/part-00241-tid-4046819016022805013-9541258c-d2de-45a2-9aac-43e2b84596c1-250-1-c000.snappy.parquet</td><td>part-00241-tid-4046819016022805013-9541258c-d2de-45a2-9aac-43e2b84596c1-250-1-c000.snappy.parquet</td><td>3801256</td><td>1713676181000</td></tr><tr><td>dbfs:/FileStore/tables/parquet_data/data_smoothening_spark.parquet/part-00242-tid-4046819016022805013-9541258c-d2de-45a2-9aac-43e2b84596c1-251-1-c000.snappy.parquet</td><td>part-00242-tid-4046819016022805013-9541258c-d2de-45a2-9aac-43e2b84596c1-251-1-c000.snappy.parquet</td><td>3787086</td><td>1713676182000</td></tr><tr><td>dbfs:/FileStore/tables/parquet_data/data_smoothening_spark.parquet/part-00243-tid-4046819016022805013-9541258c-d2de-45a2-9aac-43e2b84596c1-252-1-c000.snappy.parquet</td><td>part-00243-tid-4046819016022805013-9541258c-d2de-45a2-9aac-43e2b84596c1-252-1-c000.snappy.parquet</td><td>3776201</td><td>1713676181000</td></tr><tr><td>dbfs:/FileStore/tables/parquet_data/data_smoothening_spark.parquet/part-00244-tid-4046819016022805013-9541258c-d2de-45a2-9aac-43e2b84596c1-253-1-c000.snappy.parquet</td><td>part-00244-tid-4046819016022805013-9541258c-d2de-45a2-9aac-43e2b84596c1-253-1-c000.snappy.parquet</td><td>3798017</td><td>1713676183000</td></tr><tr><td>dbfs:/FileStore/tables/parquet_data/data_smoothening_spark.parquet/part-00245-tid-4046819016022805013-9541258c-d2de-45a2-9aac-43e2b84596c1-254-1-c000.snappy.parquet</td><td>part-00245-tid-4046819016022805013-9541258c-d2de-45a2-9aac-43e2b84596c1-254-1-c000.snappy.parquet</td><td>3789634</td><td>1713676183000</td></tr><tr><td>dbfs:/FileStore/tables/parquet_data/data_smoothening_spark.parquet/part-00246-tid-4046819016022805013-9541258c-d2de-45a2-9aac-43e2b84596c1-255-1-c000.snappy.parquet</td><td>part-00246-tid-4046819016022805013-9541258c-d2de-45a2-9aac-43e2b84596c1-255-1-c000.snappy.parquet</td><td>3795402</td><td>1713676184000</td></tr><tr><td>dbfs:/FileStore/tables/parquet_data/data_smoothening_spark.parquet/part-00247-tid-4046819016022805013-9541258c-d2de-45a2-9aac-43e2b84596c1-256-1-c000.snappy.parquet</td><td>part-00247-tid-4046819016022805013-9541258c-d2de-45a2-9aac-43e2b84596c1-256-1-c000.snappy.parquet</td><td>3800121</td><td>1713676185000</td></tr><tr><td>dbfs:/FileStore/tables/parquet_data/data_smoothening_spark.parquet/part-00248-tid-4046819016022805013-9541258c-d2de-45a2-9aac-43e2b84596c1-257-1-c000.snappy.parquet</td><td>part-00248-tid-4046819016022805013-9541258c-d2de-45a2-9aac-43e2b84596c1-257-1-c000.snappy.parquet</td><td>3790549</td><td>1713676186000</td></tr><tr><td>dbfs:/FileStore/tables/parquet_data/data_smoothening_spark.parquet/part-00249-tid-4046819016022805013-9541258c-d2de-45a2-9aac-43e2b84596c1-258-1-c000.snappy.parquet</td><td>part-00249-tid-4046819016022805013-9541258c-d2de-45a2-9aac-43e2b84596c1-258-1-c000.snappy.parquet</td><td>3787148</td><td>1713676187000</td></tr><tr><td>dbfs:/FileStore/tables/parquet_data/data_smoothening_spark.parquet/part-00250-tid-4046819016022805013-9541258c-d2de-45a2-9aac-43e2b84596c1-259-1-c000.snappy.parquet</td><td>part-00250-tid-4046819016022805013-9541258c-d2de-45a2-9aac-43e2b84596c1-259-1-c000.snappy.parquet</td><td>3802978</td><td>1713676187000</td></tr><tr><td>dbfs:/FileStore/tables/parquet_data/data_smoothening_spark.parquet/part-00251-tid-4046819016022805013-9541258c-d2de-45a2-9aac-43e2b84596c1-260-1-c000.snappy.parquet</td><td>part-00251-tid-4046819016022805013-9541258c-d2de-45a2-9aac-43e2b84596c1-260-1-c000.snappy.parquet</td><td>3789048</td><td>1713676187000</td></tr><tr><td>dbfs:/FileStore/tables/parquet_data/data_smoothening_spark.parquet/part-00252-tid-4046819016022805013-9541258c-d2de-45a2-9aac-43e2b84596c1-261-1-c000.snappy.parquet</td><td>part-00252-tid-4046819016022805013-9541258c-d2de-45a2-9aac-43e2b84596c1-261-1-c000.snappy.parquet</td><td>3774304</td><td>1713676188000</td></tr><tr><td>dbfs:/FileStore/tables/parquet_data/data_smoothening_spark.parquet/part-00253-tid-4046819016022805013-9541258c-d2de-45a2-9aac-43e2b84596c1-262-1-c000.snappy.parquet</td><td>part-00253-tid-4046819016022805013-9541258c-d2de-45a2-9aac-43e2b84596c1-262-1-c000.snappy.parquet</td><td>3796749</td><td>1713676189000</td></tr><tr><td>dbfs:/FileStore/tables/parquet_data/data_smoothening_spark.parquet/part-00254-tid-4046819016022805013-9541258c-d2de-45a2-9aac-43e2b84596c1-263-1-c000.snappy.parquet</td><td>part-00254-tid-4046819016022805013-9541258c-d2de-45a2-9aac-43e2b84596c1-263-1-c000.snappy.parquet</td><td>3788592</td><td>1713676190000</td></tr><tr><td>dbfs:/FileStore/tables/parquet_data/data_smoothening_spark.parquet/part-00255-tid-4046819016022805013-9541258c-d2de-45a2-9aac-43e2b84596c1-264-1-c000.snappy.parquet</td><td>part-00255-tid-4046819016022805013-9541258c-d2de-45a2-9aac-43e2b84596c1-264-1-c000.snappy.parquet</td><td>3795450</td><td>1713676190000</td></tr><tr><td>dbfs:/FileStore/tables/parquet_data/data_smoothening_spark.parquet/part-00256-tid-4046819016022805013-9541258c-d2de-45a2-9aac-43e2b84596c1-265-1-c000.snappy.parquet</td><td>part-00256-tid-4046819016022805013-9541258c-d2de-45a2-9aac-43e2b84596c1-265-1-c000.snappy.parquet</td><td>3798974</td><td>1713676191000</td></tr><tr><td>dbfs:/FileStore/tables/parquet_data/data_smoothening_spark.parquet/part-00257-tid-4046819016022805013-9541258c-d2de-45a2-9aac-43e2b84596c1-266-1-c000.snappy.parquet</td><td>part-00257-tid-4046819016022805013-9541258c-d2de-45a2-9aac-43e2b84596c1-266-1-c000.snappy.parquet</td><td>3790017</td><td>1713676192000</td></tr><tr><td>dbfs:/FileStore/tables/parquet_data/data_smoothening_spark.parquet/part-00258-tid-4046819016022805013-9541258c-d2de-45a2-9aac-43e2b84596c1-267-1-c000.snappy.parquet</td><td>part-00258-tid-4046819016022805013-9541258c-d2de-45a2-9aac-43e2b84596c1-267-1-c000.snappy.parquet</td><td>3787782</td><td>1713676193000</td></tr><tr><td>dbfs:/FileStore/tables/parquet_data/data_smoothening_spark.parquet/part-00259-tid-4046819016022805013-9541258c-d2de-45a2-9aac-43e2b84596c1-268-1-c000.snappy.parquet</td><td>part-00259-tid-4046819016022805013-9541258c-d2de-45a2-9aac-43e2b84596c1-268-1-c000.snappy.parquet</td><td>3794254</td><td>1713676192000</td></tr><tr><td>dbfs:/FileStore/tables/parquet_data/data_smoothening_spark.parquet/part-00260-tid-4046819016022805013-9541258c-d2de-45a2-9aac-43e2b84596c1-269-1-c000.snappy.parquet</td><td>part-00260-tid-4046819016022805013-9541258c-d2de-45a2-9aac-43e2b84596c1-269-1-c000.snappy.parquet</td><td>3789266</td><td>1713676193000</td></tr><tr><td>dbfs:/FileStore/tables/parquet_data/data_smoothening_spark.parquet/part-00261-tid-4046819016022805013-9541258c-d2de-45a2-9aac-43e2b84596c1-270-1-c000.snappy.parquet</td><td>part-00261-tid-4046819016022805013-9541258c-d2de-45a2-9aac-43e2b84596c1-270-1-c000.snappy.parquet</td><td>3780620</td><td>1713676194000</td></tr><tr><td>dbfs:/FileStore/tables/parquet_data/data_smoothening_spark.parquet/part-00262-tid-4046819016022805013-9541258c-d2de-45a2-9aac-43e2b84596c1-271-1-c000.snappy.parquet</td><td>part-00262-tid-4046819016022805013-9541258c-d2de-45a2-9aac-43e2b84596c1-271-1-c000.snappy.parquet</td><td>3797083</td><td>1713676195000</td></tr><tr><td>dbfs:/FileStore/tables/parquet_data/data_smoothening_spark.parquet/part-00263-tid-4046819016022805013-9541258c-d2de-45a2-9aac-43e2b84596c1-272-1-c000.snappy.parquet</td><td>part-00263-tid-4046819016022805013-9541258c-d2de-45a2-9aac-43e2b84596c1-272-1-c000.snappy.parquet</td><td>3787358</td><td>1713676195000</td></tr><tr><td>dbfs:/FileStore/tables/parquet_data/data_smoothening_spark.parquet/part-00264-tid-4046819016022805013-9541258c-d2de-45a2-9aac-43e2b84596c1-273-1-c000.snappy.parquet</td><td>part-00264-tid-4046819016022805013-9541258c-d2de-45a2-9aac-43e2b84596c1-273-1-c000.snappy.parquet</td><td>3792738</td><td>1713676196000</td></tr><tr><td>dbfs:/FileStore/tables/parquet_data/data_smoothening_spark.parquet/part-00265-tid-4046819016022805013-9541258c-d2de-45a2-9aac-43e2b84596c1-274-1-c000.snappy.parquet</td><td>part-00265-tid-4046819016022805013-9541258c-d2de-45a2-9aac-43e2b84596c1-274-1-c000.snappy.parquet</td><td>3799675</td><td>1713676197000</td></tr><tr><td>dbfs:/FileStore/tables/parquet_data/data_smoothening_spark.parquet/part-00266-tid-4046819016022805013-9541258c-d2de-45a2-9aac-43e2b84596c1-275-1-c000.snappy.parquet</td><td>part-00266-tid-4046819016022805013-9541258c-d2de-45a2-9aac-43e2b84596c1-275-1-c000.snappy.parquet</td><td>3784708</td><td>1713676198000</td></tr><tr><td>dbfs:/FileStore/tables/parquet_data/data_smoothening_spark.parquet/part-00267-tid-4046819016022805013-9541258c-d2de-45a2-9aac-43e2b84596c1-276-1-c000.snappy.parquet</td><td>part-00267-tid-4046819016022805013-9541258c-d2de-45a2-9aac-43e2b84596c1-276-1-c000.snappy.parquet</td><td>3787089</td><td>1713676198000</td></tr><tr><td>dbfs:/FileStore/tables/parquet_data/data_smoothening_spark.parquet/part-00268-tid-4046819016022805013-9541258c-d2de-45a2-9aac-43e2b84596c1-277-1-c000.snappy.parquet</td><td>part-00268-tid-4046819016022805013-9541258c-d2de-45a2-9aac-43e2b84596c1-277-1-c000.snappy.parquet</td><td>3802371</td><td>1713676199000</td></tr><tr><td>dbfs:/FileStore/tables/parquet_data/data_smoothening_spark.parquet/part-00269-tid-4046819016022805013-9541258c-d2de-45a2-9aac-43e2b84596c1-278-1-c000.snappy.parquet</td><td>part-00269-tid-4046819016022805013-9541258c-d2de-45a2-9aac-43e2b84596c1-278-1-c000.snappy.parquet</td><td>3788489</td><td>1713676199000</td></tr><tr><td>dbfs:/FileStore/tables/parquet_data/data_smoothening_spark.parquet/part-00270-tid-4046819016022805013-9541258c-d2de-45a2-9aac-43e2b84596c1-279-1-c000.snappy.parquet</td><td>part-00270-tid-4046819016022805013-9541258c-d2de-45a2-9aac-43e2b84596c1-279-1-c000.snappy.parquet</td><td>3780621</td><td>1713676200000</td></tr><tr><td>dbfs:/FileStore/tables/parquet_data/data_smoothening_spark.parquet/part-00271-tid-4046819016022805013-9541258c-d2de-45a2-9aac-43e2b84596c1-280-1-c000.snappy.parquet</td><td>part-00271-tid-4046819016022805013-9541258c-d2de-45a2-9aac-43e2b84596c1-280-1-c000.snappy.parquet</td><td>3798554</td><td>1713676200000</td></tr><tr><td>dbfs:/FileStore/tables/parquet_data/data_smoothening_spark.parquet/part-00272-tid-4046819016022805013-9541258c-d2de-45a2-9aac-43e2b84596c1-281-1-c000.snappy.parquet</td><td>part-00272-tid-4046819016022805013-9541258c-d2de-45a2-9aac-43e2b84596c1-281-1-c000.snappy.parquet</td><td>3785942</td><td>1713676201000</td></tr><tr><td>dbfs:/FileStore/tables/parquet_data/data_smoothening_spark.parquet/part-00273-tid-4046819016022805013-9541258c-d2de-45a2-9aac-43e2b84596c1-282-1-c000.snappy.parquet</td><td>part-00273-tid-4046819016022805013-9541258c-d2de-45a2-9aac-43e2b84596c1-282-1-c000.snappy.parquet</td><td>3796534</td><td>1713676202000</td></tr><tr><td>dbfs:/FileStore/tables/parquet_data/data_smoothening_spark.parquet/part-00274-tid-4046819016022805013-9541258c-d2de-45a2-9aac-43e2b84596c1-283-1-c000.snappy.parquet</td><td>part-00274-tid-4046819016022805013-9541258c-d2de-45a2-9aac-43e2b84596c1-283-1-c000.snappy.parquet</td><td>3776757</td><td>1713676202000</td></tr><tr><td>dbfs:/FileStore/tables/parquet_data/data_smoothening_spark.parquet/part-00275-tid-4046819016022805013-9541258c-d2de-45a2-9aac-43e2b84596c1-284-1-c000.snappy.parquet</td><td>part-00275-tid-4046819016022805013-9541258c-d2de-45a2-9aac-43e2b84596c1-284-1-c000.snappy.parquet</td><td>3778512</td><td>1713676204000</td></tr><tr><td>dbfs:/FileStore/tables/parquet_data/data_smoothening_spark.parquet/part-00276-tid-4046819016022805013-9541258c-d2de-45a2-9aac-43e2b84596c1-285-1-c000.snappy.parquet</td><td>part-00276-tid-4046819016022805013-9541258c-d2de-45a2-9aac-43e2b84596c1-285-1-c000.snappy.parquet</td><td>3786670</td><td>1713676204000</td></tr><tr><td>dbfs:/FileStore/tables/parquet_data/data_smoothening_spark.parquet/part-00277-tid-4046819016022805013-9541258c-d2de-45a2-9aac-43e2b84596c1-286-1-c000.snappy.parquet</td><td>part-00277-tid-4046819016022805013-9541258c-d2de-45a2-9aac-43e2b84596c1-286-1-c000.snappy.parquet</td><td>3797244</td><td>1713676203000</td></tr><tr><td>dbfs:/FileStore/tables/parquet_data/data_smoothening_spark.parquet/part-00278-tid-4046819016022805013-9541258c-d2de-45a2-9aac-43e2b84596c1-287-1-c000.snappy.parquet</td><td>part-00278-tid-4046819016022805013-9541258c-d2de-45a2-9aac-43e2b84596c1-287-1-c000.snappy.parquet</td><td>3791735</td><td>1713676205000</td></tr><tr><td>dbfs:/FileStore/tables/parquet_data/data_smoothening_spark.parquet/part-00279-tid-4046819016022805013-9541258c-d2de-45a2-9aac-43e2b84596c1-288-1-c000.snappy.parquet</td><td>part-00279-tid-4046819016022805013-9541258c-d2de-45a2-9aac-43e2b84596c1-288-1-c000.snappy.parquet</td><td>3773690</td><td>1713676205000</td></tr><tr><td>dbfs:/FileStore/tables/parquet_data/data_smoothening_spark.parquet/part-00280-tid-4046819016022805013-9541258c-d2de-45a2-9aac-43e2b84596c1-289-1-c000.snappy.parquet</td><td>part-00280-tid-4046819016022805013-9541258c-d2de-45a2-9aac-43e2b84596c1-289-1-c000.snappy.parquet</td><td>3798701</td><td>1713676206000</td></tr><tr><td>dbfs:/FileStore/tables/parquet_data/data_smoothening_spark.parquet/part-00281-tid-4046819016022805013-9541258c-d2de-45a2-9aac-43e2b84596c1-290-1-c000.snappy.parquet</td><td>part-00281-tid-4046819016022805013-9541258c-d2de-45a2-9aac-43e2b84596c1-290-1-c000.snappy.parquet</td><td>3789430</td><td>1713676207000</td></tr><tr><td>dbfs:/FileStore/tables/parquet_data/data_smoothening_spark.parquet/part-00282-tid-4046819016022805013-9541258c-d2de-45a2-9aac-43e2b84596c1-291-1-c000.snappy.parquet</td><td>part-00282-tid-4046819016022805013-9541258c-d2de-45a2-9aac-43e2b84596c1-291-1-c000.snappy.parquet</td><td>3793038</td><td>1713676208000</td></tr><tr><td>dbfs:/FileStore/tables/parquet_data/data_smoothening_spark.parquet/part-00283-tid-4046819016022805013-9541258c-d2de-45a2-9aac-43e2b84596c1-292-1-c000.snappy.parquet</td><td>part-00283-tid-4046819016022805013-9541258c-d2de-45a2-9aac-43e2b84596c1-292-1-c000.snappy.parquet</td><td>3770798</td><td>1713676208000</td></tr><tr><td>dbfs:/FileStore/tables/parquet_data/data_smoothening_spark.parquet/part-00284-tid-4046819016022805013-9541258c-d2de-45a2-9aac-43e2b84596c1-293-1-c000.snappy.parquet</td><td>part-00284-tid-4046819016022805013-9541258c-d2de-45a2-9aac-43e2b84596c1-293-1-c000.snappy.parquet</td><td>3774566</td><td>1713676209000</td></tr><tr><td>dbfs:/FileStore/tables/parquet_data/data_smoothening_spark.parquet/part-00285-tid-4046819016022805013-9541258c-d2de-45a2-9aac-43e2b84596c1-294-1-c000.snappy.parquet</td><td>part-00285-tid-4046819016022805013-9541258c-d2de-45a2-9aac-43e2b84596c1-294-1-c000.snappy.parquet</td><td>3785405</td><td>1713676209000</td></tr><tr><td>dbfs:/FileStore/tables/parquet_data/data_smoothening_spark.parquet/part-00286-tid-4046819016022805013-9541258c-d2de-45a2-9aac-43e2b84596c1-295-1-c000.snappy.parquet</td><td>part-00286-tid-4046819016022805013-9541258c-d2de-45a2-9aac-43e2b84596c1-295-1-c000.snappy.parquet</td><td>3792476</td><td>1713676210000</td></tr><tr><td>dbfs:/FileStore/tables/parquet_data/data_smoothening_spark.parquet/part-00287-tid-4046819016022805013-9541258c-d2de-45a2-9aac-43e2b84596c1-296-1-c000.snappy.parquet</td><td>part-00287-tid-4046819016022805013-9541258c-d2de-45a2-9aac-43e2b84596c1-296-1-c000.snappy.parquet</td><td>3794011</td><td>1713676210000</td></tr><tr><td>dbfs:/FileStore/tables/parquet_data/data_smoothening_spark.parquet/part-00288-tid-4046819016022805013-9541258c-d2de-45a2-9aac-43e2b84596c1-297-1-c000.snappy.parquet</td><td>part-00288-tid-4046819016022805013-9541258c-d2de-45a2-9aac-43e2b84596c1-297-1-c000.snappy.parquet</td><td>3781636</td><td>1713676211000</td></tr><tr><td>dbfs:/FileStore/tables/parquet_data/data_smoothening_spark.parquet/part-00289-tid-4046819016022805013-9541258c-d2de-45a2-9aac-43e2b84596c1-298-1-c000.snappy.parquet</td><td>part-00289-tid-4046819016022805013-9541258c-d2de-45a2-9aac-43e2b84596c1-298-1-c000.snappy.parquet</td><td>3796601</td><td>1713676213000</td></tr><tr><td>dbfs:/FileStore/tables/parquet_data/data_smoothening_spark.parquet/part-00290-tid-4046819016022805013-9541258c-d2de-45a2-9aac-43e2b84596c1-299-1-c000.snappy.parquet</td><td>part-00290-tid-4046819016022805013-9541258c-d2de-45a2-9aac-43e2b84596c1-299-1-c000.snappy.parquet</td><td>3794873</td><td>1713676214000</td></tr><tr><td>dbfs:/FileStore/tables/parquet_data/data_smoothening_spark.parquet/part-00291-tid-4046819016022805013-9541258c-d2de-45a2-9aac-43e2b84596c1-300-1-c000.snappy.parquet</td><td>part-00291-tid-4046819016022805013-9541258c-d2de-45a2-9aac-43e2b84596c1-300-1-c000.snappy.parquet</td><td>3793045</td><td>1713676213000</td></tr><tr><td>dbfs:/FileStore/tables/parquet_data/data_smoothening_spark.parquet/part-00292-tid-4046819016022805013-9541258c-d2de-45a2-9aac-43e2b84596c1-301-1-c000.snappy.parquet</td><td>part-00292-tid-4046819016022805013-9541258c-d2de-45a2-9aac-43e2b84596c1-301-1-c000.snappy.parquet</td><td>3770872</td><td>1713676214000</td></tr><tr><td>dbfs:/FileStore/tables/parquet_data/data_smoothening_spark.parquet/part-00293-tid-4046819016022805013-9541258c-d2de-45a2-9aac-43e2b84596c1-302-1-c000.snappy.parquet</td><td>part-00293-tid-4046819016022805013-9541258c-d2de-45a2-9aac-43e2b84596c1-302-1-c000.snappy.parquet</td><td>3791033</td><td>1713676214000</td></tr><tr><td>dbfs:/FileStore/tables/parquet_data/data_smoothening_spark.parquet/part-00294-tid-4046819016022805013-9541258c-d2de-45a2-9aac-43e2b84596c1-303-1-c000.snappy.parquet</td><td>part-00294-tid-4046819016022805013-9541258c-d2de-45a2-9aac-43e2b84596c1-303-1-c000.snappy.parquet</td><td>3785373</td><td>1713676215000</td></tr><tr><td>dbfs:/FileStore/tables/parquet_data/data_smoothening_spark.parquet/part-00295-tid-4046819016022805013-9541258c-d2de-45a2-9aac-43e2b84596c1-304-1-c000.snappy.parquet</td><td>part-00295-tid-4046819016022805013-9541258c-d2de-45a2-9aac-43e2b84596c1-304-1-c000.snappy.parquet</td><td>3792413</td><td>1713676215000</td></tr><tr><td>dbfs:/FileStore/tables/parquet_data/data_smoothening_spark.parquet/part-00296-tid-4046819016022805013-9541258c-d2de-45a2-9aac-43e2b84596c1-305-1-c000.snappy.parquet</td><td>part-00296-tid-4046819016022805013-9541258c-d2de-45a2-9aac-43e2b84596c1-305-1-c000.snappy.parquet</td><td>3793717</td><td>1713676216000</td></tr><tr><td>dbfs:/FileStore/tables/parquet_data/data_smoothening_spark.parquet/part-00297-tid-4046819016022805013-9541258c-d2de-45a2-9aac-43e2b84596c1-306-1-c000.snappy.parquet</td><td>part-00297-tid-4046819016022805013-9541258c-d2de-45a2-9aac-43e2b84596c1-306-1-c000.snappy.parquet</td><td>3783102</td><td>1713676218000</td></tr><tr><td>dbfs:/FileStore/tables/parquet_data/data_smoothening_spark.parquet/part-00298-tid-4046819016022805013-9541258c-d2de-45a2-9aac-43e2b84596c1-307-1-c000.snappy.parquet</td><td>part-00298-tid-4046819016022805013-9541258c-d2de-45a2-9aac-43e2b84596c1-307-1-c000.snappy.parquet</td><td>3795948</td><td>1713676219000</td></tr><tr><td>dbfs:/FileStore/tables/parquet_data/data_smoothening_spark.parquet/part-00299-tid-4046819016022805013-9541258c-d2de-45a2-9aac-43e2b84596c1-308-1-c000.snappy.parquet</td><td>part-00299-tid-4046819016022805013-9541258c-d2de-45a2-9aac-43e2b84596c1-308-1-c000.snappy.parquet</td><td>3797197</td><td>1713676219000</td></tr><tr><td>dbfs:/FileStore/tables/parquet_data/data_smoothening_spark.parquet/part-00300-tid-4046819016022805013-9541258c-d2de-45a2-9aac-43e2b84596c1-309-1-c000.snappy.parquet</td><td>part-00300-tid-4046819016022805013-9541258c-d2de-45a2-9aac-43e2b84596c1-309-1-c000.snappy.parquet</td><td>3792994</td><td>1713676218000</td></tr><tr><td>dbfs:/FileStore/tables/parquet_data/data_smoothening_spark.parquet/part-00301-tid-4046819016022805013-9541258c-d2de-45a2-9aac-43e2b84596c1-310-1-c000.snappy.parquet</td><td>part-00301-tid-4046819016022805013-9541258c-d2de-45a2-9aac-43e2b84596c1-310-1-c000.snappy.parquet</td><td>3769606</td><td>1713676219000</td></tr><tr><td>dbfs:/FileStore/tables/parquet_data/data_smoothening_spark.parquet/part-00302-tid-4046819016022805013-9541258c-d2de-45a2-9aac-43e2b84596c1-311-1-c000.snappy.parquet</td><td>part-00302-tid-4046819016022805013-9541258c-d2de-45a2-9aac-43e2b84596c1-311-1-c000.snappy.parquet</td><td>3791050</td><td>1713676220000</td></tr><tr><td>dbfs:/FileStore/tables/parquet_data/data_smoothening_spark.parquet/part-00303-tid-4046819016022805013-9541258c-d2de-45a2-9aac-43e2b84596c1-312-1-c000.snappy.parquet</td><td>part-00303-tid-4046819016022805013-9541258c-d2de-45a2-9aac-43e2b84596c1-312-1-c000.snappy.parquet</td><td>3784561</td><td>1713676220000</td></tr><tr><td>dbfs:/FileStore/tables/parquet_data/data_smoothening_spark.parquet/part-00304-tid-4046819016022805013-9541258c-d2de-45a2-9aac-43e2b84596c1-313-1-c000.snappy.parquet</td><td>part-00304-tid-4046819016022805013-9541258c-d2de-45a2-9aac-43e2b84596c1-313-1-c000.snappy.parquet</td><td>3790069</td><td>1713676221000</td></tr><tr><td>dbfs:/FileStore/tables/parquet_data/data_smoothening_spark.parquet/part-00305-tid-4046819016022805013-9541258c-d2de-45a2-9aac-43e2b84596c1-314-1-c000.snappy.parquet</td><td>part-00305-tid-4046819016022805013-9541258c-d2de-45a2-9aac-43e2b84596c1-314-1-c000.snappy.parquet</td><td>3794833</td><td>1713676222000</td></tr><tr><td>dbfs:/FileStore/tables/parquet_data/data_smoothening_spark.parquet/part-00306-tid-4046819016022805013-9541258c-d2de-45a2-9aac-43e2b84596c1-315-1-c000.snappy.parquet</td><td>part-00306-tid-4046819016022805013-9541258c-d2de-45a2-9aac-43e2b84596c1-315-1-c000.snappy.parquet</td><td>3781060</td><td>1713676223000</td></tr><tr><td>dbfs:/FileStore/tables/parquet_data/data_smoothening_spark.parquet/part-00307-tid-4046819016022805013-9541258c-d2de-45a2-9aac-43e2b84596c1-316-1-c000.snappy.parquet</td><td>part-00307-tid-4046819016022805013-9541258c-d2de-45a2-9aac-43e2b84596c1-316-1-c000.snappy.parquet</td><td>3797572</td><td>1713676224000</td></tr><tr><td>dbfs:/FileStore/tables/parquet_data/data_smoothening_spark.parquet/part-00308-tid-4046819016022805013-9541258c-d2de-45a2-9aac-43e2b84596c1-317-1-c000.snappy.parquet</td><td>part-00308-tid-4046819016022805013-9541258c-d2de-45a2-9aac-43e2b84596c1-317-1-c000.snappy.parquet</td><td>3797180</td><td>1713676224000</td></tr><tr><td>dbfs:/FileStore/tables/parquet_data/data_smoothening_spark.parquet/part-00309-tid-4046819016022805013-9541258c-d2de-45a2-9aac-43e2b84596c1-318-1-c000.snappy.parquet</td><td>part-00309-tid-4046819016022805013-9541258c-d2de-45a2-9aac-43e2b84596c1-318-1-c000.snappy.parquet</td><td>3790971</td><td>1713676224000</td></tr><tr><td>dbfs:/FileStore/tables/parquet_data/data_smoothening_spark.parquet/part-00310-tid-4046819016022805013-9541258c-d2de-45a2-9aac-43e2b84596c1-319-1-c000.snappy.parquet</td><td>part-00310-tid-4046819016022805013-9541258c-d2de-45a2-9aac-43e2b84596c1-319-1-c000.snappy.parquet</td><td>3780532</td><td>1713676225000</td></tr><tr><td>dbfs:/FileStore/tables/parquet_data/data_smoothening_spark.parquet/part-00311-tid-4046819016022805013-9541258c-d2de-45a2-9aac-43e2b84596c1-320-1-c000.snappy.parquet</td><td>part-00311-tid-4046819016022805013-9541258c-d2de-45a2-9aac-43e2b84596c1-320-1-c000.snappy.parquet</td><td>3805397</td><td>1713676225000</td></tr><tr><td>dbfs:/FileStore/tables/parquet_data/data_smoothening_spark.parquet/part-00312-tid-4046819016022805013-9541258c-d2de-45a2-9aac-43e2b84596c1-321-1-c000.snappy.parquet</td><td>part-00312-tid-4046819016022805013-9541258c-d2de-45a2-9aac-43e2b84596c1-321-1-c000.snappy.parquet</td><td>3785695</td><td>1713676226000</td></tr><tr><td>dbfs:/FileStore/tables/parquet_data/data_smoothening_spark.parquet/part-00313-tid-4046819016022805013-9541258c-d2de-45a2-9aac-43e2b84596c1-322-1-c000.snappy.parquet</td><td>part-00313-tid-4046819016022805013-9541258c-d2de-45a2-9aac-43e2b84596c1-322-1-c000.snappy.parquet</td><td>3784655</td><td>1713676227000</td></tr><tr><td>dbfs:/FileStore/tables/parquet_data/data_smoothening_spark.parquet/part-00314-tid-4046819016022805013-9541258c-d2de-45a2-9aac-43e2b84596c1-323-1-c000.snappy.parquet</td><td>part-00314-tid-4046819016022805013-9541258c-d2de-45a2-9aac-43e2b84596c1-323-1-c000.snappy.parquet</td><td>3795127</td><td>1713676229000</td></tr><tr><td>dbfs:/FileStore/tables/parquet_data/data_smoothening_spark.parquet/part-00315-tid-4046819016022805013-9541258c-d2de-45a2-9aac-43e2b84596c1-324-1-c000.snappy.parquet</td><td>part-00315-tid-4046819016022805013-9541258c-d2de-45a2-9aac-43e2b84596c1-324-1-c000.snappy.parquet</td><td>3782154</td><td>1713676230000</td></tr><tr><td>dbfs:/FileStore/tables/parquet_data/data_smoothening_spark.parquet/part-00316-tid-4046819016022805013-9541258c-d2de-45a2-9aac-43e2b84596c1-325-1-c000.snappy.parquet</td><td>part-00316-tid-4046819016022805013-9541258c-d2de-45a2-9aac-43e2b84596c1-325-1-c000.snappy.parquet</td><td>3796620</td><td>1713676228000</td></tr><tr><td>dbfs:/FileStore/tables/parquet_data/data_smoothening_spark.parquet/part-00317-tid-4046819016022805013-9541258c-d2de-45a2-9aac-43e2b84596c1-326-1-c000.snappy.parquet</td><td>part-00317-tid-4046819016022805013-9541258c-d2de-45a2-9aac-43e2b84596c1-326-1-c000.snappy.parquet</td><td>3798854</td><td>1713676230000</td></tr><tr><td>dbfs:/FileStore/tables/parquet_data/data_smoothening_spark.parquet/part-00318-tid-4046819016022805013-9541258c-d2de-45a2-9aac-43e2b84596c1-327-1-c000.snappy.parquet</td><td>part-00318-tid-4046819016022805013-9541258c-d2de-45a2-9aac-43e2b84596c1-327-1-c000.snappy.parquet</td><td>3793292</td><td>1713676229000</td></tr><tr><td>dbfs:/FileStore/tables/parquet_data/data_smoothening_spark.parquet/part-00319-tid-4046819016022805013-9541258c-d2de-45a2-9aac-43e2b84596c1-328-1-c000.snappy.parquet</td><td>part-00319-tid-4046819016022805013-9541258c-d2de-45a2-9aac-43e2b84596c1-328-1-c000.snappy.parquet</td><td>3786453</td><td>1713676230000</td></tr><tr><td>dbfs:/FileStore/tables/parquet_data/data_smoothening_spark.parquet/part-00320-tid-4046819016022805013-9541258c-d2de-45a2-9aac-43e2b84596c1-329-1-c000.snappy.parquet</td><td>part-00320-tid-4046819016022805013-9541258c-d2de-45a2-9aac-43e2b84596c1-329-1-c000.snappy.parquet</td><td>3802615</td><td>1713676230000</td></tr><tr><td>dbfs:/FileStore/tables/parquet_data/data_smoothening_spark.parquet/part-00321-tid-4046819016022805013-9541258c-d2de-45a2-9aac-43e2b84596c1-330-1-c000.snappy.parquet</td><td>part-00321-tid-4046819016022805013-9541258c-d2de-45a2-9aac-43e2b84596c1-330-1-c000.snappy.parquet</td><td>3787728</td><td>1713676231000</td></tr><tr><td>dbfs:/FileStore/tables/parquet_data/data_smoothening_spark.parquet/part-00322-tid-4046819016022805013-9541258c-d2de-45a2-9aac-43e2b84596c1-331-1-c000.snappy.parquet</td><td>part-00322-tid-4046819016022805013-9541258c-d2de-45a2-9aac-43e2b84596c1-331-1-c000.snappy.parquet</td><td>3783582</td><td>1713676232000</td></tr><tr><td>dbfs:/FileStore/tables/parquet_data/data_smoothening_spark.parquet/part-00323-tid-4046819016022805013-9541258c-d2de-45a2-9aac-43e2b84596c1-332-1-c000.snappy.parquet</td><td>part-00323-tid-4046819016022805013-9541258c-d2de-45a2-9aac-43e2b84596c1-332-1-c000.snappy.parquet</td><td>3798443</td><td>1713676235000</td></tr><tr><td>dbfs:/FileStore/tables/parquet_data/data_smoothening_spark.parquet/part-00324-tid-4046819016022805013-9541258c-d2de-45a2-9aac-43e2b84596c1-333-1-c000.snappy.parquet</td><td>part-00324-tid-4046819016022805013-9541258c-d2de-45a2-9aac-43e2b84596c1-333-1-c000.snappy.parquet</td><td>3787593</td><td>1713676234000</td></tr><tr><td>dbfs:/FileStore/tables/parquet_data/data_smoothening_spark.parquet/part-00325-tid-4046819016022805013-9541258c-d2de-45a2-9aac-43e2b84596c1-334-1-c000.snappy.parquet</td><td>part-00325-tid-4046819016022805013-9541258c-d2de-45a2-9aac-43e2b84596c1-334-1-c000.snappy.parquet</td><td>3795997</td><td>1713676236000</td></tr><tr><td>dbfs:/FileStore/tables/parquet_data/data_smoothening_spark.parquet/part-00326-tid-4046819016022805013-9541258c-d2de-45a2-9aac-43e2b84596c1-335-1-c000.snappy.parquet</td><td>part-00326-tid-4046819016022805013-9541258c-d2de-45a2-9aac-43e2b84596c1-335-1-c000.snappy.parquet</td><td>3799073</td><td>1713676235000</td></tr><tr><td>dbfs:/FileStore/tables/parquet_data/data_smoothening_spark.parquet/part-00327-tid-4046819016022805013-9541258c-d2de-45a2-9aac-43e2b84596c1-336-1-c000.snappy.parquet</td><td>part-00327-tid-4046819016022805013-9541258c-d2de-45a2-9aac-43e2b84596c1-336-1-c000.snappy.parquet</td><td>3789319</td><td>1713676236000</td></tr><tr><td>dbfs:/FileStore/tables/parquet_data/data_smoothening_spark.parquet/part-00328-tid-4046819016022805013-9541258c-d2de-45a2-9aac-43e2b84596c1-337-1-c000.snappy.parquet</td><td>part-00328-tid-4046819016022805013-9541258c-d2de-45a2-9aac-43e2b84596c1-337-1-c000.snappy.parquet</td><td>3786536</td><td>1713676236000</td></tr><tr><td>dbfs:/FileStore/tables/parquet_data/data_smoothening_spark.parquet/part-00329-tid-4046819016022805013-9541258c-d2de-45a2-9aac-43e2b84596c1-338-1-c000.snappy.parquet</td><td>part-00329-tid-4046819016022805013-9541258c-d2de-45a2-9aac-43e2b84596c1-338-1-c000.snappy.parquet</td><td>3802804</td><td>1713676236000</td></tr><tr><td>dbfs:/FileStore/tables/parquet_data/data_smoothening_spark.parquet/part-00330-tid-4046819016022805013-9541258c-d2de-45a2-9aac-43e2b84596c1-339-1-c000.snappy.parquet</td><td>part-00330-tid-4046819016022805013-9541258c-d2de-45a2-9aac-43e2b84596c1-339-1-c000.snappy.parquet</td><td>3789045</td><td>1713676236000</td></tr><tr><td>dbfs:/FileStore/tables/parquet_data/data_smoothening_spark.parquet/part-00331-tid-4046819016022805013-9541258c-d2de-45a2-9aac-43e2b84596c1-340-1-c000.snappy.parquet</td><td>part-00331-tid-4046819016022805013-9541258c-d2de-45a2-9aac-43e2b84596c1-340-1-c000.snappy.parquet</td><td>3780278</td><td>1713676238000</td></tr><tr><td>dbfs:/FileStore/tables/parquet_data/data_smoothening_spark.parquet/part-00332-tid-4046819016022805013-9541258c-d2de-45a2-9aac-43e2b84596c1-341-1-c000.snappy.parquet</td><td>part-00332-tid-4046819016022805013-9541258c-d2de-45a2-9aac-43e2b84596c1-341-1-c000.snappy.parquet</td><td>3797655</td><td>1713676239000</td></tr><tr><td>dbfs:/FileStore/tables/parquet_data/data_smoothening_spark.parquet/part-00333-tid-4046819016022805013-9541258c-d2de-45a2-9aac-43e2b84596c1-342-1-c000.snappy.parquet</td><td>part-00333-tid-4046819016022805013-9541258c-d2de-45a2-9aac-43e2b84596c1-342-1-c000.snappy.parquet</td><td>3790564</td><td>1713676240000</td></tr><tr><td>dbfs:/FileStore/tables/parquet_data/data_smoothening_spark.parquet/part-00334-tid-4046819016022805013-9541258c-d2de-45a2-9aac-43e2b84596c1-343-1-c000.snappy.parquet</td><td>part-00334-tid-4046819016022805013-9541258c-d2de-45a2-9aac-43e2b84596c1-343-1-c000.snappy.parquet</td><td>3792301</td><td>1713676240000</td></tr><tr><td>dbfs:/FileStore/tables/parquet_data/data_smoothening_spark.parquet/part-00335-tid-4046819016022805013-9541258c-d2de-45a2-9aac-43e2b84596c1-344-1-c000.snappy.parquet</td><td>part-00335-tid-4046819016022805013-9541258c-d2de-45a2-9aac-43e2b84596c1-344-1-c000.snappy.parquet</td><td>3768759</td><td>1713676241000</td></tr><tr><td>dbfs:/FileStore/tables/parquet_data/data_smoothening_spark.parquet/part-00336-tid-4046819016022805013-9541258c-d2de-45a2-9aac-43e2b84596c1-345-1-c000.snappy.parquet</td><td>part-00336-tid-4046819016022805013-9541258c-d2de-45a2-9aac-43e2b84596c1-345-1-c000.snappy.parquet</td><td>3776072</td><td>1713676241000</td></tr><tr><td>dbfs:/FileStore/tables/parquet_data/data_smoothening_spark.parquet/part-00337-tid-4046819016022805013-9541258c-d2de-45a2-9aac-43e2b84596c1-346-1-c000.snappy.parquet</td><td>part-00337-tid-4046819016022805013-9541258c-d2de-45a2-9aac-43e2b84596c1-346-1-c000.snappy.parquet</td><td>3786627</td><td>1713676242000</td></tr><tr><td>dbfs:/FileStore/tables/parquet_data/data_smoothening_spark.parquet/part-00338-tid-4046819016022805013-9541258c-d2de-45a2-9aac-43e2b84596c1-347-1-c000.snappy.parquet</td><td>part-00338-tid-4046819016022805013-9541258c-d2de-45a2-9aac-43e2b84596c1-347-1-c000.snappy.parquet</td><td>3789760</td><td>1713676242000</td></tr><tr><td>dbfs:/FileStore/tables/parquet_data/data_smoothening_spark.parquet/part-00339-tid-4046819016022805013-9541258c-d2de-45a2-9aac-43e2b84596c1-348-1-c000.snappy.parquet</td><td>part-00339-tid-4046819016022805013-9541258c-d2de-45a2-9aac-43e2b84596c1-348-1-c000.snappy.parquet</td><td>3795145</td><td>1713676243000</td></tr><tr><td>dbfs:/FileStore/tables/parquet_data/data_smoothening_spark.parquet/part-00340-tid-4046819016022805013-9541258c-d2de-45a2-9aac-43e2b84596c1-349-1-c000.snappy.parquet</td><td>part-00340-tid-4046819016022805013-9541258c-d2de-45a2-9aac-43e2b84596c1-349-1-c000.snappy.parquet</td><td>3781712</td><td>1713676243000</td></tr><tr><td>dbfs:/FileStore/tables/parquet_data/data_smoothening_spark.parquet/part-00341-tid-4046819016022805013-9541258c-d2de-45a2-9aac-43e2b84596c1-350-1-c000.snappy.parquet</td><td>part-00341-tid-4046819016022805013-9541258c-d2de-45a2-9aac-43e2b84596c1-350-1-c000.snappy.parquet</td><td>3795660</td><td>1713676245000</td></tr><tr><td>dbfs:/FileStore/tables/parquet_data/data_smoothening_spark.parquet/part-00342-tid-4046819016022805013-9541258c-d2de-45a2-9aac-43e2b84596c1-351-1-c000.snappy.parquet</td><td>part-00342-tid-4046819016022805013-9541258c-d2de-45a2-9aac-43e2b84596c1-351-1-c000.snappy.parquet</td><td>3798585</td><td>1713676245000</td></tr><tr><td>dbfs:/FileStore/tables/parquet_data/data_smoothening_spark.parquet/part-00343-tid-4046819016022805013-9541258c-d2de-45a2-9aac-43e2b84596c1-352-1-c000.snappy.parquet</td><td>part-00343-tid-4046819016022805013-9541258c-d2de-45a2-9aac-43e2b84596c1-352-1-c000.snappy.parquet</td><td>3791612</td><td>1713676247000</td></tr><tr><td>dbfs:/FileStore/tables/parquet_data/data_smoothening_spark.parquet/part-00344-tid-4046819016022805013-9541258c-d2de-45a2-9aac-43e2b84596c1-353-1-c000.snappy.parquet</td><td>part-00344-tid-4046819016022805013-9541258c-d2de-45a2-9aac-43e2b84596c1-353-1-c000.snappy.parquet</td><td>3783655</td><td>1713676246000</td></tr><tr><td>dbfs:/FileStore/tables/parquet_data/data_smoothening_spark.parquet/part-00345-tid-4046819016022805013-9541258c-d2de-45a2-9aac-43e2b84596c1-354-1-c000.snappy.parquet</td><td>part-00345-tid-4046819016022805013-9541258c-d2de-45a2-9aac-43e2b84596c1-354-1-c000.snappy.parquet</td><td>3804152</td><td>1713676246000</td></tr><tr><td>dbfs:/FileStore/tables/parquet_data/data_smoothening_spark.parquet/part-00346-tid-4046819016022805013-9541258c-d2de-45a2-9aac-43e2b84596c1-355-1-c000.snappy.parquet</td><td>part-00346-tid-4046819016022805013-9541258c-d2de-45a2-9aac-43e2b84596c1-355-1-c000.snappy.parquet</td><td>3784705</td><td>1713676247000</td></tr><tr><td>dbfs:/FileStore/tables/parquet_data/data_smoothening_spark.parquet/part-00347-tid-4046819016022805013-9541258c-d2de-45a2-9aac-43e2b84596c1-356-1-c000.snappy.parquet</td><td>part-00347-tid-4046819016022805013-9541258c-d2de-45a2-9aac-43e2b84596c1-356-1-c000.snappy.parquet</td><td>3788348</td><td>1713676247000</td></tr><tr><td>dbfs:/FileStore/tables/parquet_data/data_smoothening_spark.parquet/part-00348-tid-4046819016022805013-9541258c-d2de-45a2-9aac-43e2b84596c1-357-1-c000.snappy.parquet</td><td>part-00348-tid-4046819016022805013-9541258c-d2de-45a2-9aac-43e2b84596c1-357-1-c000.snappy.parquet</td><td>3793833</td><td>1713676248000</td></tr><tr><td>dbfs:/FileStore/tables/parquet_data/data_smoothening_spark.parquet/part-00349-tid-4046819016022805013-9541258c-d2de-45a2-9aac-43e2b84596c1-358-1-c000.snappy.parquet</td><td>part-00349-tid-4046819016022805013-9541258c-d2de-45a2-9aac-43e2b84596c1-358-1-c000.snappy.parquet</td><td>3787087</td><td>1713676249000</td></tr><tr><td>dbfs:/FileStore/tables/parquet_data/data_smoothening_spark.parquet/part-00350-tid-4046819016022805013-9541258c-d2de-45a2-9aac-43e2b84596c1-359-1-c000.snappy.parquet</td><td>part-00350-tid-4046819016022805013-9541258c-d2de-45a2-9aac-43e2b84596c1-359-1-c000.snappy.parquet</td><td>3796470</td><td>1713676250000</td></tr><tr><td>dbfs:/FileStore/tables/parquet_data/data_smoothening_spark.parquet/part-00351-tid-4046819016022805013-9541258c-d2de-45a2-9aac-43e2b84596c1-360-1-c000.snappy.parquet</td><td>part-00351-tid-4046819016022805013-9541258c-d2de-45a2-9aac-43e2b84596c1-360-1-c000.snappy.parquet</td><td>3800403</td><td>1713676251000</td></tr><tr><td>dbfs:/FileStore/tables/parquet_data/data_smoothening_spark.parquet/part-00352-tid-4046819016022805013-9541258c-d2de-45a2-9aac-43e2b84596c1-361-1-c000.snappy.parquet</td><td>part-00352-tid-4046819016022805013-9541258c-d2de-45a2-9aac-43e2b84596c1-361-1-c000.snappy.parquet</td><td>3790261</td><td>1713676252000</td></tr><tr><td>dbfs:/FileStore/tables/parquet_data/data_smoothening_spark.parquet/part-00353-tid-4046819016022805013-9541258c-d2de-45a2-9aac-43e2b84596c1-362-1-c000.snappy.parquet</td><td>part-00353-tid-4046819016022805013-9541258c-d2de-45a2-9aac-43e2b84596c1-362-1-c000.snappy.parquet</td><td>3787691</td><td>1713676252000</td></tr><tr><td>dbfs:/FileStore/tables/parquet_data/data_smoothening_spark.parquet/part-00354-tid-4046819016022805013-9541258c-d2de-45a2-9aac-43e2b84596c1-363-1-c000.snappy.parquet</td><td>part-00354-tid-4046819016022805013-9541258c-d2de-45a2-9aac-43e2b84596c1-363-1-c000.snappy.parquet</td><td>3803862</td><td>1713676253000</td></tr><tr><td>dbfs:/FileStore/tables/parquet_data/data_smoothening_spark.parquet/part-00355-tid-4046819016022805013-9541258c-d2de-45a2-9aac-43e2b84596c1-364-1-c000.snappy.parquet</td><td>part-00355-tid-4046819016022805013-9541258c-d2de-45a2-9aac-43e2b84596c1-364-1-c000.snappy.parquet</td><td>3787731</td><td>1713676252000</td></tr><tr><td>dbfs:/FileStore/tables/parquet_data/data_smoothening_spark.parquet/part-00356-tid-4046819016022805013-9541258c-d2de-45a2-9aac-43e2b84596c1-365-1-c000.snappy.parquet</td><td>part-00356-tid-4046819016022805013-9541258c-d2de-45a2-9aac-43e2b84596c1-365-1-c000.snappy.parquet</td><td>3780527</td><td>1713676253000</td></tr><tr><td>dbfs:/FileStore/tables/parquet_data/data_smoothening_spark.parquet/part-00357-tid-4046819016022805013-9541258c-d2de-45a2-9aac-43e2b84596c1-366-1-c000.snappy.parquet</td><td>part-00357-tid-4046819016022805013-9541258c-d2de-45a2-9aac-43e2b84596c1-366-1-c000.snappy.parquet</td><td>3799584</td><td>1713676253000</td></tr><tr><td>dbfs:/FileStore/tables/parquet_data/data_smoothening_spark.parquet/part-00358-tid-4046819016022805013-9541258c-d2de-45a2-9aac-43e2b84596c1-367-1-c000.snappy.parquet</td><td>part-00358-tid-4046819016022805013-9541258c-d2de-45a2-9aac-43e2b84596c1-367-1-c000.snappy.parquet</td><td>3787483</td><td>1713676254000</td></tr><tr><td>dbfs:/FileStore/tables/parquet_data/data_smoothening_spark.parquet/part-00359-tid-4046819016022805013-9541258c-d2de-45a2-9aac-43e2b84596c1-368-1-c000.snappy.parquet</td><td>part-00359-tid-4046819016022805013-9541258c-d2de-45a2-9aac-43e2b84596c1-368-1-c000.snappy.parquet</td><td>3794444</td><td>1713676254000</td></tr><tr><td>dbfs:/FileStore/tables/parquet_data/data_smoothening_spark.parquet/part-00360-tid-4046819016022805013-9541258c-d2de-45a2-9aac-43e2b84596c1-369-1-c000.snappy.parquet</td><td>part-00360-tid-4046819016022805013-9541258c-d2de-45a2-9aac-43e2b84596c1-369-1-c000.snappy.parquet</td><td>3770751</td><td>1713676255000</td></tr><tr><td>dbfs:/FileStore/tables/parquet_data/data_smoothening_spark.parquet/part-00361-tid-4046819016022805013-9541258c-d2de-45a2-9aac-43e2b84596c1-370-1-c000.snappy.parquet</td><td>part-00361-tid-4046819016022805013-9541258c-d2de-45a2-9aac-43e2b84596c1-370-1-c000.snappy.parquet</td><td>1452874</td><td>1713676254000</td></tr></tbody></table></div>"
      ]
     },
     "metadata": {
      "application/vnd.databricks.v1+output": {
       "addedWidgets": {},
       "aggData": [],
       "aggError": "",
       "aggOverflow": false,
       "aggSchema": [],
       "aggSeriesLimitReached": false,
       "aggType": "",
       "arguments": {},
       "columnCustomDisplayInfos": {},
       "data": [
        [
         "dbfs:/FileStore/tables/parquet_data/data_smoothening_spark.parquet/_committed_3712456460485398420",
         "_committed_3712456460485398420",
         72675,
         1713598203000
        ],
        [
         "dbfs:/FileStore/tables/parquet_data/data_smoothening_spark.parquet/_committed_4046819016022805013",
         "_committed_4046819016022805013",
         72583,
         1713676255000
        ],
        [
         "dbfs:/FileStore/tables/parquet_data/data_smoothening_spark.parquet/_started_4046819016022805013",
         "_started_4046819016022805013",
         0,
         1713675978000
        ],
        [
         "dbfs:/FileStore/tables/parquet_data/data_smoothening_spark.parquet/part-00000-tid-4046819016022805013-9541258c-d2de-45a2-9aac-43e2b84596c1-9-1-c000.snappy.parquet",
         "part-00000-tid-4046819016022805013-9541258c-d2de-45a2-9aac-43e2b84596c1-9-1-c000.snappy.parquet",
         3741739,
         1713675991000
        ],
        [
         "dbfs:/FileStore/tables/parquet_data/data_smoothening_spark.parquet/part-00001-tid-4046819016022805013-9541258c-d2de-45a2-9aac-43e2b84596c1-10-1-c000.snappy.parquet",
         "part-00001-tid-4046819016022805013-9541258c-d2de-45a2-9aac-43e2b84596c1-10-1-c000.snappy.parquet",
         3794589,
         1713675992000
        ],
        [
         "dbfs:/FileStore/tables/parquet_data/data_smoothening_spark.parquet/part-00002-tid-4046819016022805013-9541258c-d2de-45a2-9aac-43e2b84596c1-11-1-c000.snappy.parquet",
         "part-00002-tid-4046819016022805013-9541258c-d2de-45a2-9aac-43e2b84596c1-11-1-c000.snappy.parquet",
         3785922,
         1713675992000
        ],
        [
         "dbfs:/FileStore/tables/parquet_data/data_smoothening_spark.parquet/part-00003-tid-4046819016022805013-9541258c-d2de-45a2-9aac-43e2b84596c1-12-1-c000.snappy.parquet",
         "part-00003-tid-4046819016022805013-9541258c-d2de-45a2-9aac-43e2b84596c1-12-1-c000.snappy.parquet",
         3795843,
         1713675991000
        ],
        [
         "dbfs:/FileStore/tables/parquet_data/data_smoothening_spark.parquet/part-00004-tid-4046819016022805013-9541258c-d2de-45a2-9aac-43e2b84596c1-13-1-c000.snappy.parquet",
         "part-00004-tid-4046819016022805013-9541258c-d2de-45a2-9aac-43e2b84596c1-13-1-c000.snappy.parquet",
         3789803,
         1713675992000
        ],
        [
         "dbfs:/FileStore/tables/parquet_data/data_smoothening_spark.parquet/part-00005-tid-4046819016022805013-9541258c-d2de-45a2-9aac-43e2b84596c1-14-1-c000.snappy.parquet",
         "part-00005-tid-4046819016022805013-9541258c-d2de-45a2-9aac-43e2b84596c1-14-1-c000.snappy.parquet",
         3792796,
         1713675992000
        ],
        [
         "dbfs:/FileStore/tables/parquet_data/data_smoothening_spark.parquet/part-00006-tid-4046819016022805013-9541258c-d2de-45a2-9aac-43e2b84596c1-15-1-c000.snappy.parquet",
         "part-00006-tid-4046819016022805013-9541258c-d2de-45a2-9aac-43e2b84596c1-15-1-c000.snappy.parquet",
         3779111,
         1713675992000
        ],
        [
         "dbfs:/FileStore/tables/parquet_data/data_smoothening_spark.parquet/part-00007-tid-4046819016022805013-9541258c-d2de-45a2-9aac-43e2b84596c1-16-1-c000.snappy.parquet",
         "part-00007-tid-4046819016022805013-9541258c-d2de-45a2-9aac-43e2b84596c1-16-1-c000.snappy.parquet",
         3803343,
         1713675991000
        ],
        [
         "dbfs:/FileStore/tables/parquet_data/data_smoothening_spark.parquet/part-00008-tid-4046819016022805013-9541258c-d2de-45a2-9aac-43e2b84596c1-17-1-c000.snappy.parquet",
         "part-00008-tid-4046819016022805013-9541258c-d2de-45a2-9aac-43e2b84596c1-17-1-c000.snappy.parquet",
         3784249,
         1713676003000
        ],
        [
         "dbfs:/FileStore/tables/parquet_data/data_smoothening_spark.parquet/part-00009-tid-4046819016022805013-9541258c-d2de-45a2-9aac-43e2b84596c1-18-1-c000.snappy.parquet",
         "part-00009-tid-4046819016022805013-9541258c-d2de-45a2-9aac-43e2b84596c1-18-1-c000.snappy.parquet",
         3792815,
         1713676004000
        ],
        [
         "dbfs:/FileStore/tables/parquet_data/data_smoothening_spark.parquet/part-00010-tid-4046819016022805013-9541258c-d2de-45a2-9aac-43e2b84596c1-19-1-c000.snappy.parquet",
         "part-00010-tid-4046819016022805013-9541258c-d2de-45a2-9aac-43e2b84596c1-19-1-c000.snappy.parquet",
         3791346,
         1713676004000
        ],
        [
         "dbfs:/FileStore/tables/parquet_data/data_smoothening_spark.parquet/part-00011-tid-4046819016022805013-9541258c-d2de-45a2-9aac-43e2b84596c1-20-1-c000.snappy.parquet",
         "part-00011-tid-4046819016022805013-9541258c-d2de-45a2-9aac-43e2b84596c1-20-1-c000.snappy.parquet",
         3776714,
         1713676003000
        ],
        [
         "dbfs:/FileStore/tables/parquet_data/data_smoothening_spark.parquet/part-00012-tid-4046819016022805013-9541258c-d2de-45a2-9aac-43e2b84596c1-21-1-c000.snappy.parquet",
         "part-00012-tid-4046819016022805013-9541258c-d2de-45a2-9aac-43e2b84596c1-21-1-c000.snappy.parquet",
         3793483,
         1713676004000
        ],
        [
         "dbfs:/FileStore/tables/parquet_data/data_smoothening_spark.parquet/part-00013-tid-4046819016022805013-9541258c-d2de-45a2-9aac-43e2b84596c1-22-1-c000.snappy.parquet",
         "part-00013-tid-4046819016022805013-9541258c-d2de-45a2-9aac-43e2b84596c1-22-1-c000.snappy.parquet",
         3787263,
         1713676002000
        ],
        [
         "dbfs:/FileStore/tables/parquet_data/data_smoothening_spark.parquet/part-00014-tid-4046819016022805013-9541258c-d2de-45a2-9aac-43e2b84596c1-23-1-c000.snappy.parquet",
         "part-00014-tid-4046819016022805013-9541258c-d2de-45a2-9aac-43e2b84596c1-23-1-c000.snappy.parquet",
         3794208,
         1713676003000
        ],
        [
         "dbfs:/FileStore/tables/parquet_data/data_smoothening_spark.parquet/part-00015-tid-4046819016022805013-9541258c-d2de-45a2-9aac-43e2b84596c1-24-1-c000.snappy.parquet",
         "part-00015-tid-4046819016022805013-9541258c-d2de-45a2-9aac-43e2b84596c1-24-1-c000.snappy.parquet",
         3799686,
         1713676004000
        ],
        [
         "dbfs:/FileStore/tables/parquet_data/data_smoothening_spark.parquet/part-00016-tid-4046819016022805013-9541258c-d2de-45a2-9aac-43e2b84596c1-25-1-c000.snappy.parquet",
         "part-00016-tid-4046819016022805013-9541258c-d2de-45a2-9aac-43e2b84596c1-25-1-c000.snappy.parquet",
         3790674,
         1713676007000
        ],
        [
         "dbfs:/FileStore/tables/parquet_data/data_smoothening_spark.parquet/part-00017-tid-4046819016022805013-9541258c-d2de-45a2-9aac-43e2b84596c1-26-1-c000.snappy.parquet",
         "part-00017-tid-4046819016022805013-9541258c-d2de-45a2-9aac-43e2b84596c1-26-1-c000.snappy.parquet",
         3779061,
         1713676010000
        ],
        [
         "dbfs:/FileStore/tables/parquet_data/data_smoothening_spark.parquet/part-00018-tid-4046819016022805013-9541258c-d2de-45a2-9aac-43e2b84596c1-27-1-c000.snappy.parquet",
         "part-00018-tid-4046819016022805013-9541258c-d2de-45a2-9aac-43e2b84596c1-27-1-c000.snappy.parquet",
         3805625,
         1713676011000
        ],
        [
         "dbfs:/FileStore/tables/parquet_data/data_smoothening_spark.parquet/part-00019-tid-4046819016022805013-9541258c-d2de-45a2-9aac-43e2b84596c1-28-1-c000.snappy.parquet",
         "part-00019-tid-4046819016022805013-9541258c-d2de-45a2-9aac-43e2b84596c1-28-1-c000.snappy.parquet",
         3782843,
         1713676013000
        ],
        [
         "dbfs:/FileStore/tables/parquet_data/data_smoothening_spark.parquet/part-00020-tid-4046819016022805013-9541258c-d2de-45a2-9aac-43e2b84596c1-29-1-c000.snappy.parquet",
         "part-00020-tid-4046819016022805013-9541258c-d2de-45a2-9aac-43e2b84596c1-29-1-c000.snappy.parquet",
         3791417,
         1713676013000
        ],
        [
         "dbfs:/FileStore/tables/parquet_data/data_smoothening_spark.parquet/part-00021-tid-4046819016022805013-9541258c-d2de-45a2-9aac-43e2b84596c1-30-1-c000.snappy.parquet",
         "part-00021-tid-4046819016022805013-9541258c-d2de-45a2-9aac-43e2b84596c1-30-1-c000.snappy.parquet",
         3788910,
         1713676012000
        ],
        [
         "dbfs:/FileStore/tables/parquet_data/data_smoothening_spark.parquet/part-00022-tid-4046819016022805013-9541258c-d2de-45a2-9aac-43e2b84596c1-31-1-c000.snappy.parquet",
         "part-00022-tid-4046819016022805013-9541258c-d2de-45a2-9aac-43e2b84596c1-31-1-c000.snappy.parquet",
         3772914,
         1713676012000
        ],
        [
         "dbfs:/FileStore/tables/parquet_data/data_smoothening_spark.parquet/part-00023-tid-4046819016022805013-9541258c-d2de-45a2-9aac-43e2b84596c1-32-1-c000.snappy.parquet",
         "part-00023-tid-4046819016022805013-9541258c-d2de-45a2-9aac-43e2b84596c1-32-1-c000.snappy.parquet",
         3797037,
         1713676013000
        ],
        [
         "dbfs:/FileStore/tables/parquet_data/data_smoothening_spark.parquet/part-00024-tid-4046819016022805013-9541258c-d2de-45a2-9aac-43e2b84596c1-33-1-c000.snappy.parquet",
         "part-00024-tid-4046819016022805013-9541258c-d2de-45a2-9aac-43e2b84596c1-33-1-c000.snappy.parquet",
         3784990,
         1713676015000
        ],
        [
         "dbfs:/FileStore/tables/parquet_data/data_smoothening_spark.parquet/part-00025-tid-4046819016022805013-9541258c-d2de-45a2-9aac-43e2b84596c1-34-1-c000.snappy.parquet",
         "part-00025-tid-4046819016022805013-9541258c-d2de-45a2-9aac-43e2b84596c1-34-1-c000.snappy.parquet",
         3796390,
         1713676019000
        ],
        [
         "dbfs:/FileStore/tables/parquet_data/data_smoothening_spark.parquet/part-00026-tid-4046819016022805013-9541258c-d2de-45a2-9aac-43e2b84596c1-35-1-c000.snappy.parquet",
         "part-00026-tid-4046819016022805013-9541258c-d2de-45a2-9aac-43e2b84596c1-35-1-c000.snappy.parquet",
         3799607,
         1713676020000
        ],
        [
         "dbfs:/FileStore/tables/parquet_data/data_smoothening_spark.parquet/part-00027-tid-4046819016022805013-9541258c-d2de-45a2-9aac-43e2b84596c1-36-1-c000.snappy.parquet",
         "part-00027-tid-4046819016022805013-9541258c-d2de-45a2-9aac-43e2b84596c1-36-1-c000.snappy.parquet",
         3793350,
         1713676022000
        ],
        [
         "dbfs:/FileStore/tables/parquet_data/data_smoothening_spark.parquet/part-00028-tid-4046819016022805013-9541258c-d2de-45a2-9aac-43e2b84596c1-37-1-c000.snappy.parquet",
         "part-00028-tid-4046819016022805013-9541258c-d2de-45a2-9aac-43e2b84596c1-37-1-c000.snappy.parquet",
         3780581,
         1713676021000
        ],
        [
         "dbfs:/FileStore/tables/parquet_data/data_smoothening_spark.parquet/part-00029-tid-4046819016022805013-9541258c-d2de-45a2-9aac-43e2b84596c1-38-1-c000.snappy.parquet",
         "part-00029-tid-4046819016022805013-9541258c-d2de-45a2-9aac-43e2b84596c1-38-1-c000.snappy.parquet",
         3805055,
         1713676023000
        ],
        [
         "dbfs:/FileStore/tables/parquet_data/data_smoothening_spark.parquet/part-00030-tid-4046819016022805013-9541258c-d2de-45a2-9aac-43e2b84596c1-39-1-c000.snappy.parquet",
         "part-00030-tid-4046819016022805013-9541258c-d2de-45a2-9aac-43e2b84596c1-39-1-c000.snappy.parquet",
         3783328,
         1713676022000
        ],
        [
         "dbfs:/FileStore/tables/parquet_data/data_smoothening_spark.parquet/part-00031-tid-4046819016022805013-9541258c-d2de-45a2-9aac-43e2b84596c1-40-1-c000.snappy.parquet",
         "part-00031-tid-4046819016022805013-9541258c-d2de-45a2-9aac-43e2b84596c1-40-1-c000.snappy.parquet",
         3786042,
         1713676024000
        ],
        [
         "dbfs:/FileStore/tables/parquet_data/data_smoothening_spark.parquet/part-00032-tid-4046819016022805013-9541258c-d2de-45a2-9aac-43e2b84596c1-41-1-c000.snappy.parquet",
         "part-00032-tid-4046819016022805013-9541258c-d2de-45a2-9aac-43e2b84596c1-41-1-c000.snappy.parquet",
         3794095,
         1713676025000
        ],
        [
         "dbfs:/FileStore/tables/parquet_data/data_smoothening_spark.parquet/part-00033-tid-4046819016022805013-9541258c-d2de-45a2-9aac-43e2b84596c1-42-1-c000.snappy.parquet",
         "part-00033-tid-4046819016022805013-9541258c-d2de-45a2-9aac-43e2b84596c1-42-1-c000.snappy.parquet",
         3778353,
         1713676026000
        ],
        [
         "dbfs:/FileStore/tables/parquet_data/data_smoothening_spark.parquet/part-00034-tid-4046819016022805013-9541258c-d2de-45a2-9aac-43e2b84596c1-43-1-c000.snappy.parquet",
         "part-00034-tid-4046819016022805013-9541258c-d2de-45a2-9aac-43e2b84596c1-43-1-c000.snappy.parquet",
         3793724,
         1713676027000
        ],
        [
         "dbfs:/FileStore/tables/parquet_data/data_smoothening_spark.parquet/part-00035-tid-4046819016022805013-9541258c-d2de-45a2-9aac-43e2b84596c1-44-1-c000.snappy.parquet",
         "part-00035-tid-4046819016022805013-9541258c-d2de-45a2-9aac-43e2b84596c1-44-1-c000.snappy.parquet",
         3789691,
         1713676029000
        ],
        [
         "dbfs:/FileStore/tables/parquet_data/data_smoothening_spark.parquet/part-00036-tid-4046819016022805013-9541258c-d2de-45a2-9aac-43e2b84596c1-45-1-c000.snappy.parquet",
         "part-00036-tid-4046819016022805013-9541258c-d2de-45a2-9aac-43e2b84596c1-45-1-c000.snappy.parquet",
         3791387,
         1713676029000
        ],
        [
         "dbfs:/FileStore/tables/parquet_data/data_smoothening_spark.parquet/part-00037-tid-4046819016022805013-9541258c-d2de-45a2-9aac-43e2b84596c1-46-1-c000.snappy.parquet",
         "part-00037-tid-4046819016022805013-9541258c-d2de-45a2-9aac-43e2b84596c1-46-1-c000.snappy.parquet",
         3801725,
         1713676029000
        ],
        [
         "dbfs:/FileStore/tables/parquet_data/data_smoothening_spark.parquet/part-00038-tid-4046819016022805013-9541258c-d2de-45a2-9aac-43e2b84596c1-47-1-c000.snappy.parquet",
         "part-00038-tid-4046819016022805013-9541258c-d2de-45a2-9aac-43e2b84596c1-47-1-c000.snappy.parquet",
         3786575,
         1713676032000
        ],
        [
         "dbfs:/FileStore/tables/parquet_data/data_smoothening_spark.parquet/part-00039-tid-4046819016022805013-9541258c-d2de-45a2-9aac-43e2b84596c1-48-1-c000.snappy.parquet",
         "part-00039-tid-4046819016022805013-9541258c-d2de-45a2-9aac-43e2b84596c1-48-1-c000.snappy.parquet",
         3785421,
         1713676032000
        ],
        [
         "dbfs:/FileStore/tables/parquet_data/data_smoothening_spark.parquet/part-00040-tid-4046819016022805013-9541258c-d2de-45a2-9aac-43e2b84596c1-49-1-c000.snappy.parquet",
         "part-00040-tid-4046819016022805013-9541258c-d2de-45a2-9aac-43e2b84596c1-49-1-c000.snappy.parquet",
         3802524,
         1713676032000
        ],
        [
         "dbfs:/FileStore/tables/parquet_data/data_smoothening_spark.parquet/part-00041-tid-4046819016022805013-9541258c-d2de-45a2-9aac-43e2b84596c1-50-1-c000.snappy.parquet",
         "part-00041-tid-4046819016022805013-9541258c-d2de-45a2-9aac-43e2b84596c1-50-1-c000.snappy.parquet",
         3785839,
         1713676034000
        ],
        [
         "dbfs:/FileStore/tables/parquet_data/data_smoothening_spark.parquet/part-00042-tid-4046819016022805013-9541258c-d2de-45a2-9aac-43e2b84596c1-51-1-c000.snappy.parquet",
         "part-00042-tid-4046819016022805013-9541258c-d2de-45a2-9aac-43e2b84596c1-51-1-c000.snappy.parquet",
         3780419,
         1713676034000
        ],
        [
         "dbfs:/FileStore/tables/parquet_data/data_smoothening_spark.parquet/part-00043-tid-4046819016022805013-9541258c-d2de-45a2-9aac-43e2b84596c1-52-1-c000.snappy.parquet",
         "part-00043-tid-4046819016022805013-9541258c-d2de-45a2-9aac-43e2b84596c1-52-1-c000.snappy.parquet",
         3791370,
         1713676037000
        ],
        [
         "dbfs:/FileStore/tables/parquet_data/data_smoothening_spark.parquet/part-00044-tid-4046819016022805013-9541258c-d2de-45a2-9aac-43e2b84596c1-53-1-c000.snappy.parquet",
         "part-00044-tid-4046819016022805013-9541258c-d2de-45a2-9aac-43e2b84596c1-53-1-c000.snappy.parquet",
         3783120,
         1713676037000
        ],
        [
         "dbfs:/FileStore/tables/parquet_data/data_smoothening_spark.parquet/part-00045-tid-4046819016022805013-9541258c-d2de-45a2-9aac-43e2b84596c1-54-1-c000.snappy.parquet",
         "part-00045-tid-4046819016022805013-9541258c-d2de-45a2-9aac-43e2b84596c1-54-1-c000.snappy.parquet",
         3796657,
         1713676035000
        ],
        [
         "dbfs:/FileStore/tables/parquet_data/data_smoothening_spark.parquet/part-00046-tid-4046819016022805013-9541258c-d2de-45a2-9aac-43e2b84596c1-55-1-c000.snappy.parquet",
         "part-00046-tid-4046819016022805013-9541258c-d2de-45a2-9aac-43e2b84596c1-55-1-c000.snappy.parquet",
         3797316,
         1713676038000
        ],
        [
         "dbfs:/FileStore/tables/parquet_data/data_smoothening_spark.parquet/part-00047-tid-4046819016022805013-9541258c-d2de-45a2-9aac-43e2b84596c1-56-1-c000.snappy.parquet",
         "part-00047-tid-4046819016022805013-9541258c-d2de-45a2-9aac-43e2b84596c1-56-1-c000.snappy.parquet",
         3791848,
         1713676039000
        ],
        [
         "dbfs:/FileStore/tables/parquet_data/data_smoothening_spark.parquet/part-00048-tid-4046819016022805013-9541258c-d2de-45a2-9aac-43e2b84596c1-57-1-c000.snappy.parquet",
         "part-00048-tid-4046819016022805013-9541258c-d2de-45a2-9aac-43e2b84596c1-57-1-c000.snappy.parquet",
         3770667,
         1713676039000
        ],
        [
         "dbfs:/FileStore/tables/parquet_data/data_smoothening_spark.parquet/part-00049-tid-4046819016022805013-9541258c-d2de-45a2-9aac-43e2b84596c1-58-1-c000.snappy.parquet",
         "part-00049-tid-4046819016022805013-9541258c-d2de-45a2-9aac-43e2b84596c1-58-1-c000.snappy.parquet",
         3772975,
         1713676040000
        ],
        [
         "dbfs:/FileStore/tables/parquet_data/data_smoothening_spark.parquet/part-00050-tid-4046819016022805013-9541258c-d2de-45a2-9aac-43e2b84596c1-59-1-c000.snappy.parquet",
         "part-00050-tid-4046819016022805013-9541258c-d2de-45a2-9aac-43e2b84596c1-59-1-c000.snappy.parquet",
         3785292,
         1713676041000
        ],
        [
         "dbfs:/FileStore/tables/parquet_data/data_smoothening_spark.parquet/part-00051-tid-4046819016022805013-9541258c-d2de-45a2-9aac-43e2b84596c1-60-1-c000.snappy.parquet",
         "part-00051-tid-4046819016022805013-9541258c-d2de-45a2-9aac-43e2b84596c1-60-1-c000.snappy.parquet",
         3794329,
         1713676042000
        ],
        [
         "dbfs:/FileStore/tables/parquet_data/data_smoothening_spark.parquet/part-00052-tid-4046819016022805013-9541258c-d2de-45a2-9aac-43e2b84596c1-61-1-c000.snappy.parquet",
         "part-00052-tid-4046819016022805013-9541258c-d2de-45a2-9aac-43e2b84596c1-61-1-c000.snappy.parquet",
         3791229,
         1713676043000
        ],
        [
         "dbfs:/FileStore/tables/parquet_data/data_smoothening_spark.parquet/part-00053-tid-4046819016022805013-9541258c-d2de-45a2-9aac-43e2b84596c1-62-1-c000.snappy.parquet",
         "part-00053-tid-4046819016022805013-9541258c-d2de-45a2-9aac-43e2b84596c1-62-1-c000.snappy.parquet",
         3775821,
         1713676044000
        ],
        [
         "dbfs:/FileStore/tables/parquet_data/data_smoothening_spark.parquet/part-00054-tid-4046819016022805013-9541258c-d2de-45a2-9aac-43e2b84596c1-63-1-c000.snappy.parquet",
         "part-00054-tid-4046819016022805013-9541258c-d2de-45a2-9aac-43e2b84596c1-63-1-c000.snappy.parquet",
         3796964,
         1713676044000
        ],
        [
         "dbfs:/FileStore/tables/parquet_data/data_smoothening_spark.parquet/part-00055-tid-4046819016022805013-9541258c-d2de-45a2-9aac-43e2b84596c1-64-1-c000.snappy.parquet",
         "part-00055-tid-4046819016022805013-9541258c-d2de-45a2-9aac-43e2b84596c1-64-1-c000.snappy.parquet",
         3785104,
         1713676045000
        ],
        [
         "dbfs:/FileStore/tables/parquet_data/data_smoothening_spark.parquet/part-00056-tid-4046819016022805013-9541258c-d2de-45a2-9aac-43e2b84596c1-65-1-c000.snappy.parquet",
         "part-00056-tid-4046819016022805013-9541258c-d2de-45a2-9aac-43e2b84596c1-65-1-c000.snappy.parquet",
         3795794,
         1713676045000
        ],
        [
         "dbfs:/FileStore/tables/parquet_data/data_smoothening_spark.parquet/part-00057-tid-4046819016022805013-9541258c-d2de-45a2-9aac-43e2b84596c1-66-1-c000.snappy.parquet",
         "part-00057-tid-4046819016022805013-9541258c-d2de-45a2-9aac-43e2b84596c1-66-1-c000.snappy.parquet",
         3798633,
         1713676046000
        ],
        [
         "dbfs:/FileStore/tables/parquet_data/data_smoothening_spark.parquet/part-00058-tid-4046819016022805013-9541258c-d2de-45a2-9aac-43e2b84596c1-67-1-c000.snappy.parquet",
         "part-00058-tid-4046819016022805013-9541258c-d2de-45a2-9aac-43e2b84596c1-67-1-c000.snappy.parquet",
         3790541,
         1713676047000
        ],
        [
         "dbfs:/FileStore/tables/parquet_data/data_smoothening_spark.parquet/part-00059-tid-4046819016022805013-9541258c-d2de-45a2-9aac-43e2b84596c1-68-1-c000.snappy.parquet",
         "part-00059-tid-4046819016022805013-9541258c-d2de-45a2-9aac-43e2b84596c1-68-1-c000.snappy.parquet",
         3784429,
         1713676048000
        ],
        [
         "dbfs:/FileStore/tables/parquet_data/data_smoothening_spark.parquet/part-00060-tid-4046819016022805013-9541258c-d2de-45a2-9aac-43e2b84596c1-69-1-c000.snappy.parquet",
         "part-00060-tid-4046819016022805013-9541258c-d2de-45a2-9aac-43e2b84596c1-69-1-c000.snappy.parquet",
         3803042,
         1713676050000
        ],
        [
         "dbfs:/FileStore/tables/parquet_data/data_smoothening_spark.parquet/part-00061-tid-4046819016022805013-9541258c-d2de-45a2-9aac-43e2b84596c1-70-1-c000.snappy.parquet",
         "part-00061-tid-4046819016022805013-9541258c-d2de-45a2-9aac-43e2b84596c1-70-1-c000.snappy.parquet",
         3782101,
         1713676051000
        ],
        [
         "dbfs:/FileStore/tables/parquet_data/data_smoothening_spark.parquet/part-00062-tid-4046819016022805013-9541258c-d2de-45a2-9aac-43e2b84596c1-71-1-c000.snappy.parquet",
         "part-00062-tid-4046819016022805013-9541258c-d2de-45a2-9aac-43e2b84596c1-71-1-c000.snappy.parquet",
         3782943,
         1713676051000
        ],
        [
         "dbfs:/FileStore/tables/parquet_data/data_smoothening_spark.parquet/part-00063-tid-4046819016022805013-9541258c-d2de-45a2-9aac-43e2b84596c1-72-1-c000.snappy.parquet",
         "part-00063-tid-4046819016022805013-9541258c-d2de-45a2-9aac-43e2b84596c1-72-1-c000.snappy.parquet",
         3795051,
         1713676053000
        ],
        [
         "dbfs:/FileStore/tables/parquet_data/data_smoothening_spark.parquet/part-00064-tid-4046819016022805013-9541258c-d2de-45a2-9aac-43e2b84596c1-73-1-c000.snappy.parquet",
         "part-00064-tid-4046819016022805013-9541258c-d2de-45a2-9aac-43e2b84596c1-73-1-c000.snappy.parquet",
         3777029,
         1713676052000
        ],
        [
         "dbfs:/FileStore/tables/parquet_data/data_smoothening_spark.parquet/part-00065-tid-4046819016022805013-9541258c-d2de-45a2-9aac-43e2b84596c1-74-1-c000.snappy.parquet",
         "part-00065-tid-4046819016022805013-9541258c-d2de-45a2-9aac-43e2b84596c1-74-1-c000.snappy.parquet",
         3795751,
         1713676053000
        ],
        [
         "dbfs:/FileStore/tables/parquet_data/data_smoothening_spark.parquet/part-00066-tid-4046819016022805013-9541258c-d2de-45a2-9aac-43e2b84596c1-75-1-c000.snappy.parquet",
         "part-00066-tid-4046819016022805013-9541258c-d2de-45a2-9aac-43e2b84596c1-75-1-c000.snappy.parquet",
         3793262,
         1713676054000
        ],
        [
         "dbfs:/FileStore/tables/parquet_data/data_smoothening_spark.parquet/part-00067-tid-4046819016022805013-9541258c-d2de-45a2-9aac-43e2b84596c1-76-1-c000.snappy.parquet",
         "part-00067-tid-4046819016022805013-9541258c-d2de-45a2-9aac-43e2b84596c1-76-1-c000.snappy.parquet",
         3791986,
         1713676055000
        ],
        [
         "dbfs:/FileStore/tables/parquet_data/data_smoothening_spark.parquet/part-00068-tid-4046819016022805013-9541258c-d2de-45a2-9aac-43e2b84596c1-77-1-c000.snappy.parquet",
         "part-00068-tid-4046819016022805013-9541258c-d2de-45a2-9aac-43e2b84596c1-77-1-c000.snappy.parquet",
         3768639,
         1713676056000
        ],
        [
         "dbfs:/FileStore/tables/parquet_data/data_smoothening_spark.parquet/part-00069-tid-4046819016022805013-9541258c-d2de-45a2-9aac-43e2b84596c1-78-1-c000.snappy.parquet",
         "part-00069-tid-4046819016022805013-9541258c-d2de-45a2-9aac-43e2b84596c1-78-1-c000.snappy.parquet",
         3776170,
         1713676057000
        ],
        [
         "dbfs:/FileStore/tables/parquet_data/data_smoothening_spark.parquet/part-00070-tid-4046819016022805013-9541258c-d2de-45a2-9aac-43e2b84596c1-79-1-c000.snappy.parquet",
         "part-00070-tid-4046819016022805013-9541258c-d2de-45a2-9aac-43e2b84596c1-79-1-c000.snappy.parquet",
         3786432,
         1713676057000
        ],
        [
         "dbfs:/FileStore/tables/parquet_data/data_smoothening_spark.parquet/part-00071-tid-4046819016022805013-9541258c-d2de-45a2-9aac-43e2b84596c1-80-1-c000.snappy.parquet",
         "part-00071-tid-4046819016022805013-9541258c-d2de-45a2-9aac-43e2b84596c1-80-1-c000.snappy.parquet",
         3800595,
         1713676059000
        ],
        [
         "dbfs:/FileStore/tables/parquet_data/data_smoothening_spark.parquet/part-00072-tid-4046819016022805013-9541258c-d2de-45a2-9aac-43e2b84596c1-81-1-c000.snappy.parquet",
         "part-00072-tid-4046819016022805013-9541258c-d2de-45a2-9aac-43e2b84596c1-81-1-c000.snappy.parquet",
         3788887,
         1713676059000
        ],
        [
         "dbfs:/FileStore/tables/parquet_data/data_smoothening_spark.parquet/part-00073-tid-4046819016022805013-9541258c-d2de-45a2-9aac-43e2b84596c1-82-1-c000.snappy.parquet",
         "part-00073-tid-4046819016022805013-9541258c-d2de-45a2-9aac-43e2b84596c1-82-1-c000.snappy.parquet",
         3778009,
         1713676059000
        ],
        [
         "dbfs:/FileStore/tables/parquet_data/data_smoothening_spark.parquet/part-00074-tid-4046819016022805013-9541258c-d2de-45a2-9aac-43e2b84596c1-83-1-c000.snappy.parquet",
         "part-00074-tid-4046819016022805013-9541258c-d2de-45a2-9aac-43e2b84596c1-83-1-c000.snappy.parquet",
         3797022,
         1713676060000
        ],
        [
         "dbfs:/FileStore/tables/parquet_data/data_smoothening_spark.parquet/part-00075-tid-4046819016022805013-9541258c-d2de-45a2-9aac-43e2b84596c1-84-1-c000.snappy.parquet",
         "part-00075-tid-4046819016022805013-9541258c-d2de-45a2-9aac-43e2b84596c1-84-1-c000.snappy.parquet",
         3786189,
         1713676062000
        ],
        [
         "dbfs:/FileStore/tables/parquet_data/data_smoothening_spark.parquet/part-00076-tid-4046819016022805013-9541258c-d2de-45a2-9aac-43e2b84596c1-85-1-c000.snappy.parquet",
         "part-00076-tid-4046819016022805013-9541258c-d2de-45a2-9aac-43e2b84596c1-85-1-c000.snappy.parquet",
         3794132,
         1713676063000
        ],
        [
         "dbfs:/FileStore/tables/parquet_data/data_smoothening_spark.parquet/part-00077-tid-4046819016022805013-9541258c-d2de-45a2-9aac-43e2b84596c1-86-1-c000.snappy.parquet",
         "part-00077-tid-4046819016022805013-9541258c-d2de-45a2-9aac-43e2b84596c1-86-1-c000.snappy.parquet",
         3790105,
         1713676064000
        ],
        [
         "dbfs:/FileStore/tables/parquet_data/data_smoothening_spark.parquet/part-00078-tid-4046819016022805013-9541258c-d2de-45a2-9aac-43e2b84596c1-87-1-c000.snappy.parquet",
         "part-00078-tid-4046819016022805013-9541258c-d2de-45a2-9aac-43e2b84596c1-87-1-c000.snappy.parquet",
         3789939,
         1713676064000
        ],
        [
         "dbfs:/FileStore/tables/parquet_data/data_smoothening_spark.parquet/part-00079-tid-4046819016022805013-9541258c-d2de-45a2-9aac-43e2b84596c1-88-1-c000.snappy.parquet",
         "part-00079-tid-4046819016022805013-9541258c-d2de-45a2-9aac-43e2b84596c1-88-1-c000.snappy.parquet",
         3783511,
         1713676066000
        ],
        [
         "dbfs:/FileStore/tables/parquet_data/data_smoothening_spark.parquet/part-00080-tid-4046819016022805013-9541258c-d2de-45a2-9aac-43e2b84596c1-89-1-c000.snappy.parquet",
         "part-00080-tid-4046819016022805013-9541258c-d2de-45a2-9aac-43e2b84596c1-89-1-c000.snappy.parquet",
         3803204,
         1713676067000
        ],
        [
         "dbfs:/FileStore/tables/parquet_data/data_smoothening_spark.parquet/part-00081-tid-4046819016022805013-9541258c-d2de-45a2-9aac-43e2b84596c1-90-1-c000.snappy.parquet",
         "part-00081-tid-4046819016022805013-9541258c-d2de-45a2-9aac-43e2b84596c1-90-1-c000.snappy.parquet",
         3784085,
         1713676066000
        ],
        [
         "dbfs:/FileStore/tables/parquet_data/data_smoothening_spark.parquet/part-00082-tid-4046819016022805013-9541258c-d2de-45a2-9aac-43e2b84596c1-91-1-c000.snappy.parquet",
         "part-00082-tid-4046819016022805013-9541258c-d2de-45a2-9aac-43e2b84596c1-91-1-c000.snappy.parquet",
         3783977,
         1713676066000
        ],
        [
         "dbfs:/FileStore/tables/parquet_data/data_smoothening_spark.parquet/part-00083-tid-4046819016022805013-9541258c-d2de-45a2-9aac-43e2b84596c1-92-1-c000.snappy.parquet",
         "part-00083-tid-4046819016022805013-9541258c-d2de-45a2-9aac-43e2b84596c1-92-1-c000.snappy.parquet",
         3793054,
         1713676069000
        ],
        [
         "dbfs:/FileStore/tables/parquet_data/data_smoothening_spark.parquet/part-00084-tid-4046819016022805013-9541258c-d2de-45a2-9aac-43e2b84596c1-93-1-c000.snappy.parquet",
         "part-00084-tid-4046819016022805013-9541258c-d2de-45a2-9aac-43e2b84596c1-93-1-c000.snappy.parquet",
         3780325,
         1713676070000
        ],
        [
         "dbfs:/FileStore/tables/parquet_data/data_smoothening_spark.parquet/part-00085-tid-4046819016022805013-9541258c-d2de-45a2-9aac-43e2b84596c1-94-1-c000.snappy.parquet",
         "part-00085-tid-4046819016022805013-9541258c-d2de-45a2-9aac-43e2b84596c1-94-1-c000.snappy.parquet",
         3795654,
         1713676071000
        ],
        [
         "dbfs:/FileStore/tables/parquet_data/data_smoothening_spark.parquet/part-00086-tid-4046819016022805013-9541258c-d2de-45a2-9aac-43e2b84596c1-95-1-c000.snappy.parquet",
         "part-00086-tid-4046819016022805013-9541258c-d2de-45a2-9aac-43e2b84596c1-95-1-c000.snappy.parquet",
         3794712,
         1713676071000
        ],
        [
         "dbfs:/FileStore/tables/parquet_data/data_smoothening_spark.parquet/part-00087-tid-4046819016022805013-9541258c-d2de-45a2-9aac-43e2b84596c1-96-1-c000.snappy.parquet",
         "part-00087-tid-4046819016022805013-9541258c-d2de-45a2-9aac-43e2b84596c1-96-1-c000.snappy.parquet",
         3792877,
         1713676074000
        ],
        [
         "dbfs:/FileStore/tables/parquet_data/data_smoothening_spark.parquet/part-00088-tid-4046819016022805013-9541258c-d2de-45a2-9aac-43e2b84596c1-97-1-c000.snappy.parquet",
         "part-00088-tid-4046819016022805013-9541258c-d2de-45a2-9aac-43e2b84596c1-97-1-c000.snappy.parquet",
         3768634,
         1713676072000
        ],
        [
         "dbfs:/FileStore/tables/parquet_data/data_smoothening_spark.parquet/part-00089-tid-4046819016022805013-9541258c-d2de-45a2-9aac-43e2b84596c1-98-1-c000.snappy.parquet",
         "part-00089-tid-4046819016022805013-9541258c-d2de-45a2-9aac-43e2b84596c1-98-1-c000.snappy.parquet",
         3774623,
         1713676074000
        ],
        [
         "dbfs:/FileStore/tables/parquet_data/data_smoothening_spark.parquet/part-00090-tid-4046819016022805013-9541258c-d2de-45a2-9aac-43e2b84596c1-99-1-c000.snappy.parquet",
         "part-00090-tid-4046819016022805013-9541258c-d2de-45a2-9aac-43e2b84596c1-99-1-c000.snappy.parquet",
         3785793,
         1713676074000
        ],
        [
         "dbfs:/FileStore/tables/parquet_data/data_smoothening_spark.parquet/part-00091-tid-4046819016022805013-9541258c-d2de-45a2-9aac-43e2b84596c1-100-1-c000.snappy.parquet",
         "part-00091-tid-4046819016022805013-9541258c-d2de-45a2-9aac-43e2b84596c1-100-1-c000.snappy.parquet",
         3799352,
         1713676077000
        ],
        [
         "dbfs:/FileStore/tables/parquet_data/data_smoothening_spark.parquet/part-00092-tid-4046819016022805013-9541258c-d2de-45a2-9aac-43e2b84596c1-101-1-c000.snappy.parquet",
         "part-00092-tid-4046819016022805013-9541258c-d2de-45a2-9aac-43e2b84596c1-101-1-c000.snappy.parquet",
         3789512,
         1713676077000
        ],
        [
         "dbfs:/FileStore/tables/parquet_data/data_smoothening_spark.parquet/part-00093-tid-4046819016022805013-9541258c-d2de-45a2-9aac-43e2b84596c1-102-1-c000.snappy.parquet",
         "part-00093-tid-4046819016022805013-9541258c-d2de-45a2-9aac-43e2b84596c1-102-1-c000.snappy.parquet",
         3775085,
         1713676079000
        ],
        [
         "dbfs:/FileStore/tables/parquet_data/data_smoothening_spark.parquet/part-00094-tid-4046819016022805013-9541258c-d2de-45a2-9aac-43e2b84596c1-103-1-c000.snappy.parquet",
         "part-00094-tid-4046819016022805013-9541258c-d2de-45a2-9aac-43e2b84596c1-103-1-c000.snappy.parquet",
         3798390,
         1713676079000
        ],
        [
         "dbfs:/FileStore/tables/parquet_data/data_smoothening_spark.parquet/part-00095-tid-4046819016022805013-9541258c-d2de-45a2-9aac-43e2b84596c1-104-1-c000.snappy.parquet",
         "part-00095-tid-4046819016022805013-9541258c-d2de-45a2-9aac-43e2b84596c1-104-1-c000.snappy.parquet",
         3784512,
         1713676080000
        ],
        [
         "dbfs:/FileStore/tables/parquet_data/data_smoothening_spark.parquet/part-00096-tid-4046819016022805013-9541258c-d2de-45a2-9aac-43e2b84596c1-105-1-c000.snappy.parquet",
         "part-00096-tid-4046819016022805013-9541258c-d2de-45a2-9aac-43e2b84596c1-105-1-c000.snappy.parquet",
         3795461,
         1713676081000
        ],
        [
         "dbfs:/FileStore/tables/parquet_data/data_smoothening_spark.parquet/part-00097-tid-4046819016022805013-9541258c-d2de-45a2-9aac-43e2b84596c1-106-1-c000.snappy.parquet",
         "part-00097-tid-4046819016022805013-9541258c-d2de-45a2-9aac-43e2b84596c1-106-1-c000.snappy.parquet",
         3799100,
         1713676082000
        ],
        [
         "dbfs:/FileStore/tables/parquet_data/data_smoothening_spark.parquet/part-00098-tid-4046819016022805013-9541258c-d2de-45a2-9aac-43e2b84596c1-107-1-c000.snappy.parquet",
         "part-00098-tid-4046819016022805013-9541258c-d2de-45a2-9aac-43e2b84596c1-107-1-c000.snappy.parquet",
         3788114,
         1713676082000
        ],
        [
         "dbfs:/FileStore/tables/parquet_data/data_smoothening_spark.parquet/part-00099-tid-4046819016022805013-9541258c-d2de-45a2-9aac-43e2b84596c1-108-1-c000.snappy.parquet",
         "part-00099-tid-4046819016022805013-9541258c-d2de-45a2-9aac-43e2b84596c1-108-1-c000.snappy.parquet",
         3786325,
         1713676083000
        ],
        [
         "dbfs:/FileStore/tables/parquet_data/data_smoothening_spark.parquet/part-00100-tid-4046819016022805013-9541258c-d2de-45a2-9aac-43e2b84596c1-109-1-c000.snappy.parquet",
         "part-00100-tid-4046819016022805013-9541258c-d2de-45a2-9aac-43e2b84596c1-109-1-c000.snappy.parquet",
         3801963,
         1713676084000
        ],
        [
         "dbfs:/FileStore/tables/parquet_data/data_smoothening_spark.parquet/part-00101-tid-4046819016022805013-9541258c-d2de-45a2-9aac-43e2b84596c1-110-1-c000.snappy.parquet",
         "part-00101-tid-4046819016022805013-9541258c-d2de-45a2-9aac-43e2b84596c1-110-1-c000.snappy.parquet",
         3786531,
         1713676086000
        ],
        [
         "dbfs:/FileStore/tables/parquet_data/data_smoothening_spark.parquet/part-00102-tid-4046819016022805013-9541258c-d2de-45a2-9aac-43e2b84596c1-111-1-c000.snappy.parquet",
         "part-00102-tid-4046819016022805013-9541258c-d2de-45a2-9aac-43e2b84596c1-111-1-c000.snappy.parquet",
         3778294,
         1713676086000
        ],
        [
         "dbfs:/FileStore/tables/parquet_data/data_smoothening_spark.parquet/part-00103-tid-4046819016022805013-9541258c-d2de-45a2-9aac-43e2b84596c1-112-1-c000.snappy.parquet",
         "part-00103-tid-4046819016022805013-9541258c-d2de-45a2-9aac-43e2b84596c1-112-1-c000.snappy.parquet",
         3794228,
         1713676087000
        ],
        [
         "dbfs:/FileStore/tables/parquet_data/data_smoothening_spark.parquet/part-00104-tid-4046819016022805013-9541258c-d2de-45a2-9aac-43e2b84596c1-113-1-c000.snappy.parquet",
         "part-00104-tid-4046819016022805013-9541258c-d2de-45a2-9aac-43e2b84596c1-113-1-c000.snappy.parquet",
         3785101,
         1713676087000
        ],
        [
         "dbfs:/FileStore/tables/parquet_data/data_smoothening_spark.parquet/part-00105-tid-4046819016022805013-9541258c-d2de-45a2-9aac-43e2b84596c1-114-1-c000.snappy.parquet",
         "part-00105-tid-4046819016022805013-9541258c-d2de-45a2-9aac-43e2b84596c1-114-1-c000.snappy.parquet",
         3795431,
         1713676088000
        ],
        [
         "dbfs:/FileStore/tables/parquet_data/data_smoothening_spark.parquet/part-00106-tid-4046819016022805013-9541258c-d2de-45a2-9aac-43e2b84596c1-115-1-c000.snappy.parquet",
         "part-00106-tid-4046819016022805013-9541258c-d2de-45a2-9aac-43e2b84596c1-115-1-c000.snappy.parquet",
         3797412,
         1713676088000
        ],
        [
         "dbfs:/FileStore/tables/parquet_data/data_smoothening_spark.parquet/part-00107-tid-4046819016022805013-9541258c-d2de-45a2-9aac-43e2b84596c1-116-1-c000.snappy.parquet",
         "part-00107-tid-4046819016022805013-9541258c-d2de-45a2-9aac-43e2b84596c1-116-1-c000.snappy.parquet",
         3791585,
         1713676089000
        ],
        [
         "dbfs:/FileStore/tables/parquet_data/data_smoothening_spark.parquet/part-00108-tid-4046819016022805013-9541258c-d2de-45a2-9aac-43e2b84596c1-117-1-c000.snappy.parquet",
         "part-00108-tid-4046819016022805013-9541258c-d2de-45a2-9aac-43e2b84596c1-117-1-c000.snappy.parquet",
         3781585,
         1713676090000
        ],
        [
         "dbfs:/FileStore/tables/parquet_data/data_smoothening_spark.parquet/part-00109-tid-4046819016022805013-9541258c-d2de-45a2-9aac-43e2b84596c1-118-1-c000.snappy.parquet",
         "part-00109-tid-4046819016022805013-9541258c-d2de-45a2-9aac-43e2b84596c1-118-1-c000.snappy.parquet",
         3795632,
         1713676092000
        ],
        [
         "dbfs:/FileStore/tables/parquet_data/data_smoothening_spark.parquet/part-00110-tid-4046819016022805013-9541258c-d2de-45a2-9aac-43e2b84596c1-119-1-c000.snappy.parquet",
         "part-00110-tid-4046819016022805013-9541258c-d2de-45a2-9aac-43e2b84596c1-119-1-c000.snappy.parquet",
         3784514,
         1713676091000
        ],
        [
         "dbfs:/FileStore/tables/parquet_data/data_smoothening_spark.parquet/part-00111-tid-4046819016022805013-9541258c-d2de-45a2-9aac-43e2b84596c1-120-1-c000.snappy.parquet",
         "part-00111-tid-4046819016022805013-9541258c-d2de-45a2-9aac-43e2b84596c1-120-1-c000.snappy.parquet",
         3786981,
         1713676094000
        ],
        [
         "dbfs:/FileStore/tables/parquet_data/data_smoothening_spark.parquet/part-00112-tid-4046819016022805013-9541258c-d2de-45a2-9aac-43e2b84596c1-121-1-c000.snappy.parquet",
         "part-00112-tid-4046819016022805013-9541258c-d2de-45a2-9aac-43e2b84596c1-121-1-c000.snappy.parquet",
         3794229,
         1713676092000
        ],
        [
         "dbfs:/FileStore/tables/parquet_data/data_smoothening_spark.parquet/part-00113-tid-4046819016022805013-9541258c-d2de-45a2-9aac-43e2b84596c1-122-1-c000.snappy.parquet",
         "part-00113-tid-4046819016022805013-9541258c-d2de-45a2-9aac-43e2b84596c1-122-1-c000.snappy.parquet",
         3780612,
         1713676094000
        ],
        [
         "dbfs:/FileStore/tables/parquet_data/data_smoothening_spark.parquet/part-00114-tid-4046819016022805013-9541258c-d2de-45a2-9aac-43e2b84596c1-123-1-c000.snappy.parquet",
         "part-00114-tid-4046819016022805013-9541258c-d2de-45a2-9aac-43e2b84596c1-123-1-c000.snappy.parquet",
         3797279,
         1713676094000
        ],
        [
         "dbfs:/FileStore/tables/parquet_data/data_smoothening_spark.parquet/part-00115-tid-4046819016022805013-9541258c-d2de-45a2-9aac-43e2b84596c1-124-1-c000.snappy.parquet",
         "part-00115-tid-4046819016022805013-9541258c-d2de-45a2-9aac-43e2b84596c1-124-1-c000.snappy.parquet",
         3794435,
         1713676095000
        ],
        [
         "dbfs:/FileStore/tables/parquet_data/data_smoothening_spark.parquet/part-00116-tid-4046819016022805013-9541258c-d2de-45a2-9aac-43e2b84596c1-125-1-c000.snappy.parquet",
         "part-00116-tid-4046819016022805013-9541258c-d2de-45a2-9aac-43e2b84596c1-125-1-c000.snappy.parquet",
         3793078,
         1713676096000
        ],
        [
         "dbfs:/FileStore/tables/parquet_data/data_smoothening_spark.parquet/part-00117-tid-4046819016022805013-9541258c-d2de-45a2-9aac-43e2b84596c1-126-1-c000.snappy.parquet",
         "part-00117-tid-4046819016022805013-9541258c-d2de-45a2-9aac-43e2b84596c1-126-1-c000.snappy.parquet",
         3776876,
         1713676097000
        ],
        [
         "dbfs:/FileStore/tables/parquet_data/data_smoothening_spark.parquet/part-00118-tid-4046819016022805013-9541258c-d2de-45a2-9aac-43e2b84596c1-127-1-c000.snappy.parquet",
         "part-00118-tid-4046819016022805013-9541258c-d2de-45a2-9aac-43e2b84596c1-127-1-c000.snappy.parquet",
         3778462,
         1713676098000
        ],
        [
         "dbfs:/FileStore/tables/parquet_data/data_smoothening_spark.parquet/part-00119-tid-4046819016022805013-9541258c-d2de-45a2-9aac-43e2b84596c1-128-1-c000.snappy.parquet",
         "part-00119-tid-4046819016022805013-9541258c-d2de-45a2-9aac-43e2b84596c1-128-1-c000.snappy.parquet",
         3785776,
         1713676098000
        ],
        [
         "dbfs:/FileStore/tables/parquet_data/data_smoothening_spark.parquet/part-00120-tid-4046819016022805013-9541258c-d2de-45a2-9aac-43e2b84596c1-129-1-c000.snappy.parquet",
         "part-00120-tid-4046819016022805013-9541258c-d2de-45a2-9aac-43e2b84596c1-129-1-c000.snappy.parquet",
         3800206,
         1713676100000
        ],
        [
         "dbfs:/FileStore/tables/parquet_data/data_smoothening_spark.parquet/part-00121-tid-4046819016022805013-9541258c-d2de-45a2-9aac-43e2b84596c1-130-1-c000.snappy.parquet",
         "part-00121-tid-4046819016022805013-9541258c-d2de-45a2-9aac-43e2b84596c1-130-1-c000.snappy.parquet",
         3788429,
         1713676099000
        ],
        [
         "dbfs:/FileStore/tables/parquet_data/data_smoothening_spark.parquet/part-00122-tid-4046819016022805013-9541258c-d2de-45a2-9aac-43e2b84596c1-131-1-c000.snappy.parquet",
         "part-00122-tid-4046819016022805013-9541258c-d2de-45a2-9aac-43e2b84596c1-131-1-c000.snappy.parquet",
         3778165,
         1713676100000
        ],
        [
         "dbfs:/FileStore/tables/parquet_data/data_smoothening_spark.parquet/part-00123-tid-4046819016022805013-9541258c-d2de-45a2-9aac-43e2b84596c1-132-1-c000.snappy.parquet",
         "part-00123-tid-4046819016022805013-9541258c-d2de-45a2-9aac-43e2b84596c1-132-1-c000.snappy.parquet",
         3796614,
         1713676100000
        ],
        [
         "dbfs:/FileStore/tables/parquet_data/data_smoothening_spark.parquet/part-00124-tid-4046819016022805013-9541258c-d2de-45a2-9aac-43e2b84596c1-133-1-c000.snappy.parquet",
         "part-00124-tid-4046819016022805013-9541258c-d2de-45a2-9aac-43e2b84596c1-133-1-c000.snappy.parquet",
         3787262,
         1713676101000
        ],
        [
         "dbfs:/FileStore/tables/parquet_data/data_smoothening_spark.parquet/part-00125-tid-4046819016022805013-9541258c-d2de-45a2-9aac-43e2b84596c1-134-1-c000.snappy.parquet",
         "part-00125-tid-4046819016022805013-9541258c-d2de-45a2-9aac-43e2b84596c1-134-1-c000.snappy.parquet",
         3796652,
         1713676103000
        ],
        [
         "dbfs:/FileStore/tables/parquet_data/data_smoothening_spark.parquet/part-00126-tid-4046819016022805013-9541258c-d2de-45a2-9aac-43e2b84596c1-135-1-c000.snappy.parquet",
         "part-00126-tid-4046819016022805013-9541258c-d2de-45a2-9aac-43e2b84596c1-135-1-c000.snappy.parquet",
         3791660,
         1713676103000
        ],
        [
         "dbfs:/FileStore/tables/parquet_data/data_smoothening_spark.parquet/part-00127-tid-4046819016022805013-9541258c-d2de-45a2-9aac-43e2b84596c1-136-1-c000.snappy.parquet",
         "part-00127-tid-4046819016022805013-9541258c-d2de-45a2-9aac-43e2b84596c1-136-1-c000.snappy.parquet",
         3790576,
         1713676104000
        ],
        [
         "dbfs:/FileStore/tables/parquet_data/data_smoothening_spark.parquet/part-00128-tid-4046819016022805013-9541258c-d2de-45a2-9aac-43e2b84596c1-137-1-c000.snappy.parquet",
         "part-00128-tid-4046819016022805013-9541258c-d2de-45a2-9aac-43e2b84596c1-137-1-c000.snappy.parquet",
         3785933,
         1713676104000
        ],
        [
         "dbfs:/FileStore/tables/parquet_data/data_smoothening_spark.parquet/part-00129-tid-4046819016022805013-9541258c-d2de-45a2-9aac-43e2b84596c1-138-1-c000.snappy.parquet",
         "part-00129-tid-4046819016022805013-9541258c-d2de-45a2-9aac-43e2b84596c1-138-1-c000.snappy.parquet",
         3794254,
         1713676106000
        ],
        [
         "dbfs:/FileStore/tables/parquet_data/data_smoothening_spark.parquet/part-00130-tid-4046819016022805013-9541258c-d2de-45a2-9aac-43e2b84596c1-139-1-c000.snappy.parquet",
         "part-00130-tid-4046819016022805013-9541258c-d2de-45a2-9aac-43e2b84596c1-139-1-c000.snappy.parquet",
         3776117,
         1713676106000
        ],
        [
         "dbfs:/FileStore/tables/parquet_data/data_smoothening_spark.parquet/part-00131-tid-4046819016022805013-9541258c-d2de-45a2-9aac-43e2b84596c1-140-1-c000.snappy.parquet",
         "part-00131-tid-4046819016022805013-9541258c-d2de-45a2-9aac-43e2b84596c1-140-1-c000.snappy.parquet",
         3781745,
         1713676106000
        ],
        [
         "dbfs:/FileStore/tables/parquet_data/data_smoothening_spark.parquet/part-00132-tid-4046819016022805013-9541258c-d2de-45a2-9aac-43e2b84596c1-141-1-c000.snappy.parquet",
         "part-00132-tid-4046819016022805013-9541258c-d2de-45a2-9aac-43e2b84596c1-141-1-c000.snappy.parquet",
         3794516,
         1713676107000
        ],
        [
         "dbfs:/FileStore/tables/parquet_data/data_smoothening_spark.parquet/part-00133-tid-4046819016022805013-9541258c-d2de-45a2-9aac-43e2b84596c1-142-1-c000.snappy.parquet",
         "part-00133-tid-4046819016022805013-9541258c-d2de-45a2-9aac-43e2b84596c1-142-1-c000.snappy.parquet",
         3782747,
         1713676108000
        ],
        [
         "dbfs:/FileStore/tables/parquet_data/data_smoothening_spark.parquet/part-00134-tid-4046819016022805013-9541258c-d2de-45a2-9aac-43e2b84596c1-143-1-c000.snappy.parquet",
         "part-00134-tid-4046819016022805013-9541258c-d2de-45a2-9aac-43e2b84596c1-143-1-c000.snappy.parquet",
         3795742,
         1713676108000
        ],
        [
         "dbfs:/FileStore/tables/parquet_data/data_smoothening_spark.parquet/part-00135-tid-4046819016022805013-9541258c-d2de-45a2-9aac-43e2b84596c1-144-1-c000.snappy.parquet",
         "part-00135-tid-4046819016022805013-9541258c-d2de-45a2-9aac-43e2b84596c1-144-1-c000.snappy.parquet",
         3796332,
         1713676109000
        ],
        [
         "dbfs:/FileStore/tables/parquet_data/data_smoothening_spark.parquet/part-00136-tid-4046819016022805013-9541258c-d2de-45a2-9aac-43e2b84596c1-145-1-c000.snappy.parquet",
         "part-00136-tid-4046819016022805013-9541258c-d2de-45a2-9aac-43e2b84596c1-145-1-c000.snappy.parquet",
         3791313,
         1713676110000
        ],
        [
         "dbfs:/FileStore/tables/parquet_data/data_smoothening_spark.parquet/part-00137-tid-4046819016022805013-9541258c-d2de-45a2-9aac-43e2b84596c1-146-1-c000.snappy.parquet",
         "part-00137-tid-4046819016022805013-9541258c-d2de-45a2-9aac-43e2b84596c1-146-1-c000.snappy.parquet",
         3774682,
         1713676112000
        ],
        [
         "dbfs:/FileStore/tables/parquet_data/data_smoothening_spark.parquet/part-00138-tid-4046819016022805013-9541258c-d2de-45a2-9aac-43e2b84596c1-147-1-c000.snappy.parquet",
         "part-00138-tid-4046819016022805013-9541258c-d2de-45a2-9aac-43e2b84596c1-147-1-c000.snappy.parquet",
         3803784,
         1713676112000
        ],
        [
         "dbfs:/FileStore/tables/parquet_data/data_smoothening_spark.parquet/part-00139-tid-4046819016022805013-9541258c-d2de-45a2-9aac-43e2b84596c1-148-1-c000.snappy.parquet",
         "part-00139-tid-4046819016022805013-9541258c-d2de-45a2-9aac-43e2b84596c1-148-1-c000.snappy.parquet",
         3785625,
         1713676111000
        ],
        [
         "dbfs:/FileStore/tables/parquet_data/data_smoothening_spark.parquet/part-00140-tid-4046819016022805013-9541258c-d2de-45a2-9aac-43e2b84596c1-149-1-c000.snappy.parquet",
         "part-00140-tid-4046819016022805013-9541258c-d2de-45a2-9aac-43e2b84596c1-149-1-c000.snappy.parquet",
         3789443,
         1713676113000
        ],
        [
         "dbfs:/FileStore/tables/parquet_data/data_smoothening_spark.parquet/part-00141-tid-4046819016022805013-9541258c-d2de-45a2-9aac-43e2b84596c1-150-1-c000.snappy.parquet",
         "part-00141-tid-4046819016022805013-9541258c-d2de-45a2-9aac-43e2b84596c1-150-1-c000.snappy.parquet",
         3793086,
         1713676114000
        ],
        [
         "dbfs:/FileStore/tables/parquet_data/data_smoothening_spark.parquet/part-00142-tid-4046819016022805013-9541258c-d2de-45a2-9aac-43e2b84596c1-151-1-c000.snappy.parquet",
         "part-00142-tid-4046819016022805013-9541258c-d2de-45a2-9aac-43e2b84596c1-151-1-c000.snappy.parquet",
         3777107,
         1713676114000
        ],
        [
         "dbfs:/FileStore/tables/parquet_data/data_smoothening_spark.parquet/part-00143-tid-4046819016022805013-9541258c-d2de-45a2-9aac-43e2b84596c1-152-1-c000.snappy.parquet",
         "part-00143-tid-4046819016022805013-9541258c-d2de-45a2-9aac-43e2b84596c1-152-1-c000.snappy.parquet",
         3797943,
         1713676115000
        ],
        [
         "dbfs:/FileStore/tables/parquet_data/data_smoothening_spark.parquet/part-00144-tid-4046819016022805013-9541258c-d2de-45a2-9aac-43e2b84596c1-153-1-c000.snappy.parquet",
         "part-00144-tid-4046819016022805013-9541258c-d2de-45a2-9aac-43e2b84596c1-153-1-c000.snappy.parquet",
         3793150,
         1713676116000
        ],
        [
         "dbfs:/FileStore/tables/parquet_data/data_smoothening_spark.parquet/part-00145-tid-4046819016022805013-9541258c-d2de-45a2-9aac-43e2b84596c1-154-1-c000.snappy.parquet",
         "part-00145-tid-4046819016022805013-9541258c-d2de-45a2-9aac-43e2b84596c1-154-1-c000.snappy.parquet",
         3794104,
         1713676116000
        ],
        [
         "dbfs:/FileStore/tables/parquet_data/data_smoothening_spark.parquet/part-00146-tid-4046819016022805013-9541258c-d2de-45a2-9aac-43e2b84596c1-155-1-c000.snappy.parquet",
         "part-00146-tid-4046819016022805013-9541258c-d2de-45a2-9aac-43e2b84596c1-155-1-c000.snappy.parquet",
         3770282,
         1713676117000
        ],
        [
         "dbfs:/FileStore/tables/parquet_data/data_smoothening_spark.parquet/part-00147-tid-4046819016022805013-9541258c-d2de-45a2-9aac-43e2b84596c1-156-1-c000.snappy.parquet",
         "part-00147-tid-4046819016022805013-9541258c-d2de-45a2-9aac-43e2b84596c1-156-1-c000.snappy.parquet",
         3775339,
         1713676118000
        ],
        [
         "dbfs:/FileStore/tables/parquet_data/data_smoothening_spark.parquet/part-00148-tid-4046819016022805013-9541258c-d2de-45a2-9aac-43e2b84596c1-157-1-c000.snappy.parquet",
         "part-00148-tid-4046819016022805013-9541258c-d2de-45a2-9aac-43e2b84596c1-157-1-c000.snappy.parquet",
         3786211,
         1713676118000
        ],
        [
         "dbfs:/FileStore/tables/parquet_data/data_smoothening_spark.parquet/part-00149-tid-4046819016022805013-9541258c-d2de-45a2-9aac-43e2b84596c1-158-1-c000.snappy.parquet",
         "part-00149-tid-4046819016022805013-9541258c-d2de-45a2-9aac-43e2b84596c1-158-1-c000.snappy.parquet",
         3796790,
         1713676119000
        ],
        [
         "dbfs:/FileStore/tables/parquet_data/data_smoothening_spark.parquet/part-00150-tid-4046819016022805013-9541258c-d2de-45a2-9aac-43e2b84596c1-159-1-c000.snappy.parquet",
         "part-00150-tid-4046819016022805013-9541258c-d2de-45a2-9aac-43e2b84596c1-159-1-c000.snappy.parquet",
         3788719,
         1713676120000
        ],
        [
         "dbfs:/FileStore/tables/parquet_data/data_smoothening_spark.parquet/part-00151-tid-4046819016022805013-9541258c-d2de-45a2-9aac-43e2b84596c1-160-1-c000.snappy.parquet",
         "part-00151-tid-4046819016022805013-9541258c-d2de-45a2-9aac-43e2b84596c1-160-1-c000.snappy.parquet",
         3778218,
         1713676121000
        ],
        [
         "dbfs:/FileStore/tables/parquet_data/data_smoothening_spark.parquet/part-00152-tid-4046819016022805013-9541258c-d2de-45a2-9aac-43e2b84596c1-161-1-c000.snappy.parquet",
         "part-00152-tid-4046819016022805013-9541258c-d2de-45a2-9aac-43e2b84596c1-161-1-c000.snappy.parquet",
         3797028,
         1713676122000
        ],
        [
         "dbfs:/FileStore/tables/parquet_data/data_smoothening_spark.parquet/part-00153-tid-4046819016022805013-9541258c-d2de-45a2-9aac-43e2b84596c1-162-1-c000.snappy.parquet",
         "part-00153-tid-4046819016022805013-9541258c-d2de-45a2-9aac-43e2b84596c1-162-1-c000.snappy.parquet",
         3786364,
         1713676122000
        ],
        [
         "dbfs:/FileStore/tables/parquet_data/data_smoothening_spark.parquet/part-00154-tid-4046819016022805013-9541258c-d2de-45a2-9aac-43e2b84596c1-163-1-c000.snappy.parquet",
         "part-00154-tid-4046819016022805013-9541258c-d2de-45a2-9aac-43e2b84596c1-163-1-c000.snappy.parquet",
         3796671,
         1713676123000
        ],
        [
         "dbfs:/FileStore/tables/parquet_data/data_smoothening_spark.parquet/part-00155-tid-4046819016022805013-9541258c-d2de-45a2-9aac-43e2b84596c1-164-1-c000.snappy.parquet",
         "part-00155-tid-4046819016022805013-9541258c-d2de-45a2-9aac-43e2b84596c1-164-1-c000.snappy.parquet",
         3800119,
         1713676123000
        ],
        [
         "dbfs:/FileStore/tables/parquet_data/data_smoothening_spark.parquet/part-00156-tid-4046819016022805013-9541258c-d2de-45a2-9aac-43e2b84596c1-165-1-c000.snappy.parquet",
         "part-00156-tid-4046819016022805013-9541258c-d2de-45a2-9aac-43e2b84596c1-165-1-c000.snappy.parquet",
         3786746,
         1713676124000
        ],
        [
         "dbfs:/FileStore/tables/parquet_data/data_smoothening_spark.parquet/part-00157-tid-4046819016022805013-9541258c-d2de-45a2-9aac-43e2b84596c1-166-1-c000.snappy.parquet",
         "part-00157-tid-4046819016022805013-9541258c-d2de-45a2-9aac-43e2b84596c1-166-1-c000.snappy.parquet",
         3786994,
         1713676125000
        ],
        [
         "dbfs:/FileStore/tables/parquet_data/data_smoothening_spark.parquet/part-00158-tid-4046819016022805013-9541258c-d2de-45a2-9aac-43e2b84596c1-167-1-c000.snappy.parquet",
         "part-00158-tid-4046819016022805013-9541258c-d2de-45a2-9aac-43e2b84596c1-167-1-c000.snappy.parquet",
         3801827,
         1713676126000
        ],
        [
         "dbfs:/FileStore/tables/parquet_data/data_smoothening_spark.parquet/part-00159-tid-4046819016022805013-9541258c-d2de-45a2-9aac-43e2b84596c1-168-1-c000.snappy.parquet",
         "part-00159-tid-4046819016022805013-9541258c-d2de-45a2-9aac-43e2b84596c1-168-1-c000.snappy.parquet",
         3791008,
         1713676126000
        ],
        [
         "dbfs:/FileStore/tables/parquet_data/data_smoothening_spark.parquet/part-00160-tid-4046819016022805013-9541258c-d2de-45a2-9aac-43e2b84596c1-169-1-c000.snappy.parquet",
         "part-00160-tid-4046819016022805013-9541258c-d2de-45a2-9aac-43e2b84596c1-169-1-c000.snappy.parquet",
         3776545,
         1713676127000
        ],
        [
         "dbfs:/FileStore/tables/parquet_data/data_smoothening_spark.parquet/part-00161-tid-4046819016022805013-9541258c-d2de-45a2-9aac-43e2b84596c1-170-1-c000.snappy.parquet",
         "part-00161-tid-4046819016022805013-9541258c-d2de-45a2-9aac-43e2b84596c1-170-1-c000.snappy.parquet",
         3799251,
         1713676128000
        ],
        [
         "dbfs:/FileStore/tables/parquet_data/data_smoothening_spark.parquet/part-00162-tid-4046819016022805013-9541258c-d2de-45a2-9aac-43e2b84596c1-171-1-c000.snappy.parquet",
         "part-00162-tid-4046819016022805013-9541258c-d2de-45a2-9aac-43e2b84596c1-171-1-c000.snappy.parquet",
         3788760,
         1713676128000
        ],
        [
         "dbfs:/FileStore/tables/parquet_data/data_smoothening_spark.parquet/part-00163-tid-4046819016022805013-9541258c-d2de-45a2-9aac-43e2b84596c1-172-1-c000.snappy.parquet",
         "part-00163-tid-4046819016022805013-9541258c-d2de-45a2-9aac-43e2b84596c1-172-1-c000.snappy.parquet",
         3794612,
         1713676129000
        ],
        [
         "dbfs:/FileStore/tables/parquet_data/data_smoothening_spark.parquet/part-00164-tid-4046819016022805013-9541258c-d2de-45a2-9aac-43e2b84596c1-173-1-c000.snappy.parquet",
         "part-00164-tid-4046819016022805013-9541258c-d2de-45a2-9aac-43e2b84596c1-173-1-c000.snappy.parquet",
         3790215,
         1713676129000
        ],
        [
         "dbfs:/FileStore/tables/parquet_data/data_smoothening_spark.parquet/part-00165-tid-4046819016022805013-9541258c-d2de-45a2-9aac-43e2b84596c1-174-1-c000.snappy.parquet",
         "part-00165-tid-4046819016022805013-9541258c-d2de-45a2-9aac-43e2b84596c1-174-1-c000.snappy.parquet",
         3790940,
         1713676130000
        ],
        [
         "dbfs:/FileStore/tables/parquet_data/data_smoothening_spark.parquet/part-00166-tid-4046819016022805013-9541258c-d2de-45a2-9aac-43e2b84596c1-175-1-c000.snappy.parquet",
         "part-00166-tid-4046819016022805013-9541258c-d2de-45a2-9aac-43e2b84596c1-175-1-c000.snappy.parquet",
         3784837,
         1713676131000
        ],
        [
         "dbfs:/FileStore/tables/parquet_data/data_smoothening_spark.parquet/part-00167-tid-4046819016022805013-9541258c-d2de-45a2-9aac-43e2b84596c1-176-1-c000.snappy.parquet",
         "part-00167-tid-4046819016022805013-9541258c-d2de-45a2-9aac-43e2b84596c1-176-1-c000.snappy.parquet",
         3801783,
         1713676131000
        ],
        [
         "dbfs:/FileStore/tables/parquet_data/data_smoothening_spark.parquet/part-00168-tid-4046819016022805013-9541258c-d2de-45a2-9aac-43e2b84596c1-177-1-c000.snappy.parquet",
         "part-00168-tid-4046819016022805013-9541258c-d2de-45a2-9aac-43e2b84596c1-177-1-c000.snappy.parquet",
         3780229,
         1713676132000
        ],
        [
         "dbfs:/FileStore/tables/parquet_data/data_smoothening_spark.parquet/part-00169-tid-4046819016022805013-9541258c-d2de-45a2-9aac-43e2b84596c1-178-1-c000.snappy.parquet",
         "part-00169-tid-4046819016022805013-9541258c-d2de-45a2-9aac-43e2b84596c1-178-1-c000.snappy.parquet",
         3780982,
         1713676133000
        ],
        [
         "dbfs:/FileStore/tables/parquet_data/data_smoothening_spark.parquet/part-00170-tid-4046819016022805013-9541258c-d2de-45a2-9aac-43e2b84596c1-179-1-c000.snappy.parquet",
         "part-00170-tid-4046819016022805013-9541258c-d2de-45a2-9aac-43e2b84596c1-179-1-c000.snappy.parquet",
         3793988,
         1713676134000
        ],
        [
         "dbfs:/FileStore/tables/parquet_data/data_smoothening_spark.parquet/part-00171-tid-4046819016022805013-9541258c-d2de-45a2-9aac-43e2b84596c1-180-1-c000.snappy.parquet",
         "part-00171-tid-4046819016022805013-9541258c-d2de-45a2-9aac-43e2b84596c1-180-1-c000.snappy.parquet",
         3782430,
         1713676135000
        ],
        [
         "dbfs:/FileStore/tables/parquet_data/data_smoothening_spark.parquet/part-00172-tid-4046819016022805013-9541258c-d2de-45a2-9aac-43e2b84596c1-181-1-c000.snappy.parquet",
         "part-00172-tid-4046819016022805013-9541258c-d2de-45a2-9aac-43e2b84596c1-181-1-c000.snappy.parquet",
         3796100,
         1713676135000
        ],
        [
         "dbfs:/FileStore/tables/parquet_data/data_smoothening_spark.parquet/part-00173-tid-4046819016022805013-9541258c-d2de-45a2-9aac-43e2b84596c1-182-1-c000.snappy.parquet",
         "part-00173-tid-4046819016022805013-9541258c-d2de-45a2-9aac-43e2b84596c1-182-1-c000.snappy.parquet",
         3796992,
         1713676135000
        ],
        [
         "dbfs:/FileStore/tables/parquet_data/data_smoothening_spark.parquet/part-00174-tid-4046819016022805013-9541258c-d2de-45a2-9aac-43e2b84596c1-183-1-c000.snappy.parquet",
         "part-00174-tid-4046819016022805013-9541258c-d2de-45a2-9aac-43e2b84596c1-183-1-c000.snappy.parquet",
         3793866,
         1713676136000
        ],
        [
         "dbfs:/FileStore/tables/parquet_data/data_smoothening_spark.parquet/part-00175-tid-4046819016022805013-9541258c-d2de-45a2-9aac-43e2b84596c1-184-1-c000.snappy.parquet",
         "part-00175-tid-4046819016022805013-9541258c-d2de-45a2-9aac-43e2b84596c1-184-1-c000.snappy.parquet",
         3784184,
         1713676137000
        ],
        [
         "dbfs:/FileStore/tables/parquet_data/data_smoothening_spark.parquet/part-00176-tid-4046819016022805013-9541258c-d2de-45a2-9aac-43e2b84596c1-185-1-c000.snappy.parquet",
         "part-00176-tid-4046819016022805013-9541258c-d2de-45a2-9aac-43e2b84596c1-185-1-c000.snappy.parquet",
         3785435,
         1713676137000
        ],
        [
         "dbfs:/FileStore/tables/parquet_data/data_smoothening_spark.parquet/part-00177-tid-4046819016022805013-9541258c-d2de-45a2-9aac-43e2b84596c1-186-1-c000.snappy.parquet",
         "part-00177-tid-4046819016022805013-9541258c-d2de-45a2-9aac-43e2b84596c1-186-1-c000.snappy.parquet",
         3783397,
         1713676138000
        ],
        [
         "dbfs:/FileStore/tables/parquet_data/data_smoothening_spark.parquet/part-00178-tid-4046819016022805013-9541258c-d2de-45a2-9aac-43e2b84596c1-187-1-c000.snappy.parquet",
         "part-00178-tid-4046819016022805013-9541258c-d2de-45a2-9aac-43e2b84596c1-187-1-c000.snappy.parquet",
         3783212,
         1713676140000
        ],
        [
         "dbfs:/FileStore/tables/parquet_data/data_smoothening_spark.parquet/part-00179-tid-4046819016022805013-9541258c-d2de-45a2-9aac-43e2b84596c1-188-1-c000.snappy.parquet",
         "part-00179-tid-4046819016022805013-9541258c-d2de-45a2-9aac-43e2b84596c1-188-1-c000.snappy.parquet",
         3793808,
         1713676141000
        ],
        [
         "dbfs:/FileStore/tables/parquet_data/data_smoothening_spark.parquet/part-00180-tid-4046819016022805013-9541258c-d2de-45a2-9aac-43e2b84596c1-189-1-c000.snappy.parquet",
         "part-00180-tid-4046819016022805013-9541258c-d2de-45a2-9aac-43e2b84596c1-189-1-c000.snappy.parquet",
         3784238,
         1713676141000
        ],
        [
         "dbfs:/FileStore/tables/parquet_data/data_smoothening_spark.parquet/part-00181-tid-4046819016022805013-9541258c-d2de-45a2-9aac-43e2b84596c1-190-1-c000.snappy.parquet",
         "part-00181-tid-4046819016022805013-9541258c-d2de-45a2-9aac-43e2b84596c1-190-1-c000.snappy.parquet",
         3795796,
         1713676141000
        ],
        [
         "dbfs:/FileStore/tables/parquet_data/data_smoothening_spark.parquet/part-00182-tid-4046819016022805013-9541258c-d2de-45a2-9aac-43e2b84596c1-191-1-c000.snappy.parquet",
         "part-00182-tid-4046819016022805013-9541258c-d2de-45a2-9aac-43e2b84596c1-191-1-c000.snappy.parquet",
         3796424,
         1713676141000
        ],
        [
         "dbfs:/FileStore/tables/parquet_data/data_smoothening_spark.parquet/part-00183-tid-4046819016022805013-9541258c-d2de-45a2-9aac-43e2b84596c1-192-1-c000.snappy.parquet",
         "part-00183-tid-4046819016022805013-9541258c-d2de-45a2-9aac-43e2b84596c1-192-1-c000.snappy.parquet",
         3791361,
         1713676142000
        ],
        [
         "dbfs:/FileStore/tables/parquet_data/data_smoothening_spark.parquet/part-00184-tid-4046819016022805013-9541258c-d2de-45a2-9aac-43e2b84596c1-193-1-c000.snappy.parquet",
         "part-00184-tid-4046819016022805013-9541258c-d2de-45a2-9aac-43e2b84596c1-193-1-c000.snappy.parquet",
         3771069,
         1713676142000
        ],
        [
         "dbfs:/FileStore/tables/parquet_data/data_smoothening_spark.parquet/part-00185-tid-4046819016022805013-9541258c-d2de-45a2-9aac-43e2b84596c1-194-1-c000.snappy.parquet",
         "part-00185-tid-4046819016022805013-9541258c-d2de-45a2-9aac-43e2b84596c1-194-1-c000.snappy.parquet",
         3790004,
         1713676143000
        ],
        [
         "dbfs:/FileStore/tables/parquet_data/data_smoothening_spark.parquet/part-00186-tid-4046819016022805013-9541258c-d2de-45a2-9aac-43e2b84596c1-195-1-c000.snappy.parquet",
         "part-00186-tid-4046819016022805013-9541258c-d2de-45a2-9aac-43e2b84596c1-195-1-c000.snappy.parquet",
         3785631,
         1713676145000
        ],
        [
         "dbfs:/FileStore/tables/parquet_data/data_smoothening_spark.parquet/part-00187-tid-4046819016022805013-9541258c-d2de-45a2-9aac-43e2b84596c1-196-1-c000.snappy.parquet",
         "part-00187-tid-4046819016022805013-9541258c-d2de-45a2-9aac-43e2b84596c1-196-1-c000.snappy.parquet",
         3787338,
         1713676145000
        ],
        [
         "dbfs:/FileStore/tables/parquet_data/data_smoothening_spark.parquet/part-00188-tid-4046819016022805013-9541258c-d2de-45a2-9aac-43e2b84596c1-197-1-c000.snappy.parquet",
         "part-00188-tid-4046819016022805013-9541258c-d2de-45a2-9aac-43e2b84596c1-197-1-c000.snappy.parquet",
         3796632,
         1713676147000
        ],
        [
         "dbfs:/FileStore/tables/parquet_data/data_smoothening_spark.parquet/part-00189-tid-4046819016022805013-9541258c-d2de-45a2-9aac-43e2b84596c1-198-1-c000.snappy.parquet",
         "part-00189-tid-4046819016022805013-9541258c-d2de-45a2-9aac-43e2b84596c1-198-1-c000.snappy.parquet",
         3779291,
         1713676147000
        ],
        [
         "dbfs:/FileStore/tables/parquet_data/data_smoothening_spark.parquet/part-00190-tid-4046819016022805013-9541258c-d2de-45a2-9aac-43e2b84596c1-199-1-c000.snappy.parquet",
         "part-00190-tid-4046819016022805013-9541258c-d2de-45a2-9aac-43e2b84596c1-199-1-c000.snappy.parquet",
         3797257,
         1713676147000
        ],
        [
         "dbfs:/FileStore/tables/parquet_data/data_smoothening_spark.parquet/part-00191-tid-4046819016022805013-9541258c-d2de-45a2-9aac-43e2b84596c1-200-1-c000.snappy.parquet",
         "part-00191-tid-4046819016022805013-9541258c-d2de-45a2-9aac-43e2b84596c1-200-1-c000.snappy.parquet",
         3795115,
         1713676147000
        ],
        [
         "dbfs:/FileStore/tables/parquet_data/data_smoothening_spark.parquet/part-00192-tid-4046819016022805013-9541258c-d2de-45a2-9aac-43e2b84596c1-201-1-c000.snappy.parquet",
         "part-00192-tid-4046819016022805013-9541258c-d2de-45a2-9aac-43e2b84596c1-201-1-c000.snappy.parquet",
         3792190,
         1713676147000
        ],
        [
         "dbfs:/FileStore/tables/parquet_data/data_smoothening_spark.parquet/part-00193-tid-4046819016022805013-9541258c-d2de-45a2-9aac-43e2b84596c1-202-1-c000.snappy.parquet",
         "part-00193-tid-4046819016022805013-9541258c-d2de-45a2-9aac-43e2b84596c1-202-1-c000.snappy.parquet",
         3768981,
         1713676148000
        ],
        [
         "dbfs:/FileStore/tables/parquet_data/data_smoothening_spark.parquet/part-00194-tid-4046819016022805013-9541258c-d2de-45a2-9aac-43e2b84596c1-203-1-c000.snappy.parquet",
         "part-00194-tid-4046819016022805013-9541258c-d2de-45a2-9aac-43e2b84596c1-203-1-c000.snappy.parquet",
         3775086,
         1713676150000
        ],
        [
         "dbfs:/FileStore/tables/parquet_data/data_smoothening_spark.parquet/part-00195-tid-4046819016022805013-9541258c-d2de-45a2-9aac-43e2b84596c1-204-1-c000.snappy.parquet",
         "part-00195-tid-4046819016022805013-9541258c-d2de-45a2-9aac-43e2b84596c1-204-1-c000.snappy.parquet",
         3787041,
         1713676151000
        ],
        [
         "dbfs:/FileStore/tables/parquet_data/data_smoothening_spark.parquet/part-00196-tid-4046819016022805013-9541258c-d2de-45a2-9aac-43e2b84596c1-205-1-c000.snappy.parquet",
         "part-00196-tid-4046819016022805013-9541258c-d2de-45a2-9aac-43e2b84596c1-205-1-c000.snappy.parquet",
         3793747,
         1713676152000
        ],
        [
         "dbfs:/FileStore/tables/parquet_data/data_smoothening_spark.parquet/part-00197-tid-4046819016022805013-9541258c-d2de-45a2-9aac-43e2b84596c1-206-1-c000.snappy.parquet",
         "part-00197-tid-4046819016022805013-9541258c-d2de-45a2-9aac-43e2b84596c1-206-1-c000.snappy.parquet",
         3791654,
         1713676152000
        ],
        [
         "dbfs:/FileStore/tables/parquet_data/data_smoothening_spark.parquet/part-00198-tid-4046819016022805013-9541258c-d2de-45a2-9aac-43e2b84596c1-207-1-c000.snappy.parquet",
         "part-00198-tid-4046819016022805013-9541258c-d2de-45a2-9aac-43e2b84596c1-207-1-c000.snappy.parquet",
         3775577,
         1713676152000
        ],
        [
         "dbfs:/FileStore/tables/parquet_data/data_smoothening_spark.parquet/part-00199-tid-4046819016022805013-9541258c-d2de-45a2-9aac-43e2b84596c1-208-1-c000.snappy.parquet",
         "part-00199-tid-4046819016022805013-9541258c-d2de-45a2-9aac-43e2b84596c1-208-1-c000.snappy.parquet",
         3797333,
         1713676153000
        ],
        [
         "dbfs:/FileStore/tables/parquet_data/data_smoothening_spark.parquet/part-00200-tid-4046819016022805013-9541258c-d2de-45a2-9aac-43e2b84596c1-209-1-c000.snappy.parquet",
         "part-00200-tid-4046819016022805013-9541258c-d2de-45a2-9aac-43e2b84596c1-209-1-c000.snappy.parquet",
         3786691,
         1713676153000
        ],
        [
         "dbfs:/FileStore/tables/parquet_data/data_smoothening_spark.parquet/part-00201-tid-4046819016022805013-9541258c-d2de-45a2-9aac-43e2b84596c1-210-1-c000.snappy.parquet",
         "part-00201-tid-4046819016022805013-9541258c-d2de-45a2-9aac-43e2b84596c1-210-1-c000.snappy.parquet",
         3792210,
         1713676153000
        ],
        [
         "dbfs:/FileStore/tables/parquet_data/data_smoothening_spark.parquet/part-00202-tid-4046819016022805013-9541258c-d2de-45a2-9aac-43e2b84596c1-211-1-c000.snappy.parquet",
         "part-00202-tid-4046819016022805013-9541258c-d2de-45a2-9aac-43e2b84596c1-211-1-c000.snappy.parquet",
         3766386,
         1713676155000
        ],
        [
         "dbfs:/FileStore/tables/parquet_data/data_smoothening_spark.parquet/part-00203-tid-4046819016022805013-9541258c-d2de-45a2-9aac-43e2b84596c1-212-1-c000.snappy.parquet",
         "part-00203-tid-4046819016022805013-9541258c-d2de-45a2-9aac-43e2b84596c1-212-1-c000.snappy.parquet",
         3780434,
         1713676156000
        ],
        [
         "dbfs:/FileStore/tables/parquet_data/data_smoothening_spark.parquet/part-00204-tid-4046819016022805013-9541258c-d2de-45a2-9aac-43e2b84596c1-213-1-c000.snappy.parquet",
         "part-00204-tid-4046819016022805013-9541258c-d2de-45a2-9aac-43e2b84596c1-213-1-c000.snappy.parquet",
         3786169,
         1713676157000
        ],
        [
         "dbfs:/FileStore/tables/parquet_data/data_smoothening_spark.parquet/part-00205-tid-4046819016022805013-9541258c-d2de-45a2-9aac-43e2b84596c1-214-1-c000.snappy.parquet",
         "part-00205-tid-4046819016022805013-9541258c-d2de-45a2-9aac-43e2b84596c1-214-1-c000.snappy.parquet",
         3799839,
         1713676158000
        ],
        [
         "dbfs:/FileStore/tables/parquet_data/data_smoothening_spark.parquet/part-00206-tid-4046819016022805013-9541258c-d2de-45a2-9aac-43e2b84596c1-215-1-c000.snappy.parquet",
         "part-00206-tid-4046819016022805013-9541258c-d2de-45a2-9aac-43e2b84596c1-215-1-c000.snappy.parquet",
         3787406,
         1713676158000
        ],
        [
         "dbfs:/FileStore/tables/parquet_data/data_smoothening_spark.parquet/part-00207-tid-4046819016022805013-9541258c-d2de-45a2-9aac-43e2b84596c1-216-1-c000.snappy.parquet",
         "part-00207-tid-4046819016022805013-9541258c-d2de-45a2-9aac-43e2b84596c1-216-1-c000.snappy.parquet",
         3776630,
         1713676157000
        ],
        [
         "dbfs:/FileStore/tables/parquet_data/data_smoothening_spark.parquet/part-00208-tid-4046819016022805013-9541258c-d2de-45a2-9aac-43e2b84596c1-217-1-c000.snappy.parquet",
         "part-00208-tid-4046819016022805013-9541258c-d2de-45a2-9aac-43e2b84596c1-217-1-c000.snappy.parquet",
         3798119,
         1713676159000
        ],
        [
         "dbfs:/FileStore/tables/parquet_data/data_smoothening_spark.parquet/part-00209-tid-4046819016022805013-9541258c-d2de-45a2-9aac-43e2b84596c1-218-1-c000.snappy.parquet",
         "part-00209-tid-4046819016022805013-9541258c-d2de-45a2-9aac-43e2b84596c1-218-1-c000.snappy.parquet",
         3788114,
         1713676159000
        ],
        [
         "dbfs:/FileStore/tables/parquet_data/data_smoothening_spark.parquet/part-00210-tid-4046819016022805013-9541258c-d2de-45a2-9aac-43e2b84596c1-219-1-c000.snappy.parquet",
         "part-00210-tid-4046819016022805013-9541258c-d2de-45a2-9aac-43e2b84596c1-219-1-c000.snappy.parquet",
         3795665,
         1713676160000
        ],
        [
         "dbfs:/FileStore/tables/parquet_data/data_smoothening_spark.parquet/part-00211-tid-4046819016022805013-9541258c-d2de-45a2-9aac-43e2b84596c1-220-1-c000.snappy.parquet",
         "part-00211-tid-4046819016022805013-9541258c-d2de-45a2-9aac-43e2b84596c1-220-1-c000.snappy.parquet",
         3801303,
         1713676161000
        ],
        [
         "dbfs:/FileStore/tables/parquet_data/data_smoothening_spark.parquet/part-00212-tid-4046819016022805013-9541258c-d2de-45a2-9aac-43e2b84596c1-221-1-c000.snappy.parquet",
         "part-00212-tid-4046819016022805013-9541258c-d2de-45a2-9aac-43e2b84596c1-221-1-c000.snappy.parquet",
         3789330,
         1713676162000
        ],
        [
         "dbfs:/FileStore/tables/parquet_data/data_smoothening_spark.parquet/part-00213-tid-4046819016022805013-9541258c-d2de-45a2-9aac-43e2b84596c1-222-1-c000.snappy.parquet",
         "part-00213-tid-4046819016022805013-9541258c-d2de-45a2-9aac-43e2b84596c1-222-1-c000.snappy.parquet",
         3787709,
         1713676163000
        ],
        [
         "dbfs:/FileStore/tables/parquet_data/data_smoothening_spark.parquet/part-00214-tid-4046819016022805013-9541258c-d2de-45a2-9aac-43e2b84596c1-223-1-c000.snappy.parquet",
         "part-00214-tid-4046819016022805013-9541258c-d2de-45a2-9aac-43e2b84596c1-223-1-c000.snappy.parquet",
         3802698,
         1713676163000
        ],
        [
         "dbfs:/FileStore/tables/parquet_data/data_smoothening_spark.parquet/part-00215-tid-4046819016022805013-9541258c-d2de-45a2-9aac-43e2b84596c1-224-1-c000.snappy.parquet",
         "part-00215-tid-4046819016022805013-9541258c-d2de-45a2-9aac-43e2b84596c1-224-1-c000.snappy.parquet",
         3789299,
         1713676163000
        ],
        [
         "dbfs:/FileStore/tables/parquet_data/data_smoothening_spark.parquet/part-00216-tid-4046819016022805013-9541258c-d2de-45a2-9aac-43e2b84596c1-225-1-c000.snappy.parquet",
         "part-00216-tid-4046819016022805013-9541258c-d2de-45a2-9aac-43e2b84596c1-225-1-c000.snappy.parquet",
         3780615,
         1713676164000
        ],
        [
         "dbfs:/FileStore/tables/parquet_data/data_smoothening_spark.parquet/part-00217-tid-4046819016022805013-9541258c-d2de-45a2-9aac-43e2b84596c1-226-1-c000.snappy.parquet",
         "part-00217-tid-4046819016022805013-9541258c-d2de-45a2-9aac-43e2b84596c1-226-1-c000.snappy.parquet",
         3797263,
         1713676164000
        ],
        [
         "dbfs:/FileStore/tables/parquet_data/data_smoothening_spark.parquet/part-00218-tid-4046819016022805013-9541258c-d2de-45a2-9aac-43e2b84596c1-227-1-c000.snappy.parquet",
         "part-00218-tid-4046819016022805013-9541258c-d2de-45a2-9aac-43e2b84596c1-227-1-c000.snappy.parquet",
         3787328,
         1713676166000
        ],
        [
         "dbfs:/FileStore/tables/parquet_data/data_smoothening_spark.parquet/part-00219-tid-4046819016022805013-9541258c-d2de-45a2-9aac-43e2b84596c1-228-1-c000.snappy.parquet",
         "part-00219-tid-4046819016022805013-9541258c-d2de-45a2-9aac-43e2b84596c1-228-1-c000.snappy.parquet",
         3796179,
         1713676166000
        ],
        [
         "dbfs:/FileStore/tables/parquet_data/data_smoothening_spark.parquet/part-00220-tid-4046819016022805013-9541258c-d2de-45a2-9aac-43e2b84596c1-229-1-c000.snappy.parquet",
         "part-00220-tid-4046819016022805013-9541258c-d2de-45a2-9aac-43e2b84596c1-229-1-c000.snappy.parquet",
         3799593,
         1713676167000
        ],
        [
         "dbfs:/FileStore/tables/parquet_data/data_smoothening_spark.parquet/part-00221-tid-4046819016022805013-9541258c-d2de-45a2-9aac-43e2b84596c1-230-1-c000.snappy.parquet",
         "part-00221-tid-4046819016022805013-9541258c-d2de-45a2-9aac-43e2b84596c1-230-1-c000.snappy.parquet",
         3790373,
         1713676168000
        ],
        [
         "dbfs:/FileStore/tables/parquet_data/data_smoothening_spark.parquet/part-00222-tid-4046819016022805013-9541258c-d2de-45a2-9aac-43e2b84596c1-231-1-c000.snappy.parquet",
         "part-00222-tid-4046819016022805013-9541258c-d2de-45a2-9aac-43e2b84596c1-231-1-c000.snappy.parquet",
         3786673,
         1713676169000
        ],
        [
         "dbfs:/FileStore/tables/parquet_data/data_smoothening_spark.parquet/part-00223-tid-4046819016022805013-9541258c-d2de-45a2-9aac-43e2b84596c1-232-1-c000.snappy.parquet",
         "part-00223-tid-4046819016022805013-9541258c-d2de-45a2-9aac-43e2b84596c1-232-1-c000.snappy.parquet",
         3802429,
         1713676168000
        ],
        [
         "dbfs:/FileStore/tables/parquet_data/data_smoothening_spark.parquet/part-00224-tid-4046819016022805013-9541258c-d2de-45a2-9aac-43e2b84596c1-233-1-c000.snappy.parquet",
         "part-00224-tid-4046819016022805013-9541258c-d2de-45a2-9aac-43e2b84596c1-233-1-c000.snappy.parquet",
         3791229,
         1713676170000
        ],
        [
         "dbfs:/FileStore/tables/parquet_data/data_smoothening_spark.parquet/part-00225-tid-4046819016022805013-9541258c-d2de-45a2-9aac-43e2b84596c1-234-1-c000.snappy.parquet",
         "part-00225-tid-4046819016022805013-9541258c-d2de-45a2-9aac-43e2b84596c1-234-1-c000.snappy.parquet",
         3778088,
         1713676169000
        ],
        [
         "dbfs:/FileStore/tables/parquet_data/data_smoothening_spark.parquet/part-00226-tid-4046819016022805013-9541258c-d2de-45a2-9aac-43e2b84596c1-235-1-c000.snappy.parquet",
         "part-00226-tid-4046819016022805013-9541258c-d2de-45a2-9aac-43e2b84596c1-235-1-c000.snappy.parquet",
         3796355,
         1713676171000
        ],
        [
         "dbfs:/FileStore/tables/parquet_data/data_smoothening_spark.parquet/part-00227-tid-4046819016022805013-9541258c-d2de-45a2-9aac-43e2b84596c1-236-1-c000.snappy.parquet",
         "part-00227-tid-4046819016022805013-9541258c-d2de-45a2-9aac-43e2b84596c1-236-1-c000.snappy.parquet",
         3788898,
         1713676171000
        ],
        [
         "dbfs:/FileStore/tables/parquet_data/data_smoothening_spark.parquet/part-00228-tid-4046819016022805013-9541258c-d2de-45a2-9aac-43e2b84596c1-237-1-c000.snappy.parquet",
         "part-00228-tid-4046819016022805013-9541258c-d2de-45a2-9aac-43e2b84596c1-237-1-c000.snappy.parquet",
         3795323,
         1713676172000
        ],
        [
         "dbfs:/FileStore/tables/parquet_data/data_smoothening_spark.parquet/part-00229-tid-4046819016022805013-9541258c-d2de-45a2-9aac-43e2b84596c1-238-1-c000.snappy.parquet",
         "part-00229-tid-4046819016022805013-9541258c-d2de-45a2-9aac-43e2b84596c1-238-1-c000.snappy.parquet",
         3798689,
         1713676173000
        ],
        [
         "dbfs:/FileStore/tables/parquet_data/data_smoothening_spark.parquet/part-00230-tid-4046819016022805013-9541258c-d2de-45a2-9aac-43e2b84596c1-239-1-c000.snappy.parquet",
         "part-00230-tid-4046819016022805013-9541258c-d2de-45a2-9aac-43e2b84596c1-239-1-c000.snappy.parquet",
         3789893,
         1713676174000
        ],
        [
         "dbfs:/FileStore/tables/parquet_data/data_smoothening_spark.parquet/part-00231-tid-4046819016022805013-9541258c-d2de-45a2-9aac-43e2b84596c1-240-1-c000.snappy.parquet",
         "part-00231-tid-4046819016022805013-9541258c-d2de-45a2-9aac-43e2b84596c1-240-1-c000.snappy.parquet",
         3788014,
         1713676174000
        ],
        [
         "dbfs:/FileStore/tables/parquet_data/data_smoothening_spark.parquet/part-00232-tid-4046819016022805013-9541258c-d2de-45a2-9aac-43e2b84596c1-241-1-c000.snappy.parquet",
         "part-00232-tid-4046819016022805013-9541258c-d2de-45a2-9aac-43e2b84596c1-241-1-c000.snappy.parquet",
         3805080,
         1713676175000
        ],
        [
         "dbfs:/FileStore/tables/parquet_data/data_smoothening_spark.parquet/part-00233-tid-4046819016022805013-9541258c-d2de-45a2-9aac-43e2b84596c1-242-1-c000.snappy.parquet",
         "part-00233-tid-4046819016022805013-9541258c-d2de-45a2-9aac-43e2b84596c1-242-1-c000.snappy.parquet",
         3780407,
         1713676175000
        ],
        [
         "dbfs:/FileStore/tables/parquet_data/data_smoothening_spark.parquet/part-00234-tid-4046819016022805013-9541258c-d2de-45a2-9aac-43e2b84596c1-243-1-c000.snappy.parquet",
         "part-00234-tid-4046819016022805013-9541258c-d2de-45a2-9aac-43e2b84596c1-243-1-c000.snappy.parquet",
         3775325,
         1713676176000
        ],
        [
         "dbfs:/FileStore/tables/parquet_data/data_smoothening_spark.parquet/part-00235-tid-4046819016022805013-9541258c-d2de-45a2-9aac-43e2b84596c1-244-1-c000.snappy.parquet",
         "part-00235-tid-4046819016022805013-9541258c-d2de-45a2-9aac-43e2b84596c1-244-1-c000.snappy.parquet",
         3798259,
         1713676176000
        ],
        [
         "dbfs:/FileStore/tables/parquet_data/data_smoothening_spark.parquet/part-00236-tid-4046819016022805013-9541258c-d2de-45a2-9aac-43e2b84596c1-245-1-c000.snappy.parquet",
         "part-00236-tid-4046819016022805013-9541258c-d2de-45a2-9aac-43e2b84596c1-245-1-c000.snappy.parquet",
         3786216,
         1713676178000
        ],
        [
         "dbfs:/FileStore/tables/parquet_data/data_smoothening_spark.parquet/part-00237-tid-4046819016022805013-9541258c-d2de-45a2-9aac-43e2b84596c1-246-1-c000.snappy.parquet",
         "part-00237-tid-4046819016022805013-9541258c-d2de-45a2-9aac-43e2b84596c1-246-1-c000.snappy.parquet",
         3795358,
         1713676179000
        ],
        [
         "dbfs:/FileStore/tables/parquet_data/data_smoothening_spark.parquet/part-00238-tid-4046819016022805013-9541258c-d2de-45a2-9aac-43e2b84596c1-247-1-c000.snappy.parquet",
         "part-00238-tid-4046819016022805013-9541258c-d2de-45a2-9aac-43e2b84596c1-247-1-c000.snappy.parquet",
         3798020,
         1713676179000
        ],
        [
         "dbfs:/FileStore/tables/parquet_data/data_smoothening_spark.parquet/part-00239-tid-4046819016022805013-9541258c-d2de-45a2-9aac-43e2b84596c1-248-1-c000.snappy.parquet",
         "part-00239-tid-4046819016022805013-9541258c-d2de-45a2-9aac-43e2b84596c1-248-1-c000.snappy.parquet",
         3789583,
         1713676180000
        ],
        [
         "dbfs:/FileStore/tables/parquet_data/data_smoothening_spark.parquet/part-00240-tid-4046819016022805013-9541258c-d2de-45a2-9aac-43e2b84596c1-249-1-c000.snappy.parquet",
         "part-00240-tid-4046819016022805013-9541258c-d2de-45a2-9aac-43e2b84596c1-249-1-c000.snappy.parquet",
         3787585,
         1713676181000
        ],
        [
         "dbfs:/FileStore/tables/parquet_data/data_smoothening_spark.parquet/part-00241-tid-4046819016022805013-9541258c-d2de-45a2-9aac-43e2b84596c1-250-1-c000.snappy.parquet",
         "part-00241-tid-4046819016022805013-9541258c-d2de-45a2-9aac-43e2b84596c1-250-1-c000.snappy.parquet",
         3801256,
         1713676181000
        ],
        [
         "dbfs:/FileStore/tables/parquet_data/data_smoothening_spark.parquet/part-00242-tid-4046819016022805013-9541258c-d2de-45a2-9aac-43e2b84596c1-251-1-c000.snappy.parquet",
         "part-00242-tid-4046819016022805013-9541258c-d2de-45a2-9aac-43e2b84596c1-251-1-c000.snappy.parquet",
         3787086,
         1713676182000
        ],
        [
         "dbfs:/FileStore/tables/parquet_data/data_smoothening_spark.parquet/part-00243-tid-4046819016022805013-9541258c-d2de-45a2-9aac-43e2b84596c1-252-1-c000.snappy.parquet",
         "part-00243-tid-4046819016022805013-9541258c-d2de-45a2-9aac-43e2b84596c1-252-1-c000.snappy.parquet",
         3776201,
         1713676181000
        ],
        [
         "dbfs:/FileStore/tables/parquet_data/data_smoothening_spark.parquet/part-00244-tid-4046819016022805013-9541258c-d2de-45a2-9aac-43e2b84596c1-253-1-c000.snappy.parquet",
         "part-00244-tid-4046819016022805013-9541258c-d2de-45a2-9aac-43e2b84596c1-253-1-c000.snappy.parquet",
         3798017,
         1713676183000
        ],
        [
         "dbfs:/FileStore/tables/parquet_data/data_smoothening_spark.parquet/part-00245-tid-4046819016022805013-9541258c-d2de-45a2-9aac-43e2b84596c1-254-1-c000.snappy.parquet",
         "part-00245-tid-4046819016022805013-9541258c-d2de-45a2-9aac-43e2b84596c1-254-1-c000.snappy.parquet",
         3789634,
         1713676183000
        ],
        [
         "dbfs:/FileStore/tables/parquet_data/data_smoothening_spark.parquet/part-00246-tid-4046819016022805013-9541258c-d2de-45a2-9aac-43e2b84596c1-255-1-c000.snappy.parquet",
         "part-00246-tid-4046819016022805013-9541258c-d2de-45a2-9aac-43e2b84596c1-255-1-c000.snappy.parquet",
         3795402,
         1713676184000
        ],
        [
         "dbfs:/FileStore/tables/parquet_data/data_smoothening_spark.parquet/part-00247-tid-4046819016022805013-9541258c-d2de-45a2-9aac-43e2b84596c1-256-1-c000.snappy.parquet",
         "part-00247-tid-4046819016022805013-9541258c-d2de-45a2-9aac-43e2b84596c1-256-1-c000.snappy.parquet",
         3800121,
         1713676185000
        ],
        [
         "dbfs:/FileStore/tables/parquet_data/data_smoothening_spark.parquet/part-00248-tid-4046819016022805013-9541258c-d2de-45a2-9aac-43e2b84596c1-257-1-c000.snappy.parquet",
         "part-00248-tid-4046819016022805013-9541258c-d2de-45a2-9aac-43e2b84596c1-257-1-c000.snappy.parquet",
         3790549,
         1713676186000
        ],
        [
         "dbfs:/FileStore/tables/parquet_data/data_smoothening_spark.parquet/part-00249-tid-4046819016022805013-9541258c-d2de-45a2-9aac-43e2b84596c1-258-1-c000.snappy.parquet",
         "part-00249-tid-4046819016022805013-9541258c-d2de-45a2-9aac-43e2b84596c1-258-1-c000.snappy.parquet",
         3787148,
         1713676187000
        ],
        [
         "dbfs:/FileStore/tables/parquet_data/data_smoothening_spark.parquet/part-00250-tid-4046819016022805013-9541258c-d2de-45a2-9aac-43e2b84596c1-259-1-c000.snappy.parquet",
         "part-00250-tid-4046819016022805013-9541258c-d2de-45a2-9aac-43e2b84596c1-259-1-c000.snappy.parquet",
         3802978,
         1713676187000
        ],
        [
         "dbfs:/FileStore/tables/parquet_data/data_smoothening_spark.parquet/part-00251-tid-4046819016022805013-9541258c-d2de-45a2-9aac-43e2b84596c1-260-1-c000.snappy.parquet",
         "part-00251-tid-4046819016022805013-9541258c-d2de-45a2-9aac-43e2b84596c1-260-1-c000.snappy.parquet",
         3789048,
         1713676187000
        ],
        [
         "dbfs:/FileStore/tables/parquet_data/data_smoothening_spark.parquet/part-00252-tid-4046819016022805013-9541258c-d2de-45a2-9aac-43e2b84596c1-261-1-c000.snappy.parquet",
         "part-00252-tid-4046819016022805013-9541258c-d2de-45a2-9aac-43e2b84596c1-261-1-c000.snappy.parquet",
         3774304,
         1713676188000
        ],
        [
         "dbfs:/FileStore/tables/parquet_data/data_smoothening_spark.parquet/part-00253-tid-4046819016022805013-9541258c-d2de-45a2-9aac-43e2b84596c1-262-1-c000.snappy.parquet",
         "part-00253-tid-4046819016022805013-9541258c-d2de-45a2-9aac-43e2b84596c1-262-1-c000.snappy.parquet",
         3796749,
         1713676189000
        ],
        [
         "dbfs:/FileStore/tables/parquet_data/data_smoothening_spark.parquet/part-00254-tid-4046819016022805013-9541258c-d2de-45a2-9aac-43e2b84596c1-263-1-c000.snappy.parquet",
         "part-00254-tid-4046819016022805013-9541258c-d2de-45a2-9aac-43e2b84596c1-263-1-c000.snappy.parquet",
         3788592,
         1713676190000
        ],
        [
         "dbfs:/FileStore/tables/parquet_data/data_smoothening_spark.parquet/part-00255-tid-4046819016022805013-9541258c-d2de-45a2-9aac-43e2b84596c1-264-1-c000.snappy.parquet",
         "part-00255-tid-4046819016022805013-9541258c-d2de-45a2-9aac-43e2b84596c1-264-1-c000.snappy.parquet",
         3795450,
         1713676190000
        ],
        [
         "dbfs:/FileStore/tables/parquet_data/data_smoothening_spark.parquet/part-00256-tid-4046819016022805013-9541258c-d2de-45a2-9aac-43e2b84596c1-265-1-c000.snappy.parquet",
         "part-00256-tid-4046819016022805013-9541258c-d2de-45a2-9aac-43e2b84596c1-265-1-c000.snappy.parquet",
         3798974,
         1713676191000
        ],
        [
         "dbfs:/FileStore/tables/parquet_data/data_smoothening_spark.parquet/part-00257-tid-4046819016022805013-9541258c-d2de-45a2-9aac-43e2b84596c1-266-1-c000.snappy.parquet",
         "part-00257-tid-4046819016022805013-9541258c-d2de-45a2-9aac-43e2b84596c1-266-1-c000.snappy.parquet",
         3790017,
         1713676192000
        ],
        [
         "dbfs:/FileStore/tables/parquet_data/data_smoothening_spark.parquet/part-00258-tid-4046819016022805013-9541258c-d2de-45a2-9aac-43e2b84596c1-267-1-c000.snappy.parquet",
         "part-00258-tid-4046819016022805013-9541258c-d2de-45a2-9aac-43e2b84596c1-267-1-c000.snappy.parquet",
         3787782,
         1713676193000
        ],
        [
         "dbfs:/FileStore/tables/parquet_data/data_smoothening_spark.parquet/part-00259-tid-4046819016022805013-9541258c-d2de-45a2-9aac-43e2b84596c1-268-1-c000.snappy.parquet",
         "part-00259-tid-4046819016022805013-9541258c-d2de-45a2-9aac-43e2b84596c1-268-1-c000.snappy.parquet",
         3794254,
         1713676192000
        ],
        [
         "dbfs:/FileStore/tables/parquet_data/data_smoothening_spark.parquet/part-00260-tid-4046819016022805013-9541258c-d2de-45a2-9aac-43e2b84596c1-269-1-c000.snappy.parquet",
         "part-00260-tid-4046819016022805013-9541258c-d2de-45a2-9aac-43e2b84596c1-269-1-c000.snappy.parquet",
         3789266,
         1713676193000
        ],
        [
         "dbfs:/FileStore/tables/parquet_data/data_smoothening_spark.parquet/part-00261-tid-4046819016022805013-9541258c-d2de-45a2-9aac-43e2b84596c1-270-1-c000.snappy.parquet",
         "part-00261-tid-4046819016022805013-9541258c-d2de-45a2-9aac-43e2b84596c1-270-1-c000.snappy.parquet",
         3780620,
         1713676194000
        ],
        [
         "dbfs:/FileStore/tables/parquet_data/data_smoothening_spark.parquet/part-00262-tid-4046819016022805013-9541258c-d2de-45a2-9aac-43e2b84596c1-271-1-c000.snappy.parquet",
         "part-00262-tid-4046819016022805013-9541258c-d2de-45a2-9aac-43e2b84596c1-271-1-c000.snappy.parquet",
         3797083,
         1713676195000
        ],
        [
         "dbfs:/FileStore/tables/parquet_data/data_smoothening_spark.parquet/part-00263-tid-4046819016022805013-9541258c-d2de-45a2-9aac-43e2b84596c1-272-1-c000.snappy.parquet",
         "part-00263-tid-4046819016022805013-9541258c-d2de-45a2-9aac-43e2b84596c1-272-1-c000.snappy.parquet",
         3787358,
         1713676195000
        ],
        [
         "dbfs:/FileStore/tables/parquet_data/data_smoothening_spark.parquet/part-00264-tid-4046819016022805013-9541258c-d2de-45a2-9aac-43e2b84596c1-273-1-c000.snappy.parquet",
         "part-00264-tid-4046819016022805013-9541258c-d2de-45a2-9aac-43e2b84596c1-273-1-c000.snappy.parquet",
         3792738,
         1713676196000
        ],
        [
         "dbfs:/FileStore/tables/parquet_data/data_smoothening_spark.parquet/part-00265-tid-4046819016022805013-9541258c-d2de-45a2-9aac-43e2b84596c1-274-1-c000.snappy.parquet",
         "part-00265-tid-4046819016022805013-9541258c-d2de-45a2-9aac-43e2b84596c1-274-1-c000.snappy.parquet",
         3799675,
         1713676197000
        ],
        [
         "dbfs:/FileStore/tables/parquet_data/data_smoothening_spark.parquet/part-00266-tid-4046819016022805013-9541258c-d2de-45a2-9aac-43e2b84596c1-275-1-c000.snappy.parquet",
         "part-00266-tid-4046819016022805013-9541258c-d2de-45a2-9aac-43e2b84596c1-275-1-c000.snappy.parquet",
         3784708,
         1713676198000
        ],
        [
         "dbfs:/FileStore/tables/parquet_data/data_smoothening_spark.parquet/part-00267-tid-4046819016022805013-9541258c-d2de-45a2-9aac-43e2b84596c1-276-1-c000.snappy.parquet",
         "part-00267-tid-4046819016022805013-9541258c-d2de-45a2-9aac-43e2b84596c1-276-1-c000.snappy.parquet",
         3787089,
         1713676198000
        ],
        [
         "dbfs:/FileStore/tables/parquet_data/data_smoothening_spark.parquet/part-00268-tid-4046819016022805013-9541258c-d2de-45a2-9aac-43e2b84596c1-277-1-c000.snappy.parquet",
         "part-00268-tid-4046819016022805013-9541258c-d2de-45a2-9aac-43e2b84596c1-277-1-c000.snappy.parquet",
         3802371,
         1713676199000
        ],
        [
         "dbfs:/FileStore/tables/parquet_data/data_smoothening_spark.parquet/part-00269-tid-4046819016022805013-9541258c-d2de-45a2-9aac-43e2b84596c1-278-1-c000.snappy.parquet",
         "part-00269-tid-4046819016022805013-9541258c-d2de-45a2-9aac-43e2b84596c1-278-1-c000.snappy.parquet",
         3788489,
         1713676199000
        ],
        [
         "dbfs:/FileStore/tables/parquet_data/data_smoothening_spark.parquet/part-00270-tid-4046819016022805013-9541258c-d2de-45a2-9aac-43e2b84596c1-279-1-c000.snappy.parquet",
         "part-00270-tid-4046819016022805013-9541258c-d2de-45a2-9aac-43e2b84596c1-279-1-c000.snappy.parquet",
         3780621,
         1713676200000
        ],
        [
         "dbfs:/FileStore/tables/parquet_data/data_smoothening_spark.parquet/part-00271-tid-4046819016022805013-9541258c-d2de-45a2-9aac-43e2b84596c1-280-1-c000.snappy.parquet",
         "part-00271-tid-4046819016022805013-9541258c-d2de-45a2-9aac-43e2b84596c1-280-1-c000.snappy.parquet",
         3798554,
         1713676200000
        ],
        [
         "dbfs:/FileStore/tables/parquet_data/data_smoothening_spark.parquet/part-00272-tid-4046819016022805013-9541258c-d2de-45a2-9aac-43e2b84596c1-281-1-c000.snappy.parquet",
         "part-00272-tid-4046819016022805013-9541258c-d2de-45a2-9aac-43e2b84596c1-281-1-c000.snappy.parquet",
         3785942,
         1713676201000
        ],
        [
         "dbfs:/FileStore/tables/parquet_data/data_smoothening_spark.parquet/part-00273-tid-4046819016022805013-9541258c-d2de-45a2-9aac-43e2b84596c1-282-1-c000.snappy.parquet",
         "part-00273-tid-4046819016022805013-9541258c-d2de-45a2-9aac-43e2b84596c1-282-1-c000.snappy.parquet",
         3796534,
         1713676202000
        ],
        [
         "dbfs:/FileStore/tables/parquet_data/data_smoothening_spark.parquet/part-00274-tid-4046819016022805013-9541258c-d2de-45a2-9aac-43e2b84596c1-283-1-c000.snappy.parquet",
         "part-00274-tid-4046819016022805013-9541258c-d2de-45a2-9aac-43e2b84596c1-283-1-c000.snappy.parquet",
         3776757,
         1713676202000
        ],
        [
         "dbfs:/FileStore/tables/parquet_data/data_smoothening_spark.parquet/part-00275-tid-4046819016022805013-9541258c-d2de-45a2-9aac-43e2b84596c1-284-1-c000.snappy.parquet",
         "part-00275-tid-4046819016022805013-9541258c-d2de-45a2-9aac-43e2b84596c1-284-1-c000.snappy.parquet",
         3778512,
         1713676204000
        ],
        [
         "dbfs:/FileStore/tables/parquet_data/data_smoothening_spark.parquet/part-00276-tid-4046819016022805013-9541258c-d2de-45a2-9aac-43e2b84596c1-285-1-c000.snappy.parquet",
         "part-00276-tid-4046819016022805013-9541258c-d2de-45a2-9aac-43e2b84596c1-285-1-c000.snappy.parquet",
         3786670,
         1713676204000
        ],
        [
         "dbfs:/FileStore/tables/parquet_data/data_smoothening_spark.parquet/part-00277-tid-4046819016022805013-9541258c-d2de-45a2-9aac-43e2b84596c1-286-1-c000.snappy.parquet",
         "part-00277-tid-4046819016022805013-9541258c-d2de-45a2-9aac-43e2b84596c1-286-1-c000.snappy.parquet",
         3797244,
         1713676203000
        ],
        [
         "dbfs:/FileStore/tables/parquet_data/data_smoothening_spark.parquet/part-00278-tid-4046819016022805013-9541258c-d2de-45a2-9aac-43e2b84596c1-287-1-c000.snappy.parquet",
         "part-00278-tid-4046819016022805013-9541258c-d2de-45a2-9aac-43e2b84596c1-287-1-c000.snappy.parquet",
         3791735,
         1713676205000
        ],
        [
         "dbfs:/FileStore/tables/parquet_data/data_smoothening_spark.parquet/part-00279-tid-4046819016022805013-9541258c-d2de-45a2-9aac-43e2b84596c1-288-1-c000.snappy.parquet",
         "part-00279-tid-4046819016022805013-9541258c-d2de-45a2-9aac-43e2b84596c1-288-1-c000.snappy.parquet",
         3773690,
         1713676205000
        ],
        [
         "dbfs:/FileStore/tables/parquet_data/data_smoothening_spark.parquet/part-00280-tid-4046819016022805013-9541258c-d2de-45a2-9aac-43e2b84596c1-289-1-c000.snappy.parquet",
         "part-00280-tid-4046819016022805013-9541258c-d2de-45a2-9aac-43e2b84596c1-289-1-c000.snappy.parquet",
         3798701,
         1713676206000
        ],
        [
         "dbfs:/FileStore/tables/parquet_data/data_smoothening_spark.parquet/part-00281-tid-4046819016022805013-9541258c-d2de-45a2-9aac-43e2b84596c1-290-1-c000.snappy.parquet",
         "part-00281-tid-4046819016022805013-9541258c-d2de-45a2-9aac-43e2b84596c1-290-1-c000.snappy.parquet",
         3789430,
         1713676207000
        ],
        [
         "dbfs:/FileStore/tables/parquet_data/data_smoothening_spark.parquet/part-00282-tid-4046819016022805013-9541258c-d2de-45a2-9aac-43e2b84596c1-291-1-c000.snappy.parquet",
         "part-00282-tid-4046819016022805013-9541258c-d2de-45a2-9aac-43e2b84596c1-291-1-c000.snappy.parquet",
         3793038,
         1713676208000
        ],
        [
         "dbfs:/FileStore/tables/parquet_data/data_smoothening_spark.parquet/part-00283-tid-4046819016022805013-9541258c-d2de-45a2-9aac-43e2b84596c1-292-1-c000.snappy.parquet",
         "part-00283-tid-4046819016022805013-9541258c-d2de-45a2-9aac-43e2b84596c1-292-1-c000.snappy.parquet",
         3770798,
         1713676208000
        ],
        [
         "dbfs:/FileStore/tables/parquet_data/data_smoothening_spark.parquet/part-00284-tid-4046819016022805013-9541258c-d2de-45a2-9aac-43e2b84596c1-293-1-c000.snappy.parquet",
         "part-00284-tid-4046819016022805013-9541258c-d2de-45a2-9aac-43e2b84596c1-293-1-c000.snappy.parquet",
         3774566,
         1713676209000
        ],
        [
         "dbfs:/FileStore/tables/parquet_data/data_smoothening_spark.parquet/part-00285-tid-4046819016022805013-9541258c-d2de-45a2-9aac-43e2b84596c1-294-1-c000.snappy.parquet",
         "part-00285-tid-4046819016022805013-9541258c-d2de-45a2-9aac-43e2b84596c1-294-1-c000.snappy.parquet",
         3785405,
         1713676209000
        ],
        [
         "dbfs:/FileStore/tables/parquet_data/data_smoothening_spark.parquet/part-00286-tid-4046819016022805013-9541258c-d2de-45a2-9aac-43e2b84596c1-295-1-c000.snappy.parquet",
         "part-00286-tid-4046819016022805013-9541258c-d2de-45a2-9aac-43e2b84596c1-295-1-c000.snappy.parquet",
         3792476,
         1713676210000
        ],
        [
         "dbfs:/FileStore/tables/parquet_data/data_smoothening_spark.parquet/part-00287-tid-4046819016022805013-9541258c-d2de-45a2-9aac-43e2b84596c1-296-1-c000.snappy.parquet",
         "part-00287-tid-4046819016022805013-9541258c-d2de-45a2-9aac-43e2b84596c1-296-1-c000.snappy.parquet",
         3794011,
         1713676210000
        ],
        [
         "dbfs:/FileStore/tables/parquet_data/data_smoothening_spark.parquet/part-00288-tid-4046819016022805013-9541258c-d2de-45a2-9aac-43e2b84596c1-297-1-c000.snappy.parquet",
         "part-00288-tid-4046819016022805013-9541258c-d2de-45a2-9aac-43e2b84596c1-297-1-c000.snappy.parquet",
         3781636,
         1713676211000
        ],
        [
         "dbfs:/FileStore/tables/parquet_data/data_smoothening_spark.parquet/part-00289-tid-4046819016022805013-9541258c-d2de-45a2-9aac-43e2b84596c1-298-1-c000.snappy.parquet",
         "part-00289-tid-4046819016022805013-9541258c-d2de-45a2-9aac-43e2b84596c1-298-1-c000.snappy.parquet",
         3796601,
         1713676213000
        ],
        [
         "dbfs:/FileStore/tables/parquet_data/data_smoothening_spark.parquet/part-00290-tid-4046819016022805013-9541258c-d2de-45a2-9aac-43e2b84596c1-299-1-c000.snappy.parquet",
         "part-00290-tid-4046819016022805013-9541258c-d2de-45a2-9aac-43e2b84596c1-299-1-c000.snappy.parquet",
         3794873,
         1713676214000
        ],
        [
         "dbfs:/FileStore/tables/parquet_data/data_smoothening_spark.parquet/part-00291-tid-4046819016022805013-9541258c-d2de-45a2-9aac-43e2b84596c1-300-1-c000.snappy.parquet",
         "part-00291-tid-4046819016022805013-9541258c-d2de-45a2-9aac-43e2b84596c1-300-1-c000.snappy.parquet",
         3793045,
         1713676213000
        ],
        [
         "dbfs:/FileStore/tables/parquet_data/data_smoothening_spark.parquet/part-00292-tid-4046819016022805013-9541258c-d2de-45a2-9aac-43e2b84596c1-301-1-c000.snappy.parquet",
         "part-00292-tid-4046819016022805013-9541258c-d2de-45a2-9aac-43e2b84596c1-301-1-c000.snappy.parquet",
         3770872,
         1713676214000
        ],
        [
         "dbfs:/FileStore/tables/parquet_data/data_smoothening_spark.parquet/part-00293-tid-4046819016022805013-9541258c-d2de-45a2-9aac-43e2b84596c1-302-1-c000.snappy.parquet",
         "part-00293-tid-4046819016022805013-9541258c-d2de-45a2-9aac-43e2b84596c1-302-1-c000.snappy.parquet",
         3791033,
         1713676214000
        ],
        [
         "dbfs:/FileStore/tables/parquet_data/data_smoothening_spark.parquet/part-00294-tid-4046819016022805013-9541258c-d2de-45a2-9aac-43e2b84596c1-303-1-c000.snappy.parquet",
         "part-00294-tid-4046819016022805013-9541258c-d2de-45a2-9aac-43e2b84596c1-303-1-c000.snappy.parquet",
         3785373,
         1713676215000
        ],
        [
         "dbfs:/FileStore/tables/parquet_data/data_smoothening_spark.parquet/part-00295-tid-4046819016022805013-9541258c-d2de-45a2-9aac-43e2b84596c1-304-1-c000.snappy.parquet",
         "part-00295-tid-4046819016022805013-9541258c-d2de-45a2-9aac-43e2b84596c1-304-1-c000.snappy.parquet",
         3792413,
         1713676215000
        ],
        [
         "dbfs:/FileStore/tables/parquet_data/data_smoothening_spark.parquet/part-00296-tid-4046819016022805013-9541258c-d2de-45a2-9aac-43e2b84596c1-305-1-c000.snappy.parquet",
         "part-00296-tid-4046819016022805013-9541258c-d2de-45a2-9aac-43e2b84596c1-305-1-c000.snappy.parquet",
         3793717,
         1713676216000
        ],
        [
         "dbfs:/FileStore/tables/parquet_data/data_smoothening_spark.parquet/part-00297-tid-4046819016022805013-9541258c-d2de-45a2-9aac-43e2b84596c1-306-1-c000.snappy.parquet",
         "part-00297-tid-4046819016022805013-9541258c-d2de-45a2-9aac-43e2b84596c1-306-1-c000.snappy.parquet",
         3783102,
         1713676218000
        ],
        [
         "dbfs:/FileStore/tables/parquet_data/data_smoothening_spark.parquet/part-00298-tid-4046819016022805013-9541258c-d2de-45a2-9aac-43e2b84596c1-307-1-c000.snappy.parquet",
         "part-00298-tid-4046819016022805013-9541258c-d2de-45a2-9aac-43e2b84596c1-307-1-c000.snappy.parquet",
         3795948,
         1713676219000
        ],
        [
         "dbfs:/FileStore/tables/parquet_data/data_smoothening_spark.parquet/part-00299-tid-4046819016022805013-9541258c-d2de-45a2-9aac-43e2b84596c1-308-1-c000.snappy.parquet",
         "part-00299-tid-4046819016022805013-9541258c-d2de-45a2-9aac-43e2b84596c1-308-1-c000.snappy.parquet",
         3797197,
         1713676219000
        ],
        [
         "dbfs:/FileStore/tables/parquet_data/data_smoothening_spark.parquet/part-00300-tid-4046819016022805013-9541258c-d2de-45a2-9aac-43e2b84596c1-309-1-c000.snappy.parquet",
         "part-00300-tid-4046819016022805013-9541258c-d2de-45a2-9aac-43e2b84596c1-309-1-c000.snappy.parquet",
         3792994,
         1713676218000
        ],
        [
         "dbfs:/FileStore/tables/parquet_data/data_smoothening_spark.parquet/part-00301-tid-4046819016022805013-9541258c-d2de-45a2-9aac-43e2b84596c1-310-1-c000.snappy.parquet",
         "part-00301-tid-4046819016022805013-9541258c-d2de-45a2-9aac-43e2b84596c1-310-1-c000.snappy.parquet",
         3769606,
         1713676219000
        ],
        [
         "dbfs:/FileStore/tables/parquet_data/data_smoothening_spark.parquet/part-00302-tid-4046819016022805013-9541258c-d2de-45a2-9aac-43e2b84596c1-311-1-c000.snappy.parquet",
         "part-00302-tid-4046819016022805013-9541258c-d2de-45a2-9aac-43e2b84596c1-311-1-c000.snappy.parquet",
         3791050,
         1713676220000
        ],
        [
         "dbfs:/FileStore/tables/parquet_data/data_smoothening_spark.parquet/part-00303-tid-4046819016022805013-9541258c-d2de-45a2-9aac-43e2b84596c1-312-1-c000.snappy.parquet",
         "part-00303-tid-4046819016022805013-9541258c-d2de-45a2-9aac-43e2b84596c1-312-1-c000.snappy.parquet",
         3784561,
         1713676220000
        ],
        [
         "dbfs:/FileStore/tables/parquet_data/data_smoothening_spark.parquet/part-00304-tid-4046819016022805013-9541258c-d2de-45a2-9aac-43e2b84596c1-313-1-c000.snappy.parquet",
         "part-00304-tid-4046819016022805013-9541258c-d2de-45a2-9aac-43e2b84596c1-313-1-c000.snappy.parquet",
         3790069,
         1713676221000
        ],
        [
         "dbfs:/FileStore/tables/parquet_data/data_smoothening_spark.parquet/part-00305-tid-4046819016022805013-9541258c-d2de-45a2-9aac-43e2b84596c1-314-1-c000.snappy.parquet",
         "part-00305-tid-4046819016022805013-9541258c-d2de-45a2-9aac-43e2b84596c1-314-1-c000.snappy.parquet",
         3794833,
         1713676222000
        ],
        [
         "dbfs:/FileStore/tables/parquet_data/data_smoothening_spark.parquet/part-00306-tid-4046819016022805013-9541258c-d2de-45a2-9aac-43e2b84596c1-315-1-c000.snappy.parquet",
         "part-00306-tid-4046819016022805013-9541258c-d2de-45a2-9aac-43e2b84596c1-315-1-c000.snappy.parquet",
         3781060,
         1713676223000
        ],
        [
         "dbfs:/FileStore/tables/parquet_data/data_smoothening_spark.parquet/part-00307-tid-4046819016022805013-9541258c-d2de-45a2-9aac-43e2b84596c1-316-1-c000.snappy.parquet",
         "part-00307-tid-4046819016022805013-9541258c-d2de-45a2-9aac-43e2b84596c1-316-1-c000.snappy.parquet",
         3797572,
         1713676224000
        ],
        [
         "dbfs:/FileStore/tables/parquet_data/data_smoothening_spark.parquet/part-00308-tid-4046819016022805013-9541258c-d2de-45a2-9aac-43e2b84596c1-317-1-c000.snappy.parquet",
         "part-00308-tid-4046819016022805013-9541258c-d2de-45a2-9aac-43e2b84596c1-317-1-c000.snappy.parquet",
         3797180,
         1713676224000
        ],
        [
         "dbfs:/FileStore/tables/parquet_data/data_smoothening_spark.parquet/part-00309-tid-4046819016022805013-9541258c-d2de-45a2-9aac-43e2b84596c1-318-1-c000.snappy.parquet",
         "part-00309-tid-4046819016022805013-9541258c-d2de-45a2-9aac-43e2b84596c1-318-1-c000.snappy.parquet",
         3790971,
         1713676224000
        ],
        [
         "dbfs:/FileStore/tables/parquet_data/data_smoothening_spark.parquet/part-00310-tid-4046819016022805013-9541258c-d2de-45a2-9aac-43e2b84596c1-319-1-c000.snappy.parquet",
         "part-00310-tid-4046819016022805013-9541258c-d2de-45a2-9aac-43e2b84596c1-319-1-c000.snappy.parquet",
         3780532,
         1713676225000
        ],
        [
         "dbfs:/FileStore/tables/parquet_data/data_smoothening_spark.parquet/part-00311-tid-4046819016022805013-9541258c-d2de-45a2-9aac-43e2b84596c1-320-1-c000.snappy.parquet",
         "part-00311-tid-4046819016022805013-9541258c-d2de-45a2-9aac-43e2b84596c1-320-1-c000.snappy.parquet",
         3805397,
         1713676225000
        ],
        [
         "dbfs:/FileStore/tables/parquet_data/data_smoothening_spark.parquet/part-00312-tid-4046819016022805013-9541258c-d2de-45a2-9aac-43e2b84596c1-321-1-c000.snappy.parquet",
         "part-00312-tid-4046819016022805013-9541258c-d2de-45a2-9aac-43e2b84596c1-321-1-c000.snappy.parquet",
         3785695,
         1713676226000
        ],
        [
         "dbfs:/FileStore/tables/parquet_data/data_smoothening_spark.parquet/part-00313-tid-4046819016022805013-9541258c-d2de-45a2-9aac-43e2b84596c1-322-1-c000.snappy.parquet",
         "part-00313-tid-4046819016022805013-9541258c-d2de-45a2-9aac-43e2b84596c1-322-1-c000.snappy.parquet",
         3784655,
         1713676227000
        ],
        [
         "dbfs:/FileStore/tables/parquet_data/data_smoothening_spark.parquet/part-00314-tid-4046819016022805013-9541258c-d2de-45a2-9aac-43e2b84596c1-323-1-c000.snappy.parquet",
         "part-00314-tid-4046819016022805013-9541258c-d2de-45a2-9aac-43e2b84596c1-323-1-c000.snappy.parquet",
         3795127,
         1713676229000
        ],
        [
         "dbfs:/FileStore/tables/parquet_data/data_smoothening_spark.parquet/part-00315-tid-4046819016022805013-9541258c-d2de-45a2-9aac-43e2b84596c1-324-1-c000.snappy.parquet",
         "part-00315-tid-4046819016022805013-9541258c-d2de-45a2-9aac-43e2b84596c1-324-1-c000.snappy.parquet",
         3782154,
         1713676230000
        ],
        [
         "dbfs:/FileStore/tables/parquet_data/data_smoothening_spark.parquet/part-00316-tid-4046819016022805013-9541258c-d2de-45a2-9aac-43e2b84596c1-325-1-c000.snappy.parquet",
         "part-00316-tid-4046819016022805013-9541258c-d2de-45a2-9aac-43e2b84596c1-325-1-c000.snappy.parquet",
         3796620,
         1713676228000
        ],
        [
         "dbfs:/FileStore/tables/parquet_data/data_smoothening_spark.parquet/part-00317-tid-4046819016022805013-9541258c-d2de-45a2-9aac-43e2b84596c1-326-1-c000.snappy.parquet",
         "part-00317-tid-4046819016022805013-9541258c-d2de-45a2-9aac-43e2b84596c1-326-1-c000.snappy.parquet",
         3798854,
         1713676230000
        ],
        [
         "dbfs:/FileStore/tables/parquet_data/data_smoothening_spark.parquet/part-00318-tid-4046819016022805013-9541258c-d2de-45a2-9aac-43e2b84596c1-327-1-c000.snappy.parquet",
         "part-00318-tid-4046819016022805013-9541258c-d2de-45a2-9aac-43e2b84596c1-327-1-c000.snappy.parquet",
         3793292,
         1713676229000
        ],
        [
         "dbfs:/FileStore/tables/parquet_data/data_smoothening_spark.parquet/part-00319-tid-4046819016022805013-9541258c-d2de-45a2-9aac-43e2b84596c1-328-1-c000.snappy.parquet",
         "part-00319-tid-4046819016022805013-9541258c-d2de-45a2-9aac-43e2b84596c1-328-1-c000.snappy.parquet",
         3786453,
         1713676230000
        ],
        [
         "dbfs:/FileStore/tables/parquet_data/data_smoothening_spark.parquet/part-00320-tid-4046819016022805013-9541258c-d2de-45a2-9aac-43e2b84596c1-329-1-c000.snappy.parquet",
         "part-00320-tid-4046819016022805013-9541258c-d2de-45a2-9aac-43e2b84596c1-329-1-c000.snappy.parquet",
         3802615,
         1713676230000
        ],
        [
         "dbfs:/FileStore/tables/parquet_data/data_smoothening_spark.parquet/part-00321-tid-4046819016022805013-9541258c-d2de-45a2-9aac-43e2b84596c1-330-1-c000.snappy.parquet",
         "part-00321-tid-4046819016022805013-9541258c-d2de-45a2-9aac-43e2b84596c1-330-1-c000.snappy.parquet",
         3787728,
         1713676231000
        ],
        [
         "dbfs:/FileStore/tables/parquet_data/data_smoothening_spark.parquet/part-00322-tid-4046819016022805013-9541258c-d2de-45a2-9aac-43e2b84596c1-331-1-c000.snappy.parquet",
         "part-00322-tid-4046819016022805013-9541258c-d2de-45a2-9aac-43e2b84596c1-331-1-c000.snappy.parquet",
         3783582,
         1713676232000
        ],
        [
         "dbfs:/FileStore/tables/parquet_data/data_smoothening_spark.parquet/part-00323-tid-4046819016022805013-9541258c-d2de-45a2-9aac-43e2b84596c1-332-1-c000.snappy.parquet",
         "part-00323-tid-4046819016022805013-9541258c-d2de-45a2-9aac-43e2b84596c1-332-1-c000.snappy.parquet",
         3798443,
         1713676235000
        ],
        [
         "dbfs:/FileStore/tables/parquet_data/data_smoothening_spark.parquet/part-00324-tid-4046819016022805013-9541258c-d2de-45a2-9aac-43e2b84596c1-333-1-c000.snappy.parquet",
         "part-00324-tid-4046819016022805013-9541258c-d2de-45a2-9aac-43e2b84596c1-333-1-c000.snappy.parquet",
         3787593,
         1713676234000
        ],
        [
         "dbfs:/FileStore/tables/parquet_data/data_smoothening_spark.parquet/part-00325-tid-4046819016022805013-9541258c-d2de-45a2-9aac-43e2b84596c1-334-1-c000.snappy.parquet",
         "part-00325-tid-4046819016022805013-9541258c-d2de-45a2-9aac-43e2b84596c1-334-1-c000.snappy.parquet",
         3795997,
         1713676236000
        ],
        [
         "dbfs:/FileStore/tables/parquet_data/data_smoothening_spark.parquet/part-00326-tid-4046819016022805013-9541258c-d2de-45a2-9aac-43e2b84596c1-335-1-c000.snappy.parquet",
         "part-00326-tid-4046819016022805013-9541258c-d2de-45a2-9aac-43e2b84596c1-335-1-c000.snappy.parquet",
         3799073,
         1713676235000
        ],
        [
         "dbfs:/FileStore/tables/parquet_data/data_smoothening_spark.parquet/part-00327-tid-4046819016022805013-9541258c-d2de-45a2-9aac-43e2b84596c1-336-1-c000.snappy.parquet",
         "part-00327-tid-4046819016022805013-9541258c-d2de-45a2-9aac-43e2b84596c1-336-1-c000.snappy.parquet",
         3789319,
         1713676236000
        ],
        [
         "dbfs:/FileStore/tables/parquet_data/data_smoothening_spark.parquet/part-00328-tid-4046819016022805013-9541258c-d2de-45a2-9aac-43e2b84596c1-337-1-c000.snappy.parquet",
         "part-00328-tid-4046819016022805013-9541258c-d2de-45a2-9aac-43e2b84596c1-337-1-c000.snappy.parquet",
         3786536,
         1713676236000
        ],
        [
         "dbfs:/FileStore/tables/parquet_data/data_smoothening_spark.parquet/part-00329-tid-4046819016022805013-9541258c-d2de-45a2-9aac-43e2b84596c1-338-1-c000.snappy.parquet",
         "part-00329-tid-4046819016022805013-9541258c-d2de-45a2-9aac-43e2b84596c1-338-1-c000.snappy.parquet",
         3802804,
         1713676236000
        ],
        [
         "dbfs:/FileStore/tables/parquet_data/data_smoothening_spark.parquet/part-00330-tid-4046819016022805013-9541258c-d2de-45a2-9aac-43e2b84596c1-339-1-c000.snappy.parquet",
         "part-00330-tid-4046819016022805013-9541258c-d2de-45a2-9aac-43e2b84596c1-339-1-c000.snappy.parquet",
         3789045,
         1713676236000
        ],
        [
         "dbfs:/FileStore/tables/parquet_data/data_smoothening_spark.parquet/part-00331-tid-4046819016022805013-9541258c-d2de-45a2-9aac-43e2b84596c1-340-1-c000.snappy.parquet",
         "part-00331-tid-4046819016022805013-9541258c-d2de-45a2-9aac-43e2b84596c1-340-1-c000.snappy.parquet",
         3780278,
         1713676238000
        ],
        [
         "dbfs:/FileStore/tables/parquet_data/data_smoothening_spark.parquet/part-00332-tid-4046819016022805013-9541258c-d2de-45a2-9aac-43e2b84596c1-341-1-c000.snappy.parquet",
         "part-00332-tid-4046819016022805013-9541258c-d2de-45a2-9aac-43e2b84596c1-341-1-c000.snappy.parquet",
         3797655,
         1713676239000
        ],
        [
         "dbfs:/FileStore/tables/parquet_data/data_smoothening_spark.parquet/part-00333-tid-4046819016022805013-9541258c-d2de-45a2-9aac-43e2b84596c1-342-1-c000.snappy.parquet",
         "part-00333-tid-4046819016022805013-9541258c-d2de-45a2-9aac-43e2b84596c1-342-1-c000.snappy.parquet",
         3790564,
         1713676240000
        ],
        [
         "dbfs:/FileStore/tables/parquet_data/data_smoothening_spark.parquet/part-00334-tid-4046819016022805013-9541258c-d2de-45a2-9aac-43e2b84596c1-343-1-c000.snappy.parquet",
         "part-00334-tid-4046819016022805013-9541258c-d2de-45a2-9aac-43e2b84596c1-343-1-c000.snappy.parquet",
         3792301,
         1713676240000
        ],
        [
         "dbfs:/FileStore/tables/parquet_data/data_smoothening_spark.parquet/part-00335-tid-4046819016022805013-9541258c-d2de-45a2-9aac-43e2b84596c1-344-1-c000.snappy.parquet",
         "part-00335-tid-4046819016022805013-9541258c-d2de-45a2-9aac-43e2b84596c1-344-1-c000.snappy.parquet",
         3768759,
         1713676241000
        ],
        [
         "dbfs:/FileStore/tables/parquet_data/data_smoothening_spark.parquet/part-00336-tid-4046819016022805013-9541258c-d2de-45a2-9aac-43e2b84596c1-345-1-c000.snappy.parquet",
         "part-00336-tid-4046819016022805013-9541258c-d2de-45a2-9aac-43e2b84596c1-345-1-c000.snappy.parquet",
         3776072,
         1713676241000
        ],
        [
         "dbfs:/FileStore/tables/parquet_data/data_smoothening_spark.parquet/part-00337-tid-4046819016022805013-9541258c-d2de-45a2-9aac-43e2b84596c1-346-1-c000.snappy.parquet",
         "part-00337-tid-4046819016022805013-9541258c-d2de-45a2-9aac-43e2b84596c1-346-1-c000.snappy.parquet",
         3786627,
         1713676242000
        ],
        [
         "dbfs:/FileStore/tables/parquet_data/data_smoothening_spark.parquet/part-00338-tid-4046819016022805013-9541258c-d2de-45a2-9aac-43e2b84596c1-347-1-c000.snappy.parquet",
         "part-00338-tid-4046819016022805013-9541258c-d2de-45a2-9aac-43e2b84596c1-347-1-c000.snappy.parquet",
         3789760,
         1713676242000
        ],
        [
         "dbfs:/FileStore/tables/parquet_data/data_smoothening_spark.parquet/part-00339-tid-4046819016022805013-9541258c-d2de-45a2-9aac-43e2b84596c1-348-1-c000.snappy.parquet",
         "part-00339-tid-4046819016022805013-9541258c-d2de-45a2-9aac-43e2b84596c1-348-1-c000.snappy.parquet",
         3795145,
         1713676243000
        ],
        [
         "dbfs:/FileStore/tables/parquet_data/data_smoothening_spark.parquet/part-00340-tid-4046819016022805013-9541258c-d2de-45a2-9aac-43e2b84596c1-349-1-c000.snappy.parquet",
         "part-00340-tid-4046819016022805013-9541258c-d2de-45a2-9aac-43e2b84596c1-349-1-c000.snappy.parquet",
         3781712,
         1713676243000
        ],
        [
         "dbfs:/FileStore/tables/parquet_data/data_smoothening_spark.parquet/part-00341-tid-4046819016022805013-9541258c-d2de-45a2-9aac-43e2b84596c1-350-1-c000.snappy.parquet",
         "part-00341-tid-4046819016022805013-9541258c-d2de-45a2-9aac-43e2b84596c1-350-1-c000.snappy.parquet",
         3795660,
         1713676245000
        ],
        [
         "dbfs:/FileStore/tables/parquet_data/data_smoothening_spark.parquet/part-00342-tid-4046819016022805013-9541258c-d2de-45a2-9aac-43e2b84596c1-351-1-c000.snappy.parquet",
         "part-00342-tid-4046819016022805013-9541258c-d2de-45a2-9aac-43e2b84596c1-351-1-c000.snappy.parquet",
         3798585,
         1713676245000
        ],
        [
         "dbfs:/FileStore/tables/parquet_data/data_smoothening_spark.parquet/part-00343-tid-4046819016022805013-9541258c-d2de-45a2-9aac-43e2b84596c1-352-1-c000.snappy.parquet",
         "part-00343-tid-4046819016022805013-9541258c-d2de-45a2-9aac-43e2b84596c1-352-1-c000.snappy.parquet",
         3791612,
         1713676247000
        ],
        [
         "dbfs:/FileStore/tables/parquet_data/data_smoothening_spark.parquet/part-00344-tid-4046819016022805013-9541258c-d2de-45a2-9aac-43e2b84596c1-353-1-c000.snappy.parquet",
         "part-00344-tid-4046819016022805013-9541258c-d2de-45a2-9aac-43e2b84596c1-353-1-c000.snappy.parquet",
         3783655,
         1713676246000
        ],
        [
         "dbfs:/FileStore/tables/parquet_data/data_smoothening_spark.parquet/part-00345-tid-4046819016022805013-9541258c-d2de-45a2-9aac-43e2b84596c1-354-1-c000.snappy.parquet",
         "part-00345-tid-4046819016022805013-9541258c-d2de-45a2-9aac-43e2b84596c1-354-1-c000.snappy.parquet",
         3804152,
         1713676246000
        ],
        [
         "dbfs:/FileStore/tables/parquet_data/data_smoothening_spark.parquet/part-00346-tid-4046819016022805013-9541258c-d2de-45a2-9aac-43e2b84596c1-355-1-c000.snappy.parquet",
         "part-00346-tid-4046819016022805013-9541258c-d2de-45a2-9aac-43e2b84596c1-355-1-c000.snappy.parquet",
         3784705,
         1713676247000
        ],
        [
         "dbfs:/FileStore/tables/parquet_data/data_smoothening_spark.parquet/part-00347-tid-4046819016022805013-9541258c-d2de-45a2-9aac-43e2b84596c1-356-1-c000.snappy.parquet",
         "part-00347-tid-4046819016022805013-9541258c-d2de-45a2-9aac-43e2b84596c1-356-1-c000.snappy.parquet",
         3788348,
         1713676247000
        ],
        [
         "dbfs:/FileStore/tables/parquet_data/data_smoothening_spark.parquet/part-00348-tid-4046819016022805013-9541258c-d2de-45a2-9aac-43e2b84596c1-357-1-c000.snappy.parquet",
         "part-00348-tid-4046819016022805013-9541258c-d2de-45a2-9aac-43e2b84596c1-357-1-c000.snappy.parquet",
         3793833,
         1713676248000
        ],
        [
         "dbfs:/FileStore/tables/parquet_data/data_smoothening_spark.parquet/part-00349-tid-4046819016022805013-9541258c-d2de-45a2-9aac-43e2b84596c1-358-1-c000.snappy.parquet",
         "part-00349-tid-4046819016022805013-9541258c-d2de-45a2-9aac-43e2b84596c1-358-1-c000.snappy.parquet",
         3787087,
         1713676249000
        ],
        [
         "dbfs:/FileStore/tables/parquet_data/data_smoothening_spark.parquet/part-00350-tid-4046819016022805013-9541258c-d2de-45a2-9aac-43e2b84596c1-359-1-c000.snappy.parquet",
         "part-00350-tid-4046819016022805013-9541258c-d2de-45a2-9aac-43e2b84596c1-359-1-c000.snappy.parquet",
         3796470,
         1713676250000
        ],
        [
         "dbfs:/FileStore/tables/parquet_data/data_smoothening_spark.parquet/part-00351-tid-4046819016022805013-9541258c-d2de-45a2-9aac-43e2b84596c1-360-1-c000.snappy.parquet",
         "part-00351-tid-4046819016022805013-9541258c-d2de-45a2-9aac-43e2b84596c1-360-1-c000.snappy.parquet",
         3800403,
         1713676251000
        ],
        [
         "dbfs:/FileStore/tables/parquet_data/data_smoothening_spark.parquet/part-00352-tid-4046819016022805013-9541258c-d2de-45a2-9aac-43e2b84596c1-361-1-c000.snappy.parquet",
         "part-00352-tid-4046819016022805013-9541258c-d2de-45a2-9aac-43e2b84596c1-361-1-c000.snappy.parquet",
         3790261,
         1713676252000
        ],
        [
         "dbfs:/FileStore/tables/parquet_data/data_smoothening_spark.parquet/part-00353-tid-4046819016022805013-9541258c-d2de-45a2-9aac-43e2b84596c1-362-1-c000.snappy.parquet",
         "part-00353-tid-4046819016022805013-9541258c-d2de-45a2-9aac-43e2b84596c1-362-1-c000.snappy.parquet",
         3787691,
         1713676252000
        ],
        [
         "dbfs:/FileStore/tables/parquet_data/data_smoothening_spark.parquet/part-00354-tid-4046819016022805013-9541258c-d2de-45a2-9aac-43e2b84596c1-363-1-c000.snappy.parquet",
         "part-00354-tid-4046819016022805013-9541258c-d2de-45a2-9aac-43e2b84596c1-363-1-c000.snappy.parquet",
         3803862,
         1713676253000
        ],
        [
         "dbfs:/FileStore/tables/parquet_data/data_smoothening_spark.parquet/part-00355-tid-4046819016022805013-9541258c-d2de-45a2-9aac-43e2b84596c1-364-1-c000.snappy.parquet",
         "part-00355-tid-4046819016022805013-9541258c-d2de-45a2-9aac-43e2b84596c1-364-1-c000.snappy.parquet",
         3787731,
         1713676252000
        ],
        [
         "dbfs:/FileStore/tables/parquet_data/data_smoothening_spark.parquet/part-00356-tid-4046819016022805013-9541258c-d2de-45a2-9aac-43e2b84596c1-365-1-c000.snappy.parquet",
         "part-00356-tid-4046819016022805013-9541258c-d2de-45a2-9aac-43e2b84596c1-365-1-c000.snappy.parquet",
         3780527,
         1713676253000
        ],
        [
         "dbfs:/FileStore/tables/parquet_data/data_smoothening_spark.parquet/part-00357-tid-4046819016022805013-9541258c-d2de-45a2-9aac-43e2b84596c1-366-1-c000.snappy.parquet",
         "part-00357-tid-4046819016022805013-9541258c-d2de-45a2-9aac-43e2b84596c1-366-1-c000.snappy.parquet",
         3799584,
         1713676253000
        ],
        [
         "dbfs:/FileStore/tables/parquet_data/data_smoothening_spark.parquet/part-00358-tid-4046819016022805013-9541258c-d2de-45a2-9aac-43e2b84596c1-367-1-c000.snappy.parquet",
         "part-00358-tid-4046819016022805013-9541258c-d2de-45a2-9aac-43e2b84596c1-367-1-c000.snappy.parquet",
         3787483,
         1713676254000
        ],
        [
         "dbfs:/FileStore/tables/parquet_data/data_smoothening_spark.parquet/part-00359-tid-4046819016022805013-9541258c-d2de-45a2-9aac-43e2b84596c1-368-1-c000.snappy.parquet",
         "part-00359-tid-4046819016022805013-9541258c-d2de-45a2-9aac-43e2b84596c1-368-1-c000.snappy.parquet",
         3794444,
         1713676254000
        ],
        [
         "dbfs:/FileStore/tables/parquet_data/data_smoothening_spark.parquet/part-00360-tid-4046819016022805013-9541258c-d2de-45a2-9aac-43e2b84596c1-369-1-c000.snappy.parquet",
         "part-00360-tid-4046819016022805013-9541258c-d2de-45a2-9aac-43e2b84596c1-369-1-c000.snappy.parquet",
         3770751,
         1713676255000
        ],
        [
         "dbfs:/FileStore/tables/parquet_data/data_smoothening_spark.parquet/part-00361-tid-4046819016022805013-9541258c-d2de-45a2-9aac-43e2b84596c1-370-1-c000.snappy.parquet",
         "part-00361-tid-4046819016022805013-9541258c-d2de-45a2-9aac-43e2b84596c1-370-1-c000.snappy.parquet",
         1452874,
         1713676254000
        ]
       ],
       "datasetInfos": [],
       "dbfsResultPath": null,
       "isJsonSchema": true,
       "metadata": {},
       "overflow": false,
       "plotOptions": {
        "customPlotOptions": {},
        "displayType": "table",
        "pivotAggregation": null,
        "pivotColumns": null,
        "xColumns": null,
        "yColumns": null
       },
       "removedWidgets": [],
       "schema": [
        {
         "metadata": "{}",
         "name": "path",
         "type": "\"string\""
        },
        {
         "metadata": "{}",
         "name": "name",
         "type": "\"string\""
        },
        {
         "metadata": "{}",
         "name": "size",
         "type": "\"long\""
        },
        {
         "metadata": "{}",
         "name": "modificationTime",
         "type": "\"long\""
        }
       ],
       "type": "table"
      }
     },
     "output_type": "display_data"
    }
   ],
   "source": [
    "%fs ls /FileStore/tables/parquet_data/data_smoothening_spark.parquet"
   ]
  }
 ],
 "metadata": {
  "application/vnd.databricks.v1+notebook": {
   "dashboards": [],
   "language": "python",
   "notebookMetadata": {
    "mostRecentlyExecutedCommandWithImplicitDF": {
     "commandId": 3143933944763320,
     "dataframes": [
      "_sqldf"
     ]
    },
    "pythonIndentUnit": 4
   },
   "notebookName": "CS624-BitcoinPricePrediction-Feature Engineering",
   "widgets": {}
  }
 },
 "nbformat": 4,
 "nbformat_minor": 0
}
